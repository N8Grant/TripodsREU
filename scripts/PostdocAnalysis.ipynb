{
 "cells": [
  {
   "cell_type": "code",
   "execution_count": 122,
   "metadata": {},
   "outputs": [],
   "source": [
    "import pandas as pd\n",
    "import TumorDecon as td\n",
    "import numpy as np\n",
    "from sklearn.decomposition import PCA\n",
    "import matplotlib.pyplot as plt\n",
    "import seaborn as sns\n",
    "from scipy.stats import mannwhitneyu\n",
    "from scipy.stats import ttest_ind"
   ]
  },
  {
   "cell_type": "markdown",
   "metadata": {},
   "source": [
    "Not entirley sure what Im supposed to do with this data"
   ]
  },
  {
   "cell_type": "code",
   "execution_count": 88,
   "metadata": {},
   "outputs": [
    {
     "data": {
      "text/html": [
       "<div>\n",
       "<style scoped>\n",
       "    .dataframe tbody tr th:only-of-type {\n",
       "        vertical-align: middle;\n",
       "    }\n",
       "\n",
       "    .dataframe tbody tr th {\n",
       "        vertical-align: top;\n",
       "    }\n",
       "\n",
       "    .dataframe thead th {\n",
       "        text-align: right;\n",
       "    }\n",
       "</style>\n",
       "<table border=\"1\" class=\"dataframe\">\n",
       "  <thead>\n",
       "    <tr style=\"text-align: right;\">\n",
       "      <th></th>\n",
       "      <th>SNU_Original_cell_line</th>\n",
       "      <th>SNU_KO1</th>\n",
       "      <th>SNU_KO2</th>\n",
       "      <th>NCI_BAP1_0</th>\n",
       "      <th>NCI_BAP1_-1</th>\n",
       "    </tr>\n",
       "    <tr>\n",
       "      <th>Gene Name</th>\n",
       "      <th></th>\n",
       "      <th></th>\n",
       "      <th></th>\n",
       "      <th></th>\n",
       "      <th></th>\n",
       "    </tr>\n",
       "  </thead>\n",
       "  <tbody>\n",
       "    <tr>\n",
       "      <td>A1BG-AS1</td>\n",
       "      <td>0.117659</td>\n",
       "      <td>0.061119</td>\n",
       "      <td>0.000000</td>\n",
       "      <td>0.983894</td>\n",
       "      <td>1.856214</td>\n",
       "    </tr>\n",
       "    <tr>\n",
       "      <td>A2M</td>\n",
       "      <td>0.705952</td>\n",
       "      <td>1.650205</td>\n",
       "      <td>0.640537</td>\n",
       "      <td>1.665051</td>\n",
       "      <td>2.397610</td>\n",
       "    </tr>\n",
       "    <tr>\n",
       "      <td>A4GALT</td>\n",
       "      <td>14.942642</td>\n",
       "      <td>4.645022</td>\n",
       "      <td>1.537288</td>\n",
       "      <td>4.238311</td>\n",
       "      <td>5.645984</td>\n",
       "    </tr>\n",
       "    <tr>\n",
       "      <td>AAAS</td>\n",
       "      <td>49.475440</td>\n",
       "      <td>40.154990</td>\n",
       "      <td>64.886363</td>\n",
       "      <td>47.151212</td>\n",
       "      <td>48.261559</td>\n",
       "    </tr>\n",
       "    <tr>\n",
       "      <td>AACS</td>\n",
       "      <td>31.356016</td>\n",
       "      <td>30.070403</td>\n",
       "      <td>26.646325</td>\n",
       "      <td>36.555434</td>\n",
       "      <td>32.561084</td>\n",
       "    </tr>\n",
       "  </tbody>\n",
       "</table>\n",
       "</div>"
      ],
      "text/plain": [
       "           SNU_Original_cell_line    SNU_KO1    SNU_KO2  NCI_BAP1_0  \\\n",
       "Gene Name                                                             \n",
       "A1BG-AS1                 0.117659   0.061119   0.000000    0.983894   \n",
       "A2M                      0.705952   1.650205   0.640537    1.665051   \n",
       "A4GALT                  14.942642   4.645022   1.537288    4.238311   \n",
       "AAAS                    49.475440  40.154990  64.886363   47.151212   \n",
       "AACS                    31.356016  30.070403  26.646325   36.555434   \n",
       "\n",
       "           NCI_BAP1_-1  \n",
       "Gene Name               \n",
       "A1BG-AS1      1.856214  \n",
       "A2M           2.397610  \n",
       "A4GALT        5.645984  \n",
       "AAAS         48.261559  \n",
       "AACS         32.561084  "
      ]
     },
     "execution_count": 88,
     "metadata": {},
     "output_type": "execute_result"
    }
   ],
   "source": [
    "human_expression = pd.read_excel(\"../data/HS_CPM_withNames.xlsx\",index_col=\"Gene Name\")\n",
    "del human_expression['log2 SNU2D3/SNU']\n",
    "del human_expression['log2 SNU1F5/SNU']\n",
    "del human_expression['log2 NCIBAP1/NCIEV']\n",
    "del human_expression['NCIBAP1/NCIEV']\n",
    "del human_expression['SNU1F5/SNU']\n",
    "del human_expression['SNU2D3/SNU']\n",
    "del human_expression['Ensembl ID']\n",
    "human_expression.columns = ['SNU_Original_cell_line', \"SNU_KO1\", \"SNU_KO2\",\"NCI_BAP1_0\",\"NCI_BAP1_-1\"]\n",
    "human_expression.head()"
   ]
  },
  {
   "cell_type": "code",
   "execution_count": 138,
   "metadata": {},
   "outputs": [
    {
     "data": {
      "text/html": [
       "<div>\n",
       "<style scoped>\n",
       "    .dataframe tbody tr th:only-of-type {\n",
       "        vertical-align: middle;\n",
       "    }\n",
       "\n",
       "    .dataframe tbody tr th {\n",
       "        vertical-align: top;\n",
       "    }\n",
       "\n",
       "    .dataframe thead th {\n",
       "        text-align: right;\n",
       "    }\n",
       "</style>\n",
       "<table border=\"1\" class=\"dataframe\">\n",
       "  <thead>\n",
       "    <tr style=\"text-align: right;\">\n",
       "      <th></th>\n",
       "      <th>B162E10</th>\n",
       "      <th>B164F7</th>\n",
       "      <th>B16</th>\n",
       "    </tr>\n",
       "    <tr>\n",
       "      <th>Gene Name</th>\n",
       "      <th></th>\n",
       "      <th></th>\n",
       "      <th></th>\n",
       "    </tr>\n",
       "  </thead>\n",
       "  <tbody>\n",
       "    <tr>\n",
       "      <td>0610009B22RIK</td>\n",
       "      <td>41.980013</td>\n",
       "      <td>64.710011</td>\n",
       "      <td>62.608110</td>\n",
       "    </tr>\n",
       "    <tr>\n",
       "      <td>0610009E02RIK</td>\n",
       "      <td>0.526725</td>\n",
       "      <td>1.370975</td>\n",
       "      <td>1.811577</td>\n",
       "    </tr>\n",
       "    <tr>\n",
       "      <td>0610009L18RIK</td>\n",
       "      <td>2.001556</td>\n",
       "      <td>3.290340</td>\n",
       "      <td>2.898524</td>\n",
       "    </tr>\n",
       "    <tr>\n",
       "      <td>0610010F05RIK</td>\n",
       "      <td>39.451732</td>\n",
       "      <td>50.246227</td>\n",
       "      <td>57.680620</td>\n",
       "    </tr>\n",
       "    <tr>\n",
       "      <td>0610010K14RIK</td>\n",
       "      <td>0.737416</td>\n",
       "      <td>0.411292</td>\n",
       "      <td>0.507242</td>\n",
       "    </tr>\n",
       "  </tbody>\n",
       "</table>\n",
       "</div>"
      ],
      "text/plain": [
       "                 B162E10     B164F7        B16\n",
       "Gene Name                                     \n",
       "0610009B22RIK  41.980013  64.710011  62.608110\n",
       "0610009E02RIK   0.526725   1.370975   1.811577\n",
       "0610009L18RIK   2.001556   3.290340   2.898524\n",
       "0610010F05RIK  39.451732  50.246227  57.680620\n",
       "0610010K14RIK   0.737416   0.411292   0.507242"
      ]
     },
     "execution_count": 138,
     "metadata": {},
     "output_type": "execute_result"
    }
   ],
   "source": [
    "mouse_espression = pd.read_excel(\"../data/MUS_CPM_results.xlsx\",index_col=\"Gene Name\")\n",
    "del mouse_espression['Ensembl ID']\n",
    "del mouse_espression['B162E10/B16']\n",
    "del mouse_espression['B164F7/B16']\n",
    "del mouse_espression['log2 B162E10/B16']\n",
    "del mouse_espression['log2 B164F7/B16']\n",
    "mouse_espression.index = mouse_espression.index.str.upper()\n",
    "mouse_espression.head()"
   ]
  },
  {
   "cell_type": "code",
   "execution_count": 139,
   "metadata": {},
   "outputs": [],
   "source": [
    "mouse_espression = td.df_normalization(mouse_espression,\"minmax\")"
   ]
  },
  {
   "cell_type": "code",
   "execution_count": 142,
   "metadata": {},
   "outputs": [
    {
     "data": {
      "text/html": [
       "<div>\n",
       "<style scoped>\n",
       "    .dataframe tbody tr th:only-of-type {\n",
       "        vertical-align: middle;\n",
       "    }\n",
       "\n",
       "    .dataframe tbody tr th {\n",
       "        vertical-align: top;\n",
       "    }\n",
       "\n",
       "    .dataframe thead th {\n",
       "        text-align: right;\n",
       "    }\n",
       "</style>\n",
       "<table border=\"1\" class=\"dataframe\">\n",
       "  <thead>\n",
       "    <tr style=\"text-align: right;\">\n",
       "      <th></th>\n",
       "      <th>B162E10</th>\n",
       "      <th>B164F7</th>\n",
       "      <th>B16</th>\n",
       "      <th>SNU_Original_cell_line</th>\n",
       "      <th>SNU_KO1</th>\n",
       "      <th>SNU_KO2</th>\n",
       "      <th>NCI_BAP1_0</th>\n",
       "      <th>NCI_BAP1_-1</th>\n",
       "    </tr>\n",
       "    <tr>\n",
       "      <th>Gene Name</th>\n",
       "      <th></th>\n",
       "      <th></th>\n",
       "      <th></th>\n",
       "      <th></th>\n",
       "      <th></th>\n",
       "      <th></th>\n",
       "      <th></th>\n",
       "      <th></th>\n",
       "    </tr>\n",
       "  </thead>\n",
       "  <tbody>\n",
       "    <tr>\n",
       "      <td>AAAS</td>\n",
       "      <td>0.008887</td>\n",
       "      <td>0.005159</td>\n",
       "      <td>0.006039</td>\n",
       "      <td>0.002200</td>\n",
       "      <td>0.002209</td>\n",
       "      <td>0.005648</td>\n",
       "      <td>0.002577</td>\n",
       "      <td>0.003396</td>\n",
       "    </tr>\n",
       "    <tr>\n",
       "      <td>AACS</td>\n",
       "      <td>0.004859</td>\n",
       "      <td>0.002182</td>\n",
       "      <td>0.001930</td>\n",
       "      <td>0.001394</td>\n",
       "      <td>0.001654</td>\n",
       "      <td>0.002319</td>\n",
       "      <td>0.001998</td>\n",
       "      <td>0.002292</td>\n",
       "    </tr>\n",
       "    <tr>\n",
       "      <td>AAGAB</td>\n",
       "      <td>0.006629</td>\n",
       "      <td>0.005764</td>\n",
       "      <td>0.005977</td>\n",
       "      <td>0.002370</td>\n",
       "      <td>0.003222</td>\n",
       "      <td>0.004120</td>\n",
       "      <td>0.006722</td>\n",
       "      <td>0.006973</td>\n",
       "    </tr>\n",
       "    <tr>\n",
       "      <td>AAK1</td>\n",
       "      <td>0.015772</td>\n",
       "      <td>0.007787</td>\n",
       "      <td>0.011829</td>\n",
       "      <td>0.000984</td>\n",
       "      <td>0.002139</td>\n",
       "      <td>0.003100</td>\n",
       "      <td>0.002267</td>\n",
       "      <td>0.002460</td>\n",
       "    </tr>\n",
       "    <tr>\n",
       "      <td>AAMDC</td>\n",
       "      <td>0.000424</td>\n",
       "      <td>0.000433</td>\n",
       "      <td>0.000405</td>\n",
       "      <td>0.000345</td>\n",
       "      <td>0.000242</td>\n",
       "      <td>0.000295</td>\n",
       "      <td>0.000298</td>\n",
       "      <td>0.000343</td>\n",
       "    </tr>\n",
       "  </tbody>\n",
       "</table>\n",
       "</div>"
      ],
      "text/plain": [
       "            B162E10    B164F7       B16  SNU_Original_cell_line   SNU_KO1  \\\n",
       "Gene Name                                                                   \n",
       "AAAS       0.008887  0.005159  0.006039                0.002200  0.002209   \n",
       "AACS       0.004859  0.002182  0.001930                0.001394  0.001654   \n",
       "AAGAB      0.006629  0.005764  0.005977                0.002370  0.003222   \n",
       "AAK1       0.015772  0.007787  0.011829                0.000984  0.002139   \n",
       "AAMDC      0.000424  0.000433  0.000405                0.000345  0.000242   \n",
       "\n",
       "            SNU_KO2  NCI_BAP1_0  NCI_BAP1_-1  \n",
       "Gene Name                                     \n",
       "AAAS       0.005648    0.002577     0.003396  \n",
       "AACS       0.002319    0.001998     0.002292  \n",
       "AAGAB      0.004120    0.006722     0.006973  \n",
       "AAK1       0.003100    0.002267     0.002460  \n",
       "AAMDC      0.000295    0.000298     0.000343  "
      ]
     },
     "execution_count": 142,
     "metadata": {},
     "output_type": "execute_result"
    }
   ],
   "source": [
    "combined_df = mouse_espression.merge(human_expression,on=\"Gene Name\")\n",
    "combined_df.head()"
   ]
  },
  {
   "cell_type": "code",
   "execution_count": 143,
   "metadata": {},
   "outputs": [
    {
     "name": "stdout",
     "output_type": "stream",
     "text": [
      "(16443, 5) (14702, 3) (10356, 8)\n"
     ]
    }
   ],
   "source": [
    "print(human_expression.shape,mouse_espression.shape,combined_df.shape)"
   ]
  },
  {
   "cell_type": "markdown",
   "metadata": {},
   "source": [
    "## Human Analysis"
   ]
  },
  {
   "cell_type": "code",
   "execution_count": 91,
   "metadata": {},
   "outputs": [
    {
     "data": {
      "text/html": [
       "<div>\n",
       "<style scoped>\n",
       "    .dataframe tbody tr th:only-of-type {\n",
       "        vertical-align: middle;\n",
       "    }\n",
       "\n",
       "    .dataframe tbody tr th {\n",
       "        vertical-align: top;\n",
       "    }\n",
       "\n",
       "    .dataframe thead th {\n",
       "        text-align: right;\n",
       "    }\n",
       "</style>\n",
       "<table border=\"1\" class=\"dataframe\">\n",
       "  <thead>\n",
       "    <tr style=\"text-align: right;\">\n",
       "      <th></th>\n",
       "      <th>SNU_Original_cell_line</th>\n",
       "      <th>SNU_KO1</th>\n",
       "      <th>SNU_KO2</th>\n",
       "      <th>NCI_BAP1_0</th>\n",
       "      <th>NCI_BAP1_-1</th>\n",
       "    </tr>\n",
       "    <tr>\n",
       "      <th>Gene Name</th>\n",
       "      <th></th>\n",
       "      <th></th>\n",
       "      <th></th>\n",
       "      <th></th>\n",
       "      <th></th>\n",
       "    </tr>\n",
       "  </thead>\n",
       "  <tbody>\n",
       "    <tr>\n",
       "      <td>A1BG-AS1</td>\n",
       "      <td>0.000005</td>\n",
       "      <td>0.000003</td>\n",
       "      <td>0.000000</td>\n",
       "      <td>0.000054</td>\n",
       "      <td>0.000131</td>\n",
       "    </tr>\n",
       "    <tr>\n",
       "      <td>A2M</td>\n",
       "      <td>0.000031</td>\n",
       "      <td>0.000091</td>\n",
       "      <td>0.000056</td>\n",
       "      <td>0.000091</td>\n",
       "      <td>0.000169</td>\n",
       "    </tr>\n",
       "    <tr>\n",
       "      <td>A4GALT</td>\n",
       "      <td>0.000665</td>\n",
       "      <td>0.000256</td>\n",
       "      <td>0.000134</td>\n",
       "      <td>0.000232</td>\n",
       "      <td>0.000397</td>\n",
       "    </tr>\n",
       "    <tr>\n",
       "      <td>AAAS</td>\n",
       "      <td>0.002200</td>\n",
       "      <td>0.002209</td>\n",
       "      <td>0.005648</td>\n",
       "      <td>0.002577</td>\n",
       "      <td>0.003396</td>\n",
       "    </tr>\n",
       "    <tr>\n",
       "      <td>AACS</td>\n",
       "      <td>0.001394</td>\n",
       "      <td>0.001654</td>\n",
       "      <td>0.002319</td>\n",
       "      <td>0.001998</td>\n",
       "      <td>0.002292</td>\n",
       "    </tr>\n",
       "  </tbody>\n",
       "</table>\n",
       "</div>"
      ],
      "text/plain": [
       "           SNU_Original_cell_line   SNU_KO1   SNU_KO2  NCI_BAP1_0  NCI_BAP1_-1\n",
       "Gene Name                                                                     \n",
       "A1BG-AS1                 0.000005  0.000003  0.000000    0.000054     0.000131\n",
       "A2M                      0.000031  0.000091  0.000056    0.000091     0.000169\n",
       "A4GALT                   0.000665  0.000256  0.000134    0.000232     0.000397\n",
       "AAAS                     0.002200  0.002209  0.005648    0.002577     0.003396\n",
       "AACS                     0.001394  0.001654  0.002319    0.001998     0.002292"
      ]
     },
     "execution_count": 91,
     "metadata": {},
     "output_type": "execute_result"
    }
   ],
   "source": [
    "human_expression = td.df_normalization(human_expression,\"minmax\")\n",
    "human_expression.head()"
   ]
  },
  {
   "cell_type": "code",
   "execution_count": 159,
   "metadata": {},
   "outputs": [
    {
     "data": {
      "text/html": [
       "<div>\n",
       "<style scoped>\n",
       "    .dataframe tbody tr th:only-of-type {\n",
       "        vertical-align: middle;\n",
       "    }\n",
       "\n",
       "    .dataframe tbody tr th {\n",
       "        vertical-align: top;\n",
       "    }\n",
       "\n",
       "    .dataframe thead th {\n",
       "        text-align: right;\n",
       "    }\n",
       "</style>\n",
       "<table border=\"1\" class=\"dataframe\">\n",
       "  <thead>\n",
       "    <tr style=\"text-align: right;\">\n",
       "      <th></th>\n",
       "      <th>SNU_Original_cell_line</th>\n",
       "      <th>SNU_KO1</th>\n",
       "      <th>SNU_KO2</th>\n",
       "      <th>NCI_BAP1_0</th>\n",
       "      <th>NCI_BAP1_-1</th>\n",
       "    </tr>\n",
       "    <tr>\n",
       "      <th>Gene Name</th>\n",
       "      <th></th>\n",
       "      <th></th>\n",
       "      <th></th>\n",
       "      <th></th>\n",
       "      <th></th>\n",
       "    </tr>\n",
       "  </thead>\n",
       "  <tbody>\n",
       "    <tr>\n",
       "      <td>ACTB</td>\n",
       "      <td>0.197747</td>\n",
       "      <td>0.401092</td>\n",
       "      <td>0.720055</td>\n",
       "      <td>0.184780</td>\n",
       "      <td>0.320531</td>\n",
       "    </tr>\n",
       "    <tr>\n",
       "      <td>ACTG1</td>\n",
       "      <td>0.105288</td>\n",
       "      <td>0.207118</td>\n",
       "      <td>0.305864</td>\n",
       "      <td>0.127543</td>\n",
       "      <td>0.207452</td>\n",
       "    </tr>\n",
       "    <tr>\n",
       "      <td>ACTN4</td>\n",
       "      <td>0.046267</td>\n",
       "      <td>0.061848</td>\n",
       "      <td>0.181703</td>\n",
       "      <td>0.036293</td>\n",
       "      <td>0.060467</td>\n",
       "    </tr>\n",
       "    <tr>\n",
       "      <td>ANXA2</td>\n",
       "      <td>0.113176</td>\n",
       "      <td>0.138027</td>\n",
       "      <td>0.184257</td>\n",
       "      <td>0.186264</td>\n",
       "      <td>0.306619</td>\n",
       "    </tr>\n",
       "    <tr>\n",
       "      <td>B2M</td>\n",
       "      <td>0.062877</td>\n",
       "      <td>0.070103</td>\n",
       "      <td>0.027179</td>\n",
       "      <td>0.232167</td>\n",
       "      <td>0.309063</td>\n",
       "    </tr>\n",
       "  </tbody>\n",
       "</table>\n",
       "</div>"
      ],
      "text/plain": [
       "           SNU_Original_cell_line   SNU_KO1   SNU_KO2  NCI_BAP1_0  NCI_BAP1_-1\n",
       "Gene Name                                                                     \n",
       "ACTB                     0.197747  0.401092  0.720055    0.184780     0.320531\n",
       "ACTG1                    0.105288  0.207118  0.305864    0.127543     0.207452\n",
       "ACTN4                    0.046267  0.061848  0.181703    0.036293     0.060467\n",
       "ANXA2                    0.113176  0.138027  0.184257    0.186264     0.306619\n",
       "B2M                      0.062877  0.070103  0.027179    0.232167     0.309063"
      ]
     },
     "execution_count": 159,
     "metadata": {},
     "output_type": "execute_result"
    }
   ],
   "source": [
    "human_variance_threshold = td.variance_threshold_selector(human_expression,threshold=.002)\n",
    "human_variance_threshold.head()"
   ]
  },
  {
   "cell_type": "code",
   "execution_count": 160,
   "metadata": {},
   "outputs": [
    {
     "name": "stdout",
     "output_type": "stream",
     "text": [
      "(16443, 5) (41, 5)\n"
     ]
    }
   ],
   "source": [
    "print(human_expression.shape,human_variance_threshold.shape)"
   ]
  },
  {
   "cell_type": "code",
   "execution_count": 94,
   "metadata": {},
   "outputs": [
    {
     "name": "stdout",
     "output_type": "stream",
     "text": [
      "Index(['ACTB', 'B2M', 'FLNA', 'HLA-B', 'HSP90AA1', 'ITGB1', 'KRT8', 'MT-CO1',\n",
      "       'MT-RNR2', 'MYH9', 'SERPINE1', 'SPARC', 'TMSB4X'],\n",
      "      dtype='object', name='Gene Name')\n"
     ]
    }
   ],
   "source": [
    "print(human_variance_threshold.index)"
   ]
  },
  {
   "cell_type": "markdown",
   "metadata": {},
   "source": [
    "The gene expressions of HLA-B and B2M show up in the most variant genes which is interesting because they were in the analysis of TCGA patients."
   ]
  },
  {
   "cell_type": "code",
   "execution_count": 95,
   "metadata": {},
   "outputs": [
    {
     "name": "stdout",
     "output_type": "stream",
     "text": [
      "Running CiberSort...\n"
     ]
    },
    {
     "data": {
      "text/html": [
       "<div>\n",
       "<style scoped>\n",
       "    .dataframe tbody tr th:only-of-type {\n",
       "        vertical-align: middle;\n",
       "    }\n",
       "\n",
       "    .dataframe tbody tr th {\n",
       "        vertical-align: top;\n",
       "    }\n",
       "\n",
       "    .dataframe thead th {\n",
       "        text-align: right;\n",
       "    }\n",
       "</style>\n",
       "<table border=\"1\" class=\"dataframe\">\n",
       "  <thead>\n",
       "    <tr style=\"text-align: right;\">\n",
       "      <th>Patient_ID</th>\n",
       "      <th>B cells naive</th>\n",
       "      <th>B cells memory</th>\n",
       "      <th>Plasma cells</th>\n",
       "      <th>T cells CD8</th>\n",
       "      <th>T cells CD4 naive</th>\n",
       "      <th>T cells CD4 memory resting</th>\n",
       "      <th>T cells CD4 memory activated</th>\n",
       "      <th>T cells follicular helper</th>\n",
       "      <th>T cells regulatory (Tregs)</th>\n",
       "      <th>T cells gamma delta</th>\n",
       "      <th>...</th>\n",
       "      <th>Monocytes</th>\n",
       "      <th>Macrophages M0</th>\n",
       "      <th>Macrophages M1</th>\n",
       "      <th>Macrophages M2</th>\n",
       "      <th>Dendritic cells resting</th>\n",
       "      <th>Dendritic cells activated</th>\n",
       "      <th>Mast cells resting</th>\n",
       "      <th>Mast cells activated</th>\n",
       "      <th>Eosinophils</th>\n",
       "      <th>Neutrophils</th>\n",
       "    </tr>\n",
       "  </thead>\n",
       "  <tbody>\n",
       "    <tr>\n",
       "      <td>SNU_Original_cell_line</td>\n",
       "      <td>0.173232</td>\n",
       "      <td>0.0</td>\n",
       "      <td>0.050609</td>\n",
       "      <td>0.00000</td>\n",
       "      <td>0.0</td>\n",
       "      <td>0.325913</td>\n",
       "      <td>0.029113</td>\n",
       "      <td>0.00000</td>\n",
       "      <td>0.000000</td>\n",
       "      <td>0.019908</td>\n",
       "      <td>...</td>\n",
       "      <td>0.124341</td>\n",
       "      <td>0.164611</td>\n",
       "      <td>0.0</td>\n",
       "      <td>0.000000</td>\n",
       "      <td>0.000000</td>\n",
       "      <td>0.052622</td>\n",
       "      <td>0.018694</td>\n",
       "      <td>0.000000</td>\n",
       "      <td>0.019460</td>\n",
       "      <td>0.000000</td>\n",
       "    </tr>\n",
       "    <tr>\n",
       "      <td>SNU_KO1</td>\n",
       "      <td>0.186037</td>\n",
       "      <td>0.0</td>\n",
       "      <td>0.149809</td>\n",
       "      <td>0.00000</td>\n",
       "      <td>0.0</td>\n",
       "      <td>0.461232</td>\n",
       "      <td>0.000000</td>\n",
       "      <td>0.01928</td>\n",
       "      <td>0.000000</td>\n",
       "      <td>0.000000</td>\n",
       "      <td>...</td>\n",
       "      <td>0.039993</td>\n",
       "      <td>0.000000</td>\n",
       "      <td>0.0</td>\n",
       "      <td>0.014445</td>\n",
       "      <td>0.000000</td>\n",
       "      <td>0.094957</td>\n",
       "      <td>0.008818</td>\n",
       "      <td>0.000000</td>\n",
       "      <td>0.018559</td>\n",
       "      <td>0.000000</td>\n",
       "    </tr>\n",
       "    <tr>\n",
       "      <td>SNU_KO2</td>\n",
       "      <td>0.200313</td>\n",
       "      <td>0.0</td>\n",
       "      <td>0.000000</td>\n",
       "      <td>0.00000</td>\n",
       "      <td>0.0</td>\n",
       "      <td>0.508813</td>\n",
       "      <td>0.000000</td>\n",
       "      <td>0.00000</td>\n",
       "      <td>0.062577</td>\n",
       "      <td>0.000000</td>\n",
       "      <td>...</td>\n",
       "      <td>0.011543</td>\n",
       "      <td>0.033907</td>\n",
       "      <td>0.0</td>\n",
       "      <td>0.000000</td>\n",
       "      <td>0.000000</td>\n",
       "      <td>0.028747</td>\n",
       "      <td>0.014110</td>\n",
       "      <td>0.000000</td>\n",
       "      <td>0.000000</td>\n",
       "      <td>0.000431</td>\n",
       "    </tr>\n",
       "    <tr>\n",
       "      <td>NCI_BAP1_0</td>\n",
       "      <td>0.066324</td>\n",
       "      <td>0.0</td>\n",
       "      <td>0.033884</td>\n",
       "      <td>0.05098</td>\n",
       "      <td>0.0</td>\n",
       "      <td>0.418845</td>\n",
       "      <td>0.028952</td>\n",
       "      <td>0.00000</td>\n",
       "      <td>0.008908</td>\n",
       "      <td>0.000000</td>\n",
       "      <td>...</td>\n",
       "      <td>0.014130</td>\n",
       "      <td>0.000000</td>\n",
       "      <td>0.0</td>\n",
       "      <td>0.000000</td>\n",
       "      <td>0.026721</td>\n",
       "      <td>0.028245</td>\n",
       "      <td>0.000000</td>\n",
       "      <td>0.213855</td>\n",
       "      <td>0.000000</td>\n",
       "      <td>0.008854</td>\n",
       "    </tr>\n",
       "    <tr>\n",
       "      <td>NCI_BAP1_-1</td>\n",
       "      <td>0.063180</td>\n",
       "      <td>0.0</td>\n",
       "      <td>0.030595</td>\n",
       "      <td>0.00000</td>\n",
       "      <td>0.0</td>\n",
       "      <td>0.517369</td>\n",
       "      <td>0.040623</td>\n",
       "      <td>0.00000</td>\n",
       "      <td>0.000000</td>\n",
       "      <td>0.000000</td>\n",
       "      <td>...</td>\n",
       "      <td>0.024788</td>\n",
       "      <td>0.000000</td>\n",
       "      <td>0.0</td>\n",
       "      <td>0.000000</td>\n",
       "      <td>0.015310</td>\n",
       "      <td>0.050137</td>\n",
       "      <td>0.000000</td>\n",
       "      <td>0.191082</td>\n",
       "      <td>0.000000</td>\n",
       "      <td>0.000000</td>\n",
       "    </tr>\n",
       "  </tbody>\n",
       "</table>\n",
       "<p>5 rows × 22 columns</p>\n",
       "</div>"
      ],
      "text/plain": [
       "Patient_ID              B cells naive  B cells memory  Plasma cells  \\\n",
       "SNU_Original_cell_line       0.173232             0.0      0.050609   \n",
       "SNU_KO1                      0.186037             0.0      0.149809   \n",
       "SNU_KO2                      0.200313             0.0      0.000000   \n",
       "NCI_BAP1_0                   0.066324             0.0      0.033884   \n",
       "NCI_BAP1_-1                  0.063180             0.0      0.030595   \n",
       "\n",
       "Patient_ID              T cells CD8  T cells CD4 naive  \\\n",
       "SNU_Original_cell_line      0.00000                0.0   \n",
       "SNU_KO1                     0.00000                0.0   \n",
       "SNU_KO2                     0.00000                0.0   \n",
       "NCI_BAP1_0                  0.05098                0.0   \n",
       "NCI_BAP1_-1                 0.00000                0.0   \n",
       "\n",
       "Patient_ID              T cells CD4 memory resting  \\\n",
       "SNU_Original_cell_line                    0.325913   \n",
       "SNU_KO1                                   0.461232   \n",
       "SNU_KO2                                   0.508813   \n",
       "NCI_BAP1_0                                0.418845   \n",
       "NCI_BAP1_-1                               0.517369   \n",
       "\n",
       "Patient_ID              T cells CD4 memory activated  \\\n",
       "SNU_Original_cell_line                      0.029113   \n",
       "SNU_KO1                                     0.000000   \n",
       "SNU_KO2                                     0.000000   \n",
       "NCI_BAP1_0                                  0.028952   \n",
       "NCI_BAP1_-1                                 0.040623   \n",
       "\n",
       "Patient_ID              T cells follicular helper  T cells regulatory (Tregs)  \\\n",
       "SNU_Original_cell_line                    0.00000                    0.000000   \n",
       "SNU_KO1                                   0.01928                    0.000000   \n",
       "SNU_KO2                                   0.00000                    0.062577   \n",
       "NCI_BAP1_0                                0.00000                    0.008908   \n",
       "NCI_BAP1_-1                               0.00000                    0.000000   \n",
       "\n",
       "Patient_ID              T cells gamma delta  ...  Monocytes  Macrophages M0  \\\n",
       "SNU_Original_cell_line             0.019908  ...   0.124341        0.164611   \n",
       "SNU_KO1                            0.000000  ...   0.039993        0.000000   \n",
       "SNU_KO2                            0.000000  ...   0.011543        0.033907   \n",
       "NCI_BAP1_0                         0.000000  ...   0.014130        0.000000   \n",
       "NCI_BAP1_-1                        0.000000  ...   0.024788        0.000000   \n",
       "\n",
       "Patient_ID              Macrophages M1  Macrophages M2  \\\n",
       "SNU_Original_cell_line             0.0        0.000000   \n",
       "SNU_KO1                            0.0        0.014445   \n",
       "SNU_KO2                            0.0        0.000000   \n",
       "NCI_BAP1_0                         0.0        0.000000   \n",
       "NCI_BAP1_-1                        0.0        0.000000   \n",
       "\n",
       "Patient_ID              Dendritic cells resting  Dendritic cells activated  \\\n",
       "SNU_Original_cell_line                 0.000000                   0.052622   \n",
       "SNU_KO1                                0.000000                   0.094957   \n",
       "SNU_KO2                                0.000000                   0.028747   \n",
       "NCI_BAP1_0                             0.026721                   0.028245   \n",
       "NCI_BAP1_-1                            0.015310                   0.050137   \n",
       "\n",
       "Patient_ID              Mast cells resting  Mast cells activated  Eosinophils  \\\n",
       "SNU_Original_cell_line            0.018694              0.000000     0.019460   \n",
       "SNU_KO1                           0.008818              0.000000     0.018559   \n",
       "SNU_KO2                           0.014110              0.000000     0.000000   \n",
       "NCI_BAP1_0                        0.000000              0.213855     0.000000   \n",
       "NCI_BAP1_-1                       0.000000              0.191082     0.000000   \n",
       "\n",
       "Patient_ID              Neutrophils  \n",
       "SNU_Original_cell_line     0.000000  \n",
       "SNU_KO1                    0.000000  \n",
       "SNU_KO2                    0.000431  \n",
       "NCI_BAP1_0                 0.008854  \n",
       "NCI_BAP1_-1                0.000000  \n",
       "\n",
       "[5 rows x 22 columns]"
      ]
     },
     "execution_count": 95,
     "metadata": {},
     "output_type": "execute_result"
    }
   ],
   "source": [
    "immune_profiles = td.cibersort_main(human_expression,td.read_lm22_file())\n",
    "immune_profiles.head()"
   ]
  },
  {
   "cell_type": "code",
   "execution_count": 96,
   "metadata": {},
   "outputs": [
    {
     "data": {
      "text/html": [
       "<div>\n",
       "<style scoped>\n",
       "    .dataframe tbody tr th:only-of-type {\n",
       "        vertical-align: middle;\n",
       "    }\n",
       "\n",
       "    .dataframe tbody tr th {\n",
       "        vertical-align: top;\n",
       "    }\n",
       "\n",
       "    .dataframe thead th {\n",
       "        text-align: right;\n",
       "    }\n",
       "</style>\n",
       "<table border=\"1\" class=\"dataframe\">\n",
       "  <thead>\n",
       "    <tr style=\"text-align: right;\">\n",
       "      <th>Patient_ID</th>\n",
       "      <th>Plasma cells</th>\n",
       "      <th>CD8 T cells</th>\n",
       "      <th>T cells gamma delta</th>\n",
       "      <th>Monocytes</th>\n",
       "      <th>Eosinophils</th>\n",
       "      <th>Neutrophils</th>\n",
       "      <th>B cells</th>\n",
       "      <th>CD4 T cells</th>\n",
       "      <th>NK cells</th>\n",
       "      <th>Macrophages</th>\n",
       "      <th>Mast cells</th>\n",
       "      <th>DC</th>\n",
       "    </tr>\n",
       "  </thead>\n",
       "  <tbody>\n",
       "    <tr>\n",
       "      <td>SNU_Original_cell_line</td>\n",
       "      <td>0.050609</td>\n",
       "      <td>0.00000</td>\n",
       "      <td>0.019908</td>\n",
       "      <td>0.124341</td>\n",
       "      <td>0.019460</td>\n",
       "      <td>0.000000</td>\n",
       "      <td>0.173232</td>\n",
       "      <td>0.355026</td>\n",
       "      <td>0.021498</td>\n",
       "      <td>0.164611</td>\n",
       "      <td>0.018694</td>\n",
       "      <td>0.052622</td>\n",
       "    </tr>\n",
       "    <tr>\n",
       "      <td>SNU_KO1</td>\n",
       "      <td>0.149809</td>\n",
       "      <td>0.00000</td>\n",
       "      <td>0.000000</td>\n",
       "      <td>0.039993</td>\n",
       "      <td>0.018559</td>\n",
       "      <td>0.000000</td>\n",
       "      <td>0.186037</td>\n",
       "      <td>0.480512</td>\n",
       "      <td>0.006868</td>\n",
       "      <td>0.014445</td>\n",
       "      <td>0.008818</td>\n",
       "      <td>0.094957</td>\n",
       "    </tr>\n",
       "    <tr>\n",
       "      <td>SNU_KO2</td>\n",
       "      <td>0.000000</td>\n",
       "      <td>0.00000</td>\n",
       "      <td>0.000000</td>\n",
       "      <td>0.011543</td>\n",
       "      <td>0.000000</td>\n",
       "      <td>0.000431</td>\n",
       "      <td>0.200313</td>\n",
       "      <td>0.571390</td>\n",
       "      <td>0.139559</td>\n",
       "      <td>0.033907</td>\n",
       "      <td>0.014110</td>\n",
       "      <td>0.028747</td>\n",
       "    </tr>\n",
       "    <tr>\n",
       "      <td>NCI_BAP1_0</td>\n",
       "      <td>0.033884</td>\n",
       "      <td>0.05098</td>\n",
       "      <td>0.000000</td>\n",
       "      <td>0.014130</td>\n",
       "      <td>0.000000</td>\n",
       "      <td>0.008854</td>\n",
       "      <td>0.066324</td>\n",
       "      <td>0.456705</td>\n",
       "      <td>0.100301</td>\n",
       "      <td>0.000000</td>\n",
       "      <td>0.213855</td>\n",
       "      <td>0.054966</td>\n",
       "    </tr>\n",
       "    <tr>\n",
       "      <td>NCI_BAP1_-1</td>\n",
       "      <td>0.030595</td>\n",
       "      <td>0.00000</td>\n",
       "      <td>0.000000</td>\n",
       "      <td>0.024788</td>\n",
       "      <td>0.000000</td>\n",
       "      <td>0.000000</td>\n",
       "      <td>0.063180</td>\n",
       "      <td>0.557992</td>\n",
       "      <td>0.066916</td>\n",
       "      <td>0.000000</td>\n",
       "      <td>0.191082</td>\n",
       "      <td>0.065448</td>\n",
       "    </tr>\n",
       "  </tbody>\n",
       "</table>\n",
       "</div>"
      ],
      "text/plain": [
       "Patient_ID              Plasma cells  CD8 T cells  T cells gamma delta  \\\n",
       "SNU_Original_cell_line      0.050609      0.00000             0.019908   \n",
       "SNU_KO1                     0.149809      0.00000             0.000000   \n",
       "SNU_KO2                     0.000000      0.00000             0.000000   \n",
       "NCI_BAP1_0                  0.033884      0.05098             0.000000   \n",
       "NCI_BAP1_-1                 0.030595      0.00000             0.000000   \n",
       "\n",
       "Patient_ID              Monocytes  Eosinophils  Neutrophils   B cells  \\\n",
       "SNU_Original_cell_line   0.124341     0.019460     0.000000  0.173232   \n",
       "SNU_KO1                  0.039993     0.018559     0.000000  0.186037   \n",
       "SNU_KO2                  0.011543     0.000000     0.000431  0.200313   \n",
       "NCI_BAP1_0               0.014130     0.000000     0.008854  0.066324   \n",
       "NCI_BAP1_-1              0.024788     0.000000     0.000000  0.063180   \n",
       "\n",
       "Patient_ID              CD4 T cells  NK cells  Macrophages  Mast cells  \\\n",
       "SNU_Original_cell_line     0.355026  0.021498     0.164611    0.018694   \n",
       "SNU_KO1                    0.480512  0.006868     0.014445    0.008818   \n",
       "SNU_KO2                    0.571390  0.139559     0.033907    0.014110   \n",
       "NCI_BAP1_0                 0.456705  0.100301     0.000000    0.213855   \n",
       "NCI_BAP1_-1                0.557992  0.066916     0.000000    0.191082   \n",
       "\n",
       "Patient_ID                    DC  \n",
       "SNU_Original_cell_line  0.052622  \n",
       "SNU_KO1                 0.094957  \n",
       "SNU_KO2                 0.028747  \n",
       "NCI_BAP1_0              0.054966  \n",
       "NCI_BAP1_-1             0.065448  "
      ]
     },
     "execution_count": 96,
     "metadata": {},
     "output_type": "execute_result"
    }
   ],
   "source": [
    "immune_profiles_comb = td.combine_celltypes(immune_profiles)\n",
    "immune_profiles_comb.head()"
   ]
  },
  {
   "cell_type": "markdown",
   "metadata": {},
   "source": [
    "There seem to be huge differences between the SNU patients and the NCIB patients just in general. But maybe this is to be expected because theres just noise. But definitley  a question. Might help to seperate patients."
   ]
  },
  {
   "cell_type": "code",
   "execution_count": 130,
   "metadata": {},
   "outputs": [
    {
     "name": "stdout",
     "output_type": "stream",
     "text": [
      "0.9389517536435628\n"
     ]
    }
   ],
   "source": [
    "pca = PCA(n_components=2)\n",
    "transformed = pca.fit_transform(human_expression.T.values)\n",
    "print(sum(pca.explained_variance_ratio_))"
   ]
  },
  {
   "cell_type": "code",
   "execution_count": 131,
   "metadata": {},
   "outputs": [
    {
     "data": {
      "text/plain": [
       "array([[-0.74267331, -0.40156504],\n",
       "       [-0.63354862, -0.05028086],\n",
       "       [-0.03498416,  0.92465265],\n",
       "       [ 0.52607124, -0.33631623],\n",
       "       [ 0.88513485, -0.13649052]])"
      ]
     },
     "execution_count": 131,
     "metadata": {},
     "output_type": "execute_result"
    }
   ],
   "source": [
    "transformed"
   ]
  },
  {
   "cell_type": "code",
   "execution_count": 132,
   "metadata": {},
   "outputs": [
    {
     "data": {
      "text/plain": [
       "<matplotlib.collections.PathCollection at 0x21554292188>"
      ]
     },
     "execution_count": 132,
     "metadata": {},
     "output_type": "execute_result"
    },
    {
     "data": {
      "image/png": "[encoded data removed]",
      "text/plain": [
       "<Figure size 432x288 with 1 Axes>"
      ]
     },
     "metadata": {
      "needs_background": "light"
     },
     "output_type": "display_data"
    }
   ],
   "source": [
    "plt.scatter(transformed[:,0], transformed[:,1], c=[0,-1,-1,0,-1])"
   ]
  },
  {
   "cell_type": "markdown",
   "metadata": {},
   "source": [
    "The split between the two studies seems to be a more significant than the BAP1 mutation removal"
   ]
  },
  {
   "cell_type": "code",
   "execution_count": 133,
   "metadata": {},
   "outputs": [
    {
     "data": {
      "text/plain": [
       "MannwhitneyuResult(statistic=12.5, pvalue=0.210446410029212)"
      ]
     },
     "execution_count": 133,
     "metadata": {},
     "output_type": "execute_result"
    }
   ],
   "source": [
    "def distance(a,b):\n",
    "    return np.linalg.norm(a-b)\n",
    "\n",
    "study_distance = [distance(transformed[4],transformed[2]),distance(transformed[4],transformed[1]),distance(transformed[4],transformed[0]),distance(transformed[3],transformed[2]),distance(transformed[3],transformed[1]),distance(transformed[3],transformed[0])]\n",
    "bap1_distance = [distance(transformed[0],transformed[1]),distance(transformed[0],transformed[2]),distance(transformed[0],transformed[4]),distance(transformed[3],transformed[4]),distance(transformed[3],transformed[2]),distance(transformed[3],transformed[1])]\n",
    "\n",
    "mannwhitneyu(study_distance,bap1_distance)"
   ]
  },
  {
   "cell_type": "code",
   "execution_count": 134,
   "metadata": {},
   "outputs": [
    {
     "data": {
      "text/plain": [
       "(1.4033063271884487, 1.0842946267084836)"
      ]
     },
     "execution_count": 134,
     "metadata": {},
     "output_type": "execute_result"
    }
   ],
   "source": [
    "sum(study_distance)/len(study_distance),sum(bap1_distance)/len(bap1_distance)"
   ]
  },
  {
   "cell_type": "markdown",
   "metadata": {},
   "source": [
    "The average distance between points between studies is greater than that between BAP1 patients, what we may be seeing is some sort of study based bias probably. This kind of throws off results between studies because there are differences which are being taken into account when we assume they are identically distributes but they seem to be a bit off. "
   ]
  },
  {
   "cell_type": "markdown",
   "metadata": {},
   "source": [
    "## Mouse Analysis"
   ]
  },
  {
   "cell_type": "code",
   "execution_count": 144,
   "metadata": {},
   "outputs": [
    {
     "name": "stdout",
     "output_type": "stream",
     "text": [
      "(14702, 3) (35, 3)\n"
     ]
    }
   ],
   "source": [
    "mouse_espression_most_var = td.variance_threshold_selector(mouse_espression, threshold=.001)\n",
    "print(mouse_espression.shape,mouse_espression_most_var.shape)"
   ]
  },
  {
   "cell_type": "code",
   "execution_count": 145,
   "metadata": {},
   "outputs": [
    {
     "data": {
      "text/html": [
       "<div>\n",
       "<style scoped>\n",
       "    .dataframe tbody tr th:only-of-type {\n",
       "        vertical-align: middle;\n",
       "    }\n",
       "\n",
       "    .dataframe tbody tr th {\n",
       "        vertical-align: top;\n",
       "    }\n",
       "\n",
       "    .dataframe thead th {\n",
       "        text-align: right;\n",
       "    }\n",
       "</style>\n",
       "<table border=\"1\" class=\"dataframe\">\n",
       "  <thead>\n",
       "    <tr style=\"text-align: right;\">\n",
       "      <th></th>\n",
       "      <th>B162E10</th>\n",
       "      <th>B164F7</th>\n",
       "      <th>B16</th>\n",
       "    </tr>\n",
       "    <tr>\n",
       "      <th>Gene Name</th>\n",
       "      <th></th>\n",
       "      <th></th>\n",
       "      <th></th>\n",
       "    </tr>\n",
       "  </thead>\n",
       "  <tbody>\n",
       "    <tr>\n",
       "      <td>ALDOA</td>\n",
       "      <td>0.219344</td>\n",
       "      <td>0.154103</td>\n",
       "      <td>0.140649</td>\n",
       "    </tr>\n",
       "    <tr>\n",
       "      <td>ATP1A1</td>\n",
       "      <td>0.155136</td>\n",
       "      <td>0.108688</td>\n",
       "      <td>0.063059</td>\n",
       "    </tr>\n",
       "    <tr>\n",
       "      <td>CALR</td>\n",
       "      <td>0.176289</td>\n",
       "      <td>0.099092</td>\n",
       "      <td>0.143706</td>\n",
       "    </tr>\n",
       "    <tr>\n",
       "      <td>CLTC</td>\n",
       "      <td>0.165660</td>\n",
       "      <td>0.090196</td>\n",
       "      <td>0.087576</td>\n",
       "    </tr>\n",
       "    <tr>\n",
       "      <td>DCT</td>\n",
       "      <td>0.629438</td>\n",
       "      <td>0.589565</td>\n",
       "      <td>0.466105</td>\n",
       "    </tr>\n",
       "  </tbody>\n",
       "</table>\n",
       "</div>"
      ],
      "text/plain": [
       "            B162E10    B164F7       B16\n",
       "Gene Name                              \n",
       "ALDOA      0.219344  0.154103  0.140649\n",
       "ATP1A1     0.155136  0.108688  0.063059\n",
       "CALR       0.176289  0.099092  0.143706\n",
       "CLTC       0.165660  0.090196  0.087576\n",
       "DCT        0.629438  0.589565  0.466105"
      ]
     },
     "execution_count": 145,
     "metadata": {},
     "output_type": "execute_result"
    }
   ],
   "source": [
    "mouse_espression_most_var.head()"
   ]
  },
  {
   "cell_type": "code",
   "execution_count": 146,
   "metadata": {},
   "outputs": [
    {
     "data": {
      "text/plain": [
       "Index(['ALDOA', 'ATP1A1', 'CALR', 'CLTC', 'DCT', 'DYNC1H1', 'EEF2', 'EIF3A',\n",
       "       'ENO1', 'FTH1', 'FTL1', 'GPNMB', 'HGSNAT', 'HMOX1', 'HSP90AA1',\n",
       "       'HSP90AB1', 'HSPA5', 'HSPA8', 'HSPD1', 'LGALS3', 'MT-CO1', 'NCL',\n",
       "       'NEDD4', 'PABPC1', 'PKM', 'PMEL', 'RPL13A', 'RPL32', 'RPL5', 'SQSTM1',\n",
       "       'SRXN1', 'SYT4', 'TYRP1', 'UBB', 'UBC'],\n",
       "      dtype='object', name='Gene Name')"
      ]
     },
     "execution_count": 146,
     "metadata": {},
     "output_type": "execute_result"
    }
   ],
   "source": [
    "mouse_espression_most_var.index"
   ]
  },
  {
   "cell_type": "markdown",
   "metadata": {},
   "source": [
    "## Combined Analysis"
   ]
  },
  {
   "cell_type": "code",
   "execution_count": 166,
   "metadata": {},
   "outputs": [
    {
     "name": "stdout",
     "output_type": "stream",
     "text": [
      "0.2\n"
     ]
    }
   ],
   "source": [
    "print(sum([1 for i in list(mouse_espression_most_var.index) if i in list(human_variance_threshold.index)])/len(mouse_espression_most_var))"
   ]
  },
  {
   "cell_type": "code",
   "execution_count": 163,
   "metadata": {},
   "outputs": [
    {
     "data": {
      "text/plain": [
       "['EEF2', 'ENO1', 'HSP90AA1', 'HSP90AB1', 'MT-CO1', 'PKM', 'RPL5']"
      ]
     },
     "execution_count": 163,
     "metadata": {},
     "output_type": "execute_result"
    }
   ],
   "source": [
    "[i for i in list(mouse_espression_most_var.index) if i in list(human_variance_threshold.index)]"
   ]
  },
  {
   "cell_type": "code",
   "execution_count": 177,
   "metadata": {},
   "outputs": [],
   "source": [
    "combined_df = combined_df.T\n",
    "combined_df['Mutation'] = [-1,-1,0,0,-1,-1,0,-1]"
   ]
  },
  {
   "cell_type": "code",
   "execution_count": 178,
   "metadata": {},
   "outputs": [
    {
     "data": {
      "text/html": [
       "<div>\n",
       "<style scoped>\n",
       "    .dataframe tbody tr th:only-of-type {\n",
       "        vertical-align: middle;\n",
       "    }\n",
       "\n",
       "    .dataframe tbody tr th {\n",
       "        vertical-align: top;\n",
       "    }\n",
       "\n",
       "    .dataframe thead th {\n",
       "        text-align: right;\n",
       "    }\n",
       "</style>\n",
       "<table border=\"1\" class=\"dataframe\">\n",
       "  <thead>\n",
       "    <tr style=\"text-align: right;\">\n",
       "      <th>Gene Name</th>\n",
       "      <th>AAAS</th>\n",
       "      <th>AACS</th>\n",
       "      <th>AAGAB</th>\n",
       "      <th>AAK1</th>\n",
       "      <th>AAMDC</th>\n",
       "      <th>AAMP</th>\n",
       "      <th>AAR2</th>\n",
       "      <th>AARS2</th>\n",
       "      <th>AARSD1</th>\n",
       "      <th>AASDH</th>\n",
       "      <th>...</th>\n",
       "      <th>ZW10</th>\n",
       "      <th>ZWILCH</th>\n",
       "      <th>ZWINT</th>\n",
       "      <th>ZXDA</th>\n",
       "      <th>ZXDB</th>\n",
       "      <th>ZXDC</th>\n",
       "      <th>ZYG11B</th>\n",
       "      <th>ZYX</th>\n",
       "      <th>ZZEF1</th>\n",
       "      <th>Mutation</th>\n",
       "    </tr>\n",
       "  </thead>\n",
       "  <tbody>\n",
       "    <tr>\n",
       "      <td>B162E10</td>\n",
       "      <td>0.008887</td>\n",
       "      <td>0.004859</td>\n",
       "      <td>0.006629</td>\n",
       "      <td>0.015772</td>\n",
       "      <td>0.000424</td>\n",
       "      <td>0.016358</td>\n",
       "      <td>0.010368</td>\n",
       "      <td>0.001283</td>\n",
       "      <td>0.000052</td>\n",
       "      <td>0.001904</td>\n",
       "      <td>...</td>\n",
       "      <td>0.007140</td>\n",
       "      <td>0.001022</td>\n",
       "      <td>0.025756</td>\n",
       "      <td>0.000104</td>\n",
       "      <td>0.001997</td>\n",
       "      <td>0.007128</td>\n",
       "      <td>0.020642</td>\n",
       "      <td>0.037987</td>\n",
       "      <td>0.006745</td>\n",
       "      <td>-1</td>\n",
       "    </tr>\n",
       "    <tr>\n",
       "      <td>B164F7</td>\n",
       "      <td>0.005159</td>\n",
       "      <td>0.002182</td>\n",
       "      <td>0.005764</td>\n",
       "      <td>0.007787</td>\n",
       "      <td>0.000433</td>\n",
       "      <td>0.012270</td>\n",
       "      <td>0.008973</td>\n",
       "      <td>0.000747</td>\n",
       "      <td>0.000030</td>\n",
       "      <td>0.001601</td>\n",
       "      <td>...</td>\n",
       "      <td>0.007235</td>\n",
       "      <td>0.000522</td>\n",
       "      <td>0.009572</td>\n",
       "      <td>0.000053</td>\n",
       "      <td>0.001228</td>\n",
       "      <td>0.005053</td>\n",
       "      <td>0.017465</td>\n",
       "      <td>0.026954</td>\n",
       "      <td>0.002621</td>\n",
       "      <td>-1</td>\n",
       "    </tr>\n",
       "    <tr>\n",
       "      <td>B16</td>\n",
       "      <td>0.006039</td>\n",
       "      <td>0.001930</td>\n",
       "      <td>0.005977</td>\n",
       "      <td>0.011829</td>\n",
       "      <td>0.000405</td>\n",
       "      <td>0.012644</td>\n",
       "      <td>0.008417</td>\n",
       "      <td>0.000492</td>\n",
       "      <td>0.000025</td>\n",
       "      <td>0.001737</td>\n",
       "      <td>...</td>\n",
       "      <td>0.006935</td>\n",
       "      <td>0.000286</td>\n",
       "      <td>0.011661</td>\n",
       "      <td>0.000037</td>\n",
       "      <td>0.001027</td>\n",
       "      <td>0.004906</td>\n",
       "      <td>0.015271</td>\n",
       "      <td>0.024653</td>\n",
       "      <td>0.004246</td>\n",
       "      <td>0</td>\n",
       "    </tr>\n",
       "    <tr>\n",
       "      <td>SNU_Original_cell_line</td>\n",
       "      <td>0.002200</td>\n",
       "      <td>0.001394</td>\n",
       "      <td>0.002370</td>\n",
       "      <td>0.000984</td>\n",
       "      <td>0.000345</td>\n",
       "      <td>0.005371</td>\n",
       "      <td>0.001303</td>\n",
       "      <td>0.000641</td>\n",
       "      <td>0.000076</td>\n",
       "      <td>0.000479</td>\n",
       "      <td>...</td>\n",
       "      <td>0.000602</td>\n",
       "      <td>0.001413</td>\n",
       "      <td>0.002666</td>\n",
       "      <td>0.000209</td>\n",
       "      <td>0.000704</td>\n",
       "      <td>0.000500</td>\n",
       "      <td>0.001789</td>\n",
       "      <td>0.005005</td>\n",
       "      <td>0.001177</td>\n",
       "      <td>0</td>\n",
       "    </tr>\n",
       "    <tr>\n",
       "      <td>SNU_KO1</td>\n",
       "      <td>0.002209</td>\n",
       "      <td>0.001654</td>\n",
       "      <td>0.003222</td>\n",
       "      <td>0.002139</td>\n",
       "      <td>0.000242</td>\n",
       "      <td>0.009480</td>\n",
       "      <td>0.001866</td>\n",
       "      <td>0.000750</td>\n",
       "      <td>0.000094</td>\n",
       "      <td>0.000652</td>\n",
       "      <td>...</td>\n",
       "      <td>0.001026</td>\n",
       "      <td>0.002996</td>\n",
       "      <td>0.005407</td>\n",
       "      <td>0.000276</td>\n",
       "      <td>0.001308</td>\n",
       "      <td>0.000807</td>\n",
       "      <td>0.001930</td>\n",
       "      <td>0.012745</td>\n",
       "      <td>0.002256</td>\n",
       "      <td>-1</td>\n",
       "    </tr>\n",
       "  </tbody>\n",
       "</table>\n",
       "<p>5 rows × 10357 columns</p>\n",
       "</div>"
      ],
      "text/plain": [
       "Gene Name                   AAAS      AACS     AAGAB      AAK1     AAMDC  \\\n",
       "B162E10                 0.008887  0.004859  0.006629  0.015772  0.000424   \n",
       "B164F7                  0.005159  0.002182  0.005764  0.007787  0.000433   \n",
       "B16                     0.006039  0.001930  0.005977  0.011829  0.000405   \n",
       "SNU_Original_cell_line  0.002200  0.001394  0.002370  0.000984  0.000345   \n",
       "SNU_KO1                 0.002209  0.001654  0.003222  0.002139  0.000242   \n",
       "\n",
       "Gene Name                   AAMP      AAR2     AARS2    AARSD1     AASDH  ...  \\\n",
       "B162E10                 0.016358  0.010368  0.001283  0.000052  0.001904  ...   \n",
       "B164F7                  0.012270  0.008973  0.000747  0.000030  0.001601  ...   \n",
       "B16                     0.012644  0.008417  0.000492  0.000025  0.001737  ...   \n",
       "SNU_Original_cell_line  0.005371  0.001303  0.000641  0.000076  0.000479  ...   \n",
       "SNU_KO1                 0.009480  0.001866  0.000750  0.000094  0.000652  ...   \n",
       "\n",
       "Gene Name                   ZW10    ZWILCH     ZWINT      ZXDA      ZXDB  \\\n",
       "B162E10                 0.007140  0.001022  0.025756  0.000104  0.001997   \n",
       "B164F7                  0.007235  0.000522  0.009572  0.000053  0.001228   \n",
       "B16                     0.006935  0.000286  0.011661  0.000037  0.001027   \n",
       "SNU_Original_cell_line  0.000602  0.001413  0.002666  0.000209  0.000704   \n",
       "SNU_KO1                 0.001026  0.002996  0.005407  0.000276  0.001308   \n",
       "\n",
       "Gene Name                   ZXDC    ZYG11B       ZYX     ZZEF1  Mutation  \n",
       "B162E10                 0.007128  0.020642  0.037987  0.006745        -1  \n",
       "B164F7                  0.005053  0.017465  0.026954  0.002621        -1  \n",
       "B16                     0.004906  0.015271  0.024653  0.004246         0  \n",
       "SNU_Original_cell_line  0.000500  0.001789  0.005005  0.001177         0  \n",
       "SNU_KO1                 0.000807  0.001930  0.012745  0.002256        -1  \n",
       "\n",
       "[5 rows x 10357 columns]"
      ]
     },
     "execution_count": 178,
     "metadata": {},
     "output_type": "execute_result"
    }
   ],
   "source": [
    "combined_df.head()"
   ]
  },
  {
   "cell_type": "markdown",
   "metadata": {},
   "source": [
    "20% of the most variant 35 genes overlap which is interesting. Some of which lie along the Innate Immune System such as PKM, HSP90AB1,HSP90AB1 "
   ]
  },
  {
   "cell_type": "code",
   "execution_count": 167,
   "metadata": {},
   "outputs": [
    {
     "name": "stdout",
     "output_type": "stream",
     "text": [
      "0.8022749766312998\n"
     ]
    }
   ],
   "source": [
    "pca = PCA(n_components=2)\n",
    "transformed = pca.fit_transform(combined_df.T.values)\n",
    "print(sum(pca.explained_variance_ratio_))"
   ]
  },
  {
   "cell_type": "code",
   "execution_count": 171,
   "metadata": {},
   "outputs": [
    {
     "data": {
      "text/plain": [
       "array([[ 1.35133553,  0.17805906],\n",
       "       [ 1.09487393, -0.16894515],\n",
       "       [ 0.93619485, -0.20906749],\n",
       "       [-0.78643146, -0.72547184],\n",
       "       [-0.80688571, -0.5175267 ],\n",
       "       [-0.67835577,  0.34181175],\n",
       "       [-0.54262364,  0.36891941],\n",
       "       [-0.56810773,  0.73222097]])"
      ]
     },
     "execution_count": 171,
     "metadata": {},
     "output_type": "execute_result"
    }
   ],
   "source": [
    "transformed"
   ]
  },
  {
   "cell_type": "code",
   "execution_count": 172,
   "metadata": {},
   "outputs": [
    {
     "data": {
      "text/plain": [
       "<matplotlib.collections.PathCollection at 0x21554441248>"
      ]
     },
     "execution_count": 172,
     "metadata": {},
     "output_type": "execute_result"
    },
    {
     "data": {
      "image/png": "[encoded data removed]",
      "text/plain": [
       "<Figure size 432x288 with 1 Axes>"
      ]
     },
     "metadata": {
      "needs_background": "light"
     },
     "output_type": "display_data"
    }
   ],
   "source": [
    "plt.scatter(transformed[:,0], transformed[:,1], c=[-1,-1,0,0,-1,-1,0,-1])"
   ]
  },
  {
   "cell_type": "code",
   "execution_count": 182,
   "metadata": {},
   "outputs": [
    {
     "data": {
      "text/html": [
       "<div>\n",
       "<style scoped>\n",
       "    .dataframe tbody tr th:only-of-type {\n",
       "        vertical-align: middle;\n",
       "    }\n",
       "\n",
       "    .dataframe tbody tr th {\n",
       "        vertical-align: top;\n",
       "    }\n",
       "\n",
       "    .dataframe thead th {\n",
       "        text-align: right;\n",
       "    }\n",
       "</style>\n",
       "<table border=\"1\" class=\"dataframe\">\n",
       "  <thead>\n",
       "    <tr style=\"text-align: right;\">\n",
       "      <th></th>\n",
       "      <th>B162E10</th>\n",
       "      <th>B164F7</th>\n",
       "      <th>B16</th>\n",
       "      <th>SNU_Original_cell_line</th>\n",
       "      <th>SNU_KO1</th>\n",
       "      <th>SNU_KO2</th>\n",
       "      <th>NCI_BAP1_0</th>\n",
       "      <th>NCI_BAP1_-1</th>\n",
       "    </tr>\n",
       "    <tr>\n",
       "      <th>Gene Name</th>\n",
       "      <th></th>\n",
       "      <th></th>\n",
       "      <th></th>\n",
       "      <th></th>\n",
       "      <th></th>\n",
       "      <th></th>\n",
       "      <th></th>\n",
       "      <th></th>\n",
       "    </tr>\n",
       "  </thead>\n",
       "  <tbody>\n",
       "    <tr>\n",
       "      <td>ACTB</td>\n",
       "      <td>0.129374</td>\n",
       "      <td>0.076805</td>\n",
       "      <td>0.067884</td>\n",
       "      <td>0.197747</td>\n",
       "      <td>0.401092</td>\n",
       "      <td>0.720055</td>\n",
       "      <td>0.184780</td>\n",
       "      <td>0.320531</td>\n",
       "    </tr>\n",
       "    <tr>\n",
       "      <td>ACTG1</td>\n",
       "      <td>0.102074</td>\n",
       "      <td>0.041395</td>\n",
       "      <td>0.055103</td>\n",
       "      <td>0.105288</td>\n",
       "      <td>0.207118</td>\n",
       "      <td>0.305864</td>\n",
       "      <td>0.127543</td>\n",
       "      <td>0.207452</td>\n",
       "    </tr>\n",
       "    <tr>\n",
       "      <td>ACTN4</td>\n",
       "      <td>0.029292</td>\n",
       "      <td>0.009595</td>\n",
       "      <td>0.012881</td>\n",
       "      <td>0.046267</td>\n",
       "      <td>0.061848</td>\n",
       "      <td>0.181703</td>\n",
       "      <td>0.036293</td>\n",
       "      <td>0.060467</td>\n",
       "    </tr>\n",
       "    <tr>\n",
       "      <td>ALDOA</td>\n",
       "      <td>0.219344</td>\n",
       "      <td>0.154103</td>\n",
       "      <td>0.140649</td>\n",
       "      <td>0.000709</td>\n",
       "      <td>0.000787</td>\n",
       "      <td>0.000981</td>\n",
       "      <td>0.001080</td>\n",
       "      <td>0.001796</td>\n",
       "    </tr>\n",
       "    <tr>\n",
       "      <td>ANXA2</td>\n",
       "      <td>0.010861</td>\n",
       "      <td>0.011576</td>\n",
       "      <td>0.007483</td>\n",
       "      <td>0.113176</td>\n",
       "      <td>0.138027</td>\n",
       "      <td>0.184257</td>\n",
       "      <td>0.186264</td>\n",
       "      <td>0.306619</td>\n",
       "    </tr>\n",
       "  </tbody>\n",
       "</table>\n",
       "</div>"
      ],
      "text/plain": [
       "            B162E10    B164F7       B16  SNU_Original_cell_line   SNU_KO1  \\\n",
       "Gene Name                                                                   \n",
       "ACTB       0.129374  0.076805  0.067884                0.197747  0.401092   \n",
       "ACTG1      0.102074  0.041395  0.055103                0.105288  0.207118   \n",
       "ACTN4      0.029292  0.009595  0.012881                0.046267  0.061848   \n",
       "ALDOA      0.219344  0.154103  0.140649                0.000709  0.000787   \n",
       "ANXA2      0.010861  0.011576  0.007483                0.113176  0.138027   \n",
       "\n",
       "            SNU_KO2  NCI_BAP1_0  NCI_BAP1_-1  \n",
       "Gene Name                                     \n",
       "ACTB       0.720055    0.184780     0.320531  \n",
       "ACTG1      0.305864    0.127543     0.207452  \n",
       "ACTN4      0.181703    0.036293     0.060467  \n",
       "ALDOA      0.000981    0.001080     0.001796  \n",
       "ANXA2      0.184257    0.186264     0.306619  "
      ]
     },
     "execution_count": 182,
     "metadata": {},
     "output_type": "execute_result"
    }
   ],
   "source": [
    "combined_df_var = td.variance_threshold_selector(combined_df.T,threshold=.002)\n",
    "combined_df_var.head()"
   ]
  },
  {
   "cell_type": "code",
   "execution_count": 183,
   "metadata": {},
   "outputs": [
    {
     "data": {
      "text/plain": [
       "(63, 8)"
      ]
     },
     "execution_count": 183,
     "metadata": {},
     "output_type": "execute_result"
    }
   ],
   "source": [
    "combined_df_var.shape"
   ]
  },
  {
   "cell_type": "code",
   "execution_count": 179,
   "metadata": {},
   "outputs": [],
   "source": [
    "bap1_groups = [[i for i in list(combined_df.index) if combined_df.loc[i,\"Mutation\"] == m] for m in [0,-1]]"
   ]
  },
  {
   "cell_type": "code",
   "execution_count": 201,
   "metadata": {},
   "outputs": [
    {
     "ename": "ValueError",
     "evalue": "Length of passed values is 3, index implies 2",
     "output_type": "error",
     "traceback": [
      "\u001b[1;31m---------------------------------------------------------------------------\u001b[0m",
      "\u001b[1;31mValueError\u001b[0m                                Traceback (most recent call last)",
      "\u001b[1;32m<ipython-input-201-c29a6fe19c82>\u001b[0m in \u001b[0;36m<module>\u001b[1;34m\u001b[0m\n\u001b[0;32m      4\u001b[0m     \u001b[1;32mfor\u001b[0m \u001b[0mb\u001b[0m \u001b[1;32min\u001b[0m \u001b[0mbap1_groups\u001b[0m\u001b[1;33m[\u001b[0m\u001b[1;36m1\u001b[0m\u001b[1;33m]\u001b[0m\u001b[1;33m:\u001b[0m\u001b[1;33m\u001b[0m\u001b[1;33m\u001b[0m\u001b[0m\n\u001b[0;32m      5\u001b[0m         \u001b[1;31m#print(abs(combined_df_var.loc[gene,bap1_groups[0]].values - combined_df_var.loc[gene,b]))\u001b[0m\u001b[1;33m\u001b[0m\u001b[1;33m\u001b[0m\u001b[1;33m\u001b[0m\u001b[0m\n\u001b[1;32m----> 6\u001b[1;33m         \u001b[0maverage_dist\u001b[0m\u001b[1;33m.\u001b[0m\u001b[0mextend\u001b[0m\u001b[1;33m(\u001b[0m\u001b[0mabs\u001b[0m\u001b[1;33m(\u001b[0m\u001b[0mcombined_df\u001b[0m\u001b[1;33m.\u001b[0m\u001b[0mloc\u001b[0m\u001b[1;33m[\u001b[0m\u001b[0mbap1_groups\u001b[0m\u001b[1;33m[\u001b[0m\u001b[1;36m0\u001b[0m\u001b[1;33m]\u001b[0m\u001b[1;33m,\u001b[0m\u001b[0mgene\u001b[0m\u001b[1;33m]\u001b[0m\u001b[1;33m.\u001b[0m\u001b[0mvalues\u001b[0m \u001b[1;33m-\u001b[0m \u001b[0mcombined_df\u001b[0m\u001b[1;33m.\u001b[0m\u001b[0mloc\u001b[0m\u001b[1;33m[\u001b[0m\u001b[0mb\u001b[0m\u001b[1;33m,\u001b[0m\u001b[0mgene\u001b[0m\u001b[1;33m]\u001b[0m\u001b[1;33m)\u001b[0m\u001b[1;33m)\u001b[0m\u001b[1;33m\u001b[0m\u001b[1;33m\u001b[0m\u001b[0m\n\u001b[0m\u001b[0;32m      7\u001b[0m     \u001b[0mmost_difference\u001b[0m\u001b[1;33m.\u001b[0m\u001b[0mappend\u001b[0m\u001b[1;33m(\u001b[0m\u001b[1;33m(\u001b[0m\u001b[0mgene\u001b[0m\u001b[1;33m,\u001b[0m \u001b[0msum\u001b[0m\u001b[1;33m(\u001b[0m\u001b[0maverage_dist\u001b[0m\u001b[1;33m)\u001b[0m\u001b[1;33m/\u001b[0m\u001b[0mlen\u001b[0m\u001b[1;33m(\u001b[0m\u001b[0maverage_dist\u001b[0m\u001b[1;33m)\u001b[0m\u001b[1;33m)\u001b[0m\u001b[1;33m)\u001b[0m\u001b[1;33m\u001b[0m\u001b[1;33m\u001b[0m\u001b[0m\n\u001b[0;32m      8\u001b[0m \u001b[0mmost_difference\u001b[0m \u001b[1;33m=\u001b[0m \u001b[0msorted\u001b[0m\u001b[1;33m(\u001b[0m\u001b[0mmost_difference\u001b[0m\u001b[1;33m,\u001b[0m \u001b[0mkey\u001b[0m\u001b[1;33m=\u001b[0m \u001b[1;32mlambda\u001b[0m \u001b[0mg\u001b[0m\u001b[1;33m:\u001b[0m \u001b[0mg\u001b[0m\u001b[1;33m[\u001b[0m\u001b[1;36m1\u001b[0m\u001b[1;33m]\u001b[0m\u001b[1;33m,\u001b[0m \u001b[0mreverse\u001b[0m\u001b[1;33m=\u001b[0m\u001b[1;32mTrue\u001b[0m\u001b[1;33m)\u001b[0m\u001b[1;33m\u001b[0m\u001b[1;33m\u001b[0m\u001b[0m\n",
      "\u001b[1;32mC:\\ProgramData\\Anaconda3\\lib\\site-packages\\pandas\\core\\series.py\u001b[0m in \u001b[0;36m__array_ufunc__\u001b[1;34m(self, ufunc, method, *inputs, **kwargs)\u001b[0m\n\u001b[0;32m    808\u001b[0m         \u001b[1;31m# for binary ops, use our custom dunder methods\u001b[0m\u001b[1;33m\u001b[0m\u001b[1;33m\u001b[0m\u001b[1;33m\u001b[0m\u001b[0m\n\u001b[0;32m    809\u001b[0m         result = ops.maybe_dispatch_ufunc_to_dunder_op(\n\u001b[1;32m--> 810\u001b[1;33m             \u001b[0mself\u001b[0m\u001b[1;33m,\u001b[0m \u001b[0mufunc\u001b[0m\u001b[1;33m,\u001b[0m \u001b[0mmethod\u001b[0m\u001b[1;33m,\u001b[0m \u001b[1;33m*\u001b[0m\u001b[0minputs\u001b[0m\u001b[1;33m,\u001b[0m \u001b[1;33m**\u001b[0m\u001b[0mkwargs\u001b[0m\u001b[1;33m\u001b[0m\u001b[1;33m\u001b[0m\u001b[0m\n\u001b[0m\u001b[0;32m    811\u001b[0m         )\n\u001b[0;32m    812\u001b[0m         \u001b[1;32mif\u001b[0m \u001b[0mresult\u001b[0m \u001b[1;32mis\u001b[0m \u001b[1;32mnot\u001b[0m \u001b[0mNotImplemented\u001b[0m\u001b[1;33m:\u001b[0m\u001b[1;33m\u001b[0m\u001b[1;33m\u001b[0m\u001b[0m\n",
      "\u001b[1;32mC:\\ProgramData\\Anaconda3\\lib\\site-packages\\pandas\\core\\ops\\__init__.py\u001b[0m in \u001b[0;36mmaybe_dispatch_ufunc_to_dunder_op\u001b[1;34m(self, ufunc, method, *inputs, **kwargs)\u001b[0m\n\u001b[0;32m   1741\u001b[0m         \u001b[1;32melse\u001b[0m\u001b[1;33m:\u001b[0m\u001b[1;33m\u001b[0m\u001b[1;33m\u001b[0m\u001b[0m\n\u001b[0;32m   1742\u001b[0m             \u001b[0mname\u001b[0m \u001b[1;33m=\u001b[0m \u001b[0mflipped\u001b[0m\u001b[1;33m.\u001b[0m\u001b[0mget\u001b[0m\u001b[1;33m(\u001b[0m\u001b[0mop_name\u001b[0m\u001b[1;33m,\u001b[0m \u001b[1;34m\"__r{}__\"\u001b[0m\u001b[1;33m.\u001b[0m\u001b[0mformat\u001b[0m\u001b[1;33m(\u001b[0m\u001b[0mop_name\u001b[0m\u001b[1;33m)\u001b[0m\u001b[1;33m)\u001b[0m\u001b[1;33m\u001b[0m\u001b[1;33m\u001b[0m\u001b[0m\n\u001b[1;32m-> 1743\u001b[1;33m             \u001b[1;32mreturn\u001b[0m \u001b[0mgetattr\u001b[0m\u001b[1;33m(\u001b[0m\u001b[0mself\u001b[0m\u001b[1;33m,\u001b[0m \u001b[0mname\u001b[0m\u001b[1;33m,\u001b[0m \u001b[0mnot_implemented\u001b[0m\u001b[1;33m)\u001b[0m\u001b[1;33m(\u001b[0m\u001b[0minputs\u001b[0m\u001b[1;33m[\u001b[0m\u001b[1;36m0\u001b[0m\u001b[1;33m]\u001b[0m\u001b[1;33m)\u001b[0m\u001b[1;33m\u001b[0m\u001b[1;33m\u001b[0m\u001b[0m\n\u001b[0m\u001b[0;32m   1744\u001b[0m     \u001b[1;32melse\u001b[0m\u001b[1;33m:\u001b[0m\u001b[1;33m\u001b[0m\u001b[1;33m\u001b[0m\u001b[0m\n\u001b[0;32m   1745\u001b[0m         \u001b[1;32mreturn\u001b[0m \u001b[0mNotImplemented\u001b[0m\u001b[1;33m\u001b[0m\u001b[1;33m\u001b[0m\u001b[0m\n",
      "\u001b[1;32mC:\\ProgramData\\Anaconda3\\lib\\site-packages\\pandas\\core\\ops\\__init__.py\u001b[0m in \u001b[0;36mwrapper\u001b[1;34m(left, right)\u001b[0m\n\u001b[0;32m   1048\u001b[0m             \u001b[0mresult\u001b[0m \u001b[1;33m=\u001b[0m \u001b[0mna_op\u001b[0m\u001b[1;33m(\u001b[0m\u001b[0mlvalues\u001b[0m\u001b[1;33m,\u001b[0m \u001b[0mrvalues\u001b[0m\u001b[1;33m)\u001b[0m\u001b[1;33m\u001b[0m\u001b[1;33m\u001b[0m\u001b[0m\n\u001b[0;32m   1049\u001b[0m         return construct_result(\n\u001b[1;32m-> 1050\u001b[1;33m             \u001b[0mleft\u001b[0m\u001b[1;33m,\u001b[0m \u001b[0mresult\u001b[0m\u001b[1;33m,\u001b[0m \u001b[0mindex\u001b[0m\u001b[1;33m=\u001b[0m\u001b[0mleft\u001b[0m\u001b[1;33m.\u001b[0m\u001b[0mindex\u001b[0m\u001b[1;33m,\u001b[0m \u001b[0mname\u001b[0m\u001b[1;33m=\u001b[0m\u001b[0mres_name\u001b[0m\u001b[1;33m,\u001b[0m \u001b[0mdtype\u001b[0m\u001b[1;33m=\u001b[0m\u001b[1;32mNone\u001b[0m\u001b[1;33m\u001b[0m\u001b[1;33m\u001b[0m\u001b[0m\n\u001b[0m\u001b[0;32m   1051\u001b[0m         )\n\u001b[0;32m   1052\u001b[0m \u001b[1;33m\u001b[0m\u001b[0m\n",
      "\u001b[1;32mC:\\ProgramData\\Anaconda3\\lib\\site-packages\\pandas\\core\\ops\\__init__.py\u001b[0m in \u001b[0;36m_construct_result\u001b[1;34m(left, result, index, name, dtype)\u001b[0m\n\u001b[0;32m    917\u001b[0m     \u001b[1;32mnot\u001b[0m \u001b[0mbe\u001b[0m \u001b[0menough\u001b[0m\u001b[1;33m;\u001b[0m \u001b[0mwe\u001b[0m \u001b[0mstill\u001b[0m \u001b[0mneed\u001b[0m \u001b[0mto\u001b[0m \u001b[0moverride\u001b[0m \u001b[0mthe\u001b[0m \u001b[0mname\u001b[0m \u001b[0mattribute\u001b[0m\u001b[1;33m.\u001b[0m\u001b[1;33m\u001b[0m\u001b[1;33m\u001b[0m\u001b[0m\n\u001b[0;32m    918\u001b[0m     \"\"\"\n\u001b[1;32m--> 919\u001b[1;33m     \u001b[0mout\u001b[0m \u001b[1;33m=\u001b[0m \u001b[0mleft\u001b[0m\u001b[1;33m.\u001b[0m\u001b[0m_constructor\u001b[0m\u001b[1;33m(\u001b[0m\u001b[0mresult\u001b[0m\u001b[1;33m,\u001b[0m \u001b[0mindex\u001b[0m\u001b[1;33m=\u001b[0m\u001b[0mindex\u001b[0m\u001b[1;33m,\u001b[0m \u001b[0mdtype\u001b[0m\u001b[1;33m=\u001b[0m\u001b[0mdtype\u001b[0m\u001b[1;33m)\u001b[0m\u001b[1;33m\u001b[0m\u001b[1;33m\u001b[0m\u001b[0m\n\u001b[0m\u001b[0;32m    920\u001b[0m     \u001b[0mout\u001b[0m \u001b[1;33m=\u001b[0m \u001b[0mout\u001b[0m\u001b[1;33m.\u001b[0m\u001b[0m__finalize__\u001b[0m\u001b[1;33m(\u001b[0m\u001b[0mleft\u001b[0m\u001b[1;33m)\u001b[0m\u001b[1;33m\u001b[0m\u001b[1;33m\u001b[0m\u001b[0m\n\u001b[0;32m    921\u001b[0m     \u001b[0mout\u001b[0m\u001b[1;33m.\u001b[0m\u001b[0mname\u001b[0m \u001b[1;33m=\u001b[0m \u001b[0mname\u001b[0m\u001b[1;33m\u001b[0m\u001b[1;33m\u001b[0m\u001b[0m\n",
      "\u001b[1;32mC:\\ProgramData\\Anaconda3\\lib\\site-packages\\pandas\\core\\series.py\u001b[0m in \u001b[0;36m__init__\u001b[1;34m(self, data, index, dtype, name, copy, fastpath)\u001b[0m\n\u001b[0;32m    297\u001b[0m                         raise ValueError(\n\u001b[0;32m    298\u001b[0m                             \u001b[1;34m\"Length of passed values is {val}, \"\u001b[0m\u001b[1;33m\u001b[0m\u001b[1;33m\u001b[0m\u001b[0m\n\u001b[1;32m--> 299\u001b[1;33m                             \u001b[1;34m\"index implies {ind}\"\u001b[0m\u001b[1;33m.\u001b[0m\u001b[0mformat\u001b[0m\u001b[1;33m(\u001b[0m\u001b[0mval\u001b[0m\u001b[1;33m=\u001b[0m\u001b[0mlen\u001b[0m\u001b[1;33m(\u001b[0m\u001b[0mdata\u001b[0m\u001b[1;33m)\u001b[0m\u001b[1;33m,\u001b[0m \u001b[0mind\u001b[0m\u001b[1;33m=\u001b[0m\u001b[0mlen\u001b[0m\u001b[1;33m(\u001b[0m\u001b[0mindex\u001b[0m\u001b[1;33m)\u001b[0m\u001b[1;33m)\u001b[0m\u001b[1;33m\u001b[0m\u001b[1;33m\u001b[0m\u001b[0m\n\u001b[0m\u001b[0;32m    300\u001b[0m                         )\n\u001b[0;32m    301\u001b[0m                 \u001b[1;32mexcept\u001b[0m \u001b[0mTypeError\u001b[0m\u001b[1;33m:\u001b[0m\u001b[1;33m\u001b[0m\u001b[1;33m\u001b[0m\u001b[0m\n",
      "\u001b[1;31mValueError\u001b[0m: Length of passed values is 3, index implies 2"
     ]
    }
   ],
   "source": [
    "most_difference = []\n",
    "for gene in list(combined_df.T.index):\n",
    "    average_dist = []\n",
    "    for b in bap1_groups[1]:\n",
    "        #print(abs(combined_df_var.loc[gene,bap1_groups[0]].values - combined_df_var.loc[gene,b]))\n",
    "        average_dist.extend(abs(combined_df.loc[bap1_groups[0],gene].values - combined_df.loc[b,gene]))\n",
    "    most_difference.append((gene, sum(average_dist)/len(average_dist)))\n",
    "most_difference = sorted(most_difference, key= lambda g: g[1], reverse=True)"
   ]
  },
  {
   "cell_type": "code",
   "execution_count": null,
   "metadata": {},
   "outputs": [],
   "source": [
    "most_difference[1:20]"
   ]
  },
  {
   "cell_type": "markdown",
   "metadata": {},
   "source": [
    "Interesting genes are FTH1 which is along the innate immune system ans also has significant differences in BAP1 groups in my other analysis with high correlation with mortality rate.\n",
    "\n",
    "SQSTM1-\n",
    "\n",
    "Autophagy receptor required for selective macroautophagy (aggrephagy). Functions as a bridge between polyubiquitinated cargo and autophagosomes. Interacts directly with both the cargo to become degraded and an autophagy modifier of the MAP1 LC3 family (PubMed:16286508, PubMed:20168092, PubMed:24128730, PubMed:28404643, PubMed:22622177). Along with WDFY3, involved in the formation and autophagic degradation of cytoplasmic ubiquitin-containing inclusions (p62 bodies, ALIS/aggresome-like induced structures). Along with WDFY3, required to recruit ubiquitinated proteins to PML bodies in the nucleus (PubMed:24128730, PubMed:20168092). May regulate the activation of NFKB1 by TNF-alpha, nerve growth factor (NGF) and interleukin-1. May play a role in titin/TTN downstream signaling in muscle cells. May regulate signaling cascades through ubiquitination. Adapter that mediates the interaction between TRAF6 and CYLD (By similarity). May be involved in cell differentiation, apoptosis, immune response and regulation of K(+) channels. Involved in endosome organization by retaining vesicles in the perinuclear cloud: following ubiquitination by RNF26, attracts specific vesicle-associated adapters, forming a molecular bridge that restrains cognate vesicles in the perinuclear region and organizes the endosomal pathway for efficient cargo transport (PubMed:27368102). Promotes relocalization of 'Lys-63'-linked ubiquitinated TMEM173/STING to autophagosomes (PubMed:29496741). Acts as an activator of the NFE2L2/NRF2 pathway via interaction with KEAP1: interaction inactivates the BCR(KEAP1) complex, promoting nuclear accumulation of NFE2L2/NRF2 and subsequent expression of cytoprotective genes (PubMed:20452972, PubMed:28380357).\n",
    "Mentions immune\n",
    "\n",
    "FTH1-\n",
    "\n",
    "FTH1 (Ferritin Heavy Chain 1) is a Protein Coding gene. Diseases associated with FTH1 include Hemochromatosis, Type 5 and Superficial Siderosis Of The Central Nervous System. Among its related pathways are Innate Immune System and Clathrin derived vesicle budding. Gene Ontology (GO) annotations related to this gene include iron ion binding and ferroxidase activity. An important paralog of this gene is FTMT.\n",
    "Mentions Immune\n",
    "\n",
    "FLNA-\n",
    "\n",
    "Plays an important role in the organization of the cytoskeleton (By similarity). Binds to and sequesters actin monomers (G actin) and therefore inhibits actin polymerization. TYB4_HUMAN,P62328\n",
    "Seraspenide inhibits the entry of hematopoietic pluripotent stem cells into the S-phase. TYB4_HUMAN,P62328\n",
    "Mentioned stem cells\n",
    "\n",
    "SERPINE1- \n",
    "\n",
    "Serine protease inhibitor. Inhibits TMPRSS7 (PubMed:15853774). Is a primary inhibitor of tissue-type plasminogen activator (PLAT) and urokinase-type plasminogen activator (PLAU). As PLAT inhibitor, it is required for fibrinolysis down-regulation and is responsible for the controlled degradation of blood clots (PubMed:8481516, PubMed:9207454, PubMed:17912461). As PLAU inhibitor, it is involved in the regulation of cell adhesion and spreading (PubMed:9175705). Acts as a regulator of cell migration, independently of its role as protease inhibitor (PubMed:15001579, PubMed:9168821). It is required for stimulation of keratinocyte migration during cutaneous injury repair (PubMed:18386027). It is involved in cellular and replicative senescence (PubMed:16862142). Plays a role in alveolar type 2 cells senescence in the lung (By similarity). Is involved in the regulation of cementogenic differentiation of periodontal ligament stem cells, and regulates odontoblast differentiation and dentin formation during odontogenesis (PubMed:25808697, PubMed:27046084)\n",
    "Talks about stem cells\n",
    "\n",
    "B2M-\n",
    "\n",
    "Component of the class I major histocompatibility complex (MHC). Involved in the presentation of peptide antigens to the immune system. Exogenously applied M.tuberculosis EsxA or EsxA-EsxB (or EsxA expressed in host) binds B2M and decreases its export to the cell surface (total protein levels do not change), probably leading to defects in class I antigen presentation (PubMed:25356553). B2MG_HUMAN,P61769\n",
    "Talks About Immune system\n",
    "\n",
    "PKM-\n",
    "\n",
    "Glycolytic enzyme that catalyzes the transfer of a phosphoryl group from phosphoenolpyruvate (PEP) to ADP, generating ATP. Stimulates POU5F1-mediated transcriptional activation. Plays a general role in caspase independent cell death of tumor cells. The ratio between the highly active tetrameric form and nearly inactive dimeric form determines whether glucose carbons are channeled to biosynthetic processes or used for glycolytic ATP production. The transition between the 2 forms contributes to the control of glycolysis and is important for tumor cell proliferation and survival (PubMed:17308100, PubMed:18191611, PubMed:21620138). Promotes in a STAT1-dependent manner, the expression of the immune checkpoint protein CD274 in ARNTL/BMAL1-deficient macrophages (By similarity). KPYM_HUMAN,P14618\n",
    "\n",
    "ANXA2-\n",
    "\n",
    "ANXA2 (Annexin A2) is a Protein Coding gene. Diseases associated with ANXA2 include Antiphospholipid Syndrome and Acute Promyelocytic Leukemia. Among its related pathways are Innate Immune System and Cardiac conduction. Gene Ontology (GO) annotations related to this gene include Rab GTPase binding. An important paralog of this gene is ANXA1.\n",
    "Mentioned Immune System"
   ]
  },
  {
   "cell_type": "code",
   "execution_count": null,
   "metadata": {},
   "outputs": [],
   "source": []
  }
 ],
 "metadata": {
  "kernelspec": {
   "display_name": "Python 3",
   "language": "python",
   "name": "python3"
  },
  "language_info": {
   "codemirror_mode": {
    "name": "ipython",
    "version": 3
   },
   "file_extension": ".py",
   "mimetype": "text/x-python",
   "name": "python",
   "nbconvert_exporter": "python",
   "pygments_lexer": "ipython3",
   "version": "3.7.4"
  }
 },
 "nbformat": 4,
 "nbformat_minor": 2
}
