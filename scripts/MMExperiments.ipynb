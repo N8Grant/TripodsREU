{
 "cells": [
  {
   "cell_type": "markdown",
   "metadata": {},
   "source": [
    "## Use expression data to see which expression levels ceratin patients have in common\n",
    "First, start by making a GMM out of all of the data and produce GMM labels based on which class they belong to. Then use these labels and the original training points to make a decision tree which tries to predict which class each one belongs to. Then create a vizualization for the tree and also a bar/hist for the frequency of each class. Depending on the highest entropy decisions, I will create distributions for each of their components."
   ]
  },
  {
   "cell_type": "markdown",
   "metadata": {},
   "source": [
    "### Imports"
   ]
  },
  {
   "cell_type": "code",
   "execution_count": 1,
   "metadata": {},
   "outputs": [
    {
     "name": "stderr",
     "output_type": "stream",
     "text": [
      "C:\\ProgramData\\Anaconda3\\lib\\site-packages\\sklearn\\externals\\six.py:31: DeprecationWarning: The module is deprecated in version 0.21 and will be removed in version 0.23 since we've dropped support for Python 2.7. Please rely on the official version of six (https://pypi.org/project/six/).\n",
      "  \"(https://pypi.org/project/six/).\", DeprecationWarning)\n"
     ]
    }
   ],
   "source": [
    "import pandas as pd\n",
    "import numpy as np\n",
    "import matplotlib.pyplot as plt\n",
    "from sklearn.decomposition import PCA\n",
    "from sklearn.mixture import BayesianGaussianMixture\n",
    "from sklearn.mixture import GaussianMixture\n",
    "from sklearn.decomposition import TruncatedSVD\n",
    "from sklearn.model_selection import train_test_split\n",
    "from sklearn.tree._tree import TREE_LEAF\n",
    "from sklearn.externals.six import StringIO\n",
    "from IPython.display import Image\n",
    "from sklearn.tree import export_graphviz\n",
    "import pydotplus\n",
    "import seaborn as sns\n",
    "from scipy import stats\n",
    "from sklearn.tree import _tree\n",
    "from itertools import combinations\n",
    "from sklearn.neighbors import KernelDensity\n",
    "import TumorDecon as td"
   ]
  },
  {
   "cell_type": "markdown",
   "metadata": {},
   "source": [
    "### Format Data"
   ]
  },
  {
   "cell_type": "code",
   "execution_count": 2,
   "metadata": {},
   "outputs": [],
   "source": [
    "df = pd.read_excel('C:/Users/NathanGrant/Programs/TripodsREU/data/uvm_tcga_pan_can_atlas_2018/data_RNA_Seq_v2_expression_median_excel.xlsx',index_col=\"Hugo_Symbol\")\n",
    "df= df.T\n",
    "gene_expression = df.values"
   ]
  },
  {
   "cell_type": "markdown",
   "metadata": {},
   "source": [
    "### BGMM fitting and label generating"
   ]
  },
  {
   "cell_type": "code",
   "execution_count": 3,
   "metadata": {},
   "outputs": [
    {
     "name": "stdout",
     "output_type": "stream",
     "text": [
      "[1 1 0 0 1 1 0 0 0 1 1 1 1 1 0 1 1 0 1 0 1 0 1 1 0 1 0 0 1 1 0 1 1 1 1 0 1\n",
      " 1 1 0 0 1 0 1 0 1 1 1 0 0 1 1 1 0 0 1 1 0 1 0 1 1 0 1 1 0 0 0 1 0 0 1 0 1\n",
      " 1 1 0 0 0 0]\n"
     ]
    }
   ],
   "source": [
    "bgm = BayesianGaussianMixture(n_components=2,covariance_type='diag')\n",
    "bgm_classes = bgm.fit_predict(gene_expression)\n",
    "print(bgm_classes)\n"
   ]
  },
  {
   "cell_type": "markdown",
   "metadata": {},
   "source": [
    "### Split into test and train data for Decision Tree"
   ]
  },
  {
   "cell_type": "code",
   "execution_count": 4,
   "metadata": {},
   "outputs": [],
   "source": [
    "\n",
    "# Randomly take 20% of data points for testing the decision tree thats created\n",
    "X_train, X_test, y_train, y_test = train_test_split(gene_expression, bgm_classes, test_size=0.05, random_state=42)"
   ]
  },
  {
   "cell_type": "markdown",
   "metadata": {},
   "source": [
    "### Train Decision Tree on train test data"
   ]
  },
  {
   "cell_type": "code",
   "execution_count": 5,
   "metadata": {},
   "outputs": [
    {
     "data": {
      "text/plain": [
       "1.0"
      ]
     },
     "execution_count": 5,
     "metadata": {},
     "output_type": "execute_result"
    }
   ],
   "source": [
    "from sklearn.tree import DecisionTreeClassifier\n",
    "max_depth = 4\n",
    "tree = DecisionTreeClassifier(random_state=1, max_depth=max_depth)\n",
    "tree.fit(X_train, y_train)\n",
    "tree.score(X_test,y_test)"
   ]
  },
  {
   "cell_type": "markdown",
   "metadata": {},
   "source": [
    "### Vizualize which genes branches were split on"
   ]
  },
  {
   "cell_type": "code",
   "execution_count": 6,
   "metadata": {},
   "outputs": [
    {
     "data": {
      "text/plain": [
       "DecisionTreeClassifier(class_weight=None, criterion='gini', max_depth=7,\n",
       "                       max_features=None, max_leaf_nodes=None,\n",
       "                       min_impurity_decrease=0.0, min_impurity_split=None,\n",
       "                       min_samples_leaf=1, min_samples_split=2,\n",
       "                       min_weight_fraction_leaf=0.0, presort=False,\n",
       "                       random_state=1, splitter='best')"
      ]
     },
     "execution_count": 6,
     "metadata": {},
     "output_type": "execute_result"
    }
   ],
   "source": [
    "bgm = BayesianGaussianMixture(n_components=2,covariance_type='diag', n_init=3, random_state=1)\n",
    "bgm_classes = bgm.fit_predict(gene_expression)\n",
    "\n",
    "X_train, X_test, y_train, y_test = train_test_split(gene_expression, bgm_classes, test_size=0.2)\n",
    "tree = DecisionTreeClassifier(random_state=1, max_depth=7)\n",
    "tree.fit(X_train, y_train)"
   ]
  },
  {
   "cell_type": "code",
   "execution_count": 7,
   "metadata": {},
   "outputs": [],
   "source": [
    "def tree_to_code(tree, feature_names):\n",
    "    tree_ = tree.tree_\n",
    "    feature_name = [\n",
    "        feature_names[i] if i != _tree.TREE_UNDEFINED else \"undefined!\"\n",
    "        for i in tree_.feature\n",
    "    ]\n",
    "    #print (\"def tree({}):\".format(\", \".join(feature_names)))\n",
    "\n",
    "    def recurse(node, depth):\n",
    "        indent = \"  \" * depth\n",
    "        if tree_.feature[node] != _tree.TREE_UNDEFINED:\n",
    "            name = feature_name[node]\n",
    "            threshold = tree_.threshold[node]\n",
    "            print(\"{}if {} <= {}:\".format(indent, name, threshold))\n",
    "            recurse(tree_.children_left[node], depth + 1)\n",
    "            print(\"{}else:  # if {} > {}\".format(indent, name, threshold))\n",
    "            recurse(tree_.children_right[node], depth + 1)\n",
    "        else:\n",
    "            print(\"{}return {}\".format(indent, tree_.value[node]))\n",
    "\n",
    "    recurse(0, 1)\n",
    "\n",
    "def plot_dist_and_test(num_classes, gene_name,bgm_classes):\n",
    "    colors= [\"b\",\"r\",\"g\",\"y\"]\n",
    "    temp_express = df[gene_name].values\n",
    "    x = [[temp_express[i] for i in  range(len(temp_express)) if bgm_classes[i] == c] for c in range(num_classes)]\n",
    "    [sns.kdeplot(x[i], shade=True, color=colors[i]) for i in range(num_classes)]\n",
    "    print(gene_name)\n",
    "    for c in combinations(range(len(x)),2):\n",
    "        print(\"t-test between \",c[0],\"and \",c[1],\": \", stats.ttest_ind(x[c[0]],x[c[1]],equal_var=False))\n",
    "    "
   ]
  },
  {
   "cell_type": "code",
   "execution_count": 8,
   "metadata": {},
   "outputs": [
    {
     "name": "stdout",
     "output_type": "stream",
     "text": [
      "  if ZNF628 <= 485.09400939941406:\n",
      "    return [[45.  0.]]\n",
      "  else:  # if ZNF628 > 485.09400939941406\n",
      "    return [[ 0. 19.]]\n"
     ]
    }
   ],
   "source": [
    "tree_to_code(tree, [str(a) for a in df.columns])"
   ]
  },
  {
   "cell_type": "code",
   "execution_count": 9,
   "metadata": {},
   "outputs": [
    {
     "data": {
      "text/plain": [
       "'ZNF628'"
      ]
     },
     "execution_count": 9,
     "metadata": {},
     "output_type": "execute_result"
    }
   ],
   "source": [
    "df.columns[tree.tree_.feature[0]]"
   ]
  },
  {
   "cell_type": "markdown",
   "metadata": {},
   "source": [
    "### Create distributions for ZNF628 gene\n",
    "From NCBI: Zinc finger proteins (ZNFs), which bind nucleic acids, perform many key functions, the most important of which is regulating transcription"
   ]
  },
  {
   "cell_type": "code",
   "execution_count": 10,
   "metadata": {},
   "outputs": [
    {
     "ename": "TypeError",
     "evalue": "plot_dist_and_test() missing 1 required positional argument: 'bgm_classes'",
     "output_type": "error",
     "traceback": [
      "\u001b[1;31m---------------------------------------------------------------------------\u001b[0m",
      "\u001b[1;31mTypeError\u001b[0m                                 Traceback (most recent call last)",
      "\u001b[1;32m<ipython-input-10-0f74af03d2a8>\u001b[0m in \u001b[0;36m<module>\u001b[1;34m\u001b[0m\n\u001b[1;32m----> 1\u001b[1;33m \u001b[0mplot_dist_and_test\u001b[0m\u001b[1;33m(\u001b[0m\u001b[1;36m2\u001b[0m\u001b[1;33m,\u001b[0m \u001b[1;34m'ZNF628'\u001b[0m\u001b[1;33m)\u001b[0m\u001b[1;33m\u001b[0m\u001b[1;33m\u001b[0m\u001b[0m\n\u001b[0m",
      "\u001b[1;31mTypeError\u001b[0m: plot_dist_and_test() missing 1 required positional argument: 'bgm_classes'"
     ]
    }
   ],
   "source": [
    "plot_dist_and_test(2, 'ZNF628')"
   ]
  },
  {
   "cell_type": "markdown",
   "metadata": {},
   "source": [
    "Use the gmm to get the probabilioty that they belong to each oof the distributions that they are assigned to. Then take this data and make a weighted decision tree where each of the data points is weighted based off of the certanty that its a part of the class."
   ]
  },
  {
   "cell_type": "markdown",
   "metadata": {},
   "source": [
    "### Use PCA and same techniques as above to try to determine gene expression differences between groups"
   ]
  },
  {
   "cell_type": "code",
   "execution_count": 11,
   "metadata": {},
   "outputs": [
    {
     "data": {
      "text/plain": [
       "DecisionTreeClassifier(class_weight=None, criterion='gini', max_depth=7,\n",
       "                       max_features=None, max_leaf_nodes=None,\n",
       "                       min_impurity_decrease=0.0, min_impurity_split=None,\n",
       "                       min_samples_leaf=1, min_samples_split=2,\n",
       "                       min_weight_fraction_leaf=0.0, presort=False,\n",
       "                       random_state=1, splitter='best')"
      ]
     },
     "execution_count": 11,
     "metadata": {},
     "output_type": "execute_result"
    }
   ],
   "source": [
    "pca_comp=3\n",
    "pca = PCA(n_components=pca_comp)\n",
    "pca_express = pca.fit_transform(gene_expression)\n",
    "bgm = BayesianGaussianMixture(n_components=3, n_init=3, random_state=1)\n",
    "bgm_classes = bgm.fit_predict(pca_express)\n",
    "\n",
    "X_train, X_test, y_train, y_test = train_test_split(gene_expression, bgm_classes, test_size=0.2, random_state=1)\n",
    "tree = DecisionTreeClassifier(random_state=1, max_depth=7)\n",
    "tree.fit(X_train, y_train)"
   ]
  },
  {
   "cell_type": "code",
   "execution_count": 12,
   "metadata": {},
   "outputs": [
    {
     "name": "stdout",
     "output_type": "stream",
     "text": [
      "  if CHMP6 <= 1392.8200073242188:\n",
      "    if RPL23 <= 24820.349609375:\n",
      "      return [[17.  0.  0.]]\n",
      "    else:  # if RPL23 > 24820.349609375\n",
      "      if LEPR <= 39.691500663757324:\n",
      "        return [[ 0. 27.  0.]]\n",
      "      else:  # if LEPR > 39.691500663757324\n",
      "        if SOX5 <= 76.36389923095703:\n",
      "          return [[0. 0. 1.]]\n",
      "        else:  # if SOX5 > 76.36389923095703\n",
      "          return [[1. 0. 0.]]\n",
      "  else:  # if CHMP6 > 1392.8200073242188\n",
      "    return [[ 0.  0. 18.]]\n"
     ]
    }
   ],
   "source": [
    "tree_to_code(tree, [str(a) for a in df.columns])"
   ]
  },
  {
   "cell_type": "markdown",
   "metadata": {},
   "source": [
    "### 2D Slice of PCA transform"
   ]
  },
  {
   "cell_type": "code",
   "execution_count": 13,
   "metadata": {},
   "outputs": [
    {
     "data": {
      "text/plain": [
       "<matplotlib.axes._subplots.AxesSubplot at 0x218931e8848>"
      ]
     },
     "execution_count": 13,
     "metadata": {},
     "output_type": "execute_result"
    },
    {
     "data": {
      "image/png": "[encoded data removed]",
      "text/plain": [
       "<Figure size 432x288 with 1 Axes>"
      ]
     },
     "metadata": {
      "needs_background": "light"
     },
     "output_type": "display_data"
    }
   ],
   "source": [
    "sns.scatterplot(pca_express[:,0],pca_express[:,1],hue=bgm_classes)"
   ]
  },
  {
   "cell_type": "code",
   "execution_count": 14,
   "metadata": {},
   "outputs": [
    {
     "data": {
      "text/plain": [
       "array([8.74654755e+10, 4.06513658e+10, 1.68456330e+10])"
      ]
     },
     "execution_count": 14,
     "metadata": {},
     "output_type": "execute_result"
    }
   ],
   "source": [
    "pca.explained_variance_"
   ]
  },
  {
   "cell_type": "markdown",
   "metadata": {},
   "source": [
    "### High Entropy Genes"
   ]
  },
  {
   "cell_type": "code",
   "execution_count": 15,
   "metadata": {},
   "outputs": [
    {
     "ename": "TypeError",
     "evalue": "plot_dist_and_test() missing 1 required positional argument: 'bgm_classes'",
     "output_type": "error",
     "traceback": [
      "\u001b[1;31m---------------------------------------------------------------------------\u001b[0m",
      "\u001b[1;31mTypeError\u001b[0m                                 Traceback (most recent call last)",
      "\u001b[1;32m<ipython-input-15-380760117f61>\u001b[0m in \u001b[0;36m<module>\u001b[1;34m\u001b[0m\n\u001b[1;32m----> 1\u001b[1;33m \u001b[0mplot_dist_and_test\u001b[0m\u001b[1;33m(\u001b[0m\u001b[1;36m3\u001b[0m\u001b[1;33m,\u001b[0m \u001b[1;34m'ATP5G2'\u001b[0m\u001b[1;33m)\u001b[0m\u001b[1;33m\u001b[0m\u001b[1;33m\u001b[0m\u001b[0m\n\u001b[0m",
      "\u001b[1;31mTypeError\u001b[0m: plot_dist_and_test() missing 1 required positional argument: 'bgm_classes'"
     ]
    }
   ],
   "source": [
    "plot_dist_and_test(3, 'ATP5G2')"
   ]
  },
  {
   "cell_type": "markdown",
   "metadata": {},
   "source": [
    "This gene encodes a subunit of mitochondrial ATP synthase. Mitochondrial ATP synthase catalyzes ATP synthesis, utilizing an electrochemical gradient of protons across the inner membrane during oxidative phosphorylation. ATP synthase is composed of two linked multi-subunit complexes: the soluble catalytic core, F1, and the membrane-spanning component, Fo, comprising the proton channel. The catalytic portion of mitochondrial ATP synthase consists of 5 different subunits (alpha, beta, gamma, delta, and epsilon) assembled with a stoichiometry of 3 alpha, 3 beta, and single representatives of the gamma, delta, and epsilon subunits. The proton channel likely has nine subunits (a, b, c, d, e, f, g, F6 and 8). There are three separate genes which encode subunit c of the proton channel and they specify precursors with different import sequences but identical mature proteins. The protein encoded by this gene is one of three precursors of subunit c.[provided by RefSeq, Jan 2018]\n",
    "\n",
    "\n",
    "\n",
    "Not sure what this would have to do with UVM."
   ]
  },
  {
   "cell_type": "code",
   "execution_count": 16,
   "metadata": {},
   "outputs": [
    {
     "ename": "TypeError",
     "evalue": "plot_dist_and_test() missing 1 required positional argument: 'bgm_classes'",
     "output_type": "error",
     "traceback": [
      "\u001b[1;31m---------------------------------------------------------------------------\u001b[0m",
      "\u001b[1;31mTypeError\u001b[0m                                 Traceback (most recent call last)",
      "\u001b[1;32m<ipython-input-16-647fe1d08f18>\u001b[0m in \u001b[0;36m<module>\u001b[1;34m\u001b[0m\n\u001b[1;32m----> 1\u001b[1;33m \u001b[0mplot_dist_and_test\u001b[0m\u001b[1;33m(\u001b[0m\u001b[1;36m3\u001b[0m\u001b[1;33m,\u001b[0m \u001b[1;34m'CHMP6'\u001b[0m\u001b[1;33m)\u001b[0m\u001b[1;33m\u001b[0m\u001b[1;33m\u001b[0m\u001b[0m\n\u001b[0m",
      "\u001b[1;31mTypeError\u001b[0m: plot_dist_and_test() missing 1 required positional argument: 'bgm_classes'"
     ]
    }
   ],
   "source": [
    "plot_dist_and_test(3, 'CHMP6')"
   ]
  },
  {
   "cell_type": "markdown",
   "metadata": {},
   "source": [
    "This gene encodes a member of the chromatin-modifying protein/charged multivesicular body protein family. Proteins in this family are part of the ESCRT-III (endosomal sorting complex required for transport III) which degrades surface receptors, and in biosynthesis of endosomes.[provided by RefSeq, Mar 2012]\n",
    "\n",
    "Not sure what this would have to do with UVM"
   ]
  },
  {
   "cell_type": "code",
   "execution_count": 17,
   "metadata": {},
   "outputs": [
    {
     "ename": "TypeError",
     "evalue": "plot_dist_and_test() missing 1 required positional argument: 'bgm_classes'",
     "output_type": "error",
     "traceback": [
      "\u001b[1;31m---------------------------------------------------------------------------\u001b[0m",
      "\u001b[1;31mTypeError\u001b[0m                                 Traceback (most recent call last)",
      "\u001b[1;32m<ipython-input-17-6b122838ecfb>\u001b[0m in \u001b[0;36m<module>\u001b[1;34m\u001b[0m\n\u001b[1;32m----> 1\u001b[1;33m \u001b[0mplot_dist_and_test\u001b[0m\u001b[1;33m(\u001b[0m\u001b[1;36m3\u001b[0m\u001b[1;33m,\u001b[0m \u001b[1;34m'RPL23'\u001b[0m\u001b[1;33m)\u001b[0m\u001b[1;33m\u001b[0m\u001b[1;33m\u001b[0m\u001b[0m\n\u001b[0m",
      "\u001b[1;31mTypeError\u001b[0m: plot_dist_and_test() missing 1 required positional argument: 'bgm_classes'"
     ]
    }
   ],
   "source": [
    "plot_dist_and_test(3, 'RPL23')"
   ]
  },
  {
   "cell_type": "markdown",
   "metadata": {},
   "source": [
    "Ribosomes, the organelles that catalyze protein synthesis, consist of a small 40S subunit and a large 60S subunit. Together these subunits are composed of 4 RNA species and approximately 80 structurally distinct proteins. This gene encodes a ribosomal protein that is a component of the 60S subunit. The protein belongs to the L14P family of ribosomal proteins. It is located in the cytoplasm. This gene has been referred to as rpL17 because the encoded protein shares amino acid identity with ribosomal protein L17 from Saccharomyces cerevisiae; however, its official symbol is RPL23. As is typical for genes encoding ribosomal proteins, there are multiple processed pseudogenes of this gene dispersed through the genome. [provided by RefSeq, Jul 2008]\n",
    "\n",
    "Not sure what this would have to do with UVM"
   ]
  },
  {
   "cell_type": "code",
   "execution_count": 18,
   "metadata": {},
   "outputs": [
    {
     "ename": "TypeError",
     "evalue": "plot_dist_and_test() missing 1 required positional argument: 'bgm_classes'",
     "output_type": "error",
     "traceback": [
      "\u001b[1;31m---------------------------------------------------------------------------\u001b[0m",
      "\u001b[1;31mTypeError\u001b[0m                                 Traceback (most recent call last)",
      "\u001b[1;32m<ipython-input-18-f2841898a0d3>\u001b[0m in \u001b[0;36m<module>\u001b[1;34m\u001b[0m\n\u001b[1;32m----> 1\u001b[1;33m \u001b[0mplot_dist_and_test\u001b[0m\u001b[1;33m(\u001b[0m\u001b[1;36m3\u001b[0m\u001b[1;33m,\u001b[0m \u001b[1;34m'ZNF628'\u001b[0m\u001b[1;33m)\u001b[0m\u001b[1;33m\u001b[0m\u001b[1;33m\u001b[0m\u001b[0m\n\u001b[0m",
      "\u001b[1;31mTypeError\u001b[0m: plot_dist_and_test() missing 1 required positional argument: 'bgm_classes'"
     ]
    }
   ],
   "source": [
    "plot_dist_and_test(3, 'ZNF628')"
   ]
  },
  {
   "cell_type": "markdown",
   "metadata": {},
   "source": [
    "Zinc finger proteins (ZNFs), which bind nucleic acids, perform many key functions, the most important of which is regulating transcription. See ZNF91 (MIM 603971) for general information on ZNFs.[supplied by OMIM, Mar 2008]\n",
    "\n",
    "Not sure what this would have to do with UVM"
   ]
  },
  {
   "cell_type": "markdown",
   "metadata": {},
   "source": [
    "### Generate points from BGMM and use same techniques to see more smoothed out distributions"
   ]
  },
  {
   "cell_type": "code",
   "execution_count": 19,
   "metadata": {},
   "outputs": [
    {
     "name": "stdout",
     "output_type": "stream",
     "text": [
      "  if UBE2Q2P2 <= -185230.40625:\n",
      "    if RPL41P2 <= 204184.25:\n",
      "      return [[247.  12.   0.]]\n",
      "    else:  # if RPL41P2 > 204184.25\n",
      "      return [[0. 7. 0.]]\n",
      "  else:  # if UBE2Q2P2 > -185230.40625\n",
      "    if UBE2Q2P2 <= 175289.1640625:\n",
      "      return [[ 19. 424.  65.]]\n",
      "    else:  # if UBE2Q2P2 > 175289.1640625\n",
      "      return [[  0.  13. 213.]]\n"
     ]
    }
   ],
   "source": [
    "generated_samples, generated_labels = bgm.sample(1000)\n",
    "rev_gen_samples = pca.inverse_transform(generated_samples)\n",
    "gen_tree = DecisionTreeClassifier(max_depth=2, random_state=1)\n",
    "gen_tree.fit(generated_samples ,generated_labels)\n",
    "tree_to_code(gen_tree, [str(a) for a in df.columns])"
   ]
  },
  {
   "cell_type": "code",
   "execution_count": 20,
   "metadata": {},
   "outputs": [
    {
     "ename": "TypeError",
     "evalue": "plot_dist_and_test() missing 1 required positional argument: 'bgm_classes'",
     "output_type": "error",
     "traceback": [
      "\u001b[1;31m---------------------------------------------------------------------------\u001b[0m",
      "\u001b[1;31mTypeError\u001b[0m                                 Traceback (most recent call last)",
      "\u001b[1;32m<ipython-input-20-0eef45db372b>\u001b[0m in \u001b[0;36m<module>\u001b[1;34m\u001b[0m\n\u001b[1;32m----> 1\u001b[1;33m \u001b[0mplot_dist_and_test\u001b[0m\u001b[1;33m(\u001b[0m\u001b[1;36m3\u001b[0m\u001b[1;33m,\u001b[0m \u001b[1;34m'UBE2Q2P2'\u001b[0m\u001b[1;33m)\u001b[0m\u001b[1;33m\u001b[0m\u001b[1;33m\u001b[0m\u001b[0m\n\u001b[0m",
      "\u001b[1;31mTypeError\u001b[0m: plot_dist_and_test() missing 1 required positional argument: 'bgm_classes'"
     ]
    }
   ],
   "source": [
    "plot_dist_and_test(3, 'UBE2Q2P2')"
   ]
  },
  {
   "cell_type": "code",
   "execution_count": 21,
   "metadata": {},
   "outputs": [
    {
     "name": "stdout",
     "output_type": "stream",
     "text": [
      "0 UBE2Q2P2\n"
     ]
    }
   ],
   "source": [
    "for i in range(len(df.columns)):\n",
    "    if df.columns[i] == 'UBE2Q2P2':\n",
    "        print(i,df.columns[i])"
   ]
  },
  {
   "cell_type": "code",
   "execution_count": 22,
   "metadata": {},
   "outputs": [
    {
     "name": "stdout",
     "output_type": "stream",
     "text": [
      "t-test between  0 and  1 :  Ttest_indResult(statistic=-6.563109173135133, pvalue=1.0755717870465253e-10)\n",
      "t-test between  0 and  2 :  Ttest_indResult(statistic=13.803135496304805, pvalue=4.3369092850024086e-35)\n",
      "t-test between  1 and  2 :  Ttest_indResult(statistic=16.28635717844861, pvalue=2.7746517220551403e-49)\n"
     ]
    },
    {
     "data": {
      "image/png": "[encoded data removed]",
      "text/plain": [
       "<Figure size 432x288 with 1 Axes>"
      ]
     },
     "metadata": {
      "needs_background": "light"
     },
     "output_type": "display_data"
    }
   ],
   "source": [
    "colors= [\"b\",\"r\",\"g\",\"y\"]\n",
    "temp_express = rev_gen_samples[:,0]\n",
    "x = [[temp_express[i] for i in  range(len(temp_express)) if generated_labels[i] == c] for c in range(3)]\n",
    "[sns.kdeplot(x[i], shade=True, color=colors[i]) for i in range(3)]\n",
    "for c in combinations(range(len(x)),2):\n",
    "    print(\"t-test between \",c[0],\"and \",c[1],\": \", stats.ttest_ind(x[c[0]],x[c[1]],equal_var=False))\n"
   ]
  },
  {
   "cell_type": "markdown",
   "metadata": {},
   "source": [
    "Since the distributions for the same gene are pretty different I dont think it would be appropriate to try to use generated data. This most likley also holds for other genes as well becauset the process relies on a couple of key assumptions. One that the data is normally distributed, and two that there is no information loss when you inverse transform the data. The first most likley doestn hold ovar all of the genes present in the data. The second doesnt hold because the pca was only fitted based on the original genes given from the dataset. I think if I want an approach like this to be feasable, I'd have to make a mixture model over all of the genes which is computationally infeasable with my resources if I want to capture all of the covariances accurately. Instead maybe there is a technique using KDE where you can sample points from each distribution given the set of all other possible genes. So maybe, sample a bunch of points from each disttibution, and have a mechanism to determine whether the point is valid or not, then if it is keep it if not discard it."
   ]
  },
  {
   "cell_type": "markdown",
   "metadata": {},
   "source": [
    "### KDE Sampling Experiments"
   ]
  },
  {
   "cell_type": "code",
   "execution_count": 23,
   "metadata": {},
   "outputs": [],
   "source": [
    "for_kde = df.values\n",
    "kde_list = []\n",
    "for i in range(len(for_kde[0])):\n",
    "    single_gene_data = for_kde[:,i]\n",
    "    kde = KernelDensity()\n",
    "    kde.fit(single_gene_data.reshape(-1, 1))\n",
    "    kde_list.append(kde)"
   ]
  },
  {
   "cell_type": "code",
   "execution_count": 24,
   "metadata": {},
   "outputs": [
    {
     "name": "stderr",
     "output_type": "stream",
     "text": [
      "C:\\ProgramData\\Anaconda3\\lib\\site-packages\\sklearn\\ensemble\\iforest.py:237: FutureWarning: default contamination parameter 0.1 will change in version 0.22 to \"auto\". This will change the predict method behavior.\n",
      "  FutureWarning)\n",
      "C:\\ProgramData\\Anaconda3\\lib\\site-packages\\sklearn\\ensemble\\iforest.py:247: FutureWarning: behaviour=\"old\" is deprecated and will be removed in version 0.22. Please use behaviour=\"new\", which makes the decision_function change to match other anomaly detection algorithm API.\n",
      "  FutureWarning)\n"
     ]
    }
   ],
   "source": [
    "from sklearn.ensemble import IsolationForest\n",
    "iso =IsolationForest()\n",
    "iso.fit(df.values)\n",
    "\n",
    "def is_anomoly(s):\n",
    "    return True if iso.predict(s) == 1 else False\n",
    "    \n",
    "def generate_samples(samples=1):\n",
    "    sample_list = []\n",
    "    while len(sample_list) < samples:\n",
    "        sample = [k.sample()[0] for k in kde_list]\n",
    "        sample = np.asarray(sample).reshape(len(sample))\n",
    "        if not is_anomoly(sample):\n",
    "            sample_list.append(sample)\n",
    "            \n",
    "    return np.asarray(sample_list)"
   ]
  },
  {
   "cell_type": "code",
   "execution_count": 25,
   "metadata": {},
   "outputs": [
    {
     "ename": "ValueError",
     "evalue": "Expected 2D array, got 1D array instead:\narray=[-9.29137095e-01  1.05002153e+02  1.31785904e+03 ...  2.51973489e+03\n  1.84792000e+03  8.38550859e+02].\nReshape your data either using array.reshape(-1, 1) if your data has a single feature or array.reshape(1, -1) if it contains a single sample.",
     "output_type": "error",
     "traceback": [
      "\u001b[1;31m---------------------------------------------------------------------------\u001b[0m",
      "\u001b[1;31mValueError\u001b[0m                                Traceback (most recent call last)",
      "\u001b[1;32m<ipython-input-25-ebd57ffd6b8c>\u001b[0m in \u001b[0;36m<module>\u001b[1;34m\u001b[0m\n\u001b[1;32m----> 1\u001b[1;33m \u001b[0mgen_sample_2\u001b[0m \u001b[1;33m=\u001b[0m \u001b[0mgenerate_samples\u001b[0m\u001b[1;33m(\u001b[0m\u001b[1;36m3\u001b[0m\u001b[1;33m)\u001b[0m\u001b[1;33m\u001b[0m\u001b[1;33m\u001b[0m\u001b[0m\n\u001b[0m",
      "\u001b[1;32m<ipython-input-24-e8436d0b1492>\u001b[0m in \u001b[0;36mgenerate_samples\u001b[1;34m(samples)\u001b[0m\n\u001b[0;32m     11\u001b[0m         \u001b[0msample\u001b[0m \u001b[1;33m=\u001b[0m \u001b[1;33m[\u001b[0m\u001b[0mk\u001b[0m\u001b[1;33m.\u001b[0m\u001b[0msample\u001b[0m\u001b[1;33m(\u001b[0m\u001b[1;33m)\u001b[0m\u001b[1;33m[\u001b[0m\u001b[1;36m0\u001b[0m\u001b[1;33m]\u001b[0m \u001b[1;32mfor\u001b[0m \u001b[0mk\u001b[0m \u001b[1;32min\u001b[0m \u001b[0mkde_list\u001b[0m\u001b[1;33m]\u001b[0m\u001b[1;33m\u001b[0m\u001b[1;33m\u001b[0m\u001b[0m\n\u001b[0;32m     12\u001b[0m         \u001b[0msample\u001b[0m \u001b[1;33m=\u001b[0m \u001b[0mnp\u001b[0m\u001b[1;33m.\u001b[0m\u001b[0masarray\u001b[0m\u001b[1;33m(\u001b[0m\u001b[0msample\u001b[0m\u001b[1;33m)\u001b[0m\u001b[1;33m.\u001b[0m\u001b[0mreshape\u001b[0m\u001b[1;33m(\u001b[0m\u001b[0mlen\u001b[0m\u001b[1;33m(\u001b[0m\u001b[0msample\u001b[0m\u001b[1;33m)\u001b[0m\u001b[1;33m)\u001b[0m\u001b[1;33m\u001b[0m\u001b[1;33m\u001b[0m\u001b[0m\n\u001b[1;32m---> 13\u001b[1;33m         \u001b[1;32mif\u001b[0m \u001b[1;32mnot\u001b[0m \u001b[0mis_anomoly\u001b[0m\u001b[1;33m(\u001b[0m\u001b[0msample\u001b[0m\u001b[1;33m)\u001b[0m\u001b[1;33m:\u001b[0m\u001b[1;33m\u001b[0m\u001b[1;33m\u001b[0m\u001b[0m\n\u001b[0m\u001b[0;32m     14\u001b[0m             \u001b[0msample_list\u001b[0m\u001b[1;33m.\u001b[0m\u001b[0mappend\u001b[0m\u001b[1;33m(\u001b[0m\u001b[0msample\u001b[0m\u001b[1;33m)\u001b[0m\u001b[1;33m\u001b[0m\u001b[1;33m\u001b[0m\u001b[0m\n\u001b[0;32m     15\u001b[0m \u001b[1;33m\u001b[0m\u001b[0m\n",
      "\u001b[1;32m<ipython-input-24-e8436d0b1492>\u001b[0m in \u001b[0;36mis_anomoly\u001b[1;34m(s)\u001b[0m\n\u001b[0;32m      4\u001b[0m \u001b[1;33m\u001b[0m\u001b[0m\n\u001b[0;32m      5\u001b[0m \u001b[1;32mdef\u001b[0m \u001b[0mis_anomoly\u001b[0m\u001b[1;33m(\u001b[0m\u001b[0ms\u001b[0m\u001b[1;33m)\u001b[0m\u001b[1;33m:\u001b[0m\u001b[1;33m\u001b[0m\u001b[1;33m\u001b[0m\u001b[0m\n\u001b[1;32m----> 6\u001b[1;33m     \u001b[1;32mreturn\u001b[0m \u001b[1;32mTrue\u001b[0m \u001b[1;32mif\u001b[0m \u001b[0miso\u001b[0m\u001b[1;33m.\u001b[0m\u001b[0mpredict\u001b[0m\u001b[1;33m(\u001b[0m\u001b[0ms\u001b[0m\u001b[1;33m)\u001b[0m \u001b[1;33m==\u001b[0m \u001b[1;36m1\u001b[0m \u001b[1;32melse\u001b[0m \u001b[1;32mFalse\u001b[0m\u001b[1;33m\u001b[0m\u001b[1;33m\u001b[0m\u001b[0m\n\u001b[0m\u001b[0;32m      7\u001b[0m \u001b[1;33m\u001b[0m\u001b[0m\n\u001b[0;32m      8\u001b[0m \u001b[1;32mdef\u001b[0m \u001b[0mgenerate_samples\u001b[0m\u001b[1;33m(\u001b[0m\u001b[0msamples\u001b[0m\u001b[1;33m=\u001b[0m\u001b[1;36m1\u001b[0m\u001b[1;33m)\u001b[0m\u001b[1;33m:\u001b[0m\u001b[1;33m\u001b[0m\u001b[1;33m\u001b[0m\u001b[0m\n",
      "\u001b[1;32mC:\\ProgramData\\Anaconda3\\lib\\site-packages\\sklearn\\ensemble\\iforest.py\u001b[0m in \u001b[0;36mpredict\u001b[1;34m(self, X)\u001b[0m\n\u001b[0;32m    331\u001b[0m         \"\"\"\n\u001b[0;32m    332\u001b[0m         \u001b[0mcheck_is_fitted\u001b[0m\u001b[1;33m(\u001b[0m\u001b[0mself\u001b[0m\u001b[1;33m,\u001b[0m \u001b[1;33m[\u001b[0m\u001b[1;34m\"offset_\"\u001b[0m\u001b[1;33m]\u001b[0m\u001b[1;33m)\u001b[0m\u001b[1;33m\u001b[0m\u001b[1;33m\u001b[0m\u001b[0m\n\u001b[1;32m--> 333\u001b[1;33m         \u001b[0mX\u001b[0m \u001b[1;33m=\u001b[0m \u001b[0mcheck_array\u001b[0m\u001b[1;33m(\u001b[0m\u001b[0mX\u001b[0m\u001b[1;33m,\u001b[0m \u001b[0maccept_sparse\u001b[0m\u001b[1;33m=\u001b[0m\u001b[1;34m'csr'\u001b[0m\u001b[1;33m)\u001b[0m\u001b[1;33m\u001b[0m\u001b[1;33m\u001b[0m\u001b[0m\n\u001b[0m\u001b[0;32m    334\u001b[0m         \u001b[0mis_inlier\u001b[0m \u001b[1;33m=\u001b[0m \u001b[0mnp\u001b[0m\u001b[1;33m.\u001b[0m\u001b[0mones\u001b[0m\u001b[1;33m(\u001b[0m\u001b[0mX\u001b[0m\u001b[1;33m.\u001b[0m\u001b[0mshape\u001b[0m\u001b[1;33m[\u001b[0m\u001b[1;36m0\u001b[0m\u001b[1;33m]\u001b[0m\u001b[1;33m,\u001b[0m \u001b[0mdtype\u001b[0m\u001b[1;33m=\u001b[0m\u001b[0mint\u001b[0m\u001b[1;33m)\u001b[0m\u001b[1;33m\u001b[0m\u001b[1;33m\u001b[0m\u001b[0m\n\u001b[0;32m    335\u001b[0m         \u001b[0mthreshold\u001b[0m \u001b[1;33m=\u001b[0m \u001b[0mself\u001b[0m\u001b[1;33m.\u001b[0m\u001b[0mthreshold_\u001b[0m \u001b[1;32mif\u001b[0m \u001b[0mself\u001b[0m\u001b[1;33m.\u001b[0m\u001b[0mbehaviour\u001b[0m \u001b[1;33m==\u001b[0m \u001b[1;34m'old'\u001b[0m \u001b[1;32melse\u001b[0m \u001b[1;36m0\u001b[0m\u001b[1;33m\u001b[0m\u001b[1;33m\u001b[0m\u001b[0m\n",
      "\u001b[1;32mC:\\ProgramData\\Anaconda3\\lib\\site-packages\\sklearn\\utils\\validation.py\u001b[0m in \u001b[0;36mcheck_array\u001b[1;34m(array, accept_sparse, accept_large_sparse, dtype, order, copy, force_all_finite, ensure_2d, allow_nd, ensure_min_samples, ensure_min_features, warn_on_dtype, estimator)\u001b[0m\n\u001b[0;32m    519\u001b[0m                     \u001b[1;34m\"Reshape your data either using array.reshape(-1, 1) if \"\u001b[0m\u001b[1;33m\u001b[0m\u001b[1;33m\u001b[0m\u001b[0m\n\u001b[0;32m    520\u001b[0m                     \u001b[1;34m\"your data has a single feature or array.reshape(1, -1) \"\u001b[0m\u001b[1;33m\u001b[0m\u001b[1;33m\u001b[0m\u001b[0m\n\u001b[1;32m--> 521\u001b[1;33m                     \"if it contains a single sample.\".format(array))\n\u001b[0m\u001b[0;32m    522\u001b[0m \u001b[1;33m\u001b[0m\u001b[0m\n\u001b[0;32m    523\u001b[0m         \u001b[1;31m# in the future np.flexible dtypes will be handled like object dtypes\u001b[0m\u001b[1;33m\u001b[0m\u001b[1;33m\u001b[0m\u001b[1;33m\u001b[0m\u001b[0m\n",
      "\u001b[1;31mValueError\u001b[0m: Expected 2D array, got 1D array instead:\narray=[-9.29137095e-01  1.05002153e+02  1.31785904e+03 ...  2.51973489e+03\n  1.84792000e+03  8.38550859e+02].\nReshape your data either using array.reshape(-1, 1) if your data has a single feature or array.reshape(1, -1) if it contains a single sample."
     ]
    }
   ],
   "source": [
    "gen_sample_2 = generate_samples(3)"
   ]
  },
  {
   "cell_type": "code",
   "execution_count": null,
   "metadata": {},
   "outputs": [],
   "source": [
    "print(len(gen_sample_2))\n",
    "print(gen_sample_2.shape)\n",
    "temp = gen_sample_2[:,0,0]\n",
    "print(temp.shape)"
   ]
  },
  {
   "cell_type": "code",
   "execution_count": null,
   "metadata": {},
   "outputs": [],
   "source": [
    "sns.kdeplot(gen_sample_2[:,0,0], shade=True)"
   ]
  },
  {
   "cell_type": "markdown",
   "metadata": {},
   "source": [
    "This method actually seems to generate more accurate and realistic values than the other generating method, however it takes far longer. Could potentially be used however..."
   ]
  },
  {
   "cell_type": "code",
   "execution_count": null,
   "metadata": {},
   "outputs": [],
   "source": [
    "gen_pca = PCA(n_components=3)\n",
    "gen_pca_pts = gen_pca.fit_transform(gen_sample_2[:,0])"
   ]
  },
  {
   "cell_type": "code",
   "execution_count": null,
   "metadata": {},
   "outputs": [],
   "source": [
    "sns.scatterplot(gen_pca_pts[:,0],gen_pca_pts[:,1])"
   ]
  },
  {
   "cell_type": "markdown",
   "metadata": {},
   "source": [
    "Pca transform looks a little off, might not be a be a good approach after all. "
   ]
  },
  {
   "cell_type": "markdown",
   "metadata": {},
   "source": [
    "# Week 2 Experiments"
   ]
  },
  {
   "cell_type": "markdown",
   "metadata": {},
   "source": [
    "### Normalize data"
   ]
  },
  {
   "cell_type": "code",
   "execution_count": 28,
   "metadata": {},
   "outputs": [],
   "source": [
    "norm_gene_expression = td.df_normalization(df,\"minmax\")\n",
    "norm_gene_expression = norm_gene_expression.values"
   ]
  },
  {
   "cell_type": "markdown",
   "metadata": {},
   "source": [
    "### Find 80% explained variance"
   ]
  },
  {
   "cell_type": "code",
   "execution_count": null,
   "metadata": {},
   "outputs": [],
   "source": [
    "p = PCA(n_components=3)\n",
    "p.fit(norm_gene_expression)\n",
    "print(sum(p.explained_variance_ratio_))"
   ]
  },
  {
   "cell_type": "code",
   "execution_count": null,
   "metadata": {},
   "outputs": [],
   "source": [
    "l = []\n",
    "for n in range(1,36):\n",
    "    p = PCA(n_components=n)\n",
    "    p.fit(norm_gene_expression)\n",
    "    l.append(sum(p.explained_variance_ratio_))\n",
    "    if l[n-1] >.8:\n",
    "        print(n)"
   ]
  },
  {
   "cell_type": "code",
   "execution_count": null,
   "metadata": {},
   "outputs": [],
   "source": [
    "sns.lineplot(range(1,36),l)"
   ]
  },
  {
   "cell_type": "code",
   "execution_count": null,
   "metadata": {},
   "outputs": [],
   "source": [
    "p = PCA(n_components=30)\n",
    "temp = p.fit_transform(norm_gene_expression)"
   ]
  },
  {
   "cell_type": "code",
   "execution_count": null,
   "metadata": {},
   "outputs": [],
   "source": [
    "b = BayesianGaussianMixture(n_components=3, n_init=3, random_state=1)\n",
    "b_class = b.fit_predict(temp)\n",
    "sns.scatterplot(temp[:,0],temp[:,1],hue=b_class)"
   ]
  },
  {
   "cell_type": "markdown",
   "metadata": {},
   "source": [
    "### Compute Fraction of Variance Explained "
   ]
  },
  {
   "cell_type": "code",
   "execution_count": null,
   "metadata": {},
   "outputs": [],
   "source": [
    "from sklearn.cluster import KMeans\n",
    "def SSE(points, labels, centers):\n",
    "    total_error = 0\n",
    "    data_mean = np.mean(points) \n",
    "    for i in range(len(points)):\n",
    "        total_error += sum((points[i]-data_mean)**2)\n",
    "    return total_error\n",
    "\n",
    "def SSE_bet(points, labels, centers):\n",
    "    total_error = 0\n",
    "    data_mean = np.mean(points) \n",
    "    \n",
    "    for k in range(len(centers)):\n",
    "        n = sum([1 for l in labels if l == k])\n",
    "        total_error += n*(sum((centers[k]-data_mean)**2))\n",
    "    return total_error"
   ]
  },
  {
   "cell_type": "code",
   "execution_count": null,
   "metadata": {},
   "outputs": [],
   "source": [
    "l = []\n",
    "for i in range(1,15):\n",
    "    km = KMeans(n_clusters=i)\n",
    "    t = km.fit_predict(temp)\n",
    "    l.append(SSE_bet(temp,t,km.cluster_centers_)/SSE(temp,t,km.cluster_centers_))"
   ]
  },
  {
   "cell_type": "code",
   "execution_count": null,
   "metadata": {},
   "outputs": [],
   "source": [
    "print(l)\n",
    "sns.lineplot(range(1,15),l)"
   ]
  },
  {
   "cell_type": "markdown",
   "metadata": {},
   "source": [
    "### Results from elbow method\n",
    "The results arent totally conclusive, the elbow isnt very definitive so therefore I think there is an acceptable range for the number k for Kmeans or the number of mixtures. The range lies somewhere in between 3-5. Going along with 3, I will do the same thing as above where I split results based on certain genes and see which ones have the highest entropy.\n",
    "### Decision Tree Discovery"
   ]
  },
  {
   "cell_type": "code",
   "execution_count": 26,
   "metadata": {},
   "outputs": [],
   "source": [
    "def plot_and_test(expression_df, gene_name, subgroups,labels):\n",
    "    x = []\n",
    "    colors= [\"b\",\"r\",\"g\",\"y\"]\n",
    "    temp = expression_df.loc[[gene_name]].values[0]\n",
    "    p = list(expression_df.columns)\n",
    "    grps = list(subgroups.keys())\n",
    "    for l in labels:\n",
    "        x.append([temp[p.index(s[1])] for s in subgroups[group]])\n",
    "    for group in grps:\n",
    "        x.append([temp[p.index(s[1])] for s in subgroups[group]])\n",
    "    [sns.kdeplot(x[i],shade=True,color=colors[i]) for i in range(len(x))]\n",
    "    for c in combinations(range(len(x)),2):\n",
    "        print(\"non-param t-test between \",grps[c[0]],\"and \",grps[c[1]],\": \", mannwhitneyu(x[c[0]],x[c[1]]))"
   ]
  },
  {
   "cell_type": "code",
   "execution_count": 44,
   "metadata": {},
   "outputs": [
    {
     "name": "stdout",
     "output_type": "stream",
     "text": [
      "  if POLK <= 0.18986783921718597:\n",
      "    return [[37.  0.  0.]]\n",
      "  else:  # if POLK > 0.18986783921718597\n",
      "    if RAB31 <= 0.3890036344528198:\n",
      "      return [[ 0.  0. 24.]]\n",
      "    else:  # if RAB31 > 0.3890036344528198\n",
      "      return [[ 0. 19.  0.]]\n"
     ]
    }
   ],
   "source": [
    "norm_pca = PCA(n_components=30,random_state=1)\n",
    "norm_transformed = norm_pca.fit_transform(norm_gene_expression)\n",
    "norm_km = KMeans(n_clusters=3)\n",
    "norm_labels = norm_km.fit_predict(norm_transformed)\n",
    "norm_tree = DecisionTreeClassifier(max_depth=2)\n",
    "norm_tree.fit(norm_gene_expression ,norm_labels)\n",
    "tree_to_code(norm_tree, [str(a) for a in df.columns])"
   ]
  },
  {
   "cell_type": "markdown",
   "metadata": {},
   "source": [
    "### Plot using not normalized method"
   ]
  },
  {
   "cell_type": "code",
   "execution_count": null,
   "metadata": {},
   "outputs": [],
   "source": [
    "plot_dist_and_test(4,\"FAM127C\",norm_labels)"
   ]
  },
  {
   "cell_type": "code",
   "execution_count": null,
   "metadata": {},
   "outputs": [],
   "source": [
    "plot_dist_and_test(3,\"PTPN23\")"
   ]
  },
  {
   "cell_type": "markdown",
   "metadata": {},
   "source": [
    "### Plot after values normalized"
   ]
  },
  {
   "cell_type": "code",
   "execution_count": null,
   "metadata": {},
   "outputs": [],
   "source": [
    "plot_dist_and_test(3,\"PTPN23\",norm_labels)"
   ]
  },
  {
   "cell_type": "markdown",
   "metadata": {},
   "source": [
    "## Interesting genes\n",
    "- PTPN23\n",
    "- FAM127C "
   ]
  },
  {
   "cell_type": "code",
   "execution_count": null,
   "metadata": {},
   "outputs": [],
   "source": []
  }
 ],
 "metadata": {
  "kernelspec": {
   "display_name": "Python 3",
   "language": "python",
   "name": "python3"
  },
  "language_info": {
   "codemirror_mode": {
    "name": "ipython",
    "version": 3
   },
   "file_extension": ".py",
   "mimetype": "text/x-python",
   "name": "python",
   "nbconvert_exporter": "python",
   "pygments_lexer": "ipython3",
   "version": "3.7.4"
  }
 },
 "nbformat": 4,
 "nbformat_minor": 2
}
