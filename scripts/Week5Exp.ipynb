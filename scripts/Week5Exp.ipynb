{
 "cells": [
  {
   "cell_type": "markdown",
   "metadata": {},
   "source": [
    "This notebook will be used for immune cell clutering to see if there are differences between clusters that can be observed and are of importance. I will first do the clustering and PCA on normalized gene expression data and then I will find genes of importance by ordering in terms of variance of the normalized terms. I will look at teh BAP1 subgroups and look at the most variance genes and perform MW tests on the two groups to see if they are statistically different enough."
   ]
  },
  {
   "cell_type": "markdown",
   "metadata": {
    "heading_collapsed": true
   },
   "source": [
    "## Imports"
   ]
  },
  {
   "cell_type": "code",
   "execution_count": 184,
   "metadata": {
    "hidden": true
   },
   "outputs": [],
   "source": [
    "import pandas as pd\n",
    "import TumorDecon as td\n",
    "from scipy.stats import wilcoxon\n",
    "import seaborn as sns\n",
    "from itertools import combinations\n",
    "from scipy.stats import mannwhitneyu\n",
    "import matplotlib.pyplot as plt\n",
    "import numpy as np\n",
    "from sklearn.tree._tree import TREE_LEAF\n",
    "from sklearn.externals.six import StringIO\n",
    "from IPython.display import Image\n",
    "from sklearn.tree import export_graphviz\n",
    "import pydotplus\n",
    "import seaborn as sns\n",
    "from scipy import stats\n",
    "from sklearn.tree import _tree\n",
    "import pandas as pd\n",
    "import numpy as np\n",
    "import matplotlib.pyplot as plt\n",
    "from sklearn.decomposition import PCA\n",
    "from sklearn.mixture import BayesianGaussianMixture\n",
    "from sklearn.mixture import GaussianMixture\n",
    "from sklearn.decomposition import TruncatedSVD\n",
    "from sklearn.model_selection import train_test_split\n",
    "from sklearn.tree._tree import TREE_LEAF\n",
    "from sklearn.externals.six import StringIO\n",
    "from IPython.display import Image\n",
    "from sklearn.tree import export_graphviz\n",
    "import pydotplus\n",
    "import seaborn as sns\n",
    "from scipy import stats\n",
    "from sklearn.tree import _tree\n",
    "from itertools import combinations\n",
    "from sklearn.neighbors import KernelDensity\n",
    "import TumorDecon as td\n",
    "from sklearn.cluster import KMeans\n",
    "from collections import Counter\n",
    "from itertools import combinations \n",
    "from statsmodels.stats.proportion import proportions_ztest"
   ]
  },
  {
   "cell_type": "markdown",
   "metadata": {
    "heading_collapsed": true
   },
   "source": [
    "## Data Organizing"
   ]
  },
  {
   "cell_type": "code",
   "execution_count": 3,
   "metadata": {
    "hidden": true
   },
   "outputs": [
    {
     "data": {
      "text/html": [
       "<div>\n",
       "<style scoped>\n",
       "    .dataframe tbody tr th:only-of-type {\n",
       "        vertical-align: middle;\n",
       "    }\n",
       "\n",
       "    .dataframe tbody tr th {\n",
       "        vertical-align: top;\n",
       "    }\n",
       "\n",
       "    .dataframe thead th {\n",
       "        text-align: right;\n",
       "    }\n",
       "</style>\n",
       "<table border=\"1\" class=\"dataframe\">\n",
       "  <thead>\n",
       "    <tr style=\"text-align: right;\">\n",
       "      <th>Hugo_Symbol</th>\n",
       "      <th>UBE2Q2P2</th>\n",
       "      <th>RPL41P2</th>\n",
       "      <th>RPS6KA2</th>\n",
       "      <th>BRCA1</th>\n",
       "      <th>AI894139</th>\n",
       "      <th>ERICH5</th>\n",
       "      <th>SSX9P</th>\n",
       "      <th>CIITA</th>\n",
       "      <th>EZHIP</th>\n",
       "      <th>EFCAB8</th>\n",
       "      <th>...</th>\n",
       "      <th>ZWILCH</th>\n",
       "      <th>ZWINT</th>\n",
       "      <th>ZXDA</th>\n",
       "      <th>ZXDB</th>\n",
       "      <th>ZXDC</th>\n",
       "      <th>ZYG11A</th>\n",
       "      <th>ZYG11B</th>\n",
       "      <th>ZYX</th>\n",
       "      <th>ZZEF1</th>\n",
       "      <th>ZZZ3</th>\n",
       "    </tr>\n",
       "  </thead>\n",
       "  <tbody>\n",
       "    <tr>\n",
       "      <td>TCGA-RZ-AB0B-01</td>\n",
       "      <td>0.442079</td>\n",
       "      <td>0.796904</td>\n",
       "      <td>0.399113</td>\n",
       "      <td>0.0</td>\n",
       "      <td>0.331606</td>\n",
       "      <td>0.219769</td>\n",
       "      <td>0.186285</td>\n",
       "      <td>0.0</td>\n",
       "      <td>0.000000</td>\n",
       "      <td>0.000000</td>\n",
       "      <td>...</td>\n",
       "      <td>0.716851</td>\n",
       "      <td>0.552608</td>\n",
       "      <td>0.618607</td>\n",
       "      <td>0.410517</td>\n",
       "      <td>0.216020</td>\n",
       "      <td>0.090292</td>\n",
       "      <td>0.511827</td>\n",
       "      <td>0.161684</td>\n",
       "      <td>0.585549</td>\n",
       "      <td>0.306053</td>\n",
       "    </tr>\n",
       "    <tr>\n",
       "      <td>TCGA-V3-A9ZX-01</td>\n",
       "      <td>0.198754</td>\n",
       "      <td>0.799145</td>\n",
       "      <td>0.319529</td>\n",
       "      <td>0.0</td>\n",
       "      <td>0.175706</td>\n",
       "      <td>0.000000</td>\n",
       "      <td>0.000000</td>\n",
       "      <td>0.0</td>\n",
       "      <td>0.000000</td>\n",
       "      <td>0.201686</td>\n",
       "      <td>...</td>\n",
       "      <td>0.594975</td>\n",
       "      <td>0.804777</td>\n",
       "      <td>0.227171</td>\n",
       "      <td>0.277436</td>\n",
       "      <td>0.191290</td>\n",
       "      <td>0.000000</td>\n",
       "      <td>0.807311</td>\n",
       "      <td>0.070870</td>\n",
       "      <td>0.502416</td>\n",
       "      <td>0.429435</td>\n",
       "    </tr>\n",
       "    <tr>\n",
       "      <td>TCGA-V3-A9ZY-01</td>\n",
       "      <td>0.066856</td>\n",
       "      <td>0.196325</td>\n",
       "      <td>0.129218</td>\n",
       "      <td>0.0</td>\n",
       "      <td>0.156197</td>\n",
       "      <td>0.000000</td>\n",
       "      <td>0.000000</td>\n",
       "      <td>0.0</td>\n",
       "      <td>0.254387</td>\n",
       "      <td>0.000000</td>\n",
       "      <td>...</td>\n",
       "      <td>0.377242</td>\n",
       "      <td>0.333014</td>\n",
       "      <td>0.327030</td>\n",
       "      <td>0.195518</td>\n",
       "      <td>0.512077</td>\n",
       "      <td>0.645250</td>\n",
       "      <td>0.169385</td>\n",
       "      <td>0.352667</td>\n",
       "      <td>0.537181</td>\n",
       "      <td>0.165353</td>\n",
       "    </tr>\n",
       "    <tr>\n",
       "      <td>TCGA-V4-A9E5-01</td>\n",
       "      <td>0.238791</td>\n",
       "      <td>0.113941</td>\n",
       "      <td>0.245919</td>\n",
       "      <td>0.0</td>\n",
       "      <td>0.026320</td>\n",
       "      <td>0.000000</td>\n",
       "      <td>0.000000</td>\n",
       "      <td>0.0</td>\n",
       "      <td>0.000000</td>\n",
       "      <td>0.000000</td>\n",
       "      <td>...</td>\n",
       "      <td>0.083219</td>\n",
       "      <td>0.374607</td>\n",
       "      <td>0.270566</td>\n",
       "      <td>0.109298</td>\n",
       "      <td>0.371692</td>\n",
       "      <td>0.000000</td>\n",
       "      <td>0.182572</td>\n",
       "      <td>0.679224</td>\n",
       "      <td>0.651534</td>\n",
       "      <td>0.144678</td>\n",
       "    </tr>\n",
       "    <tr>\n",
       "      <td>TCGA-V4-A9E7-01</td>\n",
       "      <td>0.435979</td>\n",
       "      <td>0.447497</td>\n",
       "      <td>0.667467</td>\n",
       "      <td>0.0</td>\n",
       "      <td>0.156154</td>\n",
       "      <td>0.256046</td>\n",
       "      <td>0.000000</td>\n",
       "      <td>0.0</td>\n",
       "      <td>0.000000</td>\n",
       "      <td>0.219024</td>\n",
       "      <td>...</td>\n",
       "      <td>0.557109</td>\n",
       "      <td>0.631245</td>\n",
       "      <td>0.247666</td>\n",
       "      <td>0.286749</td>\n",
       "      <td>0.095868</td>\n",
       "      <td>0.000000</td>\n",
       "      <td>0.145500</td>\n",
       "      <td>0.217483</td>\n",
       "      <td>0.491986</td>\n",
       "      <td>0.117278</td>\n",
       "    </tr>\n",
       "  </tbody>\n",
       "</table>\n",
       "<p>5 rows × 20529 columns</p>\n",
       "</div>"
      ],
      "text/plain": [
       "Hugo_Symbol      UBE2Q2P2   RPL41P2   RPS6KA2  BRCA1  AI894139    ERICH5  \\\n",
       "TCGA-RZ-AB0B-01  0.442079  0.796904  0.399113    0.0  0.331606  0.219769   \n",
       "TCGA-V3-A9ZX-01  0.198754  0.799145  0.319529    0.0  0.175706  0.000000   \n",
       "TCGA-V3-A9ZY-01  0.066856  0.196325  0.129218    0.0  0.156197  0.000000   \n",
       "TCGA-V4-A9E5-01  0.238791  0.113941  0.245919    0.0  0.026320  0.000000   \n",
       "TCGA-V4-A9E7-01  0.435979  0.447497  0.667467    0.0  0.156154  0.256046   \n",
       "\n",
       "Hugo_Symbol         SSX9P  CIITA     EZHIP    EFCAB8  ...    ZWILCH     ZWINT  \\\n",
       "TCGA-RZ-AB0B-01  0.186285    0.0  0.000000  0.000000  ...  0.716851  0.552608   \n",
       "TCGA-V3-A9ZX-01  0.000000    0.0  0.000000  0.201686  ...  0.594975  0.804777   \n",
       "TCGA-V3-A9ZY-01  0.000000    0.0  0.254387  0.000000  ...  0.377242  0.333014   \n",
       "TCGA-V4-A9E5-01  0.000000    0.0  0.000000  0.000000  ...  0.083219  0.374607   \n",
       "TCGA-V4-A9E7-01  0.000000    0.0  0.000000  0.219024  ...  0.557109  0.631245   \n",
       "\n",
       "Hugo_Symbol          ZXDA      ZXDB      ZXDC    ZYG11A    ZYG11B       ZYX  \\\n",
       "TCGA-RZ-AB0B-01  0.618607  0.410517  0.216020  0.090292  0.511827  0.161684   \n",
       "TCGA-V3-A9ZX-01  0.227171  0.277436  0.191290  0.000000  0.807311  0.070870   \n",
       "TCGA-V3-A9ZY-01  0.327030  0.195518  0.512077  0.645250  0.169385  0.352667   \n",
       "TCGA-V4-A9E5-01  0.270566  0.109298  0.371692  0.000000  0.182572  0.679224   \n",
       "TCGA-V4-A9E7-01  0.247666  0.286749  0.095868  0.000000  0.145500  0.217483   \n",
       "\n",
       "Hugo_Symbol         ZZEF1      ZZZ3  \n",
       "TCGA-RZ-AB0B-01  0.585549  0.306053  \n",
       "TCGA-V3-A9ZX-01  0.502416  0.429435  \n",
       "TCGA-V3-A9ZY-01  0.537181  0.165353  \n",
       "TCGA-V4-A9E5-01  0.651534  0.144678  \n",
       "TCGA-V4-A9E7-01  0.491986  0.117278  \n",
       "\n",
       "[5 rows x 20529 columns]"
      ]
     },
     "execution_count": 3,
     "metadata": {},
     "output_type": "execute_result"
    }
   ],
   "source": [
    "gene_expression = pd.read_excel('C:/Users/NathanGrant/Programs/TripodsREU/data/uvm_tcga_pan_can_atlas_2018/data_RNA_Seq_v2_expression_median_excel.xlsx',index_col=\"Hugo_Symbol\")\n",
    "gene_expression = td.df_normalization(gene_expression.T, \"minmax\")\n",
    "gene_expression.head()"
   ]
  },
  {
   "cell_type": "code",
   "execution_count": 12,
   "metadata": {
    "hidden": true
   },
   "outputs": [
    {
     "data": {
      "text/html": [
       "<div>\n",
       "<style scoped>\n",
       "    .dataframe tbody tr th:only-of-type {\n",
       "        vertical-align: middle;\n",
       "    }\n",
       "\n",
       "    .dataframe tbody tr th {\n",
       "        vertical-align: top;\n",
       "    }\n",
       "\n",
       "    .dataframe thead th {\n",
       "        text-align: right;\n",
       "    }\n",
       "</style>\n",
       "<table border=\"1\" class=\"dataframe\">\n",
       "  <thead>\n",
       "    <tr style=\"text-align: right;\">\n",
       "      <th></th>\n",
       "      <th>TCGA-RZ-AB0B-01</th>\n",
       "      <th>TCGA-V3-A9ZX-01</th>\n",
       "      <th>TCGA-V3-A9ZY-01</th>\n",
       "      <th>TCGA-V4-A9E5-01</th>\n",
       "      <th>TCGA-V4-A9E7-01</th>\n",
       "      <th>TCGA-V4-A9E8-01</th>\n",
       "      <th>TCGA-V4-A9E9-01</th>\n",
       "      <th>TCGA-V4-A9EA-01</th>\n",
       "      <th>TCGA-V4-A9EC-01</th>\n",
       "      <th>TCGA-V4-A9ED-01</th>\n",
       "      <th>...</th>\n",
       "      <th>TCGA-WC-A885-01</th>\n",
       "      <th>TCGA-WC-A888-01</th>\n",
       "      <th>TCGA-WC-A88A-01</th>\n",
       "      <th>TCGA-WC-AA9A-01</th>\n",
       "      <th>TCGA-WC-AA9E-01</th>\n",
       "      <th>TCGA-YZ-A980-01</th>\n",
       "      <th>TCGA-YZ-A982-01</th>\n",
       "      <th>TCGA-YZ-A983-01</th>\n",
       "      <th>TCGA-YZ-A984-01</th>\n",
       "      <th>TCGA-YZ-A985-01</th>\n",
       "    </tr>\n",
       "    <tr>\n",
       "      <th>Hugo_Symbol</th>\n",
       "      <th></th>\n",
       "      <th></th>\n",
       "      <th></th>\n",
       "      <th></th>\n",
       "      <th></th>\n",
       "      <th></th>\n",
       "      <th></th>\n",
       "      <th></th>\n",
       "      <th></th>\n",
       "      <th></th>\n",
       "      <th></th>\n",
       "      <th></th>\n",
       "      <th></th>\n",
       "      <th></th>\n",
       "      <th></th>\n",
       "      <th></th>\n",
       "      <th></th>\n",
       "      <th></th>\n",
       "      <th></th>\n",
       "      <th></th>\n",
       "      <th></th>\n",
       "    </tr>\n",
       "  </thead>\n",
       "  <tbody>\n",
       "    <tr>\n",
       "      <td>ACAP3</td>\n",
       "      <td>-1</td>\n",
       "      <td>0</td>\n",
       "      <td>0</td>\n",
       "      <td>0</td>\n",
       "      <td>-2</td>\n",
       "      <td>-1</td>\n",
       "      <td>0</td>\n",
       "      <td>0</td>\n",
       "      <td>0</td>\n",
       "      <td>0</td>\n",
       "      <td>...</td>\n",
       "      <td>0</td>\n",
       "      <td>0</td>\n",
       "      <td>0</td>\n",
       "      <td>-1</td>\n",
       "      <td>-1</td>\n",
       "      <td>0</td>\n",
       "      <td>-1</td>\n",
       "      <td>0</td>\n",
       "      <td>0</td>\n",
       "      <td>0</td>\n",
       "    </tr>\n",
       "    <tr>\n",
       "      <td>ACTRT2</td>\n",
       "      <td>-1</td>\n",
       "      <td>0</td>\n",
       "      <td>0</td>\n",
       "      <td>0</td>\n",
       "      <td>-2</td>\n",
       "      <td>-1</td>\n",
       "      <td>0</td>\n",
       "      <td>0</td>\n",
       "      <td>0</td>\n",
       "      <td>0</td>\n",
       "      <td>...</td>\n",
       "      <td>0</td>\n",
       "      <td>0</td>\n",
       "      <td>0</td>\n",
       "      <td>-1</td>\n",
       "      <td>-1</td>\n",
       "      <td>0</td>\n",
       "      <td>-1</td>\n",
       "      <td>0</td>\n",
       "      <td>0</td>\n",
       "      <td>0</td>\n",
       "    </tr>\n",
       "    <tr>\n",
       "      <td>AGRN</td>\n",
       "      <td>-1</td>\n",
       "      <td>0</td>\n",
       "      <td>0</td>\n",
       "      <td>0</td>\n",
       "      <td>-2</td>\n",
       "      <td>-1</td>\n",
       "      <td>0</td>\n",
       "      <td>0</td>\n",
       "      <td>0</td>\n",
       "      <td>0</td>\n",
       "      <td>...</td>\n",
       "      <td>0</td>\n",
       "      <td>0</td>\n",
       "      <td>0</td>\n",
       "      <td>-1</td>\n",
       "      <td>-1</td>\n",
       "      <td>0</td>\n",
       "      <td>-1</td>\n",
       "      <td>0</td>\n",
       "      <td>0</td>\n",
       "      <td>0</td>\n",
       "    </tr>\n",
       "    <tr>\n",
       "      <td>ANKRD65</td>\n",
       "      <td>-1</td>\n",
       "      <td>0</td>\n",
       "      <td>0</td>\n",
       "      <td>0</td>\n",
       "      <td>-2</td>\n",
       "      <td>-1</td>\n",
       "      <td>0</td>\n",
       "      <td>0</td>\n",
       "      <td>0</td>\n",
       "      <td>0</td>\n",
       "      <td>...</td>\n",
       "      <td>0</td>\n",
       "      <td>0</td>\n",
       "      <td>0</td>\n",
       "      <td>-1</td>\n",
       "      <td>-1</td>\n",
       "      <td>0</td>\n",
       "      <td>-1</td>\n",
       "      <td>0</td>\n",
       "      <td>0</td>\n",
       "      <td>0</td>\n",
       "    </tr>\n",
       "    <tr>\n",
       "      <td>ATAD3A</td>\n",
       "      <td>-1</td>\n",
       "      <td>0</td>\n",
       "      <td>0</td>\n",
       "      <td>0</td>\n",
       "      <td>-2</td>\n",
       "      <td>-1</td>\n",
       "      <td>0</td>\n",
       "      <td>0</td>\n",
       "      <td>0</td>\n",
       "      <td>0</td>\n",
       "      <td>...</td>\n",
       "      <td>0</td>\n",
       "      <td>0</td>\n",
       "      <td>0</td>\n",
       "      <td>-1</td>\n",
       "      <td>-1</td>\n",
       "      <td>0</td>\n",
       "      <td>-1</td>\n",
       "      <td>0</td>\n",
       "      <td>0</td>\n",
       "      <td>0</td>\n",
       "    </tr>\n",
       "  </tbody>\n",
       "</table>\n",
       "<p>5 rows × 80 columns</p>\n",
       "</div>"
      ],
      "text/plain": [
       "             TCGA-RZ-AB0B-01  TCGA-V3-A9ZX-01  TCGA-V3-A9ZY-01  \\\n",
       "Hugo_Symbol                                                      \n",
       "ACAP3                     -1                0                0   \n",
       "ACTRT2                    -1                0                0   \n",
       "AGRN                      -1                0                0   \n",
       "ANKRD65                   -1                0                0   \n",
       "ATAD3A                    -1                0                0   \n",
       "\n",
       "             TCGA-V4-A9E5-01  TCGA-V4-A9E7-01  TCGA-V4-A9E8-01  \\\n",
       "Hugo_Symbol                                                      \n",
       "ACAP3                      0               -2               -1   \n",
       "ACTRT2                     0               -2               -1   \n",
       "AGRN                       0               -2               -1   \n",
       "ANKRD65                    0               -2               -1   \n",
       "ATAD3A                     0               -2               -1   \n",
       "\n",
       "             TCGA-V4-A9E9-01  TCGA-V4-A9EA-01  TCGA-V4-A9EC-01  \\\n",
       "Hugo_Symbol                                                      \n",
       "ACAP3                      0                0                0   \n",
       "ACTRT2                     0                0                0   \n",
       "AGRN                       0                0                0   \n",
       "ANKRD65                    0                0                0   \n",
       "ATAD3A                     0                0                0   \n",
       "\n",
       "             TCGA-V4-A9ED-01  ...  TCGA-WC-A885-01  TCGA-WC-A888-01  \\\n",
       "Hugo_Symbol                   ...                                     \n",
       "ACAP3                      0  ...                0                0   \n",
       "ACTRT2                     0  ...                0                0   \n",
       "AGRN                       0  ...                0                0   \n",
       "ANKRD65                    0  ...                0                0   \n",
       "ATAD3A                     0  ...                0                0   \n",
       "\n",
       "             TCGA-WC-A88A-01  TCGA-WC-AA9A-01  TCGA-WC-AA9E-01  \\\n",
       "Hugo_Symbol                                                      \n",
       "ACAP3                      0               -1               -1   \n",
       "ACTRT2                     0               -1               -1   \n",
       "AGRN                       0               -1               -1   \n",
       "ANKRD65                    0               -1               -1   \n",
       "ATAD3A                     0               -1               -1   \n",
       "\n",
       "             TCGA-YZ-A980-01  TCGA-YZ-A982-01  TCGA-YZ-A983-01  \\\n",
       "Hugo_Symbol                                                      \n",
       "ACAP3                      0               -1                0   \n",
       "ACTRT2                     0               -1                0   \n",
       "AGRN                       0               -1                0   \n",
       "ANKRD65                    0               -1                0   \n",
       "ATAD3A                     0               -1                0   \n",
       "\n",
       "             TCGA-YZ-A984-01  TCGA-YZ-A985-01  \n",
       "Hugo_Symbol                                    \n",
       "ACAP3                      0                0  \n",
       "ACTRT2                     0                0  \n",
       "AGRN                       0                0  \n",
       "ANKRD65                    0                0  \n",
       "ATAD3A                     0                0  \n",
       "\n",
       "[5 rows x 80 columns]"
      ]
     },
     "execution_count": 12,
     "metadata": {},
     "output_type": "execute_result"
    }
   ],
   "source": [
    "presence_df = pd.read_csv('C:/Users/NathanGrant/Programs/TripodsREU/data/uvm_tcga_pan_can_atlas_2018/data_CNA.txt',delimiter='\\t', index_col=\"Hugo_Symbol\")\n",
    "presence_df= presence_df[presence_df.columns.difference(['Entrez_Gene_Id','Cytoband'])]\n",
    "presence_df.head()"
   ]
  },
  {
   "cell_type": "code",
   "execution_count": 9,
   "metadata": {
    "hidden": true
   },
   "outputs": [
    {
     "data": {
      "text/html": [
       "<div>\n",
       "<style scoped>\n",
       "    .dataframe tbody tr th:only-of-type {\n",
       "        vertical-align: middle;\n",
       "    }\n",
       "\n",
       "    .dataframe tbody tr th {\n",
       "        vertical-align: top;\n",
       "    }\n",
       "\n",
       "    .dataframe thead th {\n",
       "        text-align: right;\n",
       "    }\n",
       "</style>\n",
       "<table border=\"1\" class=\"dataframe\">\n",
       "  <thead>\n",
       "    <tr style=\"text-align: right;\">\n",
       "      <th></th>\n",
       "      <th>B cells</th>\n",
       "      <th>CD4 T cells</th>\n",
       "      <th>CD8 T cells</th>\n",
       "      <th>DC</th>\n",
       "      <th>Eosinophils</th>\n",
       "      <th>Macrophages</th>\n",
       "      <th>Mast cells</th>\n",
       "      <th>Monocytes</th>\n",
       "      <th>NK cells</th>\n",
       "      <th>Neutrophils</th>\n",
       "      <th>Plasma cells</th>\n",
       "      <th>T cells gamma delta</th>\n",
       "    </tr>\n",
       "    <tr>\n",
       "      <th>Input Sample</th>\n",
       "      <th></th>\n",
       "      <th></th>\n",
       "      <th></th>\n",
       "      <th></th>\n",
       "      <th></th>\n",
       "      <th></th>\n",
       "      <th></th>\n",
       "      <th></th>\n",
       "      <th></th>\n",
       "      <th></th>\n",
       "      <th></th>\n",
       "      <th></th>\n",
       "    </tr>\n",
       "  </thead>\n",
       "  <tbody>\n",
       "    <tr>\n",
       "      <td>TCGA-RZ-AB0B-01</td>\n",
       "      <td>0.000000</td>\n",
       "      <td>0.111888</td>\n",
       "      <td>0.000000</td>\n",
       "      <td>0.001386</td>\n",
       "      <td>0.0</td>\n",
       "      <td>0.078074</td>\n",
       "      <td>0.095050</td>\n",
       "      <td>0.000000</td>\n",
       "      <td>0.051481</td>\n",
       "      <td>0.0</td>\n",
       "      <td>0.015514</td>\n",
       "      <td>0.0</td>\n",
       "    </tr>\n",
       "    <tr>\n",
       "      <td>TCGA-V3-A9ZX-01</td>\n",
       "      <td>0.001096</td>\n",
       "      <td>0.037278</td>\n",
       "      <td>0.098547</td>\n",
       "      <td>0.004997</td>\n",
       "      <td>0.0</td>\n",
       "      <td>0.140180</td>\n",
       "      <td>0.078044</td>\n",
       "      <td>0.006261</td>\n",
       "      <td>0.009305</td>\n",
       "      <td>0.0</td>\n",
       "      <td>0.001147</td>\n",
       "      <td>0.0</td>\n",
       "    </tr>\n",
       "    <tr>\n",
       "      <td>TCGA-V3-A9ZY-01</td>\n",
       "      <td>0.040742</td>\n",
       "      <td>0.051491</td>\n",
       "      <td>0.043021</td>\n",
       "      <td>0.000000</td>\n",
       "      <td>0.0</td>\n",
       "      <td>0.190293</td>\n",
       "      <td>0.014546</td>\n",
       "      <td>0.011593</td>\n",
       "      <td>0.014273</td>\n",
       "      <td>0.0</td>\n",
       "      <td>0.029827</td>\n",
       "      <td>0.0</td>\n",
       "    </tr>\n",
       "    <tr>\n",
       "      <td>TCGA-V4-A9E5-01</td>\n",
       "      <td>0.005488</td>\n",
       "      <td>0.091727</td>\n",
       "      <td>0.000000</td>\n",
       "      <td>0.002013</td>\n",
       "      <td>0.0</td>\n",
       "      <td>0.187874</td>\n",
       "      <td>0.117979</td>\n",
       "      <td>0.000000</td>\n",
       "      <td>0.033693</td>\n",
       "      <td>0.0</td>\n",
       "      <td>0.001379</td>\n",
       "      <td>0.0</td>\n",
       "    </tr>\n",
       "    <tr>\n",
       "      <td>TCGA-V4-A9E7-01</td>\n",
       "      <td>0.019284</td>\n",
       "      <td>0.016001</td>\n",
       "      <td>0.034951</td>\n",
       "      <td>0.000000</td>\n",
       "      <td>0.0</td>\n",
       "      <td>0.195349</td>\n",
       "      <td>0.030027</td>\n",
       "      <td>0.005280</td>\n",
       "      <td>0.031016</td>\n",
       "      <td>0.0</td>\n",
       "      <td>0.083541</td>\n",
       "      <td>0.0</td>\n",
       "    </tr>\n",
       "  </tbody>\n",
       "</table>\n",
       "</div>"
      ],
      "text/plain": [
       "                  B cells  CD4 T cells  CD8 T cells        DC  Eosinophils  \\\n",
       "Input Sample                                                                 \n",
       "TCGA-RZ-AB0B-01  0.000000     0.111888     0.000000  0.001386          0.0   \n",
       "TCGA-V3-A9ZX-01  0.001096     0.037278     0.098547  0.004997          0.0   \n",
       "TCGA-V3-A9ZY-01  0.040742     0.051491     0.043021  0.000000          0.0   \n",
       "TCGA-V4-A9E5-01  0.005488     0.091727     0.000000  0.002013          0.0   \n",
       "TCGA-V4-A9E7-01  0.019284     0.016001     0.034951  0.000000          0.0   \n",
       "\n",
       "                 Macrophages  Mast cells  Monocytes  NK cells  Neutrophils  \\\n",
       "Input Sample                                                                 \n",
       "TCGA-RZ-AB0B-01     0.078074    0.095050   0.000000  0.051481          0.0   \n",
       "TCGA-V3-A9ZX-01     0.140180    0.078044   0.006261  0.009305          0.0   \n",
       "TCGA-V3-A9ZY-01     0.190293    0.014546   0.011593  0.014273          0.0   \n",
       "TCGA-V4-A9E5-01     0.187874    0.117979   0.000000  0.033693          0.0   \n",
       "TCGA-V4-A9E7-01     0.195349    0.030027   0.005280  0.031016          0.0   \n",
       "\n",
       "                 Plasma cells  T cells gamma delta  \n",
       "Input Sample                                        \n",
       "TCGA-RZ-AB0B-01      0.015514                  0.0  \n",
       "TCGA-V3-A9ZX-01      0.001147                  0.0  \n",
       "TCGA-V3-A9ZY-01      0.029827                  0.0  \n",
       "TCGA-V4-A9E5-01      0.001379                  0.0  \n",
       "TCGA-V4-A9E7-01      0.083541                  0.0  "
      ]
     },
     "execution_count": 9,
     "metadata": {},
     "output_type": "execute_result"
    }
   ],
   "source": [
    "immune_fractions_df = td.combine_celltypes(pd.read_excel(\"C:/Users/NathanGrant/Programs/TripodsREU/data/CibersortResults/UVMRun1/CIBERSORTOutput_Job2.xlsx\",index_col=\"Input Sample\"))\n",
    "immune_fractions_df= immune_fractions_df[immune_fractions_df.columns.difference(['RMSE','P-value','Pearson Correlation'])]\n",
    "immune_fractions_df.head()"
   ]
  },
  {
   "cell_type": "code",
   "execution_count": 130,
   "metadata": {
    "hidden": true
   },
   "outputs": [],
   "source": [
    "immune_fractions_df_uncombined = pd.read_excel(\"C:/Users/NathanGrant/Programs/TripodsREU/data/CibersortResults/UVMRun1/CIBERSORTOutput_Job2.xlsx\",index_col=\"Input Sample\")\n",
    "immune_fractions_df_uncombined= immune_fractions_df_uncombined[immune_fractions_df_uncombined.columns.difference(['RMSE','P-value','Pearson Correlation'])]"
   ]
  },
  {
   "cell_type": "code",
   "execution_count": 10,
   "metadata": {
    "hidden": true
   },
   "outputs": [
    {
     "data": {
      "text/html": [
       "<div>\n",
       "<style scoped>\n",
       "    .dataframe tbody tr th:only-of-type {\n",
       "        vertical-align: middle;\n",
       "    }\n",
       "\n",
       "    .dataframe tbody tr th {\n",
       "        vertical-align: top;\n",
       "    }\n",
       "\n",
       "    .dataframe thead th {\n",
       "        text-align: right;\n",
       "    }\n",
       "</style>\n",
       "<table border=\"1\" class=\"dataframe\">\n",
       "  <thead>\n",
       "    <tr style=\"text-align: right;\">\n",
       "      <th></th>\n",
       "      <th>age_at_initial_pathologic_diagnosis</th>\n",
       "      <th>batch_number</th>\n",
       "      <th>bcr</th>\n",
       "      <th>bcr_followup_barcode</th>\n",
       "      <th>bcr_followup_uuid</th>\n",
       "      <th>submitter_id</th>\n",
       "      <th>clinical_M</th>\n",
       "      <th>clinical_N</th>\n",
       "      <th>clinical_T</th>\n",
       "      <th>clinical_stage</th>\n",
       "      <th>...</th>\n",
       "      <th>days_to_collection.samples</th>\n",
       "      <th>days_to_sample_procurement.samples</th>\n",
       "      <th>initial_weight.samples</th>\n",
       "      <th>is_ffpe.samples</th>\n",
       "      <th>oct_embedded.samples</th>\n",
       "      <th>preservation_method.samples</th>\n",
       "      <th>sample_type.samples</th>\n",
       "      <th>sample_type_id.samples</th>\n",
       "      <th>state.samples</th>\n",
       "      <th>tissue_type.samples</th>\n",
       "    </tr>\n",
       "    <tr>\n",
       "      <th>submitter_id.samples</th>\n",
       "      <th></th>\n",
       "      <th></th>\n",
       "      <th></th>\n",
       "      <th></th>\n",
       "      <th></th>\n",
       "      <th></th>\n",
       "      <th></th>\n",
       "      <th></th>\n",
       "      <th></th>\n",
       "      <th></th>\n",
       "      <th></th>\n",
       "      <th></th>\n",
       "      <th></th>\n",
       "      <th></th>\n",
       "      <th></th>\n",
       "      <th></th>\n",
       "      <th></th>\n",
       "      <th></th>\n",
       "      <th></th>\n",
       "      <th></th>\n",
       "      <th></th>\n",
       "    </tr>\n",
       "  </thead>\n",
       "  <tbody>\n",
       "    <tr>\n",
       "      <td>TCGA-V4-A9F7-01A</td>\n",
       "      <td>78</td>\n",
       "      <td>417.33.0</td>\n",
       "      <td>Nationwide Children's Hospital</td>\n",
       "      <td>TCGA-V4-A9F7-F66819</td>\n",
       "      <td>DE1CF63C-0469-4545-A095-BCA125977D94</td>\n",
       "      <td>TCGA-V4-A9F7</td>\n",
       "      <td>M0</td>\n",
       "      <td>N0</td>\n",
       "      <td>T3a</td>\n",
       "      <td>Stage IIB</td>\n",
       "      <td>...</td>\n",
       "      <td>747.0</td>\n",
       "      <td>NaN</td>\n",
       "      <td>50.0</td>\n",
       "      <td>False</td>\n",
       "      <td>False</td>\n",
       "      <td>NaN</td>\n",
       "      <td>Primary Tumor</td>\n",
       "      <td>1</td>\n",
       "      <td>released</td>\n",
       "      <td>Not Reported</td>\n",
       "    </tr>\n",
       "    <tr>\n",
       "      <td>TCGA-V4-A9E5-01A</td>\n",
       "      <td>51</td>\n",
       "      <td>417.33.0</td>\n",
       "      <td>Nationwide Children's Hospital</td>\n",
       "      <td>TCGA-V4-A9E5-F66658</td>\n",
       "      <td>C0DCBFC1-2F12-48AF-AF9C-498E1F89A1A4</td>\n",
       "      <td>TCGA-V4-A9E5</td>\n",
       "      <td>M0</td>\n",
       "      <td>N0</td>\n",
       "      <td>T4b</td>\n",
       "      <td>Stage IIIB</td>\n",
       "      <td>...</td>\n",
       "      <td>1923.0</td>\n",
       "      <td>NaN</td>\n",
       "      <td>80.0</td>\n",
       "      <td>False</td>\n",
       "      <td>False</td>\n",
       "      <td>NaN</td>\n",
       "      <td>Primary Tumor</td>\n",
       "      <td>1</td>\n",
       "      <td>released</td>\n",
       "      <td>Not Reported</td>\n",
       "    </tr>\n",
       "    <tr>\n",
       "      <td>TCGA-V4-A9EE-01A</td>\n",
       "      <td>86</td>\n",
       "      <td>417.33.0</td>\n",
       "      <td>Nationwide Children's Hospital</td>\n",
       "      <td>NaN</td>\n",
       "      <td>NaN</td>\n",
       "      <td>TCGA-V4-A9EE</td>\n",
       "      <td>M0</td>\n",
       "      <td>N0</td>\n",
       "      <td>T3a</td>\n",
       "      <td>Stage IIB</td>\n",
       "      <td>...</td>\n",
       "      <td>537.0</td>\n",
       "      <td>NaN</td>\n",
       "      <td>40.0</td>\n",
       "      <td>False</td>\n",
       "      <td>False</td>\n",
       "      <td>NaN</td>\n",
       "      <td>Primary Tumor</td>\n",
       "      <td>1</td>\n",
       "      <td>released</td>\n",
       "      <td>Not Reported</td>\n",
       "    </tr>\n",
       "    <tr>\n",
       "      <td>TCGA-YZ-A985-01A</td>\n",
       "      <td>41</td>\n",
       "      <td>417.33.0</td>\n",
       "      <td>Nationwide Children's Hospital</td>\n",
       "      <td>TCGA-YZ-A985-F66494</td>\n",
       "      <td>3ED3D1AA-1412-4225-B2BD-D1952057C31C</td>\n",
       "      <td>TCGA-YZ-A985</td>\n",
       "      <td>M0</td>\n",
       "      <td>N0</td>\n",
       "      <td>T4a</td>\n",
       "      <td>Stage IIIA</td>\n",
       "      <td>...</td>\n",
       "      <td>595.0</td>\n",
       "      <td>NaN</td>\n",
       "      <td>40.0</td>\n",
       "      <td>False</td>\n",
       "      <td>False</td>\n",
       "      <td>NaN</td>\n",
       "      <td>Primary Tumor</td>\n",
       "      <td>1</td>\n",
       "      <td>released</td>\n",
       "      <td>Not Reported</td>\n",
       "    </tr>\n",
       "    <tr>\n",
       "      <td>TCGA-VD-A8KF-01A</td>\n",
       "      <td>68</td>\n",
       "      <td>417.33.0</td>\n",
       "      <td>Nationwide Children's Hospital</td>\n",
       "      <td>NaN</td>\n",
       "      <td>NaN</td>\n",
       "      <td>TCGA-VD-A8KF</td>\n",
       "      <td>M0</td>\n",
       "      <td>N0</td>\n",
       "      <td>T4b</td>\n",
       "      <td>Stage IIIB</td>\n",
       "      <td>...</td>\n",
       "      <td>309.0</td>\n",
       "      <td>NaN</td>\n",
       "      <td>120.0</td>\n",
       "      <td>False</td>\n",
       "      <td>False</td>\n",
       "      <td>NaN</td>\n",
       "      <td>Primary Tumor</td>\n",
       "      <td>1</td>\n",
       "      <td>released</td>\n",
       "      <td>Not Reported</td>\n",
       "    </tr>\n",
       "  </tbody>\n",
       "</table>\n",
       "<p>5 rows × 108 columns</p>\n",
       "</div>"
      ],
      "text/plain": [
       "                      age_at_initial_pathologic_diagnosis batch_number  \\\n",
       "submitter_id.samples                                                     \n",
       "TCGA-V4-A9F7-01A                                       78     417.33.0   \n",
       "TCGA-V4-A9E5-01A                                       51     417.33.0   \n",
       "TCGA-V4-A9EE-01A                                       86     417.33.0   \n",
       "TCGA-YZ-A985-01A                                       41     417.33.0   \n",
       "TCGA-VD-A8KF-01A                                       68     417.33.0   \n",
       "\n",
       "                                                 bcr bcr_followup_barcode  \\\n",
       "submitter_id.samples                                                        \n",
       "TCGA-V4-A9F7-01A      Nationwide Children's Hospital  TCGA-V4-A9F7-F66819   \n",
       "TCGA-V4-A9E5-01A      Nationwide Children's Hospital  TCGA-V4-A9E5-F66658   \n",
       "TCGA-V4-A9EE-01A      Nationwide Children's Hospital                  NaN   \n",
       "TCGA-YZ-A985-01A      Nationwide Children's Hospital  TCGA-YZ-A985-F66494   \n",
       "TCGA-VD-A8KF-01A      Nationwide Children's Hospital                  NaN   \n",
       "\n",
       "                                         bcr_followup_uuid  submitter_id  \\\n",
       "submitter_id.samples                                                       \n",
       "TCGA-V4-A9F7-01A      DE1CF63C-0469-4545-A095-BCA125977D94  TCGA-V4-A9F7   \n",
       "TCGA-V4-A9E5-01A      C0DCBFC1-2F12-48AF-AF9C-498E1F89A1A4  TCGA-V4-A9E5   \n",
       "TCGA-V4-A9EE-01A                                       NaN  TCGA-V4-A9EE   \n",
       "TCGA-YZ-A985-01A      3ED3D1AA-1412-4225-B2BD-D1952057C31C  TCGA-YZ-A985   \n",
       "TCGA-VD-A8KF-01A                                       NaN  TCGA-VD-A8KF   \n",
       "\n",
       "                     clinical_M clinical_N clinical_T clinical_stage  ...  \\\n",
       "submitter_id.samples                                                  ...   \n",
       "TCGA-V4-A9F7-01A             M0         N0        T3a      Stage IIB  ...   \n",
       "TCGA-V4-A9E5-01A             M0         N0        T4b     Stage IIIB  ...   \n",
       "TCGA-V4-A9EE-01A             M0         N0        T3a      Stage IIB  ...   \n",
       "TCGA-YZ-A985-01A             M0         N0        T4a     Stage IIIA  ...   \n",
       "TCGA-VD-A8KF-01A             M0         N0        T4b     Stage IIIB  ...   \n",
       "\n",
       "                      days_to_collection.samples  \\\n",
       "submitter_id.samples                               \n",
       "TCGA-V4-A9F7-01A                           747.0   \n",
       "TCGA-V4-A9E5-01A                          1923.0   \n",
       "TCGA-V4-A9EE-01A                           537.0   \n",
       "TCGA-YZ-A985-01A                           595.0   \n",
       "TCGA-VD-A8KF-01A                           309.0   \n",
       "\n",
       "                      days_to_sample_procurement.samples  \\\n",
       "submitter_id.samples                                       \n",
       "TCGA-V4-A9F7-01A                                     NaN   \n",
       "TCGA-V4-A9E5-01A                                     NaN   \n",
       "TCGA-V4-A9EE-01A                                     NaN   \n",
       "TCGA-YZ-A985-01A                                     NaN   \n",
       "TCGA-VD-A8KF-01A                                     NaN   \n",
       "\n",
       "                      initial_weight.samples is_ffpe.samples  \\\n",
       "submitter_id.samples                                           \n",
       "TCGA-V4-A9F7-01A                        50.0           False   \n",
       "TCGA-V4-A9E5-01A                        80.0           False   \n",
       "TCGA-V4-A9EE-01A                        40.0           False   \n",
       "TCGA-YZ-A985-01A                        40.0           False   \n",
       "TCGA-VD-A8KF-01A                       120.0           False   \n",
       "\n",
       "                     oct_embedded.samples preservation_method.samples  \\\n",
       "submitter_id.samples                                                    \n",
       "TCGA-V4-A9F7-01A                    False                         NaN   \n",
       "TCGA-V4-A9E5-01A                    False                         NaN   \n",
       "TCGA-V4-A9EE-01A                    False                         NaN   \n",
       "TCGA-YZ-A985-01A                    False                         NaN   \n",
       "TCGA-VD-A8KF-01A                    False                         NaN   \n",
       "\n",
       "                     sample_type.samples sample_type_id.samples state.samples  \\\n",
       "submitter_id.samples                                                            \n",
       "TCGA-V4-A9F7-01A           Primary Tumor                      1      released   \n",
       "TCGA-V4-A9E5-01A           Primary Tumor                      1      released   \n",
       "TCGA-V4-A9EE-01A           Primary Tumor                      1      released   \n",
       "TCGA-YZ-A985-01A           Primary Tumor                      1      released   \n",
       "TCGA-VD-A8KF-01A           Primary Tumor                      1      released   \n",
       "\n",
       "                     tissue_type.samples  \n",
       "submitter_id.samples                      \n",
       "TCGA-V4-A9F7-01A            Not Reported  \n",
       "TCGA-V4-A9E5-01A            Not Reported  \n",
       "TCGA-V4-A9EE-01A            Not Reported  \n",
       "TCGA-YZ-A985-01A            Not Reported  \n",
       "TCGA-VD-A8KF-01A            Not Reported  \n",
       "\n",
       "[5 rows x 108 columns]"
      ]
     },
     "execution_count": 10,
     "metadata": {},
     "output_type": "execute_result"
    }
   ],
   "source": [
    "phenotypes = pd.read_csv(\"../data/TCGA-UVM.GDC_phenotype.tsv\",delimiter=\"\\t\",index_col=\"submitter_id.samples\")\n",
    "phenotypes.head()"
   ]
  },
  {
   "cell_type": "code",
   "execution_count": 13,
   "metadata": {
    "hidden": true
   },
   "outputs": [
    {
     "data": {
      "text/html": [
       "<div>\n",
       "<style scoped>\n",
       "    .dataframe tbody tr th:only-of-type {\n",
       "        vertical-align: middle;\n",
       "    }\n",
       "\n",
       "    .dataframe tbody tr th {\n",
       "        vertical-align: top;\n",
       "    }\n",
       "\n",
       "    .dataframe thead th {\n",
       "        text-align: right;\n",
       "    }\n",
       "</style>\n",
       "<table border=\"1\" class=\"dataframe\">\n",
       "  <thead>\n",
       "    <tr style=\"text-align: right;\">\n",
       "      <th></th>\n",
       "      <th>SUBTYPE</th>\n",
       "      <th>CANCER_TYPE_ACRONYM</th>\n",
       "      <th>CENTER</th>\n",
       "      <th>IN_PANCANPATHWAYS_FREEZE</th>\n",
       "      <th>OS_STATUS</th>\n",
       "      <th>OS_MONTHS</th>\n",
       "      <th>DSS_STATUS</th>\n",
       "      <th>DSS_MONTHS</th>\n",
       "      <th>PFS_STATUS</th>\n",
       "      <th>PFS_MONTHS</th>\n",
       "    </tr>\n",
       "    <tr>\n",
       "      <th>PATIENT_ID</th>\n",
       "      <th></th>\n",
       "      <th></th>\n",
       "      <th></th>\n",
       "      <th></th>\n",
       "      <th></th>\n",
       "      <th></th>\n",
       "      <th></th>\n",
       "      <th></th>\n",
       "      <th></th>\n",
       "      <th></th>\n",
       "    </tr>\n",
       "  </thead>\n",
       "  <tbody>\n",
       "    <tr>\n",
       "      <td>TCGA-V4-A9F8</td>\n",
       "      <td>UVM</td>\n",
       "      <td>UVM</td>\n",
       "      <td>Institut Curie</td>\n",
       "      <td>Yes</td>\n",
       "      <td>LIVING</td>\n",
       "      <td>19.627182</td>\n",
       "      <td>ALIVE OR DEAD TUMOR FREE</td>\n",
       "      <td>19.627182</td>\n",
       "      <td>CENSORED</td>\n",
       "      <td>19.627182</td>\n",
       "    </tr>\n",
       "    <tr>\n",
       "      <td>TCGA-V4-A9EQ</td>\n",
       "      <td>UVM</td>\n",
       "      <td>UVM</td>\n",
       "      <td>Institut Curie</td>\n",
       "      <td>Yes</td>\n",
       "      <td>DECEASED</td>\n",
       "      <td>14.958740</td>\n",
       "      <td>DEAD WITH TUMOR</td>\n",
       "      <td>14.958740</td>\n",
       "      <td>PROGRESSION</td>\n",
       "      <td>8.284841</td>\n",
       "    </tr>\n",
       "    <tr>\n",
       "      <td>TCGA-V4-A9EE</td>\n",
       "      <td>UVM</td>\n",
       "      <td>UVM</td>\n",
       "      <td>Institut Curie</td>\n",
       "      <td>Yes</td>\n",
       "      <td>DECEASED</td>\n",
       "      <td>13.084788</td>\n",
       "      <td>DEAD WITH TUMOR</td>\n",
       "      <td>13.084788</td>\n",
       "      <td>PROGRESSION</td>\n",
       "      <td>6.936910</td>\n",
       "    </tr>\n",
       "    <tr>\n",
       "      <td>TCGA-V3-A9ZY</td>\n",
       "      <td>UVM</td>\n",
       "      <td>UVM</td>\n",
       "      <td>Cleveland Clinic Foundation</td>\n",
       "      <td>Yes</td>\n",
       "      <td>LIVING</td>\n",
       "      <td>15.090246</td>\n",
       "      <td>ALIVE OR DEAD TUMOR FREE</td>\n",
       "      <td>15.090246</td>\n",
       "      <td>CENSORED</td>\n",
       "      <td>15.090246</td>\n",
       "    </tr>\n",
       "    <tr>\n",
       "      <td>TCGA-V4-A9EU</td>\n",
       "      <td>UVM</td>\n",
       "      <td>UVM</td>\n",
       "      <td>Institut Curie</td>\n",
       "      <td>Yes</td>\n",
       "      <td>LIVING</td>\n",
       "      <td>23.309334</td>\n",
       "      <td>ALIVE OR DEAD TUMOR FREE</td>\n",
       "      <td>23.309334</td>\n",
       "      <td>PROGRESSION</td>\n",
       "      <td>2.827366</td>\n",
       "    </tr>\n",
       "  </tbody>\n",
       "</table>\n",
       "</div>"
      ],
      "text/plain": [
       "             SUBTYPE CANCER_TYPE_ACRONYM                       CENTER  \\\n",
       "PATIENT_ID                                                              \n",
       "TCGA-V4-A9F8     UVM                 UVM               Institut Curie   \n",
       "TCGA-V4-A9EQ     UVM                 UVM               Institut Curie   \n",
       "TCGA-V4-A9EE     UVM                 UVM               Institut Curie   \n",
       "TCGA-V3-A9ZY     UVM                 UVM  Cleveland Clinic Foundation   \n",
       "TCGA-V4-A9EU     UVM                 UVM               Institut Curie   \n",
       "\n",
       "             IN_PANCANPATHWAYS_FREEZE OS_STATUS  OS_MONTHS  \\\n",
       "PATIENT_ID                                                   \n",
       "TCGA-V4-A9F8                      Yes    LIVING  19.627182   \n",
       "TCGA-V4-A9EQ                      Yes  DECEASED  14.958740   \n",
       "TCGA-V4-A9EE                      Yes  DECEASED  13.084788   \n",
       "TCGA-V3-A9ZY                      Yes    LIVING  15.090246   \n",
       "TCGA-V4-A9EU                      Yes    LIVING  23.309334   \n",
       "\n",
       "                            DSS_STATUS  DSS_MONTHS   PFS_STATUS  PFS_MONTHS  \n",
       "PATIENT_ID                                                                   \n",
       "TCGA-V4-A9F8  ALIVE OR DEAD TUMOR FREE   19.627182     CENSORED   19.627182  \n",
       "TCGA-V4-A9EQ           DEAD WITH TUMOR   14.958740  PROGRESSION    8.284841  \n",
       "TCGA-V4-A9EE           DEAD WITH TUMOR   13.084788  PROGRESSION    6.936910  \n",
       "TCGA-V3-A9ZY  ALIVE OR DEAD TUMOR FREE   15.090246     CENSORED   15.090246  \n",
       "TCGA-V4-A9EU  ALIVE OR DEAD TUMOR FREE   23.309334  PROGRESSION    2.827366  "
      ]
     },
     "execution_count": 13,
     "metadata": {},
     "output_type": "execute_result"
    }
   ],
   "source": [
    "phenotypes_2 = pd.read_csv('C:/Users/NathanGrant/Programs/TripodsREU/data/uvm_tcga_pan_can_atlas_2018/data_clinical_patient.txt',delimiter=\"\\t\",index_col=\"PATIENT_ID\")\n",
    "phenotypes_2.head()"
   ]
  },
  {
   "cell_type": "code",
   "execution_count": 195,
   "metadata": {
    "hidden": true
   },
   "outputs": [
    {
     "data": {
      "text/plain": [
       "'\\nKeys: Patient ID\\n    Attributes:\\n        BAP1_mutation\\n        Expression_Vector\\n        Immune_Fractions\\n        DSS_time\\n        Tumor_size\\n'"
      ]
     },
     "execution_count": 195,
     "metadata": {},
     "output_type": "execute_result"
    }
   ],
   "source": [
    "patient_dict = {}\n",
    "'''\n",
    "Keys: Patient ID\n",
    "    Attributes:\n",
    "        BAP1_mutation\n",
    "        Expression_Vector\n",
    "        Immune_Fractions\n",
    "        DSS_time\n",
    "        Tumor_size\n",
    "'''"
   ]
  },
  {
   "cell_type": "code",
   "execution_count": 280,
   "metadata": {
    "hidden": true
   },
   "outputs": [],
   "source": [
    "for patient_id in list(gene_expression.index):\n",
    "    patient_dict[patient_id] = {}\n",
    "    patient_dict[patient_id]['BAP1_mutation'] = presence_df.loc['BAP1', patient_id]\n",
    "    patient_dict[patient_id]['expression_values'] = gene_expression.loc[patient_id].values\n",
    "    patient_dict[patient_id]['immune_fractions'] = immune_fractions_df.loc[patient_id].values\n",
    "    patient_dict[patient_id]['DSS_time'] = phenotypes_2.loc[patient_id[:-3],'DSS_MONTHS']\n",
    "    if phenotypes_2.loc[patient_id[:-3],'OS_STATUS'] == 'LIVING':\n",
    "        patient_dict[patient_id]['os_status'] = 1\n",
    "    else:\n",
    "        patient_dict[patient_id]['os_status'] = 0\n",
    "    if patient_id+\"A\" in list(phenotypes.index):\n",
    "        patient_dict[patient_id]['tumor_size'] = phenotypes.loc[patient_id+\"A\",'tumor_basal_diameter']\n",
    "    else:\n",
    "        patient_dict[patient_id]['tumor_size'] = np.nan\n",
    "    if patient_id+\"A\" in list(phenotypes.index):\n",
    "        patient_dict[patient_id]['weight'] = phenotypes.loc[patient_id+\"A\",'weight']\n",
    "    else:\n",
    "        patient_dict[patient_id]['weight'] = np.nan\n",
    "    if patient_id+\"A\" in list(phenotypes.index):\n",
    "        patient_dict[patient_id]['age'] = phenotypes.loc[patient_id+\"A\",'age_at_initial_pathologic_diagnosis']\n",
    "    else:\n",
    "        patient_dict[patient_id]['age'] = np.nan"
   ]
  },
  {
   "cell_type": "markdown",
   "metadata": {
    "heading_collapsed": true
   },
   "source": [
    "## See if the PCA vectors correlate well with the top 10 most variant genes in the set"
   ]
  },
  {
   "cell_type": "code",
   "execution_count": 42,
   "metadata": {
    "hidden": true
   },
   "outputs": [
    {
     "data": {
      "text/html": [
       "<div>\n",
       "<style scoped>\n",
       "    .dataframe tbody tr th:only-of-type {\n",
       "        vertical-align: middle;\n",
       "    }\n",
       "\n",
       "    .dataframe tbody tr th {\n",
       "        vertical-align: top;\n",
       "    }\n",
       "\n",
       "    .dataframe thead th {\n",
       "        text-align: right;\n",
       "    }\n",
       "</style>\n",
       "<table border=\"1\" class=\"dataframe\">\n",
       "  <thead>\n",
       "    <tr style=\"text-align: right;\">\n",
       "      <th>Hugo_Symbol</th>\n",
       "      <th>C6orf182</th>\n",
       "      <th>CUL2</th>\n",
       "      <th>OR2A25</th>\n",
       "      <th>PROK2</th>\n",
       "      <th>RPA4</th>\n",
       "      <th>SLC25A26</th>\n",
       "      <th>SNCA</th>\n",
       "      <th>UHRF1BP1L</th>\n",
       "      <th>UPP2</th>\n",
       "      <th>USP45</th>\n",
       "    </tr>\n",
       "  </thead>\n",
       "  <tbody>\n",
       "    <tr>\n",
       "      <td>TCGA-RZ-AB0B-01</td>\n",
       "      <td>0.673475</td>\n",
       "      <td>0.726316</td>\n",
       "      <td>0.442036</td>\n",
       "      <td>0.000000</td>\n",
       "      <td>0.366882</td>\n",
       "      <td>0.024908</td>\n",
       "      <td>0.142918</td>\n",
       "      <td>0.691279</td>\n",
       "      <td>0.559059</td>\n",
       "      <td>0.493303</td>\n",
       "    </tr>\n",
       "    <tr>\n",
       "      <td>TCGA-V3-A9ZX-01</td>\n",
       "      <td>0.312556</td>\n",
       "      <td>0.680434</td>\n",
       "      <td>0.000000</td>\n",
       "      <td>0.381892</td>\n",
       "      <td>0.000000</td>\n",
       "      <td>0.065313</td>\n",
       "      <td>0.030856</td>\n",
       "      <td>0.462965</td>\n",
       "      <td>0.000000</td>\n",
       "      <td>0.220801</td>\n",
       "    </tr>\n",
       "    <tr>\n",
       "      <td>TCGA-V3-A9ZY-01</td>\n",
       "      <td>0.305131</td>\n",
       "      <td>0.141479</td>\n",
       "      <td>0.947596</td>\n",
       "      <td>0.000000</td>\n",
       "      <td>0.524353</td>\n",
       "      <td>0.716099</td>\n",
       "      <td>0.695368</td>\n",
       "      <td>0.169069</td>\n",
       "      <td>0.000000</td>\n",
       "      <td>0.139430</td>\n",
       "    </tr>\n",
       "    <tr>\n",
       "      <td>TCGA-V4-A9E5-01</td>\n",
       "      <td>0.169720</td>\n",
       "      <td>0.080940</td>\n",
       "      <td>0.000000</td>\n",
       "      <td>0.552311</td>\n",
       "      <td>0.000000</td>\n",
       "      <td>0.954424</td>\n",
       "      <td>0.813876</td>\n",
       "      <td>0.071357</td>\n",
       "      <td>0.000000</td>\n",
       "      <td>0.108472</td>\n",
       "    </tr>\n",
       "    <tr>\n",
       "      <td>TCGA-V4-A9E7-01</td>\n",
       "      <td>0.064381</td>\n",
       "      <td>0.270155</td>\n",
       "      <td>0.257475</td>\n",
       "      <td>0.414721</td>\n",
       "      <td>0.000000</td>\n",
       "      <td>0.085158</td>\n",
       "      <td>0.036538</td>\n",
       "      <td>0.308268</td>\n",
       "      <td>0.651341</td>\n",
       "      <td>0.371597</td>\n",
       "    </tr>\n",
       "    <tr>\n",
       "      <td>TCGA-V4-A9E8-01</td>\n",
       "      <td>0.040975</td>\n",
       "      <td>0.033782</td>\n",
       "      <td>0.000000</td>\n",
       "      <td>0.000000</td>\n",
       "      <td>0.710201</td>\n",
       "      <td>0.170229</td>\n",
       "      <td>0.079850</td>\n",
       "      <td>0.066266</td>\n",
       "      <td>0.000000</td>\n",
       "      <td>0.037085</td>\n",
       "    </tr>\n",
       "    <tr>\n",
       "      <td>TCGA-V4-A9E9-01</td>\n",
       "      <td>0.020614</td>\n",
       "      <td>0.141812</td>\n",
       "      <td>0.000000</td>\n",
       "      <td>0.000000</td>\n",
       "      <td>0.000000</td>\n",
       "      <td>0.445166</td>\n",
       "      <td>0.008950</td>\n",
       "      <td>0.051753</td>\n",
       "      <td>0.796169</td>\n",
       "      <td>0.041817</td>\n",
       "    </tr>\n",
       "    <tr>\n",
       "      <td>TCGA-V4-A9EA-01</td>\n",
       "      <td>0.037395</td>\n",
       "      <td>0.002711</td>\n",
       "      <td>0.489506</td>\n",
       "      <td>0.000000</td>\n",
       "      <td>0.000000</td>\n",
       "      <td>0.927849</td>\n",
       "      <td>0.300599</td>\n",
       "      <td>0.000000</td>\n",
       "      <td>0.000000</td>\n",
       "      <td>0.000000</td>\n",
       "    </tr>\n",
       "    <tr>\n",
       "      <td>TCGA-V4-A9EC-01</td>\n",
       "      <td>0.152680</td>\n",
       "      <td>0.372804</td>\n",
       "      <td>0.393137</td>\n",
       "      <td>0.000000</td>\n",
       "      <td>0.000000</td>\n",
       "      <td>0.883997</td>\n",
       "      <td>0.102416</td>\n",
       "      <td>0.080122</td>\n",
       "      <td>0.000000</td>\n",
       "      <td>0.168111</td>\n",
       "    </tr>\n",
       "    <tr>\n",
       "      <td>TCGA-V4-A9ED-01</td>\n",
       "      <td>0.141226</td>\n",
       "      <td>0.192303</td>\n",
       "      <td>0.492362</td>\n",
       "      <td>0.793058</td>\n",
       "      <td>0.000000</td>\n",
       "      <td>0.184891</td>\n",
       "      <td>0.058773</td>\n",
       "      <td>0.085567</td>\n",
       "      <td>0.000000</td>\n",
       "      <td>0.103624</td>\n",
       "    </tr>\n",
       "  </tbody>\n",
       "</table>\n",
       "</div>"
      ],
      "text/plain": [
       "Hugo_Symbol      C6orf182      CUL2    OR2A25     PROK2      RPA4  SLC25A26  \\\n",
       "TCGA-RZ-AB0B-01  0.673475  0.726316  0.442036  0.000000  0.366882  0.024908   \n",
       "TCGA-V3-A9ZX-01  0.312556  0.680434  0.000000  0.381892  0.000000  0.065313   \n",
       "TCGA-V3-A9ZY-01  0.305131  0.141479  0.947596  0.000000  0.524353  0.716099   \n",
       "TCGA-V4-A9E5-01  0.169720  0.080940  0.000000  0.552311  0.000000  0.954424   \n",
       "TCGA-V4-A9E7-01  0.064381  0.270155  0.257475  0.414721  0.000000  0.085158   \n",
       "TCGA-V4-A9E8-01  0.040975  0.033782  0.000000  0.000000  0.710201  0.170229   \n",
       "TCGA-V4-A9E9-01  0.020614  0.141812  0.000000  0.000000  0.000000  0.445166   \n",
       "TCGA-V4-A9EA-01  0.037395  0.002711  0.489506  0.000000  0.000000  0.927849   \n",
       "TCGA-V4-A9EC-01  0.152680  0.372804  0.393137  0.000000  0.000000  0.883997   \n",
       "TCGA-V4-A9ED-01  0.141226  0.192303  0.492362  0.793058  0.000000  0.184891   \n",
       "\n",
       "Hugo_Symbol          SNCA  UHRF1BP1L      UPP2     USP45  \n",
       "TCGA-RZ-AB0B-01  0.142918   0.691279  0.559059  0.493303  \n",
       "TCGA-V3-A9ZX-01  0.030856   0.462965  0.000000  0.220801  \n",
       "TCGA-V3-A9ZY-01  0.695368   0.169069  0.000000  0.139430  \n",
       "TCGA-V4-A9E5-01  0.813876   0.071357  0.000000  0.108472  \n",
       "TCGA-V4-A9E7-01  0.036538   0.308268  0.651341  0.371597  \n",
       "TCGA-V4-A9E8-01  0.079850   0.066266  0.000000  0.037085  \n",
       "TCGA-V4-A9E9-01  0.008950   0.051753  0.796169  0.041817  \n",
       "TCGA-V4-A9EA-01  0.300599   0.000000  0.000000  0.000000  \n",
       "TCGA-V4-A9EC-01  0.102416   0.080122  0.000000  0.168111  \n",
       "TCGA-V4-A9ED-01  0.058773   0.085567  0.000000  0.103624  "
      ]
     },
     "execution_count": 42,
     "metadata": {},
     "output_type": "execute_result"
    }
   ],
   "source": [
    "most_variant = td.variance_threshold_selector(gene_expression.T, threshold=0.0865).T\n",
    "most_variant.assign(m=most_variant.var(axis=1)).sort_values('m').drop('m', axis=1)\n",
    "most_variant.head(10)"
   ]
  },
  {
   "cell_type": "code",
   "execution_count": 41,
   "metadata": {
    "hidden": true
   },
   "outputs": [
    {
     "name": "stdout",
     "output_type": "stream",
     "text": [
      "0.8047858403336848\n"
     ]
    }
   ],
   "source": [
    "pca = PCA(n_components=30)\n",
    "pca_expression = pca.fit_transform(gene_expression.values)\n",
    "print(sum(pca.explained_variance_ratio_))"
   ]
  },
  {
   "cell_type": "code",
   "execution_count": 49,
   "metadata": {
    "hidden": true
   },
   "outputs": [
    {
     "data": {
      "text/plain": [
       "(10, 10)"
      ]
     },
     "execution_count": 49,
     "metadata": {},
     "output_type": "execute_result"
    }
   ],
   "source": [
    "len(pca_expression[0,:10]),len(most_variant.iloc[0].values)"
   ]
  },
  {
   "cell_type": "code",
   "execution_count": 54,
   "metadata": {
    "hidden": true
   },
   "outputs": [
    {
     "data": {
      "text/plain": [
       "-0.0022519125438772575"
      ]
     },
     "execution_count": 54,
     "metadata": {},
     "output_type": "execute_result"
    }
   ],
   "source": [
    "np.mean([stats.pearsonr(pca_expression[i,:10],most_variant.iloc[i].values)[0] for i in range(80)])"
   ]
  },
  {
   "cell_type": "markdown",
   "metadata": {
    "hidden": true
   },
   "source": [
    "If I am doing this correctly then the first 10 pca components and the top 10 most variant genes dont correlate very well with one another with almost 0 correlation."
   ]
  },
  {
   "cell_type": "markdown",
   "metadata": {
    "heading_collapsed": true
   },
   "source": [
    "## Perform Analysis Based off of Most Variant Genes\n",
    "Instead of finding high entropy genes, find the most variant genes in each of the subgroups determined by K-means."
   ]
  },
  {
   "cell_type": "markdown",
   "metadata": {
    "heading_collapsed": true,
    "hidden": true
   },
   "source": [
    "### Helper Functions"
   ]
  },
  {
   "cell_type": "code",
   "execution_count": 243,
   "metadata": {
    "hidden": true
   },
   "outputs": [],
   "source": [
    "def SSE(points, labels, centers):\n",
    "    total_error = 0\n",
    "    data_mean = np.mean(points) \n",
    "    for i in range(len(points)):\n",
    "        total_error += sum((points[i]-data_mean)**2)\n",
    "    return total_error\n",
    "\n",
    "def SSE_bet(points, labels, centers):\n",
    "    total_error = 0\n",
    "    data_mean = np.mean(points) \n",
    "    \n",
    "    for k in range(len(centers)):\n",
    "        n = sum([1 for l in labels if l == k])\n",
    "        total_error += n*(sum((centers[k]-data_mean)**2))\n",
    "    return total_error\n",
    "\n",
    "def cluster_gene_variance(expression_df, pca_components=30, n_clusters=3,variance_threshold=.2):\n",
    "    pca = PCA(n_components=pca_components)\n",
    "    transormed_values = pca.fit_transform(expression_df.values)\n",
    "    print(\"Tot Explained Var (PCA): \", sum(pca.explained_variance_ratio_))\n",
    "    km= KMeans(n_clusters=3,n_init=5,random_state=42)\n",
    "    labels = km.fit_predict(transormed_values)\n",
    "    print(\"Frac Var Exp (k-menas): \",SSE_bet(transormed_values,labels,km.cluster_centers_)/SSE(transormed_values,labels,km.cluster_centers_))\n",
    "    print(Counter(labels))\n",
    "    group_dataframes = [pd.DataFrame(columns=expression_df.columns) for i in range(len(km.cluster_centers_))]\n",
    "    \n",
    "    for i in range(len(labels)):\n",
    "        group_dataframes[labels[i]].loc[list(expression_df.index)[i]]=expression_df.iloc[i]\n",
    "    \n",
    "    for i in range(len(km.cluster_centers_)):\n",
    "        group_dataframes[i]  = td.variance_threshold_selector(group_dataframes[i].T, threshold=variance_threshold).T\n",
    "        group_dataframes[i].assign(m=most_variant.var(axis=1)).sort_values('m').drop('m', axis=1)\n",
    "    return group_dataframes"
   ]
  },
  {
   "cell_type": "markdown",
   "metadata": {
    "hidden": true
   },
   "source": [
    "### Clustering "
   ]
  },
  {
   "cell_type": "code",
   "execution_count": 122,
   "metadata": {
    "hidden": true
   },
   "outputs": [
    {
     "name": "stdout",
     "output_type": "stream",
     "text": [
      "Tot Explained Var (PCA):  0.8045075703997616\n",
      "Frac Var Exp (k-menas):  0.3248861386637211\n",
      "Counter({1: 37, 2: 23, 0: 20})\n"
     ]
    }
   ],
   "source": [
    "group_dataframes = cluster_gene_variance(gene_expression,variance_threshold=.09)"
   ]
  },
  {
   "cell_type": "code",
   "execution_count": 123,
   "metadata": {
    "hidden": true
   },
   "outputs": [
    {
     "data": {
      "text/plain": [
       "((20, 214), (37, 15), (23, 171))"
      ]
     },
     "execution_count": 123,
     "metadata": {},
     "output_type": "execute_result"
    }
   ],
   "source": [
    "group_dataframes[0].shape,group_dataframes[1].shape,group_dataframes[2].shape"
   ]
  },
  {
   "cell_type": "code",
   "execution_count": 124,
   "metadata": {
    "hidden": true
   },
   "outputs": [
    {
     "data": {
      "text/plain": [
       "(Index(['SZT2', 'A4GNT', 'ABCA10', 'ABCC11', 'ACADL', 'ACOX2', 'ACTBL2', 'ADH6',\n",
       "        'ARMC2', 'ASB14'],\n",
       "       dtype='object', name='Hugo_Symbol'),\n",
       " Index(['C17orf98', 'DUSP9', 'FBXO17', 'FSCN3', 'H2AFY2', 'KRT27', 'LOC254559',\n",
       "        'OR2A25', 'OR7E156P', 'PI4KAP2'],\n",
       "       dtype='object', name='Hugo_Symbol'),\n",
       " Index(['ADAM6', 'ADAMTS12', 'ANGPTL5', 'APOF', 'APOL1', 'APOL2', 'APOL3',\n",
       "        'APOL6', 'AQP10', 'ASCL4'],\n",
       "       dtype='object', name='Hugo_Symbol'))"
      ]
     },
     "execution_count": 124,
     "metadata": {},
     "output_type": "execute_result"
    }
   ],
   "source": [
    "group_dataframes[0].columns[:10],group_dataframes[1].columns[:10],group_dataframes[2].columns[:10]"
   ]
  },
  {
   "cell_type": "markdown",
   "metadata": {
    "heading_collapsed": true,
    "hidden": true
   },
   "source": [
    "### Check differences between immune responses"
   ]
  },
  {
   "cell_type": "markdown",
   "metadata": {
    "hidden": true
   },
   "source": [
    "There seems to be no overlap in between each of the 3 groups most variant genes. This is probably also because there is a very low correlation between the transformed PCA vectors and the most variant genes in general so therefore its not representing the genes variance but more of a mixture of a lot of variances. From here I will see if there are significant differences in immune response between these three groups. Then I will look at each of these groups top couple genes and see if there are major expression level differences between the groups. I will then check if these genes showed up in any of the pathways in the GSEA analysis."
   ]
  },
  {
   "cell_type": "code",
   "execution_count": 126,
   "metadata": {
    "hidden": true
   },
   "outputs": [],
   "source": [
    "grouped_ids = [list(group_dataframes[i].index) for i in range(len(group_dataframes))]"
   ]
  },
  {
   "cell_type": "code",
   "execution_count": 131,
   "metadata": {
    "hidden": true
   },
   "outputs": [
    {
     "data": {
      "image/png": "[encoded data removed]",
      "text/plain": [
       "<Figure size 864x504 with 1 Axes>"
      ]
     },
     "metadata": {},
     "output_type": "display_data"
    }
   ],
   "source": [
    "td.cell_frequency_boxplot(immune_fractions_df_uncombined.loc[grouped_ids[0]])"
   ]
  },
  {
   "cell_type": "code",
   "execution_count": 132,
   "metadata": {
    "hidden": true
   },
   "outputs": [
    {
     "data": {
      "image/png": "[encoded data removed]",
      "text/plain": [
       "<Figure size 864x504 with 1 Axes>"
      ]
     },
     "metadata": {},
     "output_type": "display_data"
    }
   ],
   "source": [
    "td.cell_frequency_boxplot(immune_fractions_df_uncombined.loc[grouped_ids[1]])"
   ]
  },
  {
   "cell_type": "code",
   "execution_count": 133,
   "metadata": {
    "hidden": true
   },
   "outputs": [
    {
     "data": {
      "image/png": "[encoded data removed]",
      "text/plain": [
       "<Figure size 864x504 with 1 Axes>"
      ]
     },
     "metadata": {},
     "output_type": "display_data"
    }
   ],
   "source": [
    "td.cell_frequency_boxplot(immune_fractions_df_uncombined.loc[grouped_ids[2]])"
   ]
  },
  {
   "cell_type": "code",
   "execution_count": 173,
   "metadata": {
    "hidden": true
   },
   "outputs": [],
   "source": [
    "def print_significant_immune_differences(immune_fractions, grouped_ids):\n",
    "    ## Test every immune cell against every group and print and return it if significant\n",
    "    immune_cell_types = list(immune_fractions.columns)\n",
    "    for i in range(len(immune_fractions.columns)):\n",
    "        for c in combinations(list(range(len(grouped_ids))),2):\n",
    "            if set(immune_fractions.loc[grouped_ids[c[0]],immune_cell_types[i]].values) != set(immune_fractions.loc[grouped_ids[c[1]],immune_cell_types[i]].values):\n",
    "                mw_result = mannwhitneyu(immune_fractions.loc[grouped_ids[c[0]],immune_cell_types[i]].values,immune_fractions.loc[grouped_ids[c[1]],immune_cell_types[i]].values)\n",
    "                if mw_result[1] < .05:\n",
    "                    print(immune_cell_types[i],\" difference between groups \",c[0],\" \",c[1],\" p-value: \", mw_result[1])"
   ]
  },
  {
   "cell_type": "code",
   "execution_count": 174,
   "metadata": {
    "hidden": true
   },
   "outputs": [
    {
     "name": "stdout",
     "output_type": "stream",
     "text": [
      "B cells  difference between groups  0   2  p-value:  4.652151713465801e-05\n",
      "B cells  difference between groups  1   2  p-value:  0.0027618840101682344\n",
      "CD8 T cells  difference between groups  0   1  p-value:  0.030164526700430048\n",
      "CD8 T cells  difference between groups  0   2  p-value:  0.01171356513755701\n",
      "DC  difference between groups  0   2  p-value:  0.005996099537506214\n",
      "DC  difference between groups  1   2  p-value:  0.04790635312287941\n",
      "Macrophages  difference between groups  1   2  p-value:  0.010843081979782935\n",
      "Monocytes  difference between groups  0   2  p-value:  0.014439102190473702\n"
     ]
    }
   ],
   "source": [
    "print_significant_immune_differences(immune_fractions_df,grouped_ids)"
   ]
  },
  {
   "cell_type": "markdown",
   "metadata": {
    "hidden": true
   },
   "source": [
    "Some interesting differences between these groups of these patients especially since they are some important cell types. \n",
    "\n",
    "- Group 2 seems to have a very different level of B cells than the other groups\n",
    "- Group 0 seems to have a difference in the fraction of CD8 T Cells\n",
    "- Group 2 seems to have a difference in the fraciton of DC Cells\n",
    "- Other minor differences but both including group 2"
   ]
  },
  {
   "cell_type": "markdown",
   "metadata": {
    "heading_collapsed": true,
    "hidden": true
   },
   "source": [
    "### See where BAP1 -1 are distributes amongst these groups"
   ]
  },
  {
   "cell_type": "code",
   "execution_count": 190,
   "metadata": {
    "hidden": true
   },
   "outputs": [
    {
     "name": "stdout",
     "output_type": "stream",
     "text": [
      "Percentage of total BAP1 -1 by cluster:  [0.09090909090909091, 0.38636363636363635, 0.5227272727272727]\n",
      "Percentage of total BAP1 0 by cluster:  [0.4444444444444444, 0.5555555555555556, 0.0]\n",
      "Percentage of BAP1 -1 by cluster:  [0.2, 0.4594594594594595, 1.0]\n",
      "Percentage of BAP1 0 by cluster:  [0.8, 0.5405405405405406, 0.0]\n"
     ]
    }
   ],
   "source": [
    "print(\"Percentage of total BAP1 -1 by cluster: \",[sum([1 for p in grouped_ids[i] if patient_dict[p]['BAP1_mutation'] == -1])/44 for i in range(len(grouped_ids))])\n",
    "print(\"Percentage of total BAP1 0 by cluster: \",[sum([1 for p in grouped_ids[i] if patient_dict[p]['BAP1_mutation'] == 0])/36 for i in range(len(grouped_ids))])\n",
    "print(\"Percentage of BAP1 -1 by cluster: \",[sum([1 for p in grouped_ids[i] if patient_dict[p]['BAP1_mutation'] == -1])/len(grouped_ids[i]) for i in range(len(grouped_ids))])\n",
    "print(\"Percentage of BAP1 0 by cluster: \",[sum([1 for p in grouped_ids[i] if patient_dict[p]['BAP1_mutation'] == 0])/len(grouped_ids[i]) for i in range(len(grouped_ids))])"
   ]
  },
  {
   "cell_type": "code",
   "execution_count": 193,
   "metadata": {
    "hidden": true
   },
   "outputs": [
    {
     "name": "stdout",
     "output_type": "stream",
     "text": [
      "0.052618798542056616\n",
      "6.187731083697695e-08\n",
      "1.5715862481777113e-05\n"
     ]
    }
   ],
   "source": [
    "neg1_group = [[1 if patient_dict[p]['BAP1_mutation'] == -1 else 0 for p in grouped_ids[i] ] for i in range(len(grouped_ids))]\n",
    "zero_group = [[1  if patient_dict[p]['BAP1_mutation'] == 0 else 0 for p in grouped_ids[i]] for i in range(len(grouped_ids))]\n",
    "for c in combinations(list(range(len(grouped_ids))),2):\n",
    "    print(proportions_ztest([sum(neg1_group[c[0]]),sum(neg1_group[c[1]])],[len(neg1_group[c[0]]),len(neg1_group[c[1]])])[1])"
   ]
  },
  {
   "cell_type": "markdown",
   "metadata": {
    "hidden": true
   },
   "source": [
    "Interestingly enough the clusters actually have a difference the amount of patients which carry the BAP1 -1 mutation. This is super interesting because these same groups also have differences in immune cell fractions. I will continue to check the differences in the fractions between the 0 group and the 2 group because there is a stark difference in the patients which have the mutation. 52% of all BAP1 -1 patients are in group 2 while only 9% belong to group 0. Maybe I should check the health outcomes of these patients between these two groups to see if there is anything crazy going on here. Groups 0 and 2 differ on many types of immune cells but I cannot just say that BAP1 -1 is to blame because group 1 has 38% of BAP1 -1 patients! So now I have to look a ways which only groups 0 and 2 are different which is just Monocytes. Now say that 1 and 2 could represent very simmilar groups and we just put them together for arguments sake. There would seem to be a stat significant difference between the aggregated group and group 0 for the fraction of CD8 T cells. A cell which is of importance. I will print out the stat significant results between the BAP1 -1 and BAP1 0 groups to see if there are also relavant differences. "
   ]
  },
  {
   "cell_type": "code",
   "execution_count": 194,
   "metadata": {
    "hidden": true
   },
   "outputs": [
    {
     "name": "stdout",
     "output_type": "stream",
     "text": [
      "B cells  difference between groups  0   1  p-value:  0.0005880102093911836\n",
      "DC  difference between groups  0   1  p-value:  0.04543268254395655\n",
      "Monocytes  difference between groups  0   1  p-value:  0.003818424348530722\n"
     ]
    }
   ],
   "source": [
    "bap1_grouped_ids = [[],[]]\n",
    "for p in list(patient_dict.keys()):\n",
    "    if patient_dict[p]['BAP1_mutation'] == -1:\n",
    "        bap1_grouped_ids[0].append(p)\n",
    "    else:\n",
    "        bap1_grouped_ids[1].append(p)\n",
    "print_significant_immune_differences(immune_fractions_df,bap1_grouped_ids)"
   ]
  },
  {
   "cell_type": "markdown",
   "metadata": {
    "hidden": true
   },
   "source": [
    "No difference in CD8 T cells, interesting... One difference that is also interesing is the fact that there is a large difference between the B cells in the BAP1 -1 group and the BAP1 0 group. This slso showed up in the clustering where group 2, which accounted for 52% of the BAP1 -1 patients and consisted of 100% BAP1 -1 patients also had a difference between the B cells in the other two clusters. There was also a difference in monocytes across the two groups, which again showed up in a test bewteen groups 0 and 2, with 20% and 100% of the clusters being BAP1 -1 respectivley."
   ]
  },
  {
   "cell_type": "markdown",
   "metadata": {},
   "source": [
    "## Test Health Outcomes"
   ]
  },
  {
   "cell_type": "markdown",
   "metadata": {},
   "source": [
    "I am going to see if there are different health outcomes between the three groups. First I will start by seeing if there is any correlation between immune cell fractions and DSS months for all patients. Then I will test it for BAP1 -1 and BAP1 0 patients and finally between the three groups."
   ]
  },
  {
   "cell_type": "markdown",
   "metadata": {
    "heading_collapsed": true
   },
   "source": [
    "### Test All Patients"
   ]
  },
  {
   "cell_type": "code",
   "execution_count": 281,
   "metadata": {
    "hidden": true
   },
   "outputs": [],
   "source": [
    "for i in range(len(immune_fractions_df.columns)):\n",
    "    x = []\n",
    "    y = []\n",
    "    for p in list(patient_dict.keys()):\n",
    "        if not np.isnan(patient_dict[p]['age']):\n",
    "            x.append(patient_dict[p]['immune_fractions'][i])\n",
    "            y.append(patient_dict[p]['age'])\n",
    "    x = np.asarray(x)\n",
    "    \n",
    "    r, p = stats.pearsonr(x,y)\n",
    "    if p < .05:\n",
    "        print(immune_fractions_df.columns[i], \" :\", r, p)    "
   ]
  },
  {
   "cell_type": "markdown",
   "metadata": {
    "hidden": true
   },
   "source": [
    "All patient observations:\n",
    "- negative correlation between the CD8 T cells and the patients living status with a p value of 0.000192 and R of -0.4051 \n",
    "- positive correlation between monocytes and the patients living status with p value 0.01163 and R 0.28079\n",
    "- positive correlation between mast cells and disease survival time with p value .0595 and R of .21155\n",
    "- negative correlation between B cells and tumor basal raduis with p value .00855 and R of -0.29962"
   ]
  },
  {
   "cell_type": "markdown",
   "metadata": {
    "heading_collapsed": true
   },
   "source": [
    "### Test BAP1 -1 and BAP1 0 Patients"
   ]
  },
  {
   "cell_type": "code",
   "execution_count": 282,
   "metadata": {
    "hidden": true
   },
   "outputs": [
    {
     "name": "stdout",
     "output_type": "stream",
     "text": [
      "0  Patients:\n",
      "-1  Patients:\n"
     ]
    }
   ],
   "source": [
    "for opt in [0,-1]:\n",
    "    print(opt, \" Patients:\")\n",
    "    for i in range(len(immune_fractions_df.columns)):\n",
    "        x = []\n",
    "        y = []\n",
    "        for p in list(patient_dict.keys()):\n",
    "            if not np.isnan(patient_dict[p]['age']) and patient_dict[p]['BAP1_mutation'] == opt:\n",
    "                x.append(patient_dict[p]['immune_fractions'][i])\n",
    "                y.append(patient_dict[p]['age'])\n",
    "        x = np.asarray(x)\n",
    "\n",
    "        r, p = stats.pearsonr(x,y)\n",
    "        if p < .05:\n",
    "            print(immune_fractions_df.columns[i], \" :\", r, p)    "
   ]
  },
  {
   "cell_type": "markdown",
   "metadata": {
    "hidden": true
   },
   "source": [
    "0 Patients Observations:\n",
    "- B cells still have a negative correlation with tumor radius with p value 0.0084935 and R -0.4442 which has an even greater magnitude\n",
    "- CD4 T cells have positive correlation with tumor radius with p value .025175 and R 0.38346\n",
    "- CD8 T cells have negative correlation with DSS time with p value of .02512 and R of -0.38358\n",
    "\n",
    "\n",
    "-1 Patients Observations:\n",
    "- No stat significant differences for immune cells on tumor size\n",
    "- NK cells have positive correlation with DSS time with p value .0533 and R of .300218\n",
    "- CD8 T cells have negative correlation with living status with p value 0.02063 and R of -0.3479\n",
    "- Monocytes have positive correlation with living status with p value .03270 and R of .322596\n",
    "- Mast Cells have positive correlation with living status with p value .05187 and R of .30205\n",
    "\n",
    "Its interesting how the relationships are almost totally changed across these groups. For example across all of the patients the correlation between CD8 T cells and living status is negative with a very low p value. However in patients with BAP1 0 its almost nonexistent. The correlation between the two values still remains with BAP1 -1.\n",
    "\n",
    "However its weird because there was a negative correlation with the BAP1 0  group between CD8 T cells and DSS time where there wasnt with BAP1 -1. Kinda conflicting information in a sense because one suggests that the CD8 T cells arent good for both sets of patients but their results from the tests are opposite."
   ]
  },
  {
   "cell_type": "markdown",
   "metadata": {
    "heading_collapsed": true
   },
   "source": [
    "### Test Cluster Groups"
   ]
  },
  {
   "cell_type": "code",
   "execution_count": 283,
   "metadata": {
    "hidden": true
   },
   "outputs": [
    {
     "name": "stdout",
     "output_type": "stream",
     "text": [
      "0  Patients:\n",
      "1  Patients:\n",
      "2  Patients:\n"
     ]
    }
   ],
   "source": [
    "for opt in [0,1,2]:\n",
    "    print(opt, \" Patients:\")\n",
    "    for i in range(len(immune_fractions_df.columns)):\n",
    "        x = []\n",
    "        y = []\n",
    "        for p in list(patient_dict.keys()):\n",
    "            if not np.isnan(patient_dict[p]['age']) and p in grouped_ids[opt]:\n",
    "                x.append(patient_dict[p]['immune_fractions'][i])\n",
    "                y.append(patient_dict[p]['age'])\n",
    "        x = np.asarray(x)\n",
    "        r, p = stats.pointbiserialr(x,y)\n",
    "        if p < .05:\n",
    "            print(immune_fractions_df.columns[i], \" :\", r, p)"
   ]
  },
  {
   "cell_type": "markdown",
   "metadata": {
    "hidden": true
   },
   "source": [
    "Group 0 Patients:\n",
    "- No significant correlation between immune cells and DSS time\n",
    "- Negative correlation between B cells and tumor radius with p value .007016 and R -0.61140\n",
    "- No significant correlation between immune cells and living status\n",
    "- Negative corralation between DC and weight p value .0349724 and R -0.5932\n",
    "\n",
    "Group 1 Patients:\n",
    "- Negative correlation between CD8 T cells and DSS time with pvalue .01516 and R -0.39632 \n",
    "- Negative correlation between CD8 T cells and living status with pvalue .03705 and R -0.344067 \n",
    "- Negative correlation between Plasma cells and weight p value 0.034972 and R -0.43210\n",
    "\n",
    "Group 2 Patients:\n",
    "- No significant correlation between immune cells and DSS time\n",
    "- Positive correlation between B cells and tumor radius with p value .02782 and R .468591\n",
    "- No significant correlation between immune cells and living status\n",
    "- No significant correlation between immune cells and weight\n",
    "\n",
    "Interesting because the two most distinct groups in terms of BAP1 -1 and immune cell wise also have differences in tumor radius which dont come up in all patients. Actually this is really cool because the two groups actually have opposite reations to B cells and tumor radius. It seems that in one group of patients the B cells might actually fight to reduce tumor size where as the other its harmful. "
   ]
  },
  {
   "cell_type": "markdown",
   "metadata": {
    "heading_collapsed": true
   },
   "source": [
    "### Correlation between BAP1 expression and immune cell fractions "
   ]
  },
  {
   "cell_type": "code",
   "execution_count": 229,
   "metadata": {
    "hidden": true
   },
   "outputs": [
    {
     "name": "stdout",
     "output_type": "stream",
     "text": [
      "CD8 T cells  : -0.3372397575435077 0.0022204870595993503\n",
      "Monocytes  : 0.2525139475815361 0.023836013545074187\n"
     ]
    }
   ],
   "source": [
    "for i in range(len(immune_fractions_df.columns)):\n",
    "    x = []\n",
    "    y = []\n",
    "    for p in list(patient_dict.keys()):\n",
    "        if not np.isnan(patient_dict[p]['os_status']):\n",
    "            x.append(patient_dict[p]['immune_fractions'][i])\n",
    "            y.append(gene_expression.loc[p,\"BAP1\"])\n",
    "    x = np.asarray(x)\n",
    "    r, p = stats.pearsonr(y,x)\n",
    "    if p < .05:\n",
    "        print(immune_fractions_df.columns[i], \" :\", r, p)"
   ]
  },
  {
   "cell_type": "markdown",
   "metadata": {
    "hidden": true
   },
   "source": [
    "Interestingly enough there is a correlation between the expression level of BAP1 and CD8 T cells which kinda confirms the previous findings and makes them more interesting. Also a positive correlation between monocytes and expresion. "
   ]
  },
  {
   "cell_type": "code",
   "execution_count": 242,
   "metadata": {
    "hidden": true
   },
   "outputs": [
    {
     "name": "stdout",
     "output_type": "stream",
     "text": [
      "0  Patients:\n",
      "Mast cells  : 0.39183248443145197 0.08752537420858658\n",
      "1  Patients:\n",
      "CD8 T cells  : -0.30450880583287254 0.06688111881900705\n",
      "2  Patients:\n"
     ]
    }
   ],
   "source": [
    "for opt in [0,1,2]:\n",
    "    print(opt, \" Patients:\")\n",
    "    for i in range(len(immune_fractions_df.columns)):\n",
    "        x = []\n",
    "        y = []\n",
    "        for p in list(patient_dict.keys()):\n",
    "            if not np.isnan(patient_dict[p]['os_status']) and p in grouped_ids[opt]:\n",
    "                x.append(patient_dict[p]['immune_fractions'][i])\n",
    "                y.append(gene_expression.loc[p,\"BAP1\"])\n",
    "        x = np.asarray(x)\n",
    "        r, p = stats.pearsonr(y,x)\n",
    "        if p < .1:\n",
    "            print(immune_fractions_df.columns[i], \" :\", r, p)        "
   ]
  },
  {
   "cell_type": "markdown",
   "metadata": {
    "hidden": true
   },
   "source": [
    "No correlations in the groups between immune fractions and BAP1 expression below .05. However group 1 patients have a negative correlation with CD8 Tcells p 0.06688 R -0.3045."
   ]
  },
  {
   "cell_type": "markdown",
   "metadata": {
    "heading_collapsed": true
   },
   "source": [
    "### Test Tumor Diameter Between Groups"
   ]
  },
  {
   "cell_type": "code",
   "execution_count": 264,
   "metadata": {
    "hidden": true
   },
   "outputs": [
    {
     "name": "stdout",
     "output_type": "stream",
     "text": [
      "0 1 0.21559384269752607\n",
      "0 2 0.22836109419686745\n",
      "1 2 0.49088432213832506\n"
     ]
    }
   ],
   "source": [
    "for c in combinations([0,1,2],2):\n",
    "    x1,x2 =[],[]\n",
    "    for p in list(patient_dict.keys()):\n",
    "        if p in grouped_ids[c[0]]:\n",
    "            x1.append(patient_dict[p]['tumor_size'])\n",
    "        elif p in grouped_ids[c[1]]:\n",
    "            x2.append(patient_dict[p]['tumor_size'])\n",
    "            #if not np.isnan(patient_dict[p]['os_status'])\n",
    "    s,p = mannwhitneyu(x1,x2)\n",
    "    print(c[0],c[1], p)"
   ]
  },
  {
   "cell_type": "markdown",
   "metadata": {
    "hidden": true
   },
   "source": [
    "No relationship between group and tumor diameter"
   ]
  },
  {
   "cell_type": "markdown",
   "metadata": {},
   "source": [
    "## Find Highest correlated genes with immune fractions within and across groups\n",
    " Next I will test across all genes to see which genes have the highest corraltion with immune fractions inside each group."
   ]
  },
  {
   "cell_type": "markdown",
   "metadata": {
    "heading_collapsed": true
   },
   "source": [
    "### Correlation between groups high variance genes and immune fractions"
   ]
  },
  {
   "cell_type": "code",
   "execution_count": 262,
   "metadata": {
    "hidden": true
   },
   "outputs": [
    {
     "name": "stdout",
     "output_type": "stream",
     "text": [
      "| ADAM6 | CD8 T cells | 0.4113033813185073 | 0.00015058694212911815 |\n",
      "| ADAMTS12 | Plasma cells | -0.2932908994563443 | 0.008282708116586322 |\n",
      "| ANGPTL5 | CD8 T cells | 0.3263605824506928 | 0.0031320931188003396 |\n",
      "| ANGPTL5 | DC | 0.2213148602203554 | 0.04850875093562445 |\n",
      "| ANGPTL5 | Macrophages | -0.2272957830060853 | 0.042598910681574655 |\n",
      "| APOL1 | CD8 T cells | 0.8163860356692565 | 2.762926954987246e-20 |\n",
      "| APOL1 | NK cells | -0.27659581357445684 | 0.013003530796095434 |\n",
      "| APOL2 | CD8 T cells | 0.8018537006318256 | 4.0082482629661557e-19 |\n",
      "| APOL2 | NK cells | -0.3430276319107869 | 0.0018398407405781894 |\n",
      "| APOL3 | CD8 T cells | 0.7939840959700966 | 1.5581715168079523e-18 |\n",
      "| APOL3 | NK cells | -0.2539149736433083 | 0.023042667466156786 |\n",
      "| APOL6 | CD8 T cells | 0.8456891478420271 | 5.659783786455629e-23 |\n",
      "| APOL6 | NK cells | -0.28219935910650606 | 0.011208995443202658 |\n"
     ]
    }
   ],
   "source": [
    "for gene_name in list(group_dataframes[2].columns[:10]):\n",
    "\n",
    "    for i in range(len(immune_fractions_df.columns)):\n",
    "        x = []\n",
    "        y = []\n",
    "        for p in list(patient_dict.keys()):\n",
    "            if not np.isnan(patient_dict[p]['os_status']):\n",
    "                x.append(patient_dict[p]['immune_fractions'][i])\n",
    "                y.append(gene_expression.loc[p,gene_name])\n",
    "        x = np.asarray(x)\n",
    "        r, p = stats.pearsonr(y,x)\n",
    "        if p < .05:\n",
    "            print(\"|\",gene_name,\"|\",immune_fractions_df.columns[i],\"|\",r,\"|\",p,\"|\")"
   ]
  },
  {
   "cell_type": "markdown",
   "metadata": {
    "hidden": true
   },
   "source": [
    "| Gene Name   | Cell Type | R Value        \t| P-Value  \t| Group High Variance |\n",
    "|---------------|--|----\t|----------\t|---|\n",
    "| ABCA10 | B cells | 0.28179200116084185 | 0.011331764941285476 |0|\n",
    "| ARMC2 | DC | -0.22787830060802805 | 0.04205668991485489 |0|\n",
    "| ARMC2 | Macrophages | -0.2567775643494701 | 0.021491405011294488 | 0|\n",
    "| ASB14 | B cells | 0.25728130616487593 | 0.02122786101474487 | 0|\n",
    "| ASB14 | CD8 T cells | -0.280564472968391 | 0.011708822989887166 | 0|\n",
    "| C17orf98 | B cells | 0.3587043443177811 | 0.0010857382698643964 | 1|\n",
    "| C17orf98 | Mast cells | -0.22558303876555844 | 0.044226846085515234 |1|\n",
    "| DUSP9 | B cells | -0.23297757600853877 | 0.03755027754285113 |1|\n",
    "| FBXO17 | CD8 T cells | -0.3317586091836562 | 0.002644712254017059 |1|\n",
    "| FBXO17 | Monocytes | 0.23272754229542975 | 0.03776143848833793 |1|\n",
    "| FSCN3 | CD8 T cells | -0.2524472549402552 | 0.023874351191423032 |1|\n",
    "| FSCN3 | NK cells | 0.23119047814182087 | 0.03908140648396584 |1|\n",
    "| H2AFY2 | B cells | 0.3046289760925882 | 0.006006479549340465 |1|\n",
    "| H2AFY2 | CD8 T cells | -0.29182930375403293 | 0.00862529676482781 |1|\n",
    "| KRT27 | T cells gamma delta | 0.28045197768360464 | 0.011743917701267191 |1|\n",
    "| OR2A25 | Eosinophils | 0.3055488211812461 | 0.005848735239136408 |1|\n",
    "| OR7E156P | Mast cells | 0.3364644069654985 | 0.0022765227333401477 |1|\n",
    "| PI4KAP2 | B cells | -0.22745484949453354 | 0.04245027575947436 |1|\n",
    "| ADAM6 | CD8 T cells | 0.4113033813185073 | 0.00015058694212911815 |2 |\n",
    "| ADAMTS12 | Plasma cells | -0.2932908994563443 | 0.008282708116586322 |2 |\n",
    "| ANGPTL5 | CD8 T cells | 0.3263605824506928 | 0.0031320931188003396 |2 |\n",
    "| ANGPTL5 | DC | 0.2213148602203554 | 0.04850875093562445 |2 |\n",
    "| ANGPTL5 | Macrophages | -0.2272957830060853 | 0.042598910681574655 |2 |\n",
    "| APOL1 | CD8 T cells | 0.8163860356692565 | 2.762926954987246e-20 |2 |\n",
    "| APOL1 | NK cells | -0.27659581357445684 | 0.013003530796095434 |2 |\n",
    "| APOL2 | CD8 T cells | 0.8018537006318256 | 4.0082482629661557e-19 |2 |\n",
    "| APOL2 | NK cells | -0.3430276319107869 | 0.0018398407405781894 |2 |\n",
    "| APOL3 | CD8 T cells | 0.7939840959700966 | 1.5581715168079523e-18 |2 |\n",
    "| APOL3 | NK cells | -0.2539149736433083 | 0.023042667466156786 |2 |\n",
    "| APOL6 | CD8 T cells | 0.8456891478420271 | 5.659783786455629e-23 |2 |\n",
    "| APOL6 | NK cells | -0.28219935910650606 | 0.011208995443202658 |2 |\n",
    "\n",
    "The APOL genes have a crazy high correlation with immune cell types of interest such as CD8 t cells and are of highest variance in group 2. Other than that the other high variance genes also have high positive correlations with CD8 T cells "
   ]
  },
  {
   "cell_type": "markdown",
   "metadata": {
    "heading_collapsed": true
   },
   "source": [
    "### Differences between groups high variance gene expressions"
   ]
  },
  {
   "cell_type": "markdown",
   "metadata": {
    "hidden": true
   },
   "source": [
    "Here I am going to go over each of the most variant genes in each of the groups and see which ones show stat significantly differences in expression levels over groups. "
   ]
  },
  {
   "cell_type": "code",
   "execution_count": 273,
   "metadata": {
    "code_folding": [],
    "hidden": true
   },
   "outputs": [
    {
     "name": "stdout",
     "output_type": "stream",
     "text": [
      "| ADAM6 | 0 | 2 | 0.04302419804357056 | 2|\n",
      "| ADAMTS12 | 0 | 2 | 0.011352131825035075 | 2|\n",
      "| ADAMTS12 | 1 | 2 | 0.04284892804866945 | 2|\n",
      "| ANGPTL5 | 0 | 1 | 0.008740505467272331 | 2|\n",
      "| ANGPTL5 | 1 | 2 | 0.0017613597400474813 | 2|\n",
      "| APOL1 | 0 | 1 | 0.0040213797525728385 | 2|\n",
      "| APOL1 | 0 | 2 | 1.65119139283993e-05 | 2|\n",
      "| APOL1 | 1 | 2 | 0.0005696047237191928 | 2|\n"
     ]
    }
   ],
   "source": [
    "for gene_name in list(group_dataframes[2].columns[:5]):\n",
    "    for c in combinations([0,1,2],2):\n",
    "        x1,x2 =[],[]\n",
    "        for p in list(patient_dict.keys()):\n",
    "            if p in grouped_ids[c[0]]:\n",
    "                x1.append(gene_expression.loc[p,gene_name])\n",
    "            elif p in grouped_ids[c[1]]:\n",
    "                x2.append(gene_expression.loc[p,gene_name])\n",
    "                #if not np.isnan(patient_dict[p]['os_status'])\n",
    "        s,p = mannwhitneyu(x1,x2)\n",
    "        if p < .05:\n",
    "            print(\"|\",gene_name,\"|\",c[0],\"|\",c[1],\"|\", p,\"|\",\"2|\")"
   ]
  },
  {
   "cell_type": "markdown",
   "metadata": {
    "hidden": true
   },
   "source": [
    "| Gene Name   | Group 1 | Group 2        \t| P-Value  \t| Group High Variance |\n",
    "|---------------|--|----\t|----------\t|---|\n",
    "| SZT2 | 0 | 1 | 1.4168483349797699e-05 | 0|\n",
    "| SZT2 | 1 | 2 | 0.0003746730269511046 | 0|\n",
    "| A4GNT | 0 | 1 | 8.564878672376923e-07 | 0|\n",
    "| A4GNT | 1 | 2 | 0.00026372618054553923 | 0|\n",
    "| ABCA10 | 0 | 1 | 6.128557887613426e-08 | 0|\n",
    "| ABCA10 | 1 | 2 | 2.0232053612554402e-09 | 0|\n",
    "| ACADL | 0 | 1 | 0.004204579455134707 | 0|\n",
    "| ACADL | 0 | 2 | 0.015406556460516549 | 0|\n",
    "| DUSP9 | 0 | 2 | 0.0005283613592797177 | 1|\n",
    "| FBXO17 | 0 | 2 | 2.296286658236114e-08 | 1|\n",
    "| FBXO17 | 1 | 2 | 5.9874568414734473e-05 | 1|\n",
    "| H2AFY2 | 0 | 2 | 3.13930068004837e-06 | 1|\n",
    "| H2AFY2 | 1 | 2 | 0.003102572190670043 | 1|\n",
    "| ADAM6 | 0 | 2 | 0.04302419804357056 | 2|\n",
    "| ADAMTS12 | 0 | 2 | 0.011352131825035075 | 2|\n",
    "| ADAMTS12 | 1 | 2 | 0.04284892804866945 | 2|\n",
    "| ANGPTL5 | 0 | 1 | 0.008740505467272331 | 2|\n",
    "| ANGPTL5 | 1 | 2 | 0.0017613597400474813 | 2|\n",
    "| APOL1 | 0 | 1 | 0.0040213797525728385 | 2|\n",
    "| APOL1 | 0 | 2 | 1.65119139283993e-05 | 2|\n",
    "| APOL1 | 1 | 2 | 0.0005696047237191928 | 2|\n",
    "\n",
    "This chart might give some insight into which genes make some of the groups different. This chart outlining differences and the chart above outlining immune cell correlations will help establish how certain groups might have distinguished immune cell concentrations. "
   ]
  },
  {
   "cell_type": "markdown",
   "metadata": {
    "hidden": true
   },
   "source": [
    "There are a couple of things that could happen in this group.\n",
    "- 1. The gene has only one passing test meaning that one of the groups is different than the another group but not too different from a third group\n",
    "- 2. The gene has two passing tests meaning that the test that shows up twice is different than the other two but the other two are pretty simmilar\n",
    "- 3. The gene has all three passing tests and that means each group has a statistically different amount of this gene\n",
    "\n",
    "These are all interesting in their own but I think that for the purpose of distinguishing groups and finding out why there is CD8 T differences between groups 0 and 2 it might be best to look at tests which go along with thing 1 and 2. The particular tests which I want to pay attention to are those which involve groups 0 and 1 and also 0 and 2 for rule 2 and groups 0 and 2 for rule 1 if they exist.\n",
    "\n",
    "| Gene Name   | Group 1 | Group 2        \t| P-Value  \t| Rule |\n",
    "|---------------|--|----\t|----------\t|---|\n",
    "| ACADL | 0 | 1 | 0.004204579455134707 | 2|\n",
    "| ACADL | 0 | 2 | 0.015406556460516549 | 2|\n",
    "| DUSP9 | 0 | 2 | 0.0005283613592797177 | 1|\n",
    "| ADAM6 | 0 | 2 | 0.04302419804357056 | 1|"
   ]
  },
  {
   "cell_type": "markdown",
   "metadata": {
    "heading_collapsed": true
   },
   "source": [
    "### Find If There is Correlation Between BAP1 Subgroups of Certain Genes to Health Outcomes/Immune Fractions"
   ]
  },
  {
   "cell_type": "code",
   "execution_count": 289,
   "metadata": {
    "hidden": true
   },
   "outputs": [
    {
     "name": "stdout",
     "output_type": "stream",
     "text": [
      "Group:  0\n",
      "Group:  -1\n",
      "| ACADL | B cells | 0.3708614527273221 | 0.013201677334340517 |\n"
     ]
    }
   ],
   "source": [
    "gene_name =\"ACADL\"\n",
    "for otp in [0,-1]:\n",
    "    print(\"Group: \", otp)\n",
    "    for i in range(len(immune_fractions_df.columns)):\n",
    "        x = []\n",
    "        y = []\n",
    "        for p in list(patient_dict.keys()):\n",
    "            if not np.isnan(patient_dict[p]['os_status']) and patient_dict[p][\"BAP1_mutation\"] == otp:\n",
    "                x.append(patient_dict[p]['immune_fractions'][i])\n",
    "                y.append(gene_expression.loc[p,gene_name])\n",
    "        x = np.asarray(x)\n",
    "        r, p = stats.pearsonr(y,x)\n",
    "        if p < .05:\n",
    "            print(\"|\",gene_name,\"|\",immune_fractions_df.columns[i],\"|\",r,\"|\",p,\"|\")"
   ]
  },
  {
   "cell_type": "markdown",
   "metadata": {
    "hidden": true
   },
   "source": [
    "| Gene Name   | Immune Cell | R        \t| P-Value  \t| BAP1 Group |\n",
    "|---------------|--|----\t|----------\t|---|\n",
    "| ADAM6 | CD8 T cells | 0.5002734474442355 | 0.0018892995594385778 |0|\n",
    "| ADAM6 | CD8 T cells | 0.3900530866498074 | 0.008859912095894883 |-1|\n",
    "| ACADL | B cells | 0.3708614527273221 | 0.013201677334340517 |-1|\n",
    "| DUSP9 | Eosinophils | -0.3597974323301224 | 0.016445857039200446 |-1|\n",
    "\n",
    "As shown above in terms of tumor radius and B cell fractions patients in the 0 group have a negative correlation, however patients in group 2 have a positive correlation. This is interesitng because the subgroup of patients who are BAP1 -1 have a high correlation between ACADL expression and B cells. And we already know that group 2 is 100% made up of BAP1 -1 patients while group 0 is only 20%\n"
   ]
  },
  {
   "cell_type": "markdown",
   "metadata": {},
   "source": [
    "## Cluster Patients Based off of Immune Fractions"
   ]
  },
  {
   "cell_type": "code",
   "execution_count": null,
   "metadata": {},
   "outputs": [],
   "source": []
  }
 ],
 "metadata": {
  "kernelspec": {
   "display_name": "Python 3",
   "language": "python",
   "name": "python3"
  },
  "language_info": {
   "codemirror_mode": {
    "name": "ipython",
    "version": 3
   },
   "file_extension": ".py",
   "mimetype": "text/x-python",
   "name": "python",
   "nbconvert_exporter": "python",
   "pygments_lexer": "ipython3",
   "version": "3.7.4"
  }
 },
 "nbformat": 4,
 "nbformat_minor": 2
}
