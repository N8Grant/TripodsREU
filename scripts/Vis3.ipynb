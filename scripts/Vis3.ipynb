{
 "cells": [
  {
   "cell_type": "markdown",
   "metadata": {},
   "source": [
    "## Imports"
   ]
  },
  {
   "cell_type": "code",
   "execution_count": 1,
   "metadata": {},
   "outputs": [
    {
     "name": "stderr",
     "output_type": "stream",
     "text": [
      "C:\\ProgramData\\Anaconda3\\lib\\site-packages\\sklearn\\externals\\six.py:31: DeprecationWarning: The module is deprecated in version 0.21 and will be removed in version 0.23 since we've dropped support for Python 2.7. Please rely on the official version of six (https://pypi.org/project/six/).\n",
      "  \"(https://pypi.org/project/six/).\", DeprecationWarning)\n"
     ]
    }
   ],
   "source": [
    "import pandas as pd\n",
    "import TumorDecon as td\n",
    "from scipy.stats import wilcoxon\n",
    "import seaborn as sns\n",
    "from itertools import combinations\n",
    "from scipy.stats import mannwhitneyu\n",
    "import matplotlib.pyplot as plt\n",
    "import numpy as np\n",
    "from sklearn.tree._tree import TREE_LEAF\n",
    "from sklearn.externals.six import StringIO\n",
    "from IPython.display import Image\n",
    "from sklearn.tree import export_graphviz\n",
    "import pydotplus\n",
    "import seaborn as sns\n",
    "from scipy import stats\n",
    "from sklearn.tree import _tree"
   ]
  },
  {
   "cell_type": "markdown",
   "metadata": {},
   "source": [
    "## Formatting Data"
   ]
  },
  {
   "cell_type": "code",
   "execution_count": 2,
   "metadata": {},
   "outputs": [
    {
     "data": {
      "text/plain": [
       "Index(['UBE2Q2P2',  'RPL41P2',  'RPS6KA2',    'BRCA1', 'AI894139',   'ERICH5',\n",
       "          'SSX9P',    'CIITA',    'EZHIP',   'EFCAB8',\n",
       "       ...\n",
       "         'ZWILCH',    'ZWINT',     'ZXDA',     'ZXDB',     'ZXDC',   'ZYG11A',\n",
       "         'ZYG11B',      'ZYX',    'ZZEF1',     'ZZZ3'],\n",
       "      dtype='object', name='Hugo_Symbol', length=20529)"
      ]
     },
     "execution_count": 2,
     "metadata": {},
     "output_type": "execute_result"
    }
   ],
   "source": [
    "uvm_expression = pd.read_excel('C:/Users/NathanGrant/Programs/TripodsREU/data/uvm_tcga_pan_can_atlas_2018/data_RNA_Seq_v2_expression_median_excel.xlsx',index_col=\"Hugo_Symbol\")\n",
    "uvm_expression.index"
   ]
  },
  {
   "cell_type": "code",
   "execution_count": 3,
   "metadata": {},
   "outputs": [
    {
     "data": {
      "text/html": [
       "<div>\n",
       "<style scoped>\n",
       "    .dataframe tbody tr th:only-of-type {\n",
       "        vertical-align: middle;\n",
       "    }\n",
       "\n",
       "    .dataframe tbody tr th {\n",
       "        vertical-align: top;\n",
       "    }\n",
       "\n",
       "    .dataframe thead th {\n",
       "        text-align: right;\n",
       "    }\n",
       "</style>\n",
       "<table border=\"1\" class=\"dataframe\">\n",
       "  <thead>\n",
       "    <tr style=\"text-align: right;\">\n",
       "      <th>Hugo_Symbol</th>\n",
       "      <th>UBE2Q2P2</th>\n",
       "      <th>RPL41P2</th>\n",
       "      <th>RPS6KA2</th>\n",
       "      <th>BRCA1</th>\n",
       "      <th>AI894139</th>\n",
       "      <th>ERICH5</th>\n",
       "      <th>SSX9P</th>\n",
       "      <th>CIITA</th>\n",
       "      <th>EZHIP</th>\n",
       "      <th>EFCAB8</th>\n",
       "      <th>...</th>\n",
       "      <th>ZWILCH</th>\n",
       "      <th>ZWINT</th>\n",
       "      <th>ZXDA</th>\n",
       "      <th>ZXDB</th>\n",
       "      <th>ZXDC</th>\n",
       "      <th>ZYG11A</th>\n",
       "      <th>ZYG11B</th>\n",
       "      <th>ZYX</th>\n",
       "      <th>ZZEF1</th>\n",
       "      <th>ZZZ3</th>\n",
       "    </tr>\n",
       "  </thead>\n",
       "  <tbody>\n",
       "    <tr>\n",
       "      <td>TCGA-RZ-AB0B-01</td>\n",
       "      <td>0.442079</td>\n",
       "      <td>0.796904</td>\n",
       "      <td>0.399113</td>\n",
       "      <td>0.0</td>\n",
       "      <td>0.331606</td>\n",
       "      <td>0.219769</td>\n",
       "      <td>0.186285</td>\n",
       "      <td>0.0</td>\n",
       "      <td>0.000000</td>\n",
       "      <td>0.000000</td>\n",
       "      <td>...</td>\n",
       "      <td>0.716851</td>\n",
       "      <td>0.552608</td>\n",
       "      <td>0.618607</td>\n",
       "      <td>0.410517</td>\n",
       "      <td>0.216020</td>\n",
       "      <td>0.090292</td>\n",
       "      <td>0.511827</td>\n",
       "      <td>0.161684</td>\n",
       "      <td>0.585549</td>\n",
       "      <td>0.306053</td>\n",
       "    </tr>\n",
       "    <tr>\n",
       "      <td>TCGA-V3-A9ZX-01</td>\n",
       "      <td>0.198754</td>\n",
       "      <td>0.799145</td>\n",
       "      <td>0.319529</td>\n",
       "      <td>0.0</td>\n",
       "      <td>0.175706</td>\n",
       "      <td>0.000000</td>\n",
       "      <td>0.000000</td>\n",
       "      <td>0.0</td>\n",
       "      <td>0.000000</td>\n",
       "      <td>0.201686</td>\n",
       "      <td>...</td>\n",
       "      <td>0.594975</td>\n",
       "      <td>0.804777</td>\n",
       "      <td>0.227171</td>\n",
       "      <td>0.277436</td>\n",
       "      <td>0.191290</td>\n",
       "      <td>0.000000</td>\n",
       "      <td>0.807311</td>\n",
       "      <td>0.070870</td>\n",
       "      <td>0.502416</td>\n",
       "      <td>0.429435</td>\n",
       "    </tr>\n",
       "    <tr>\n",
       "      <td>TCGA-V3-A9ZY-01</td>\n",
       "      <td>0.066856</td>\n",
       "      <td>0.196325</td>\n",
       "      <td>0.129218</td>\n",
       "      <td>0.0</td>\n",
       "      <td>0.156197</td>\n",
       "      <td>0.000000</td>\n",
       "      <td>0.000000</td>\n",
       "      <td>0.0</td>\n",
       "      <td>0.254387</td>\n",
       "      <td>0.000000</td>\n",
       "      <td>...</td>\n",
       "      <td>0.377242</td>\n",
       "      <td>0.333014</td>\n",
       "      <td>0.327030</td>\n",
       "      <td>0.195518</td>\n",
       "      <td>0.512077</td>\n",
       "      <td>0.645250</td>\n",
       "      <td>0.169385</td>\n",
       "      <td>0.352667</td>\n",
       "      <td>0.537181</td>\n",
       "      <td>0.165353</td>\n",
       "    </tr>\n",
       "    <tr>\n",
       "      <td>TCGA-V4-A9E5-01</td>\n",
       "      <td>0.238791</td>\n",
       "      <td>0.113941</td>\n",
       "      <td>0.245919</td>\n",
       "      <td>0.0</td>\n",
       "      <td>0.026320</td>\n",
       "      <td>0.000000</td>\n",
       "      <td>0.000000</td>\n",
       "      <td>0.0</td>\n",
       "      <td>0.000000</td>\n",
       "      <td>0.000000</td>\n",
       "      <td>...</td>\n",
       "      <td>0.083219</td>\n",
       "      <td>0.374607</td>\n",
       "      <td>0.270566</td>\n",
       "      <td>0.109298</td>\n",
       "      <td>0.371692</td>\n",
       "      <td>0.000000</td>\n",
       "      <td>0.182572</td>\n",
       "      <td>0.679224</td>\n",
       "      <td>0.651534</td>\n",
       "      <td>0.144678</td>\n",
       "    </tr>\n",
       "    <tr>\n",
       "      <td>TCGA-V4-A9E7-01</td>\n",
       "      <td>0.435979</td>\n",
       "      <td>0.447497</td>\n",
       "      <td>0.667467</td>\n",
       "      <td>0.0</td>\n",
       "      <td>0.156154</td>\n",
       "      <td>0.256046</td>\n",
       "      <td>0.000000</td>\n",
       "      <td>0.0</td>\n",
       "      <td>0.000000</td>\n",
       "      <td>0.219024</td>\n",
       "      <td>...</td>\n",
       "      <td>0.557109</td>\n",
       "      <td>0.631245</td>\n",
       "      <td>0.247666</td>\n",
       "      <td>0.286749</td>\n",
       "      <td>0.095868</td>\n",
       "      <td>0.000000</td>\n",
       "      <td>0.145500</td>\n",
       "      <td>0.217483</td>\n",
       "      <td>0.491986</td>\n",
       "      <td>0.117278</td>\n",
       "    </tr>\n",
       "  </tbody>\n",
       "</table>\n",
       "<p>5 rows × 20529 columns</p>\n",
       "</div>"
      ],
      "text/plain": [
       "Hugo_Symbol      UBE2Q2P2   RPL41P2   RPS6KA2  BRCA1  AI894139    ERICH5  \\\n",
       "TCGA-RZ-AB0B-01  0.442079  0.796904  0.399113    0.0  0.331606  0.219769   \n",
       "TCGA-V3-A9ZX-01  0.198754  0.799145  0.319529    0.0  0.175706  0.000000   \n",
       "TCGA-V3-A9ZY-01  0.066856  0.196325  0.129218    0.0  0.156197  0.000000   \n",
       "TCGA-V4-A9E5-01  0.238791  0.113941  0.245919    0.0  0.026320  0.000000   \n",
       "TCGA-V4-A9E7-01  0.435979  0.447497  0.667467    0.0  0.156154  0.256046   \n",
       "\n",
       "Hugo_Symbol         SSX9P  CIITA     EZHIP    EFCAB8  ...    ZWILCH     ZWINT  \\\n",
       "TCGA-RZ-AB0B-01  0.186285    0.0  0.000000  0.000000  ...  0.716851  0.552608   \n",
       "TCGA-V3-A9ZX-01  0.000000    0.0  0.000000  0.201686  ...  0.594975  0.804777   \n",
       "TCGA-V3-A9ZY-01  0.000000    0.0  0.254387  0.000000  ...  0.377242  0.333014   \n",
       "TCGA-V4-A9E5-01  0.000000    0.0  0.000000  0.000000  ...  0.083219  0.374607   \n",
       "TCGA-V4-A9E7-01  0.000000    0.0  0.000000  0.219024  ...  0.557109  0.631245   \n",
       "\n",
       "Hugo_Symbol          ZXDA      ZXDB      ZXDC    ZYG11A    ZYG11B       ZYX  \\\n",
       "TCGA-RZ-AB0B-01  0.618607  0.410517  0.216020  0.090292  0.511827  0.161684   \n",
       "TCGA-V3-A9ZX-01  0.227171  0.277436  0.191290  0.000000  0.807311  0.070870   \n",
       "TCGA-V3-A9ZY-01  0.327030  0.195518  0.512077  0.645250  0.169385  0.352667   \n",
       "TCGA-V4-A9E5-01  0.270566  0.109298  0.371692  0.000000  0.182572  0.679224   \n",
       "TCGA-V4-A9E7-01  0.247666  0.286749  0.095868  0.000000  0.145500  0.217483   \n",
       "\n",
       "Hugo_Symbol         ZZEF1      ZZZ3  \n",
       "TCGA-RZ-AB0B-01  0.585549  0.306053  \n",
       "TCGA-V3-A9ZX-01  0.502416  0.429435  \n",
       "TCGA-V3-A9ZY-01  0.537181  0.165353  \n",
       "TCGA-V4-A9E5-01  0.651534  0.144678  \n",
       "TCGA-V4-A9E7-01  0.491986  0.117278  \n",
       "\n",
       "[5 rows x 20529 columns]"
      ]
     },
     "execution_count": 3,
     "metadata": {},
     "output_type": "execute_result"
    }
   ],
   "source": [
    "uvm_expression = td.df_normalization(uvm_expression.T, \"minmax\")\n",
    "#del uvm_expression[\"DESCRIPTION\"]\n",
    "#uvm_expression.insert(0,\"DESCRIPTION\",\"na\")\n",
    "uvm_expression.head()"
   ]
  },
  {
   "cell_type": "code",
   "execution_count": 4,
   "metadata": {},
   "outputs": [],
   "source": [
    "uvm_expression.T.to_excel(\"C:/Users/NathanGrant/Programs/TripodsREU/data/GSEAExpression.xlsx\")\n"
   ]
  },
  {
   "cell_type": "code",
   "execution_count": 5,
   "metadata": {},
   "outputs": [],
   "source": [
    "patient_ids = list(uvm_expression.index)"
   ]
  },
  {
   "cell_type": "code",
   "execution_count": 6,
   "metadata": {},
   "outputs": [
    {
     "data": {
      "text/html": [
       "<div>\n",
       "<style scoped>\n",
       "    .dataframe tbody tr th:only-of-type {\n",
       "        vertical-align: middle;\n",
       "    }\n",
       "\n",
       "    .dataframe tbody tr th {\n",
       "        vertical-align: top;\n",
       "    }\n",
       "\n",
       "    .dataframe thead th {\n",
       "        text-align: right;\n",
       "    }\n",
       "</style>\n",
       "<table border=\"1\" class=\"dataframe\">\n",
       "  <thead>\n",
       "    <tr style=\"text-align: right;\">\n",
       "      <th></th>\n",
       "      <th>Entrez_Gene_Id</th>\n",
       "      <th>Cytoband</th>\n",
       "      <th>TCGA-RZ-AB0B-01</th>\n",
       "      <th>TCGA-V3-A9ZX-01</th>\n",
       "      <th>TCGA-V3-A9ZY-01</th>\n",
       "      <th>TCGA-V4-A9E5-01</th>\n",
       "      <th>TCGA-V4-A9E7-01</th>\n",
       "      <th>TCGA-V4-A9E8-01</th>\n",
       "      <th>TCGA-V4-A9E9-01</th>\n",
       "      <th>TCGA-V4-A9EA-01</th>\n",
       "      <th>...</th>\n",
       "      <th>TCGA-WC-A885-01</th>\n",
       "      <th>TCGA-WC-A888-01</th>\n",
       "      <th>TCGA-WC-A88A-01</th>\n",
       "      <th>TCGA-WC-AA9A-01</th>\n",
       "      <th>TCGA-WC-AA9E-01</th>\n",
       "      <th>TCGA-YZ-A980-01</th>\n",
       "      <th>TCGA-YZ-A982-01</th>\n",
       "      <th>TCGA-YZ-A983-01</th>\n",
       "      <th>TCGA-YZ-A984-01</th>\n",
       "      <th>TCGA-YZ-A985-01</th>\n",
       "    </tr>\n",
       "    <tr>\n",
       "      <th>Hugo_Symbol</th>\n",
       "      <th></th>\n",
       "      <th></th>\n",
       "      <th></th>\n",
       "      <th></th>\n",
       "      <th></th>\n",
       "      <th></th>\n",
       "      <th></th>\n",
       "      <th></th>\n",
       "      <th></th>\n",
       "      <th></th>\n",
       "      <th></th>\n",
       "      <th></th>\n",
       "      <th></th>\n",
       "      <th></th>\n",
       "      <th></th>\n",
       "      <th></th>\n",
       "      <th></th>\n",
       "      <th></th>\n",
       "      <th></th>\n",
       "      <th></th>\n",
       "      <th></th>\n",
       "    </tr>\n",
       "  </thead>\n",
       "  <tbody>\n",
       "    <tr>\n",
       "      <td>ACAP3</td>\n",
       "      <td>116983.0</td>\n",
       "      <td>1p36.33</td>\n",
       "      <td>-1</td>\n",
       "      <td>0</td>\n",
       "      <td>0</td>\n",
       "      <td>0</td>\n",
       "      <td>-2</td>\n",
       "      <td>-1</td>\n",
       "      <td>0</td>\n",
       "      <td>0</td>\n",
       "      <td>...</td>\n",
       "      <td>0</td>\n",
       "      <td>0</td>\n",
       "      <td>0</td>\n",
       "      <td>-1</td>\n",
       "      <td>-1</td>\n",
       "      <td>0</td>\n",
       "      <td>-1</td>\n",
       "      <td>0</td>\n",
       "      <td>0</td>\n",
       "      <td>0</td>\n",
       "    </tr>\n",
       "    <tr>\n",
       "      <td>ACTRT2</td>\n",
       "      <td>140625.0</td>\n",
       "      <td>1p36.32</td>\n",
       "      <td>-1</td>\n",
       "      <td>0</td>\n",
       "      <td>0</td>\n",
       "      <td>0</td>\n",
       "      <td>-2</td>\n",
       "      <td>-1</td>\n",
       "      <td>0</td>\n",
       "      <td>0</td>\n",
       "      <td>...</td>\n",
       "      <td>0</td>\n",
       "      <td>0</td>\n",
       "      <td>0</td>\n",
       "      <td>-1</td>\n",
       "      <td>-1</td>\n",
       "      <td>0</td>\n",
       "      <td>-1</td>\n",
       "      <td>0</td>\n",
       "      <td>0</td>\n",
       "      <td>0</td>\n",
       "    </tr>\n",
       "    <tr>\n",
       "      <td>AGRN</td>\n",
       "      <td>375790.0</td>\n",
       "      <td>1p36.33</td>\n",
       "      <td>-1</td>\n",
       "      <td>0</td>\n",
       "      <td>0</td>\n",
       "      <td>0</td>\n",
       "      <td>-2</td>\n",
       "      <td>-1</td>\n",
       "      <td>0</td>\n",
       "      <td>0</td>\n",
       "      <td>...</td>\n",
       "      <td>0</td>\n",
       "      <td>0</td>\n",
       "      <td>0</td>\n",
       "      <td>-1</td>\n",
       "      <td>-1</td>\n",
       "      <td>0</td>\n",
       "      <td>-1</td>\n",
       "      <td>0</td>\n",
       "      <td>0</td>\n",
       "      <td>0</td>\n",
       "    </tr>\n",
       "    <tr>\n",
       "      <td>ANKRD65</td>\n",
       "      <td>441869.0</td>\n",
       "      <td>1p36.33</td>\n",
       "      <td>-1</td>\n",
       "      <td>0</td>\n",
       "      <td>0</td>\n",
       "      <td>0</td>\n",
       "      <td>-2</td>\n",
       "      <td>-1</td>\n",
       "      <td>0</td>\n",
       "      <td>0</td>\n",
       "      <td>...</td>\n",
       "      <td>0</td>\n",
       "      <td>0</td>\n",
       "      <td>0</td>\n",
       "      <td>-1</td>\n",
       "      <td>-1</td>\n",
       "      <td>0</td>\n",
       "      <td>-1</td>\n",
       "      <td>0</td>\n",
       "      <td>0</td>\n",
       "      <td>0</td>\n",
       "    </tr>\n",
       "    <tr>\n",
       "      <td>ATAD3A</td>\n",
       "      <td>55210.0</td>\n",
       "      <td>1p36.33</td>\n",
       "      <td>-1</td>\n",
       "      <td>0</td>\n",
       "      <td>0</td>\n",
       "      <td>0</td>\n",
       "      <td>-2</td>\n",
       "      <td>-1</td>\n",
       "      <td>0</td>\n",
       "      <td>0</td>\n",
       "      <td>...</td>\n",
       "      <td>0</td>\n",
       "      <td>0</td>\n",
       "      <td>0</td>\n",
       "      <td>-1</td>\n",
       "      <td>-1</td>\n",
       "      <td>0</td>\n",
       "      <td>-1</td>\n",
       "      <td>0</td>\n",
       "      <td>0</td>\n",
       "      <td>0</td>\n",
       "    </tr>\n",
       "  </tbody>\n",
       "</table>\n",
       "<p>5 rows × 82 columns</p>\n",
       "</div>"
      ],
      "text/plain": [
       "             Entrez_Gene_Id Cytoband  TCGA-RZ-AB0B-01  TCGA-V3-A9ZX-01  \\\n",
       "Hugo_Symbol                                                              \n",
       "ACAP3              116983.0  1p36.33               -1                0   \n",
       "ACTRT2             140625.0  1p36.32               -1                0   \n",
       "AGRN               375790.0  1p36.33               -1                0   \n",
       "ANKRD65            441869.0  1p36.33               -1                0   \n",
       "ATAD3A              55210.0  1p36.33               -1                0   \n",
       "\n",
       "             TCGA-V3-A9ZY-01  TCGA-V4-A9E5-01  TCGA-V4-A9E7-01  \\\n",
       "Hugo_Symbol                                                      \n",
       "ACAP3                      0                0               -2   \n",
       "ACTRT2                     0                0               -2   \n",
       "AGRN                       0                0               -2   \n",
       "ANKRD65                    0                0               -2   \n",
       "ATAD3A                     0                0               -2   \n",
       "\n",
       "             TCGA-V4-A9E8-01  TCGA-V4-A9E9-01  TCGA-V4-A9EA-01  ...  \\\n",
       "Hugo_Symbol                                                     ...   \n",
       "ACAP3                     -1                0                0  ...   \n",
       "ACTRT2                    -1                0                0  ...   \n",
       "AGRN                      -1                0                0  ...   \n",
       "ANKRD65                   -1                0                0  ...   \n",
       "ATAD3A                    -1                0                0  ...   \n",
       "\n",
       "             TCGA-WC-A885-01  TCGA-WC-A888-01  TCGA-WC-A88A-01  \\\n",
       "Hugo_Symbol                                                      \n",
       "ACAP3                      0                0                0   \n",
       "ACTRT2                     0                0                0   \n",
       "AGRN                       0                0                0   \n",
       "ANKRD65                    0                0                0   \n",
       "ATAD3A                     0                0                0   \n",
       "\n",
       "             TCGA-WC-AA9A-01  TCGA-WC-AA9E-01  TCGA-YZ-A980-01  \\\n",
       "Hugo_Symbol                                                      \n",
       "ACAP3                     -1               -1                0   \n",
       "ACTRT2                    -1               -1                0   \n",
       "AGRN                      -1               -1                0   \n",
       "ANKRD65                   -1               -1                0   \n",
       "ATAD3A                    -1               -1                0   \n",
       "\n",
       "             TCGA-YZ-A982-01  TCGA-YZ-A983-01  TCGA-YZ-A984-01  \\\n",
       "Hugo_Symbol                                                      \n",
       "ACAP3                     -1                0                0   \n",
       "ACTRT2                    -1                0                0   \n",
       "AGRN                      -1                0                0   \n",
       "ANKRD65                   -1                0                0   \n",
       "ATAD3A                    -1                0                0   \n",
       "\n",
       "             TCGA-YZ-A985-01  \n",
       "Hugo_Symbol                   \n",
       "ACAP3                      0  \n",
       "ACTRT2                     0  \n",
       "AGRN                       0  \n",
       "ANKRD65                    0  \n",
       "ATAD3A                     0  \n",
       "\n",
       "[5 rows x 82 columns]"
      ]
     },
     "execution_count": 6,
     "metadata": {},
     "output_type": "execute_result"
    }
   ],
   "source": [
    "presence_df = pd.read_csv('C:/Users/NathanGrant/Programs/TripodsREU/data/uvm_tcga_pan_can_atlas_2018/data_CNA.txt',delimiter='\\t', index_col=\"Hugo_Symbol\")\n",
    "presence_df.head()"
   ]
  },
  {
   "cell_type": "code",
   "execution_count": 7,
   "metadata": {},
   "outputs": [],
   "source": [
    "num, pat = presence_df.loc[[\"BAP1\"]].values[0,2:],presence_df.columns.values[2:]"
   ]
  },
  {
   "cell_type": "code",
   "execution_count": 8,
   "metadata": {},
   "outputs": [],
   "source": [
    "l = [(num[i],pat[i]) for i in range(len(pat))]"
   ]
  },
  {
   "cell_type": "code",
   "execution_count": 9,
   "metadata": {},
   "outputs": [],
   "source": [
    "l3 = sorted(l, key=lambda l: l[0])"
   ]
  },
  {
   "cell_type": "code",
   "execution_count": 10,
   "metadata": {},
   "outputs": [],
   "source": [
    "l2 = [l[i][1] for i in range(len(l))]"
   ]
  },
  {
   "cell_type": "code",
   "execution_count": 11,
   "metadata": {},
   "outputs": [],
   "source": [
    "#l2.insert(0,\"DESCRIPTION\")"
   ]
  },
  {
   "cell_type": "code",
   "execution_count": 12,
   "metadata": {},
   "outputs": [
    {
     "name": "stdout",
     "output_type": "stream",
     "text": [
      "['TCGA-RZ-AB0B-01', 'TCGA-V3-A9ZX-01', 'TCGA-V3-A9ZY-01', 'TCGA-V4-A9E5-01', 'TCGA-V4-A9E7-01', 'TCGA-V4-A9E8-01', 'TCGA-V4-A9E9-01', 'TCGA-V4-A9EA-01', 'TCGA-V4-A9EC-01', 'TCGA-V4-A9ED-01', 'TCGA-V4-A9EE-01', 'TCGA-V4-A9EF-01', 'TCGA-V4-A9EH-01', 'TCGA-V4-A9EI-01', 'TCGA-V4-A9EJ-01', 'TCGA-V4-A9EK-01', 'TCGA-V4-A9EL-01', 'TCGA-V4-A9EM-01', 'TCGA-V4-A9EO-01', 'TCGA-V4-A9EQ-01', 'TCGA-V4-A9ES-01', 'TCGA-V4-A9ET-01', 'TCGA-V4-A9EU-01', 'TCGA-V4-A9EV-01', 'TCGA-V4-A9EW-01', 'TCGA-V4-A9EX-01', 'TCGA-V4-A9EY-01', 'TCGA-V4-A9EZ-01', 'TCGA-V4-A9F0-01', 'TCGA-V4-A9F1-01', 'TCGA-V4-A9F2-01', 'TCGA-V4-A9F3-01', 'TCGA-V4-A9F4-01', 'TCGA-V4-A9F5-01', 'TCGA-V4-A9F7-01', 'TCGA-V4-A9F8-01', 'TCGA-VD-A8K7-01', 'TCGA-VD-A8K8-01', 'TCGA-VD-A8K9-01', 'TCGA-VD-A8KA-01', 'TCGA-VD-A8KB-01', 'TCGA-VD-A8KD-01', 'TCGA-VD-A8KE-01', 'TCGA-VD-A8KF-01', 'TCGA-VD-A8KG-01', 'TCGA-VD-A8KH-01', 'TCGA-VD-A8KI-01', 'TCGA-VD-A8KJ-01', 'TCGA-VD-A8KK-01', 'TCGA-VD-A8KL-01', 'TCGA-VD-A8KM-01', 'TCGA-VD-A8KN-01', 'TCGA-VD-A8KO-01', 'TCGA-VD-AA8M-01', 'TCGA-VD-AA8N-01', 'TCGA-VD-AA8O-01', 'TCGA-VD-AA8P-01', 'TCGA-VD-AA8Q-01', 'TCGA-VD-AA8R-01', 'TCGA-VD-AA8S-01', 'TCGA-VD-AA8T-01', 'TCGA-WC-A87T-01', 'TCGA-WC-A87U-01', 'TCGA-WC-A87W-01', 'TCGA-WC-A87Y-01', 'TCGA-WC-A880-01', 'TCGA-WC-A881-01', 'TCGA-WC-A882-01', 'TCGA-WC-A883-01', 'TCGA-WC-A884-01', 'TCGA-WC-A885-01', 'TCGA-WC-A888-01', 'TCGA-WC-A88A-01', 'TCGA-WC-AA9A-01', 'TCGA-WC-AA9E-01', 'TCGA-YZ-A980-01', 'TCGA-YZ-A982-01', 'TCGA-YZ-A983-01', 'TCGA-YZ-A984-01', 'TCGA-YZ-A985-01']\n"
     ]
    },
    {
     "data": {
      "text/plain": [
       "Index(['UBE2Q2P2',  'RPL41P2',  'RPS6KA2',    'BRCA1', 'AI894139',   'ERICH5',\n",
       "          'SSX9P',    'CIITA',    'EZHIP',   'EFCAB8',\n",
       "       ...\n",
       "         'ZWILCH',    'ZWINT',     'ZXDA',     'ZXDB',     'ZXDC',   'ZYG11A',\n",
       "         'ZYG11B',      'ZYX',    'ZZEF1',     'ZZZ3'],\n",
       "      dtype='object', name='Hugo_Symbol', length=20529)"
      ]
     },
     "execution_count": 12,
     "metadata": {},
     "output_type": "execute_result"
    }
   ],
   "source": [
    "print(l2)\n",
    "uvm_expression.columns"
   ]
  },
  {
   "cell_type": "code",
   "execution_count": 13,
   "metadata": {},
   "outputs": [
    {
     "data": {
      "text/html": [
       "<div>\n",
       "<style scoped>\n",
       "    .dataframe tbody tr th:only-of-type {\n",
       "        vertical-align: middle;\n",
       "    }\n",
       "\n",
       "    .dataframe tbody tr th {\n",
       "        vertical-align: top;\n",
       "    }\n",
       "\n",
       "    .dataframe thead th {\n",
       "        text-align: right;\n",
       "    }\n",
       "</style>\n",
       "<table border=\"1\" class=\"dataframe\">\n",
       "  <thead>\n",
       "    <tr style=\"text-align: right;\">\n",
       "      <th></th>\n",
       "      <th>TCGA-RZ-AB0B-01</th>\n",
       "      <th>TCGA-V3-A9ZX-01</th>\n",
       "      <th>TCGA-V3-A9ZY-01</th>\n",
       "      <th>TCGA-V4-A9E5-01</th>\n",
       "      <th>TCGA-V4-A9E7-01</th>\n",
       "      <th>TCGA-V4-A9E8-01</th>\n",
       "      <th>TCGA-V4-A9E9-01</th>\n",
       "      <th>TCGA-V4-A9EA-01</th>\n",
       "      <th>TCGA-V4-A9EC-01</th>\n",
       "      <th>TCGA-V4-A9ED-01</th>\n",
       "      <th>...</th>\n",
       "      <th>TCGA-WC-A885-01</th>\n",
       "      <th>TCGA-WC-A888-01</th>\n",
       "      <th>TCGA-WC-A88A-01</th>\n",
       "      <th>TCGA-WC-AA9A-01</th>\n",
       "      <th>TCGA-WC-AA9E-01</th>\n",
       "      <th>TCGA-YZ-A980-01</th>\n",
       "      <th>TCGA-YZ-A982-01</th>\n",
       "      <th>TCGA-YZ-A983-01</th>\n",
       "      <th>TCGA-YZ-A984-01</th>\n",
       "      <th>TCGA-YZ-A985-01</th>\n",
       "    </tr>\n",
       "    <tr>\n",
       "      <th>Hugo_Symbol</th>\n",
       "      <th></th>\n",
       "      <th></th>\n",
       "      <th></th>\n",
       "      <th></th>\n",
       "      <th></th>\n",
       "      <th></th>\n",
       "      <th></th>\n",
       "      <th></th>\n",
       "      <th></th>\n",
       "      <th></th>\n",
       "      <th></th>\n",
       "      <th></th>\n",
       "      <th></th>\n",
       "      <th></th>\n",
       "      <th></th>\n",
       "      <th></th>\n",
       "      <th></th>\n",
       "      <th></th>\n",
       "      <th></th>\n",
       "      <th></th>\n",
       "      <th></th>\n",
       "    </tr>\n",
       "  </thead>\n",
       "  <tbody>\n",
       "    <tr>\n",
       "      <td>UBE2Q2P2</td>\n",
       "      <td>0.442079</td>\n",
       "      <td>0.198754</td>\n",
       "      <td>0.066856</td>\n",
       "      <td>0.238791</td>\n",
       "      <td>0.435979</td>\n",
       "      <td>0.181113</td>\n",
       "      <td>0.399689</td>\n",
       "      <td>0.414463</td>\n",
       "      <td>0.000000</td>\n",
       "      <td>0.260536</td>\n",
       "      <td>...</td>\n",
       "      <td>0.391134</td>\n",
       "      <td>0.488326</td>\n",
       "      <td>0.227854</td>\n",
       "      <td>0.903494</td>\n",
       "      <td>0.423284</td>\n",
       "      <td>0.712663</td>\n",
       "      <td>0.000000</td>\n",
       "      <td>1.000000</td>\n",
       "      <td>0.084992</td>\n",
       "      <td>0.311701</td>\n",
       "    </tr>\n",
       "    <tr>\n",
       "      <td>RPL41P2</td>\n",
       "      <td>0.796904</td>\n",
       "      <td>0.799145</td>\n",
       "      <td>0.196325</td>\n",
       "      <td>0.113941</td>\n",
       "      <td>0.447497</td>\n",
       "      <td>0.248481</td>\n",
       "      <td>0.226878</td>\n",
       "      <td>0.000000</td>\n",
       "      <td>0.356716</td>\n",
       "      <td>0.361537</td>\n",
       "      <td>...</td>\n",
       "      <td>0.295647</td>\n",
       "      <td>0.658855</td>\n",
       "      <td>0.595608</td>\n",
       "      <td>0.795746</td>\n",
       "      <td>0.750659</td>\n",
       "      <td>0.485396</td>\n",
       "      <td>0.298089</td>\n",
       "      <td>0.488094</td>\n",
       "      <td>0.218404</td>\n",
       "      <td>0.207915</td>\n",
       "    </tr>\n",
       "    <tr>\n",
       "      <td>RPS6KA2</td>\n",
       "      <td>0.399113</td>\n",
       "      <td>0.319529</td>\n",
       "      <td>0.129218</td>\n",
       "      <td>0.245919</td>\n",
       "      <td>0.667467</td>\n",
       "      <td>0.501978</td>\n",
       "      <td>0.328036</td>\n",
       "      <td>0.061603</td>\n",
       "      <td>0.473926</td>\n",
       "      <td>0.370320</td>\n",
       "      <td>...</td>\n",
       "      <td>0.231609</td>\n",
       "      <td>0.515797</td>\n",
       "      <td>0.403594</td>\n",
       "      <td>0.791260</td>\n",
       "      <td>0.388260</td>\n",
       "      <td>0.263015</td>\n",
       "      <td>0.168682</td>\n",
       "      <td>0.193420</td>\n",
       "      <td>0.267371</td>\n",
       "      <td>0.127013</td>\n",
       "    </tr>\n",
       "    <tr>\n",
       "      <td>BRCA1</td>\n",
       "      <td>0.000000</td>\n",
       "      <td>0.000000</td>\n",
       "      <td>0.000000</td>\n",
       "      <td>0.000000</td>\n",
       "      <td>0.000000</td>\n",
       "      <td>0.000000</td>\n",
       "      <td>0.000000</td>\n",
       "      <td>0.000000</td>\n",
       "      <td>0.000000</td>\n",
       "      <td>0.000000</td>\n",
       "      <td>...</td>\n",
       "      <td>0.000000</td>\n",
       "      <td>0.000000</td>\n",
       "      <td>0.000000</td>\n",
       "      <td>0.000000</td>\n",
       "      <td>0.000000</td>\n",
       "      <td>0.000000</td>\n",
       "      <td>0.000000</td>\n",
       "      <td>0.000000</td>\n",
       "      <td>0.000000</td>\n",
       "      <td>0.000000</td>\n",
       "    </tr>\n",
       "    <tr>\n",
       "      <td>AI894139</td>\n",
       "      <td>0.331606</td>\n",
       "      <td>0.175706</td>\n",
       "      <td>0.156197</td>\n",
       "      <td>0.026320</td>\n",
       "      <td>0.156154</td>\n",
       "      <td>0.101752</td>\n",
       "      <td>0.000000</td>\n",
       "      <td>0.071703</td>\n",
       "      <td>0.081963</td>\n",
       "      <td>0.069925</td>\n",
       "      <td>...</td>\n",
       "      <td>0.030527</td>\n",
       "      <td>0.207712</td>\n",
       "      <td>0.076655</td>\n",
       "      <td>0.312134</td>\n",
       "      <td>0.370614</td>\n",
       "      <td>0.330747</td>\n",
       "      <td>0.072931</td>\n",
       "      <td>0.350672</td>\n",
       "      <td>0.026584</td>\n",
       "      <td>0.054880</td>\n",
       "    </tr>\n",
       "  </tbody>\n",
       "</table>\n",
       "<p>5 rows × 80 columns</p>\n",
       "</div>"
      ],
      "text/plain": [
       "             TCGA-RZ-AB0B-01  TCGA-V3-A9ZX-01  TCGA-V3-A9ZY-01  \\\n",
       "Hugo_Symbol                                                      \n",
       "UBE2Q2P2            0.442079         0.198754         0.066856   \n",
       "RPL41P2             0.796904         0.799145         0.196325   \n",
       "RPS6KA2             0.399113         0.319529         0.129218   \n",
       "BRCA1               0.000000         0.000000         0.000000   \n",
       "AI894139            0.331606         0.175706         0.156197   \n",
       "\n",
       "             TCGA-V4-A9E5-01  TCGA-V4-A9E7-01  TCGA-V4-A9E8-01  \\\n",
       "Hugo_Symbol                                                      \n",
       "UBE2Q2P2            0.238791         0.435979         0.181113   \n",
       "RPL41P2             0.113941         0.447497         0.248481   \n",
       "RPS6KA2             0.245919         0.667467         0.501978   \n",
       "BRCA1               0.000000         0.000000         0.000000   \n",
       "AI894139            0.026320         0.156154         0.101752   \n",
       "\n",
       "             TCGA-V4-A9E9-01  TCGA-V4-A9EA-01  TCGA-V4-A9EC-01  \\\n",
       "Hugo_Symbol                                                      \n",
       "UBE2Q2P2            0.399689         0.414463         0.000000   \n",
       "RPL41P2             0.226878         0.000000         0.356716   \n",
       "RPS6KA2             0.328036         0.061603         0.473926   \n",
       "BRCA1               0.000000         0.000000         0.000000   \n",
       "AI894139            0.000000         0.071703         0.081963   \n",
       "\n",
       "             TCGA-V4-A9ED-01  ...  TCGA-WC-A885-01  TCGA-WC-A888-01  \\\n",
       "Hugo_Symbol                   ...                                     \n",
       "UBE2Q2P2            0.260536  ...         0.391134         0.488326   \n",
       "RPL41P2             0.361537  ...         0.295647         0.658855   \n",
       "RPS6KA2             0.370320  ...         0.231609         0.515797   \n",
       "BRCA1               0.000000  ...         0.000000         0.000000   \n",
       "AI894139            0.069925  ...         0.030527         0.207712   \n",
       "\n",
       "             TCGA-WC-A88A-01  TCGA-WC-AA9A-01  TCGA-WC-AA9E-01  \\\n",
       "Hugo_Symbol                                                      \n",
       "UBE2Q2P2            0.227854         0.903494         0.423284   \n",
       "RPL41P2             0.595608         0.795746         0.750659   \n",
       "RPS6KA2             0.403594         0.791260         0.388260   \n",
       "BRCA1               0.000000         0.000000         0.000000   \n",
       "AI894139            0.076655         0.312134         0.370614   \n",
       "\n",
       "             TCGA-YZ-A980-01  TCGA-YZ-A982-01  TCGA-YZ-A983-01  \\\n",
       "Hugo_Symbol                                                      \n",
       "UBE2Q2P2            0.712663         0.000000         1.000000   \n",
       "RPL41P2             0.485396         0.298089         0.488094   \n",
       "RPS6KA2             0.263015         0.168682         0.193420   \n",
       "BRCA1               0.000000         0.000000         0.000000   \n",
       "AI894139            0.330747         0.072931         0.350672   \n",
       "\n",
       "             TCGA-YZ-A984-01  TCGA-YZ-A985-01  \n",
       "Hugo_Symbol                                    \n",
       "UBE2Q2P2            0.084992         0.311701  \n",
       "RPL41P2             0.218404         0.207915  \n",
       "RPS6KA2             0.267371         0.127013  \n",
       "BRCA1               0.000000         0.000000  \n",
       "AI894139            0.026584         0.054880  \n",
       "\n",
       "[5 rows x 80 columns]"
      ]
     },
     "execution_count": 13,
     "metadata": {},
     "output_type": "execute_result"
    }
   ],
   "source": [
    "u_temp = uvm_expression.T[l2]\n",
    "u_temp.head()"
   ]
  },
  {
   "cell_type": "code",
   "execution_count": 14,
   "metadata": {},
   "outputs": [],
   "source": [
    "u_temp.to_excel(\"C:/Users/NathanGrant/Programs/TripodsREU/data/GSEAExpression.xlsx\")"
   ]
  },
  {
   "cell_type": "code",
   "execution_count": 15,
   "metadata": {},
   "outputs": [
    {
     "name": "stdout",
     "output_type": "stream",
     "text": [
      "-1 -1 -1 -1 -1 -1 -1 -1 -1 -1 -1 -1 -1 -1 -1 -1 -1 -1 -1 -1 -1 -1 -1 -1 -1 -1 -1 -1 -1 -1 -1 -1 -1 -1 -1 -1 -1 -1 -1 -1 -1 -1 -1 -1 0 0 0 0 0 0 0 0 0 0 0 0 0 0 0 0 0 0 0 0 0 0 0 0 0 0 0 0 0 0 0 0 0 0 0 0 \n"
     ]
    }
   ],
   "source": [
    "s =\"\"\n",
    "for i in range(len(l3)):\n",
    "    s += str(l3[i][0]) + \" \"\n",
    "print(s)"
   ]
  },
  {
   "cell_type": "code",
   "execution_count": 16,
   "metadata": {},
   "outputs": [
    {
     "data": {
      "text/html": [
       "<div>\n",
       "<style scoped>\n",
       "    .dataframe tbody tr th:only-of-type {\n",
       "        vertical-align: middle;\n",
       "    }\n",
       "\n",
       "    .dataframe tbody tr th {\n",
       "        vertical-align: top;\n",
       "    }\n",
       "\n",
       "    .dataframe thead th {\n",
       "        text-align: right;\n",
       "    }\n",
       "</style>\n",
       "<table border=\"1\" class=\"dataframe\">\n",
       "  <thead>\n",
       "    <tr style=\"text-align: right;\">\n",
       "      <th></th>\n",
       "      <th>B cells naive</th>\n",
       "      <th>B cells memory</th>\n",
       "      <th>Plasma cells</th>\n",
       "      <th>T cells CD8</th>\n",
       "      <th>T cells CD4 naive</th>\n",
       "      <th>T cells CD4 memory resting</th>\n",
       "      <th>T cells CD4 memory activated</th>\n",
       "      <th>T cells follicular helper</th>\n",
       "      <th>T cells regulatory (Tregs)</th>\n",
       "      <th>T cells gamma delta</th>\n",
       "      <th>...</th>\n",
       "      <th>Macrophages M2</th>\n",
       "      <th>Dendritic cells resting</th>\n",
       "      <th>Dendritic cells activated</th>\n",
       "      <th>Mast cells resting</th>\n",
       "      <th>Mast cells activated</th>\n",
       "      <th>Eosinophils</th>\n",
       "      <th>Neutrophils</th>\n",
       "      <th>P-value</th>\n",
       "      <th>Pearson Correlation</th>\n",
       "      <th>RMSE</th>\n",
       "    </tr>\n",
       "    <tr>\n",
       "      <th>Input Sample</th>\n",
       "      <th></th>\n",
       "      <th></th>\n",
       "      <th></th>\n",
       "      <th></th>\n",
       "      <th></th>\n",
       "      <th></th>\n",
       "      <th></th>\n",
       "      <th></th>\n",
       "      <th></th>\n",
       "      <th></th>\n",
       "      <th></th>\n",
       "      <th></th>\n",
       "      <th></th>\n",
       "      <th></th>\n",
       "      <th></th>\n",
       "      <th></th>\n",
       "      <th></th>\n",
       "      <th></th>\n",
       "      <th></th>\n",
       "      <th></th>\n",
       "      <th></th>\n",
       "    </tr>\n",
       "  </thead>\n",
       "  <tbody>\n",
       "    <tr>\n",
       "      <td>TCGA-RZ-AB0B-01</td>\n",
       "      <td>0.000000</td>\n",
       "      <td>0.000000</td>\n",
       "      <td>0.043900</td>\n",
       "      <td>0.000000</td>\n",
       "      <td>0.0</td>\n",
       "      <td>0.182354</td>\n",
       "      <td>0.0</td>\n",
       "      <td>0.034866</td>\n",
       "      <td>0.099392</td>\n",
       "      <td>0.0</td>\n",
       "      <td>...</td>\n",
       "      <td>0.068259</td>\n",
       "      <td>0.003922</td>\n",
       "      <td>0.0</td>\n",
       "      <td>0.268964</td>\n",
       "      <td>0</td>\n",
       "      <td>0.0</td>\n",
       "      <td>0</td>\n",
       "      <td>0.73</td>\n",
       "      <td>-0.005400</td>\n",
       "      <td>1.099710</td>\n",
       "    </tr>\n",
       "    <tr>\n",
       "      <td>TCGA-V3-A9ZX-01</td>\n",
       "      <td>0.000800</td>\n",
       "      <td>0.002109</td>\n",
       "      <td>0.003043</td>\n",
       "      <td>0.261506</td>\n",
       "      <td>0.0</td>\n",
       "      <td>0.000000</td>\n",
       "      <td>0.0</td>\n",
       "      <td>0.095574</td>\n",
       "      <td>0.003347</td>\n",
       "      <td>0.0</td>\n",
       "      <td>...</td>\n",
       "      <td>0.231561</td>\n",
       "      <td>0.013261</td>\n",
       "      <td>0.0</td>\n",
       "      <td>0.207099</td>\n",
       "      <td>0</td>\n",
       "      <td>0.0</td>\n",
       "      <td>0</td>\n",
       "      <td>0.54</td>\n",
       "      <td>0.019062</td>\n",
       "      <td>1.094536</td>\n",
       "    </tr>\n",
       "    <tr>\n",
       "      <td>TCGA-V3-A9ZY-01</td>\n",
       "      <td>0.102940</td>\n",
       "      <td>0.000000</td>\n",
       "      <td>0.075362</td>\n",
       "      <td>0.108698</td>\n",
       "      <td>0.0</td>\n",
       "      <td>0.043593</td>\n",
       "      <td>0.0</td>\n",
       "      <td>0.012877</td>\n",
       "      <td>0.073627</td>\n",
       "      <td>0.0</td>\n",
       "      <td>...</td>\n",
       "      <td>0.478309</td>\n",
       "      <td>0.000000</td>\n",
       "      <td>0.0</td>\n",
       "      <td>0.036752</td>\n",
       "      <td>0</td>\n",
       "      <td>0.0</td>\n",
       "      <td>0</td>\n",
       "      <td>0.41</td>\n",
       "      <td>0.038757</td>\n",
       "      <td>1.077862</td>\n",
       "    </tr>\n",
       "    <tr>\n",
       "      <td>TCGA-V4-A9E5-01</td>\n",
       "      <td>0.012469</td>\n",
       "      <td>0.000000</td>\n",
       "      <td>0.003132</td>\n",
       "      <td>0.000000</td>\n",
       "      <td>0.0</td>\n",
       "      <td>0.138271</td>\n",
       "      <td>0.0</td>\n",
       "      <td>0.008064</td>\n",
       "      <td>0.062064</td>\n",
       "      <td>0.0</td>\n",
       "      <td>...</td>\n",
       "      <td>0.264959</td>\n",
       "      <td>0.004574</td>\n",
       "      <td>0.0</td>\n",
       "      <td>0.268041</td>\n",
       "      <td>0</td>\n",
       "      <td>0.0</td>\n",
       "      <td>0</td>\n",
       "      <td>0.12</td>\n",
       "      <td>0.084018</td>\n",
       "      <td>1.067924</td>\n",
       "    </tr>\n",
       "    <tr>\n",
       "      <td>TCGA-V4-A9E7-01</td>\n",
       "      <td>0.046416</td>\n",
       "      <td>0.000000</td>\n",
       "      <td>0.201083</td>\n",
       "      <td>0.084126</td>\n",
       "      <td>0.0</td>\n",
       "      <td>0.000000</td>\n",
       "      <td>0.0</td>\n",
       "      <td>0.038514</td>\n",
       "      <td>0.000000</td>\n",
       "      <td>0.0</td>\n",
       "      <td>...</td>\n",
       "      <td>0.469406</td>\n",
       "      <td>0.000000</td>\n",
       "      <td>0.0</td>\n",
       "      <td>0.072276</td>\n",
       "      <td>0</td>\n",
       "      <td>0.0</td>\n",
       "      <td>0</td>\n",
       "      <td>0.29</td>\n",
       "      <td>0.050437</td>\n",
       "      <td>1.066579</td>\n",
       "    </tr>\n",
       "  </tbody>\n",
       "</table>\n",
       "<p>5 rows × 25 columns</p>\n",
       "</div>"
      ],
      "text/plain": [
       "                 B cells naive  B cells memory  Plasma cells  T cells CD8  \\\n",
       "Input Sample                                                                \n",
       "TCGA-RZ-AB0B-01       0.000000        0.000000      0.043900     0.000000   \n",
       "TCGA-V3-A9ZX-01       0.000800        0.002109      0.003043     0.261506   \n",
       "TCGA-V3-A9ZY-01       0.102940        0.000000      0.075362     0.108698   \n",
       "TCGA-V4-A9E5-01       0.012469        0.000000      0.003132     0.000000   \n",
       "TCGA-V4-A9E7-01       0.046416        0.000000      0.201083     0.084126   \n",
       "\n",
       "                 T cells CD4 naive  T cells CD4 memory resting  \\\n",
       "Input Sample                                                     \n",
       "TCGA-RZ-AB0B-01                0.0                    0.182354   \n",
       "TCGA-V3-A9ZX-01                0.0                    0.000000   \n",
       "TCGA-V3-A9ZY-01                0.0                    0.043593   \n",
       "TCGA-V4-A9E5-01                0.0                    0.138271   \n",
       "TCGA-V4-A9E7-01                0.0                    0.000000   \n",
       "\n",
       "                 T cells CD4 memory activated  T cells follicular helper  \\\n",
       "Input Sample                                                               \n",
       "TCGA-RZ-AB0B-01                           0.0                   0.034866   \n",
       "TCGA-V3-A9ZX-01                           0.0                   0.095574   \n",
       "TCGA-V3-A9ZY-01                           0.0                   0.012877   \n",
       "TCGA-V4-A9E5-01                           0.0                   0.008064   \n",
       "TCGA-V4-A9E7-01                           0.0                   0.038514   \n",
       "\n",
       "                 T cells regulatory (Tregs)  T cells gamma delta  ...  \\\n",
       "Input Sample                                                      ...   \n",
       "TCGA-RZ-AB0B-01                    0.099392                  0.0  ...   \n",
       "TCGA-V3-A9ZX-01                    0.003347                  0.0  ...   \n",
       "TCGA-V3-A9ZY-01                    0.073627                  0.0  ...   \n",
       "TCGA-V4-A9E5-01                    0.062064                  0.0  ...   \n",
       "TCGA-V4-A9E7-01                    0.000000                  0.0  ...   \n",
       "\n",
       "                 Macrophages M2  Dendritic cells resting  \\\n",
       "Input Sample                                               \n",
       "TCGA-RZ-AB0B-01        0.068259                 0.003922   \n",
       "TCGA-V3-A9ZX-01        0.231561                 0.013261   \n",
       "TCGA-V3-A9ZY-01        0.478309                 0.000000   \n",
       "TCGA-V4-A9E5-01        0.264959                 0.004574   \n",
       "TCGA-V4-A9E7-01        0.469406                 0.000000   \n",
       "\n",
       "                 Dendritic cells activated  Mast cells resting  \\\n",
       "Input Sample                                                     \n",
       "TCGA-RZ-AB0B-01                        0.0            0.268964   \n",
       "TCGA-V3-A9ZX-01                        0.0            0.207099   \n",
       "TCGA-V3-A9ZY-01                        0.0            0.036752   \n",
       "TCGA-V4-A9E5-01                        0.0            0.268041   \n",
       "TCGA-V4-A9E7-01                        0.0            0.072276   \n",
       "\n",
       "                 Mast cells activated  Eosinophils  Neutrophils  P-value  \\\n",
       "Input Sample                                                               \n",
       "TCGA-RZ-AB0B-01                     0          0.0            0     0.73   \n",
       "TCGA-V3-A9ZX-01                     0          0.0            0     0.54   \n",
       "TCGA-V3-A9ZY-01                     0          0.0            0     0.41   \n",
       "TCGA-V4-A9E5-01                     0          0.0            0     0.12   \n",
       "TCGA-V4-A9E7-01                     0          0.0            0     0.29   \n",
       "\n",
       "                 Pearson Correlation      RMSE  \n",
       "Input Sample                                    \n",
       "TCGA-RZ-AB0B-01            -0.005400  1.099710  \n",
       "TCGA-V3-A9ZX-01             0.019062  1.094536  \n",
       "TCGA-V3-A9ZY-01             0.038757  1.077862  \n",
       "TCGA-V4-A9E5-01             0.084018  1.067924  \n",
       "TCGA-V4-A9E7-01             0.050437  1.066579  \n",
       "\n",
       "[5 rows x 25 columns]"
      ]
     },
     "execution_count": 16,
     "metadata": {},
     "output_type": "execute_result"
    }
   ],
   "source": [
    "results_df = pd.read_excel(\"C:/Users/NathanGrant/Programs/TripodsREU/data/CibersortResults/UVMRun1/CIBERSORTOutput_Job2.xlsx\",index_col=\"Input Sample\")\n",
    "results_df.head()"
   ]
  },
  {
   "cell_type": "code",
   "execution_count": 17,
   "metadata": {},
   "outputs": [],
   "source": [
    "def return_subgroups(gene, p, r):\n",
    "    subgroups = {}\n",
    "    patients = p.columns[2:]\n",
    "    val = p.loc[[gene]].values[0,2:]\n",
    "    for i in range(len(val)):\n",
    "        if val[i] in subgroups:\n",
    "            subgroups[val[i]].append((i,patients[i],val[i]))\n",
    "        else:\n",
    "            subgroups[val[i]] = [(i,patients[i],val[i])]\n",
    "    return subgroups\n",
    "subgroups = return_subgroups(\"BAP1\", presence_df,results_df)"
   ]
  },
  {
   "cell_type": "code",
   "execution_count": 18,
   "metadata": {},
   "outputs": [],
   "source": [
    "group_1_df = results_df.loc[[t[1] for t in subgroups[-1]]]\n",
    "group_2_df = results_df.loc[[t[1] for t in subgroups[0]]]\n",
    "group_1_df = group_1_df[group_1_df.columns.difference(['RMSE','P-value','Pearson Correlation'])]\n",
    "group_2_df = group_2_df[group_2_df.columns.difference(['RMSE','P-value','Pearson Correlation'])]"
   ]
  },
  {
   "cell_type": "code",
   "execution_count": 19,
   "metadata": {},
   "outputs": [],
   "source": [
    "group_1_df = td.combine_celltypes(group_1_df)\n",
    "group_2_df = td.combine_celltypes(group_2_df)"
   ]
  },
  {
   "cell_type": "code",
   "execution_count": 20,
   "metadata": {},
   "outputs": [
    {
     "data": {
      "text/html": [
       "<div>\n",
       "<style scoped>\n",
       "    .dataframe tbody tr th:only-of-type {\n",
       "        vertical-align: middle;\n",
       "    }\n",
       "\n",
       "    .dataframe tbody tr th {\n",
       "        vertical-align: top;\n",
       "    }\n",
       "\n",
       "    .dataframe thead th {\n",
       "        text-align: right;\n",
       "    }\n",
       "</style>\n",
       "<table border=\"1\" class=\"dataframe\">\n",
       "  <thead>\n",
       "    <tr style=\"text-align: right;\">\n",
       "      <th></th>\n",
       "      <th>Eosinophils</th>\n",
       "      <th>Monocytes</th>\n",
       "      <th>Neutrophils</th>\n",
       "      <th>Plasma cells</th>\n",
       "      <th>CD8 T cells</th>\n",
       "      <th>T cells gamma delta</th>\n",
       "      <th>B cells</th>\n",
       "      <th>CD4 T cells</th>\n",
       "      <th>NK cells</th>\n",
       "      <th>Macrophages</th>\n",
       "      <th>Mast cells</th>\n",
       "      <th>DC</th>\n",
       "    </tr>\n",
       "    <tr>\n",
       "      <th>Input Sample</th>\n",
       "      <th></th>\n",
       "      <th></th>\n",
       "      <th></th>\n",
       "      <th></th>\n",
       "      <th></th>\n",
       "      <th></th>\n",
       "      <th></th>\n",
       "      <th></th>\n",
       "      <th></th>\n",
       "      <th></th>\n",
       "      <th></th>\n",
       "      <th></th>\n",
       "    </tr>\n",
       "  </thead>\n",
       "  <tbody>\n",
       "    <tr>\n",
       "      <td>TCGA-RZ-AB0B-01</td>\n",
       "      <td>0.000000</td>\n",
       "      <td>0.000000</td>\n",
       "      <td>0.0</td>\n",
       "      <td>0.043900</td>\n",
       "      <td>0.000000</td>\n",
       "      <td>0.0</td>\n",
       "      <td>0.000000</td>\n",
       "      <td>0.316612</td>\n",
       "      <td>0.145675</td>\n",
       "      <td>0.220927</td>\n",
       "      <td>0.268964</td>\n",
       "      <td>0.003922</td>\n",
       "    </tr>\n",
       "    <tr>\n",
       "      <td>TCGA-V3-A9ZX-01</td>\n",
       "      <td>0.000000</td>\n",
       "      <td>0.016613</td>\n",
       "      <td>0.0</td>\n",
       "      <td>0.003043</td>\n",
       "      <td>0.261499</td>\n",
       "      <td>0.0</td>\n",
       "      <td>0.002908</td>\n",
       "      <td>0.098918</td>\n",
       "      <td>0.024691</td>\n",
       "      <td>0.371974</td>\n",
       "      <td>0.207093</td>\n",
       "      <td>0.013260</td>\n",
       "    </tr>\n",
       "    <tr>\n",
       "      <td>TCGA-V4-A9E7-01</td>\n",
       "      <td>0.000000</td>\n",
       "      <td>0.012710</td>\n",
       "      <td>0.0</td>\n",
       "      <td>0.201085</td>\n",
       "      <td>0.084127</td>\n",
       "      <td>0.0</td>\n",
       "      <td>0.046417</td>\n",
       "      <td>0.038515</td>\n",
       "      <td>0.074656</td>\n",
       "      <td>0.470213</td>\n",
       "      <td>0.072277</td>\n",
       "      <td>0.000000</td>\n",
       "    </tr>\n",
       "    <tr>\n",
       "      <td>TCGA-V4-A9E8-01</td>\n",
       "      <td>0.000000</td>\n",
       "      <td>0.000000</td>\n",
       "      <td>0.0</td>\n",
       "      <td>0.010409</td>\n",
       "      <td>0.158923</td>\n",
       "      <td>0.0</td>\n",
       "      <td>0.027330</td>\n",
       "      <td>0.094339</td>\n",
       "      <td>0.063354</td>\n",
       "      <td>0.639808</td>\n",
       "      <td>0.005837</td>\n",
       "      <td>0.000000</td>\n",
       "    </tr>\n",
       "    <tr>\n",
       "      <td>TCGA-V4-A9ED-01</td>\n",
       "      <td>0.002146</td>\n",
       "      <td>0.023242</td>\n",
       "      <td>0.0</td>\n",
       "      <td>0.002478</td>\n",
       "      <td>0.000000</td>\n",
       "      <td>0.0</td>\n",
       "      <td>0.001451</td>\n",
       "      <td>0.222338</td>\n",
       "      <td>0.049396</td>\n",
       "      <td>0.421859</td>\n",
       "      <td>0.273799</td>\n",
       "      <td>0.003291</td>\n",
       "    </tr>\n",
       "  </tbody>\n",
       "</table>\n",
       "</div>"
      ],
      "text/plain": [
       "                 Eosinophils  Monocytes  Neutrophils  Plasma cells  \\\n",
       "Input Sample                                                         \n",
       "TCGA-RZ-AB0B-01     0.000000   0.000000          0.0      0.043900   \n",
       "TCGA-V3-A9ZX-01     0.000000   0.016613          0.0      0.003043   \n",
       "TCGA-V4-A9E7-01     0.000000   0.012710          0.0      0.201085   \n",
       "TCGA-V4-A9E8-01     0.000000   0.000000          0.0      0.010409   \n",
       "TCGA-V4-A9ED-01     0.002146   0.023242          0.0      0.002478   \n",
       "\n",
       "                 CD8 T cells  T cells gamma delta   B cells  CD4 T cells  \\\n",
       "Input Sample                                                               \n",
       "TCGA-RZ-AB0B-01     0.000000                  0.0  0.000000     0.316612   \n",
       "TCGA-V3-A9ZX-01     0.261499                  0.0  0.002908     0.098918   \n",
       "TCGA-V4-A9E7-01     0.084127                  0.0  0.046417     0.038515   \n",
       "TCGA-V4-A9E8-01     0.158923                  0.0  0.027330     0.094339   \n",
       "TCGA-V4-A9ED-01     0.000000                  0.0  0.001451     0.222338   \n",
       "\n",
       "                 NK cells  Macrophages  Mast cells        DC  \n",
       "Input Sample                                                  \n",
       "TCGA-RZ-AB0B-01  0.145675     0.220927    0.268964  0.003922  \n",
       "TCGA-V3-A9ZX-01  0.024691     0.371974    0.207093  0.013260  \n",
       "TCGA-V4-A9E7-01  0.074656     0.470213    0.072277  0.000000  \n",
       "TCGA-V4-A9E8-01  0.063354     0.639808    0.005837  0.000000  \n",
       "TCGA-V4-A9ED-01  0.049396     0.421859    0.273799  0.003291  "
      ]
     },
     "execution_count": 20,
     "metadata": {},
     "output_type": "execute_result"
    }
   ],
   "source": [
    "group_1_df.head()"
   ]
  },
  {
   "cell_type": "code",
   "execution_count": 21,
   "metadata": {},
   "outputs": [],
   "source": [
    "def visualize_immune_diff(celltype, df1,df2):\n",
    "    val1 = df1[celltype].values\n",
    "    val2 = df2[celltype].values\n",
    "    sns.kdeplot(val1,shade=True,color=\"b\",label=\"-1\")\n",
    "    sns.kdeplot(val2,shade=True,color=\"r\",label=\"0\")\n",
    "    print(mannwhitneyu(val1,val2))\n",
    "    return mannwhitneyu(val1,val2)"
   ]
  },
  {
   "cell_type": "markdown",
   "metadata": {},
   "source": [
    "## BAP1 immune tests"
   ]
  },
  {
   "cell_type": "code",
   "execution_count": 22,
   "metadata": {},
   "outputs": [
    {
     "name": "stdout",
     "output_type": "stream",
     "text": [
      "MannwhitneyuResult(statistic=631.0, pvalue=0.05311337810599395)\n"
     ]
    },
    {
     "data": {
      "text/plain": [
       "MannwhitneyuResult(statistic=631.0, pvalue=0.05311337810599395)"
      ]
     },
     "execution_count": 22,
     "metadata": {},
     "output_type": "execute_result"
    },
    {
     "data": {
      "image/png": "[encoded data removed]",
      "text/plain": [
       "<Figure size 432x288 with 1 Axes>"
      ]
     },
     "metadata": {
      "needs_background": "light"
     },
     "output_type": "display_data"
    }
   ],
   "source": [
    "visualize_immune_diff(\"CD8 T cells\",group_1_df,group_2_df)"
   ]
  },
  {
   "cell_type": "code",
   "execution_count": 23,
   "metadata": {},
   "outputs": [
    {
     "name": "stdout",
     "output_type": "stream",
     "text": [
      "MannwhitneyuResult(statistic=449.0, pvalue=0.00046261108689871016)\n"
     ]
    },
    {
     "data": {
      "text/plain": [
       "MannwhitneyuResult(statistic=449.0, pvalue=0.00046261108689871016)"
      ]
     },
     "execution_count": 23,
     "metadata": {},
     "output_type": "execute_result"
    },
    {
     "data": {
      "image/png": "[encoded data removed]",
      "text/plain": [
       "<Figure size 432x288 with 1 Axes>"
      ]
     },
     "metadata": {
      "needs_background": "light"
     },
     "output_type": "display_data"
    }
   ],
   "source": [
    "visualize_immune_diff(\"B cells\",group_1_df,group_2_df)"
   ]
  },
  {
   "cell_type": "code",
   "execution_count": 24,
   "metadata": {},
   "outputs": [
    {
     "name": "stdout",
     "output_type": "stream",
     "text": [
      "MannwhitneyuResult(statistic=512.0, pvalue=0.002921387528861221)\n"
     ]
    },
    {
     "data": {
      "text/plain": [
       "MannwhitneyuResult(statistic=512.0, pvalue=0.002921387528861221)"
      ]
     },
     "execution_count": 24,
     "metadata": {},
     "output_type": "execute_result"
    },
    {
     "data": {
      "image/png": "[encoded data removed]",
      "text/plain": [
       "<Figure size 432x288 with 1 Axes>"
      ]
     },
     "metadata": {
      "needs_background": "light"
     },
     "output_type": "display_data"
    }
   ],
   "source": [
    "visualize_immune_diff(\"Monocytes\",group_1_df,group_2_df)"
   ]
  },
  {
   "cell_type": "code",
   "execution_count": 25,
   "metadata": {},
   "outputs": [
    {
     "name": "stdout",
     "output_type": "stream",
     "text": [
      "MannwhitneyuResult(statistic=639.0, pvalue=0.04332682007300334)\n"
     ]
    },
    {
     "data": {
      "text/plain": [
       "MannwhitneyuResult(statistic=639.0, pvalue=0.04332682007300334)"
      ]
     },
     "execution_count": 25,
     "metadata": {},
     "output_type": "execute_result"
    },
    {
     "data": {
      "image/png": "[encoded data removed]",
      "text/plain": [
       "<Figure size 432x288 with 1 Axes>"
      ]
     },
     "metadata": {
      "needs_background": "light"
     },
     "output_type": "display_data"
    }
   ],
   "source": [
    "visualize_immune_diff(\"DC\",group_1_df,group_2_df)"
   ]
  },
  {
   "cell_type": "markdown",
   "metadata": {},
   "source": [
    "## PTPN23 Immune tests"
   ]
  },
  {
   "cell_type": "code",
   "execution_count": 222,
   "metadata": {},
   "outputs": [],
   "source": [
    "p_subgroups = return_subgroups(\"ATG14\", presence_df,results_df)"
   ]
  },
  {
   "cell_type": "code",
   "execution_count": 223,
   "metadata": {},
   "outputs": [
    {
     "data": {
      "text/plain": [
       "Index(['Eosinophils', 'Monocytes', 'Neutrophils', 'Plasma cells',\n",
       "       'CD8 T cells', 'T cells gamma delta', 'B cells', 'CD4 T cells',\n",
       "       'NK cells', 'Macrophages', 'Mast cells', 'DC'],\n",
       "      dtype='object')"
      ]
     },
     "execution_count": 223,
     "metadata": {},
     "output_type": "execute_result"
    }
   ],
   "source": [
    "p_group_1_df = results_df.loc[[t[1] for t in p_subgroups[1]]]\n",
    "p_group_0_df = results_df.loc[[t[1] for t in p_subgroups[0]]]\n",
    "p_group_1_df = p_group_1_df[p_group_1_df.columns.difference(['RMSE','P-value','Pearson Correlation'])]\n",
    "p_group_0_df = p_group_0_df[p_group_0_df.columns.difference(['RMSE','P-value','Pearson Correlation'])]\n",
    "p_group_1_df = td.combine_celltypes(p_group_1_df)\n",
    "p_group_0_df = td.combine_celltypes(p_group_0_df)\n",
    "p_group_0_df.columns"
   ]
  },
  {
   "cell_type": "code",
   "execution_count": 224,
   "metadata": {},
   "outputs": [
    {
     "name": "stdout",
     "output_type": "stream",
     "text": [
      "MannwhitneyuResult(statistic=63.0, pvalue=0.09309731280045985)\n"
     ]
    },
    {
     "data": {
      "text/plain": [
       "MannwhitneyuResult(statistic=63.0, pvalue=0.09309731280045985)"
      ]
     },
     "execution_count": 224,
     "metadata": {},
     "output_type": "execute_result"
    },
    {
     "data": {
      "image/png": "[encoded data removed]",
      "text/plain": [
       "<Figure size 432x288 with 1 Axes>"
      ]
     },
     "metadata": {
      "needs_background": "light"
     },
     "output_type": "display_data"
    }
   ],
   "source": [
    "visualize_immune_diff(\"Monocytes\",p_group_1_df,p_group_0_df)"
   ]
  },
  {
   "cell_type": "code",
   "execution_count": 225,
   "metadata": {},
   "outputs": [
    {
     "name": "stdout",
     "output_type": "stream",
     "text": [
      "MannwhitneyuResult(statistic=111.0, pvalue=0.47443044709396975)\n"
     ]
    },
    {
     "data": {
      "text/plain": [
       "MannwhitneyuResult(statistic=111.0, pvalue=0.47443044709396975)"
      ]
     },
     "execution_count": 225,
     "metadata": {},
     "output_type": "execute_result"
    },
    {
     "data": {
      "image/png": "[encoded data removed]",
      "text/plain": [
       "<Figure size 432x288 with 1 Axes>"
      ]
     },
     "metadata": {
      "needs_background": "light"
     },
     "output_type": "display_data"
    }
   ],
   "source": [
    "visualize_immune_diff(\"Plasma cells\",p_group_1_df,p_group_0_df)"
   ]
  },
  {
   "cell_type": "code",
   "execution_count": 226,
   "metadata": {},
   "outputs": [
    {
     "name": "stdout",
     "output_type": "stream",
     "text": [
      "MannwhitneyuResult(statistic=78.5, pvalue=0.17469394094576846)\n"
     ]
    },
    {
     "data": {
      "text/plain": [
       "MannwhitneyuResult(statistic=78.5, pvalue=0.17469394094576846)"
      ]
     },
     "execution_count": 226,
     "metadata": {},
     "output_type": "execute_result"
    },
    {
     "data": {
      "image/png": "[encoded data removed]",
      "text/plain": [
       "<Figure size 432x288 with 1 Axes>"
      ]
     },
     "metadata": {
      "needs_background": "light"
     },
     "output_type": "display_data"
    }
   ],
   "source": [
    "visualize_immune_diff(\"CD8 T cells\",p_group_1_df,p_group_0_df)"
   ]
  },
  {
   "cell_type": "code",
   "execution_count": 227,
   "metadata": {},
   "outputs": [
    {
     "name": "stdout",
     "output_type": "stream",
     "text": [
      "MannwhitneyuResult(statistic=47.5, pvalue=0.045239671108862775)\n"
     ]
    },
    {
     "data": {
      "text/plain": [
       "MannwhitneyuResult(statistic=47.5, pvalue=0.045239671108862775)"
      ]
     },
     "execution_count": 227,
     "metadata": {},
     "output_type": "execute_result"
    },
    {
     "data": {
      "image/png": "[encoded data removed]",
      "text/plain": [
       "<Figure size 432x288 with 1 Axes>"
      ]
     },
     "metadata": {
      "needs_background": "light"
     },
     "output_type": "display_data"
    }
   ],
   "source": [
    "visualize_immune_diff(\"B cells\",p_group_1_df,p_group_0_df)"
   ]
  },
  {
   "cell_type": "code",
   "execution_count": 228,
   "metadata": {},
   "outputs": [
    {
     "name": "stdout",
     "output_type": "stream",
     "text": [
      "Eosinophils\n",
      "MannwhitneyuResult(statistic=103.0, pvalue=0.35695636919383456)\n",
      "Monocytes\n",
      "MannwhitneyuResult(statistic=63.0, pvalue=0.09309731280045985)\n",
      "Neutrophils\n",
      "Plasma cells\n",
      "MannwhitneyuResult(statistic=111.0, pvalue=0.47443044709396975)\n",
      "CD8 T cells\n",
      "MannwhitneyuResult(statistic=78.5, pvalue=0.17469394094576846)\n",
      "T cells gamma delta\n",
      "MannwhitneyuResult(statistic=108.0, pvalue=0.35520583378287196)\n",
      "B cells\n",
      "MannwhitneyuResult(statistic=47.5, pvalue=0.045239671108862775)\n",
      "CD4 T cells\n",
      "MannwhitneyuResult(statistic=72.0, pvalue=0.14356187163414658)\n",
      "NK cells\n",
      "MannwhitneyuResult(statistic=113.0, pvalue=0.49488381345393423)\n",
      "Macrophages\n"
     ]
    },
    {
     "name": "stderr",
     "output_type": "stream",
     "text": [
      "C:\\ProgramData\\Anaconda3\\lib\\site-packages\\statsmodels\\nonparametric\\kde.py:487: RuntimeWarning: invalid value encountered in true_divide\n",
      "  binned = fast_linbin(X, a, b, gridsize) / (delta * nobs)\n",
      "C:\\ProgramData\\Anaconda3\\lib\\site-packages\\statsmodels\\nonparametric\\kdetools.py:34: RuntimeWarning: invalid value encountered in double_scalars\n",
      "  FAC1 = 2*(np.pi*bw/RANGE)**2\n"
     ]
    },
    {
     "name": "stdout",
     "output_type": "stream",
     "text": [
      "MannwhitneyuResult(statistic=98.0, pvalue=0.3454748381286329)\n",
      "Mast cells\n",
      "MannwhitneyuResult(statistic=85.0, pvalue=0.2323594750767869)\n",
      "DC\n",
      "MannwhitneyuResult(statistic=70.5, pvalue=0.10088844100982824)\n"
     ]
    },
    {
     "data": {
      "image/png": "[encoded data removed]",
      "text/plain": [
       "<Figure size 432x288 with 1 Axes>"
      ]
     },
     "metadata": {
      "needs_background": "light"
     },
     "output_type": "display_data"
    }
   ],
   "source": [
    "bap_manw = []\n",
    "for cell in group_1_df.columns:\n",
    "    print(cell)\n",
    "    if cell != \"Neutrophils\":\n",
    "        bap_manw.append((cell,visualize_immune_diff(cell,p_group_1_df,p_group_0_df)[1]))"
   ]
  },
  {
   "cell_type": "code",
   "execution_count": 71,
   "metadata": {},
   "outputs": [],
   "source": [
    "patient_data = pd.read_csv('C:/Users/NathanGrant/Programs/TripodsREU/data/uvm_tcga_pan_can_atlas_2018/data_clinical_patient.txt',delimiter=\"\\t\",index_col=\"PATIENT_ID\")"
   ]
  },
  {
   "cell_type": "code",
   "execution_count": 72,
   "metadata": {},
   "outputs": [
    {
     "data": {
      "text/html": [
       "<div>\n",
       "<style scoped>\n",
       "    .dataframe tbody tr th:only-of-type {\n",
       "        vertical-align: middle;\n",
       "    }\n",
       "\n",
       "    .dataframe tbody tr th {\n",
       "        vertical-align: top;\n",
       "    }\n",
       "\n",
       "    .dataframe thead th {\n",
       "        text-align: right;\n",
       "    }\n",
       "</style>\n",
       "<table border=\"1\" class=\"dataframe\">\n",
       "  <thead>\n",
       "    <tr style=\"text-align: right;\">\n",
       "      <th></th>\n",
       "      <th>SUBTYPE</th>\n",
       "      <th>CANCER_TYPE_ACRONYM</th>\n",
       "      <th>CENTER</th>\n",
       "      <th>IN_PANCANPATHWAYS_FREEZE</th>\n",
       "      <th>OS_STATUS</th>\n",
       "      <th>OS_MONTHS</th>\n",
       "      <th>DSS_STATUS</th>\n",
       "      <th>DSS_MONTHS</th>\n",
       "      <th>PFS_STATUS</th>\n",
       "      <th>PFS_MONTHS</th>\n",
       "    </tr>\n",
       "    <tr>\n",
       "      <th>PATIENT_ID</th>\n",
       "      <th></th>\n",
       "      <th></th>\n",
       "      <th></th>\n",
       "      <th></th>\n",
       "      <th></th>\n",
       "      <th></th>\n",
       "      <th></th>\n",
       "      <th></th>\n",
       "      <th></th>\n",
       "      <th></th>\n",
       "    </tr>\n",
       "  </thead>\n",
       "  <tbody>\n",
       "    <tr>\n",
       "      <td>TCGA-V4-A9F8</td>\n",
       "      <td>UVM</td>\n",
       "      <td>UVM</td>\n",
       "      <td>Institut Curie</td>\n",
       "      <td>Yes</td>\n",
       "      <td>LIVING</td>\n",
       "      <td>19.627182</td>\n",
       "      <td>ALIVE OR DEAD TUMOR FREE</td>\n",
       "      <td>19.627182</td>\n",
       "      <td>CENSORED</td>\n",
       "      <td>19.627182</td>\n",
       "    </tr>\n",
       "    <tr>\n",
       "      <td>TCGA-V4-A9EQ</td>\n",
       "      <td>UVM</td>\n",
       "      <td>UVM</td>\n",
       "      <td>Institut Curie</td>\n",
       "      <td>Yes</td>\n",
       "      <td>DECEASED</td>\n",
       "      <td>14.958740</td>\n",
       "      <td>DEAD WITH TUMOR</td>\n",
       "      <td>14.958740</td>\n",
       "      <td>PROGRESSION</td>\n",
       "      <td>8.284841</td>\n",
       "    </tr>\n",
       "    <tr>\n",
       "      <td>TCGA-V4-A9EE</td>\n",
       "      <td>UVM</td>\n",
       "      <td>UVM</td>\n",
       "      <td>Institut Curie</td>\n",
       "      <td>Yes</td>\n",
       "      <td>DECEASED</td>\n",
       "      <td>13.084788</td>\n",
       "      <td>DEAD WITH TUMOR</td>\n",
       "      <td>13.084788</td>\n",
       "      <td>PROGRESSION</td>\n",
       "      <td>6.936910</td>\n",
       "    </tr>\n",
       "    <tr>\n",
       "      <td>TCGA-V3-A9ZY</td>\n",
       "      <td>UVM</td>\n",
       "      <td>UVM</td>\n",
       "      <td>Cleveland Clinic Foundation</td>\n",
       "      <td>Yes</td>\n",
       "      <td>LIVING</td>\n",
       "      <td>15.090246</td>\n",
       "      <td>ALIVE OR DEAD TUMOR FREE</td>\n",
       "      <td>15.090246</td>\n",
       "      <td>CENSORED</td>\n",
       "      <td>15.090246</td>\n",
       "    </tr>\n",
       "    <tr>\n",
       "      <td>TCGA-V4-A9EU</td>\n",
       "      <td>UVM</td>\n",
       "      <td>UVM</td>\n",
       "      <td>Institut Curie</td>\n",
       "      <td>Yes</td>\n",
       "      <td>LIVING</td>\n",
       "      <td>23.309334</td>\n",
       "      <td>ALIVE OR DEAD TUMOR FREE</td>\n",
       "      <td>23.309334</td>\n",
       "      <td>PROGRESSION</td>\n",
       "      <td>2.827366</td>\n",
       "    </tr>\n",
       "  </tbody>\n",
       "</table>\n",
       "</div>"
      ],
      "text/plain": [
       "             SUBTYPE CANCER_TYPE_ACRONYM                       CENTER  \\\n",
       "PATIENT_ID                                                              \n",
       "TCGA-V4-A9F8     UVM                 UVM               Institut Curie   \n",
       "TCGA-V4-A9EQ     UVM                 UVM               Institut Curie   \n",
       "TCGA-V4-A9EE     UVM                 UVM               Institut Curie   \n",
       "TCGA-V3-A9ZY     UVM                 UVM  Cleveland Clinic Foundation   \n",
       "TCGA-V4-A9EU     UVM                 UVM               Institut Curie   \n",
       "\n",
       "             IN_PANCANPATHWAYS_FREEZE OS_STATUS  OS_MONTHS  \\\n",
       "PATIENT_ID                                                   \n",
       "TCGA-V4-A9F8                      Yes    LIVING  19.627182   \n",
       "TCGA-V4-A9EQ                      Yes  DECEASED  14.958740   \n",
       "TCGA-V4-A9EE                      Yes  DECEASED  13.084788   \n",
       "TCGA-V3-A9ZY                      Yes    LIVING  15.090246   \n",
       "TCGA-V4-A9EU                      Yes    LIVING  23.309334   \n",
       "\n",
       "                            DSS_STATUS  DSS_MONTHS   PFS_STATUS  PFS_MONTHS  \n",
       "PATIENT_ID                                                                   \n",
       "TCGA-V4-A9F8  ALIVE OR DEAD TUMOR FREE   19.627182     CENSORED   19.627182  \n",
       "TCGA-V4-A9EQ           DEAD WITH TUMOR   14.958740  PROGRESSION    8.284841  \n",
       "TCGA-V4-A9EE           DEAD WITH TUMOR   13.084788  PROGRESSION    6.936910  \n",
       "TCGA-V3-A9ZY  ALIVE OR DEAD TUMOR FREE   15.090246     CENSORED   15.090246  \n",
       "TCGA-V4-A9EU  ALIVE OR DEAD TUMOR FREE   23.309334  PROGRESSION    2.827366  "
      ]
     },
     "execution_count": 72,
     "metadata": {},
     "output_type": "execute_result"
    }
   ],
   "source": [
    "patient_data.head()"
   ]
  },
  {
   "cell_type": "markdown",
   "metadata": {},
   "source": [
    "## Check distributions for overall survival for people of both groups for BAP1"
   ]
  },
  {
   "cell_type": "code",
   "execution_count": 187,
   "metadata": {},
   "outputs": [],
   "source": [
    "patient_dict = {}\n",
    "for p in list(patient_data.index):\n",
    "    patient_dict[str(p)+\"-01\"] = (presence_df.loc[\"POLK\",str(p)+\"-01\"],patient_data.loc[p,\"DSS_MONTHS\"])"
   ]
  },
  {
   "cell_type": "code",
   "execution_count": 188,
   "metadata": {},
   "outputs": [],
   "source": [
    "zero_group = [patient_dict[p][1] for p in list(patient_dict.keys()) if patient_dict[p][0] == 0]\n",
    "neg1_group = [patient_dict[p][1] for p in list(patient_dict.keys()) if patient_dict[p][0] == 1]"
   ]
  },
  {
   "cell_type": "code",
   "execution_count": 189,
   "metadata": {},
   "outputs": [
    {
     "data": {
      "text/plain": [
       "{'whiskers': [<matplotlib.lines.Line2D at 0x205e4675e48>,\n",
       "  <matplotlib.lines.Line2D at 0x205e4655988>,\n",
       "  <matplotlib.lines.Line2D at 0x205e499ba48>,\n",
       "  <matplotlib.lines.Line2D at 0x205e4906248>],\n",
       " 'caps': [<matplotlib.lines.Line2D at 0x205e4604808>,\n",
       "  <matplotlib.lines.Line2D at 0x205e4549588>,\n",
       "  <matplotlib.lines.Line2D at 0x205e4314888>,\n",
       "  <matplotlib.lines.Line2D at 0x205e232d448>],\n",
       " 'boxes': [<matplotlib.lines.Line2D at 0x205e4655088>,\n",
       "  <matplotlib.lines.Line2D at 0x205e44bc188>],\n",
       " 'medians': [<matplotlib.lines.Line2D at 0x205e460f8c8>,\n",
       "  <matplotlib.lines.Line2D at 0x205e4a0cd08>],\n",
       " 'fliers': [<matplotlib.lines.Line2D at 0x205e44bed48>,\n",
       "  <matplotlib.lines.Line2D at 0x205e4107888>],\n",
       " 'means': []}"
      ]
     },
     "execution_count": 189,
     "metadata": {},
     "output_type": "execute_result"
    },
    {
     "data": {
      "image/png": "[encoded data removed]",
      "text/plain": [
       "<Figure size 432x288 with 1 Axes>"
      ]
     },
     "metadata": {
      "needs_background": "light"
     },
     "output_type": "display_data"
    }
   ],
   "source": [
    "plt.boxplot([zero_group,neg1_group],labels=[0,-1])"
   ]
  },
  {
   "cell_type": "code",
   "execution_count": 190,
   "metadata": {},
   "outputs": [
    {
     "data": {
      "text/plain": [
       "MannwhitneyuResult(statistic=75.0, pvalue=0.17501262467298823)"
      ]
     },
     "execution_count": 190,
     "metadata": {},
     "output_type": "execute_result"
    }
   ],
   "source": [
    "mannwhitneyu(zero_group,neg1_group)"
   ]
  },
  {
   "cell_type": "code",
   "execution_count": 191,
   "metadata": {},
   "outputs": [
    {
     "data": {
      "text/plain": [
       "<matplotlib.axes._subplots.AxesSubplot at 0x205e191d888>"
      ]
     },
     "execution_count": 191,
     "metadata": {},
     "output_type": "execute_result"
    },
    {
     "data": {
      "image/png": "[encoded data removed]",
      "text/plain": [
       "<Figure size 432x288 with 1 Axes>"
      ]
     },
     "metadata": {
      "needs_background": "light"
     },
     "output_type": "display_data"
    }
   ],
   "source": [
    "sns.kdeplot(zero_group,shade=True,color=\"r\")\n",
    "sns.kdeplot(neg1_group,shade=True,color='b')"
   ]
  },
  {
   "cell_type": "markdown",
   "metadata": {},
   "source": [
    "## Check distributions for overall survival for people of both groups for PTPN23"
   ]
  },
  {
   "cell_type": "code",
   "execution_count": 253,
   "metadata": {},
   "outputs": [],
   "source": [
    "patient_dict_2 = {}\n",
    "for p in list(patient_data.index):\n",
    "    patient_dict_2[str(p)+\"-01\"] = (presence_df.loc[\"BCL3\",str(p)+\"-01\"],patient_data.loc[p,\"DSS_MONTHS\"])"
   ]
  },
  {
   "cell_type": "code",
   "execution_count": 254,
   "metadata": {},
   "outputs": [],
   "source": [
    "zero_group_2 = [patient_dict_2[p][1] for p in list(patient_dict_2.keys()) if patient_dict_2[p][0] == 0]\n",
    "neg1_group_2 = [patient_dict_2[p][1] for p in list(patient_dict_2.keys()) if patient_dict_2[p][0] == 1]"
   ]
  },
  {
   "cell_type": "code",
   "execution_count": 255,
   "metadata": {},
   "outputs": [
    {
     "data": {
      "text/plain": [
       "{'whiskers': [<matplotlib.lines.Line2D at 0x205e4e0a808>,\n",
       "  <matplotlib.lines.Line2D at 0x205e4e0ad88>,\n",
       "  <matplotlib.lines.Line2D at 0x205e4e15f88>,\n",
       "  <matplotlib.lines.Line2D at 0x205e4e0fc88>],\n",
       " 'caps': [<matplotlib.lines.Line2D at 0x205e4e0aec8>,\n",
       "  <matplotlib.lines.Line2D at 0x205e4e0af48>,\n",
       "  <matplotlib.lines.Line2D at 0x205e4e1bec8>,\n",
       "  <matplotlib.lines.Line2D at 0x205e4e1fd08>],\n",
       " 'boxes': [<matplotlib.lines.Line2D at 0x205e4e02f88>,\n",
       "  <matplotlib.lines.Line2D at 0x205e4e15e48>],\n",
       " 'medians': [<matplotlib.lines.Line2D at 0x205e4e0fe88>,\n",
       "  <matplotlib.lines.Line2D at 0x205e4e1fe48>],\n",
       " 'fliers': [<matplotlib.lines.Line2D at 0x205e4e0ffc8>,\n",
       "  <matplotlib.lines.Line2D at 0x205e4e24dc8>],\n",
       " 'means': []}"
      ]
     },
     "execution_count": 255,
     "metadata": {},
     "output_type": "execute_result"
    },
    {
     "data": {
      "image/png": "[encoded data removed]",
      "text/plain": [
       "<Figure size 432x288 with 1 Axes>"
      ]
     },
     "metadata": {
      "needs_background": "light"
     },
     "output_type": "display_data"
    }
   ],
   "source": [
    "plt.boxplot([zero_group_2,neg1_group_2],labels=[0,-1])"
   ]
  },
  {
   "cell_type": "code",
   "execution_count": 256,
   "metadata": {},
   "outputs": [
    {
     "data": {
      "text/plain": [
       "MannwhitneyuResult(statistic=41.0, pvalue=0.14166569286666414)"
      ]
     },
     "execution_count": 256,
     "metadata": {},
     "output_type": "execute_result"
    }
   ],
   "source": [
    "mannwhitneyu(zero_group_2,neg1_group_2)"
   ]
  },
  {
   "cell_type": "code",
   "execution_count": 257,
   "metadata": {},
   "outputs": [
    {
     "data": {
      "text/plain": [
       "<matplotlib.axes._subplots.AxesSubplot at 0x205e4e4eb88>"
      ]
     },
     "execution_count": 257,
     "metadata": {},
     "output_type": "execute_result"
    },
    {
     "data": {
      "image/png": "[encoded data removed]",
      "text/plain": [
       "<Figure size 432x288 with 1 Axes>"
      ]
     },
     "metadata": {
      "needs_background": "light"
     },
     "output_type": "display_data"
    }
   ],
   "source": [
    "sns.kdeplot(zero_group_2,shade=True,color=\"r\")\n",
    "sns.kdeplot(neg1_group_2,shade=True,color='b')"
   ]
  },
  {
   "cell_type": "markdown",
   "metadata": {},
   "source": [
    "## Survival of BAP1 gene groups"
   ]
  },
  {
   "cell_type": "code",
   "execution_count": 269,
   "metadata": {},
   "outputs": [],
   "source": [
    "patient_dict_3 = {}\n",
    "for p in list(patient_data.index):\n",
    "    if patient_data.loc[p,\"OS_STATUS\"] == \"LIVING\":\n",
    "        patient_dict_3[p+\"-01\"] = (presence_df.loc[\"MLIP\",p+\"-01\"],1)\n",
    "    else:\n",
    "        patient_dict_3[p+\"-01\"] = (presence_df.loc[\"MLIP\",p+\"-01\"],0)"
   ]
  },
  {
   "cell_type": "code",
   "execution_count": 274,
   "metadata": {},
   "outputs": [],
   "source": [
    "from statsmodels.stats.proportion import proportions_ztest\n",
    "zero_group = [patient_dict_3[p][1] for p in list(patient_dict_3.keys()) if patient_dict_3[p][0] == 0]\n",
    "neg1_group = [patient_dict_3[p][1] for p in list(patient_dict_3.keys()) if patient_dict_3[p][0] == 1]"
   ]
  },
  {
   "cell_type": "code",
   "execution_count": 275,
   "metadata": {},
   "outputs": [],
   "source": [
    "suc_zero = sum([1 for o in zero_group if o == 1])\n",
    "suc_neg = sum([1 for o in neg1_group if o == 1])"
   ]
  },
  {
   "cell_type": "code",
   "execution_count": 276,
   "metadata": {},
   "outputs": [
    {
     "name": "stdout",
     "output_type": "stream",
     "text": [
      "(-0.44944957380803413, 0.6531073766787725)\n"
     ]
    }
   ],
   "source": [
    "print(proportions_ztest([suc_zero,suc_neg],[len(zero_group),len(neg1_group)]))"
   ]
  },
  {
   "cell_type": "code",
   "execution_count": 277,
   "metadata": {},
   "outputs": [],
   "source": [
    "t = [\"0\",\"1\"]\n",
    "v = [[suc_zero/len(zero_group),suc_neg/len(neg1_group)],[(len(zero_group)-suc_zero)/len(zero_group),(len(neg1_group)-suc_neg)/len(neg1_group)]]"
   ]
  },
  {
   "cell_type": "code",
   "execution_count": 278,
   "metadata": {},
   "outputs": [
    {
     "data": {
      "image/png": "[encoded data removed]",
      "text/plain": [
       "<Figure size 432x288 with 1 Axes>"
      ]
     },
     "metadata": {
      "needs_background": "light"
     },
     "output_type": "display_data"
    }
   ],
   "source": [
    "N = 2\n",
    "ind = np.arange(N) \n",
    "width = 0.35       \n",
    "plt.bar(ind, v[0], width, label='Survived')\n",
    "plt.bar(ind + width, v[1], width,\n",
    "    label='Deceased')\n",
    "\n",
    "plt.ylabel('Percentage %')\n",
    "plt.title('Survival by Group')\n",
    "\n",
    "plt.xticks(ind + width / 2, ('0', '1'))\n",
    "plt.legend(loc='best')\n",
    "plt.show()"
   ]
  },
  {
   "cell_type": "code",
   "execution_count": 235,
   "metadata": {},
   "outputs": [
    {
     "data": {
      "text/plain": [
       "{'TCGA-V4-A9F8-01': (0, 1),\n",
       " 'TCGA-V4-A9EQ-01': (0, 0),\n",
       " 'TCGA-V4-A9EE-01': (0, 0),\n",
       " 'TCGA-V3-A9ZY-01': (0, 1),\n",
       " 'TCGA-V4-A9EU-01': (0, 1),\n",
       " 'TCGA-YZ-A983-01': (0, 1),\n",
       " 'TCGA-WC-A87U-01': (0, 0),\n",
       " 'TCGA-V4-A9F7-01': (0, 1),\n",
       " 'TCGA-WC-A884-01': (0, 1),\n",
       " 'TCGA-VD-AA8O-01': (0, 0),\n",
       " 'TCGA-VD-A8KO-01': (0, 1),\n",
       " 'TCGA-V4-A9EJ-01': (0, 1),\n",
       " 'TCGA-VD-A8KK-01': (0, 1),\n",
       " 'TCGA-VD-A8KE-01': (0, 1),\n",
       " 'TCGA-VD-AA8T-01': (0, 1),\n",
       " 'TCGA-V4-A9ED-01': (0, 1),\n",
       " 'TCGA-V4-A9ET-01': (0, 1),\n",
       " 'TCGA-VD-A8KL-01': (0, 1),\n",
       " 'TCGA-V4-A9EX-01': (0, 0),\n",
       " 'TCGA-WC-A87T-01': (0, 1),\n",
       " 'TCGA-VD-AA8R-01': (0, 1),\n",
       " 'TCGA-VD-A8K9-01': (0, 1),\n",
       " 'TCGA-WC-A885-01': (0, 1),\n",
       " 'TCGA-V4-A9E9-01': (0, 1),\n",
       " 'TCGA-V4-A9EK-01': (0, 1),\n",
       " 'TCGA-V4-A9EO-01': (1, 1),\n",
       " 'TCGA-V4-A9F4-01': (0, 1),\n",
       " 'TCGA-WC-A88A-01': (0, 0),\n",
       " 'TCGA-WC-A882-01': (0, 1),\n",
       " 'TCGA-VD-A8KI-01': (0, 0),\n",
       " 'TCGA-V4-A9F0-01': (0, 0),\n",
       " 'TCGA-V4-A9EI-01': (0, 0),\n",
       " 'TCGA-VD-AA8M-01': (0, 1),\n",
       " 'TCGA-YZ-A982-01': (-1, 1),\n",
       " 'TCGA-VD-A8KA-01': (0, 1),\n",
       " 'TCGA-V3-A9ZX-01': (0, 1),\n",
       " 'TCGA-VD-A8KM-01': (0, 1),\n",
       " 'TCGA-VD-AA8S-01': (0, 1),\n",
       " 'TCGA-YZ-A984-01': (1, 0),\n",
       " 'TCGA-YZ-A980-01': (0, 1),\n",
       " 'TCGA-RZ-AB0B-01': (0, 0),\n",
       " 'TCGA-WC-AA9A-01': (0, 0),\n",
       " 'TCGA-WC-A881-01': (0, 1),\n",
       " 'TCGA-V4-A9EF-01': (0, 1),\n",
       " 'TCGA-WC-A888-01': (0, 0),\n",
       " 'TCGA-V4-A9EZ-01': (0, 1),\n",
       " 'TCGA-VD-A8KD-01': (0, 0),\n",
       " 'TCGA-WC-A87Y-01': (0, 0),\n",
       " 'TCGA-VD-A8KH-01': (0, 1),\n",
       " 'TCGA-V4-A9EV-01': (0, 0),\n",
       " 'TCGA-V4-A9EM-01': (0, 1),\n",
       " 'TCGA-V4-A9F5-01': (0, 1),\n",
       " 'TCGA-V4-A9EA-01': (-2, 1),\n",
       " 'TCGA-V4-A9EC-01': (0, 1),\n",
       " 'TCGA-VD-A8K7-01': (0, 1),\n",
       " 'TCGA-WC-A87W-01': (-1, 1),\n",
       " 'TCGA-VD-AA8Q-01': (0, 0),\n",
       " 'TCGA-V4-A9ES-01': (0, 1),\n",
       " 'TCGA-YZ-A985-01': (0, 1),\n",
       " 'TCGA-V4-A9E8-01': (0, 0),\n",
       " 'TCGA-WC-AA9E-01': (0, 1),\n",
       " 'TCGA-V4-A9F1-01': (0, 1),\n",
       " 'TCGA-V4-A9EH-01': (0, 1),\n",
       " 'TCGA-V4-A9EW-01': (0, 1),\n",
       " 'TCGA-VD-A8KF-01': (0, 0),\n",
       " 'TCGA-VD-A8KB-01': (0, 1),\n",
       " 'TCGA-V4-A9EL-01': (0, 1),\n",
       " 'TCGA-VD-A8KJ-01': (0, 1),\n",
       " 'TCGA-VD-A8KG-01': (0, 1),\n",
       " 'TCGA-WC-A880-01': (0, 1),\n",
       " 'TCGA-VD-AA8N-01': (0, 1),\n",
       " 'TCGA-VD-A8KN-01': (0, 1),\n",
       " 'TCGA-V4-A9E7-01': (0, 0),\n",
       " 'TCGA-V4-A9F2-01': (0, 1),\n",
       " 'TCGA-VD-A8K8-01': (0, 0),\n",
       " 'TCGA-V4-A9F3-01': (1, 0),\n",
       " 'TCGA-V4-A9EY-01': (0, 1),\n",
       " 'TCGA-V4-A9E5-01': (0, 1),\n",
       " 'TCGA-WC-A883-01': (0, 0),\n",
       " 'TCGA-VD-AA8P-01': (-1, 1)}"
      ]
     },
     "execution_count": 235,
     "metadata": {},
     "output_type": "execute_result"
    }
   ],
   "source": [
    "patient_dict_3"
   ]
  },
  {
   "cell_type": "code",
   "execution_count": 89,
   "metadata": {},
   "outputs": [],
   "source": [
    "def calculate_group_sim(group1,group2):\n",
    "    l1 = [p[1] for p in group1]\n",
    "    l2 = [p[1] for p in group2]\n",
    "    sim_score = 0\n",
    "    l3 = []\n",
    "    l4 = []\n",
    "    if len(l1) > len(l2):\n",
    "        l3 = l1\n",
    "        l4 = l2\n",
    "    else:\n",
    "        l3 = l2\n",
    "        l4 = l1\n",
    "    for p in l3:\n",
    "        if p in l4:\n",
    "            sim_score +=1\n",
    "    return sim_score/max(len(l1),len(l2))"
   ]
  },
  {
   "cell_type": "code",
   "execution_count": 90,
   "metadata": {},
   "outputs": [
    {
     "data": {
      "text/plain": [
       "1.0"
      ]
     },
     "execution_count": 90,
     "metadata": {},
     "output_type": "execute_result"
    }
   ],
   "source": [
    "calculate_group_sim(subgroups[-1],p_subgroups[-1])"
   ]
  },
  {
   "cell_type": "code",
   "execution_count": 91,
   "metadata": {},
   "outputs": [
    {
     "data": {
      "text/plain": [
       "[0.05714285714285714, 0.4772727272727273]"
      ]
     },
     "execution_count": 91,
     "metadata": {},
     "output_type": "execute_result"
    }
   ],
   "source": [
    "v[1]"
   ]
  },
  {
   "cell_type": "markdown",
   "metadata": {},
   "source": [
    "## Check correlation between immune cell frequency by patient and DSS"
   ]
  },
  {
   "cell_type": "code",
   "execution_count": 92,
   "metadata": {},
   "outputs": [
    {
     "name": "stdout",
     "output_type": "stream",
     "text": [
      "TCGA-YZ-A984-01 0.2042878574756991\n",
      "TCGA-VD-A8K8-01 0.5443467714888541\n"
     ]
    }
   ],
   "source": [
    "print(group_1_df['B cells'].idxmax(),group_1_df['B cells'].max())\n",
    "print(group_1_df['CD8 T cells'].idxmax(),group_1_df['CD8 T cells'].max())\n"
   ]
  },
  {
   "cell_type": "code",
   "execution_count": 93,
   "metadata": {},
   "outputs": [
    {
     "data": {
      "text/plain": [
       "Eosinophils            0.008452\n",
       "Monocytes              0.000000\n",
       "Neutrophils            0.000000\n",
       "Plasma cells           0.000000\n",
       "CD8 T cells            0.000000\n",
       "T cells gamma delta    0.000000\n",
       "B cells                0.038208\n",
       "CD4 T cells            0.152415\n",
       "NK cells               0.042774\n",
       "Macrophages            0.601117\n",
       "Mast cells             0.142585\n",
       "DC                     0.014447\n",
       "Name: TCGA-VD-A8KL-01, dtype: float64"
      ]
     },
     "execution_count": 93,
     "metadata": {},
     "output_type": "execute_result"
    }
   ],
   "source": [
    "group_1_df.loc['TCGA-VD-A8KL-01']"
   ]
  },
  {
   "cell_type": "code",
   "execution_count": 94,
   "metadata": {},
   "outputs": [
    {
     "data": {
      "text/html": [
       "<div>\n",
       "<style scoped>\n",
       "    .dataframe tbody tr th:only-of-type {\n",
       "        vertical-align: middle;\n",
       "    }\n",
       "\n",
       "    .dataframe tbody tr th {\n",
       "        vertical-align: top;\n",
       "    }\n",
       "\n",
       "    .dataframe thead th {\n",
       "        text-align: right;\n",
       "    }\n",
       "</style>\n",
       "<table border=\"1\" class=\"dataframe\">\n",
       "  <thead>\n",
       "    <tr style=\"text-align: right;\">\n",
       "      <th></th>\n",
       "      <th>Eosinophils</th>\n",
       "      <th>Monocytes</th>\n",
       "      <th>Neutrophils</th>\n",
       "      <th>Plasma cells</th>\n",
       "      <th>CD8 T cells</th>\n",
       "      <th>T cells gamma delta</th>\n",
       "      <th>B cells</th>\n",
       "      <th>CD4 T cells</th>\n",
       "      <th>NK cells</th>\n",
       "      <th>Macrophages</th>\n",
       "      <th>Mast cells</th>\n",
       "      <th>DC</th>\n",
       "    </tr>\n",
       "    <tr>\n",
       "      <th>Input Sample</th>\n",
       "      <th></th>\n",
       "      <th></th>\n",
       "      <th></th>\n",
       "      <th></th>\n",
       "      <th></th>\n",
       "      <th></th>\n",
       "      <th></th>\n",
       "      <th></th>\n",
       "      <th></th>\n",
       "      <th></th>\n",
       "      <th></th>\n",
       "      <th></th>\n",
       "    </tr>\n",
       "  </thead>\n",
       "  <tbody>\n",
       "    <tr>\n",
       "      <td>TCGA-WC-A883-01</td>\n",
       "      <td>0.000000</td>\n",
       "      <td>0.000000</td>\n",
       "      <td>NaN</td>\n",
       "      <td>0.071092</td>\n",
       "      <td>0.023380</td>\n",
       "      <td>0.000000</td>\n",
       "      <td>0.033798</td>\n",
       "      <td>0.134087</td>\n",
       "      <td>0.216983</td>\n",
       "      <td>1.000000</td>\n",
       "      <td>0.136540</td>\n",
       "      <td>0.000000</td>\n",
       "    </tr>\n",
       "    <tr>\n",
       "      <td>TCGA-V4-A9E8-01</td>\n",
       "      <td>0.000000</td>\n",
       "      <td>0.000000</td>\n",
       "      <td>NaN</td>\n",
       "      <td>0.025294</td>\n",
       "      <td>0.291952</td>\n",
       "      <td>0.000000</td>\n",
       "      <td>0.133780</td>\n",
       "      <td>0.112756</td>\n",
       "      <td>0.329315</td>\n",
       "      <td>0.821069</td>\n",
       "      <td>0.018270</td>\n",
       "      <td>0.000000</td>\n",
       "    </tr>\n",
       "    <tr>\n",
       "      <td>TCGA-WC-A882-01</td>\n",
       "      <td>0.600195</td>\n",
       "      <td>0.000000</td>\n",
       "      <td>NaN</td>\n",
       "      <td>0.007119</td>\n",
       "      <td>0.043043</td>\n",
       "      <td>0.000000</td>\n",
       "      <td>0.074324</td>\n",
       "      <td>0.197912</td>\n",
       "      <td>0.133353</td>\n",
       "      <td>0.808952</td>\n",
       "      <td>0.473406</td>\n",
       "      <td>0.000000</td>\n",
       "    </tr>\n",
       "    <tr>\n",
       "      <td>TCGA-WC-A88A-01</td>\n",
       "      <td>0.000000</td>\n",
       "      <td>0.000000</td>\n",
       "      <td>NaN</td>\n",
       "      <td>0.033241</td>\n",
       "      <td>0.212145</td>\n",
       "      <td>0.000000</td>\n",
       "      <td>0.361122</td>\n",
       "      <td>0.131143</td>\n",
       "      <td>0.188480</td>\n",
       "      <td>0.805625</td>\n",
       "      <td>0.087648</td>\n",
       "      <td>0.000000</td>\n",
       "    </tr>\n",
       "    <tr>\n",
       "      <td>TCGA-VD-A8KL-01</td>\n",
       "      <td>0.377628</td>\n",
       "      <td>0.000000</td>\n",
       "      <td>NaN</td>\n",
       "      <td>0.000000</td>\n",
       "      <td>0.000000</td>\n",
       "      <td>0.000000</td>\n",
       "      <td>0.187033</td>\n",
       "      <td>0.230062</td>\n",
       "      <td>0.222341</td>\n",
       "      <td>0.763872</td>\n",
       "      <td>0.446260</td>\n",
       "      <td>1.000000</td>\n",
       "    </tr>\n",
       "    <tr>\n",
       "      <td>TCGA-VD-AA8T-01</td>\n",
       "      <td>0.000000</td>\n",
       "      <td>0.037517</td>\n",
       "      <td>NaN</td>\n",
       "      <td>0.002833</td>\n",
       "      <td>0.094733</td>\n",
       "      <td>0.000000</td>\n",
       "      <td>0.843354</td>\n",
       "      <td>0.260357</td>\n",
       "      <td>0.113214</td>\n",
       "      <td>0.733678</td>\n",
       "      <td>0.000000</td>\n",
       "      <td>0.000000</td>\n",
       "    </tr>\n",
       "    <tr>\n",
       "      <td>TCGA-V4-A9EW-01</td>\n",
       "      <td>0.000000</td>\n",
       "      <td>0.242921</td>\n",
       "      <td>NaN</td>\n",
       "      <td>0.049862</td>\n",
       "      <td>0.030694</td>\n",
       "      <td>0.000000</td>\n",
       "      <td>0.215717</td>\n",
       "      <td>0.217158</td>\n",
       "      <td>0.303724</td>\n",
       "      <td>0.727479</td>\n",
       "      <td>0.327917</td>\n",
       "      <td>0.000000</td>\n",
       "    </tr>\n",
       "    <tr>\n",
       "      <td>TCGA-V4-A9EE-01</td>\n",
       "      <td>0.000000</td>\n",
       "      <td>0.000000</td>\n",
       "      <td>NaN</td>\n",
       "      <td>0.050957</td>\n",
       "      <td>0.384523</td>\n",
       "      <td>0.000000</td>\n",
       "      <td>0.246492</td>\n",
       "      <td>0.204804</td>\n",
       "      <td>0.032163</td>\n",
       "      <td>0.721363</td>\n",
       "      <td>0.002817</td>\n",
       "      <td>0.000000</td>\n",
       "    </tr>\n",
       "    <tr>\n",
       "      <td>TCGA-V4-A9F5-01</td>\n",
       "      <td>0.000000</td>\n",
       "      <td>0.000000</td>\n",
       "      <td>NaN</td>\n",
       "      <td>0.265340</td>\n",
       "      <td>0.000000</td>\n",
       "      <td>0.000000</td>\n",
       "      <td>0.427397</td>\n",
       "      <td>0.174727</td>\n",
       "      <td>0.426932</td>\n",
       "      <td>0.697700</td>\n",
       "      <td>0.125129</td>\n",
       "      <td>0.000000</td>\n",
       "    </tr>\n",
       "    <tr>\n",
       "      <td>TCGA-VD-A8KI-01</td>\n",
       "      <td>0.000000</td>\n",
       "      <td>0.000000</td>\n",
       "      <td>NaN</td>\n",
       "      <td>0.093771</td>\n",
       "      <td>0.079395</td>\n",
       "      <td>1.000000</td>\n",
       "      <td>0.043718</td>\n",
       "      <td>0.125250</td>\n",
       "      <td>0.000000</td>\n",
       "      <td>0.681826</td>\n",
       "      <td>0.646731</td>\n",
       "      <td>0.298076</td>\n",
       "    </tr>\n",
       "    <tr>\n",
       "      <td>TCGA-VD-A8KN-01</td>\n",
       "      <td>0.000000</td>\n",
       "      <td>0.267010</td>\n",
       "      <td>NaN</td>\n",
       "      <td>0.072155</td>\n",
       "      <td>0.157178</td>\n",
       "      <td>0.472816</td>\n",
       "      <td>0.006967</td>\n",
       "      <td>0.070884</td>\n",
       "      <td>0.263813</td>\n",
       "      <td>0.654664</td>\n",
       "      <td>0.525889</td>\n",
       "      <td>0.192231</td>\n",
       "    </tr>\n",
       "    <tr>\n",
       "      <td>TCGA-V4-A9F1-01</td>\n",
       "      <td>0.000000</td>\n",
       "      <td>0.210442</td>\n",
       "      <td>NaN</td>\n",
       "      <td>0.017497</td>\n",
       "      <td>0.059686</td>\n",
       "      <td>0.000000</td>\n",
       "      <td>0.016339</td>\n",
       "      <td>0.326423</td>\n",
       "      <td>0.189570</td>\n",
       "      <td>0.625778</td>\n",
       "      <td>0.576224</td>\n",
       "      <td>0.000000</td>\n",
       "    </tr>\n",
       "    <tr>\n",
       "      <td>TCGA-VD-AA8N-01</td>\n",
       "      <td>0.000000</td>\n",
       "      <td>0.207308</td>\n",
       "      <td>NaN</td>\n",
       "      <td>0.055227</td>\n",
       "      <td>0.375411</td>\n",
       "      <td>0.000000</td>\n",
       "      <td>0.020296</td>\n",
       "      <td>0.069069</td>\n",
       "      <td>0.138968</td>\n",
       "      <td>0.587709</td>\n",
       "      <td>0.459810</td>\n",
       "      <td>0.852702</td>\n",
       "    </tr>\n",
       "    <tr>\n",
       "      <td>TCGA-V4-A9EI-01</td>\n",
       "      <td>0.000000</td>\n",
       "      <td>0.000000</td>\n",
       "      <td>NaN</td>\n",
       "      <td>0.045334</td>\n",
       "      <td>0.000000</td>\n",
       "      <td>0.000000</td>\n",
       "      <td>0.023699</td>\n",
       "      <td>0.593925</td>\n",
       "      <td>0.527939</td>\n",
       "      <td>0.583621</td>\n",
       "      <td>0.190836</td>\n",
       "      <td>0.153273</td>\n",
       "    </tr>\n",
       "    <tr>\n",
       "      <td>TCGA-V4-A9E7-01</td>\n",
       "      <td>0.000000</td>\n",
       "      <td>0.093639</td>\n",
       "      <td>NaN</td>\n",
       "      <td>0.488617</td>\n",
       "      <td>0.154547</td>\n",
       "      <td>0.000000</td>\n",
       "      <td>0.227212</td>\n",
       "      <td>0.000000</td>\n",
       "      <td>0.388062</td>\n",
       "      <td>0.570351</td>\n",
       "      <td>0.226210</td>\n",
       "      <td>0.000000</td>\n",
       "    </tr>\n",
       "    <tr>\n",
       "      <td>TCGA-V4-A9EQ-01</td>\n",
       "      <td>0.000000</td>\n",
       "      <td>0.000000</td>\n",
       "      <td>NaN</td>\n",
       "      <td>0.052448</td>\n",
       "      <td>0.000000</td>\n",
       "      <td>0.000000</td>\n",
       "      <td>0.028240</td>\n",
       "      <td>0.408904</td>\n",
       "      <td>0.407788</td>\n",
       "      <td>0.558796</td>\n",
       "      <td>0.590378</td>\n",
       "      <td>0.152944</td>\n",
       "    </tr>\n",
       "    <tr>\n",
       "      <td>TCGA-V4-A9EU-01</td>\n",
       "      <td>0.000000</td>\n",
       "      <td>0.000000</td>\n",
       "      <td>NaN</td>\n",
       "      <td>0.000000</td>\n",
       "      <td>0.000000</td>\n",
       "      <td>0.000000</td>\n",
       "      <td>0.041612</td>\n",
       "      <td>0.589222</td>\n",
       "      <td>0.608051</td>\n",
       "      <td>0.533318</td>\n",
       "      <td>0.306556</td>\n",
       "      <td>0.081746</td>\n",
       "    </tr>\n",
       "    <tr>\n",
       "      <td>TCGA-VD-A8KD-01</td>\n",
       "      <td>0.000000</td>\n",
       "      <td>0.000000</td>\n",
       "      <td>NaN</td>\n",
       "      <td>0.272147</td>\n",
       "      <td>0.532378</td>\n",
       "      <td>0.000000</td>\n",
       "      <td>0.099696</td>\n",
       "      <td>0.190271</td>\n",
       "      <td>0.009629</td>\n",
       "      <td>0.526035</td>\n",
       "      <td>0.009491</td>\n",
       "      <td>0.000000</td>\n",
       "    </tr>\n",
       "    <tr>\n",
       "      <td>TCGA-V4-A9EL-01</td>\n",
       "      <td>0.000000</td>\n",
       "      <td>0.243481</td>\n",
       "      <td>NaN</td>\n",
       "      <td>0.071406</td>\n",
       "      <td>0.438698</td>\n",
       "      <td>0.000000</td>\n",
       "      <td>0.024721</td>\n",
       "      <td>0.150174</td>\n",
       "      <td>0.109144</td>\n",
       "      <td>0.517060</td>\n",
       "      <td>0.388164</td>\n",
       "      <td>0.114985</td>\n",
       "    </tr>\n",
       "    <tr>\n",
       "      <td>TCGA-VD-AA8O-01</td>\n",
       "      <td>0.000000</td>\n",
       "      <td>0.000000</td>\n",
       "      <td>NaN</td>\n",
       "      <td>0.339402</td>\n",
       "      <td>0.637769</td>\n",
       "      <td>0.000000</td>\n",
       "      <td>0.000000</td>\n",
       "      <td>0.085870</td>\n",
       "      <td>0.005239</td>\n",
       "      <td>0.512558</td>\n",
       "      <td>0.000000</td>\n",
       "      <td>0.000000</td>\n",
       "    </tr>\n",
       "    <tr>\n",
       "      <td>TCGA-V4-A9EF-01</td>\n",
       "      <td>0.000000</td>\n",
       "      <td>0.005894</td>\n",
       "      <td>NaN</td>\n",
       "      <td>0.000000</td>\n",
       "      <td>0.000000</td>\n",
       "      <td>0.000000</td>\n",
       "      <td>0.038429</td>\n",
       "      <td>0.519694</td>\n",
       "      <td>1.000000</td>\n",
       "      <td>0.499518</td>\n",
       "      <td>0.253077</td>\n",
       "      <td>0.000000</td>\n",
       "    </tr>\n",
       "    <tr>\n",
       "      <td>TCGA-V4-A9ED-01</td>\n",
       "      <td>0.095885</td>\n",
       "      <td>0.171232</td>\n",
       "      <td>NaN</td>\n",
       "      <td>0.006020</td>\n",
       "      <td>0.000000</td>\n",
       "      <td>0.000000</td>\n",
       "      <td>0.007104</td>\n",
       "      <td>0.371297</td>\n",
       "      <td>0.256761</td>\n",
       "      <td>0.498868</td>\n",
       "      <td>0.856929</td>\n",
       "      <td>0.227768</td>\n",
       "    </tr>\n",
       "    <tr>\n",
       "      <td>TCGA-V4-A9EX-01</td>\n",
       "      <td>0.000000</td>\n",
       "      <td>0.000000</td>\n",
       "      <td>NaN</td>\n",
       "      <td>0.059144</td>\n",
       "      <td>0.000000</td>\n",
       "      <td>0.000000</td>\n",
       "      <td>0.048513</td>\n",
       "      <td>0.740776</td>\n",
       "      <td>0.660834</td>\n",
       "      <td>0.493408</td>\n",
       "      <td>0.040873</td>\n",
       "      <td>0.147433</td>\n",
       "    </tr>\n",
       "    <tr>\n",
       "      <td>TCGA-VD-A8KA-01</td>\n",
       "      <td>0.000000</td>\n",
       "      <td>0.070689</td>\n",
       "      <td>NaN</td>\n",
       "      <td>0.270183</td>\n",
       "      <td>0.000000</td>\n",
       "      <td>0.000000</td>\n",
       "      <td>0.096736</td>\n",
       "      <td>0.434528</td>\n",
       "      <td>0.359372</td>\n",
       "      <td>0.467936</td>\n",
       "      <td>0.424824</td>\n",
       "      <td>0.000000</td>\n",
       "    </tr>\n",
       "    <tr>\n",
       "      <td>TCGA-YZ-A985-01</td>\n",
       "      <td>0.077710</td>\n",
       "      <td>0.506647</td>\n",
       "      <td>NaN</td>\n",
       "      <td>0.012366</td>\n",
       "      <td>0.000000</td>\n",
       "      <td>0.000000</td>\n",
       "      <td>0.013239</td>\n",
       "      <td>0.585593</td>\n",
       "      <td>0.496673</td>\n",
       "      <td>0.457527</td>\n",
       "      <td>0.324930</td>\n",
       "      <td>0.000000</td>\n",
       "    </tr>\n",
       "    <tr>\n",
       "      <td>TCGA-V4-A9ES-01</td>\n",
       "      <td>0.000000</td>\n",
       "      <td>0.608868</td>\n",
       "      <td>NaN</td>\n",
       "      <td>0.327293</td>\n",
       "      <td>0.000000</td>\n",
       "      <td>0.000000</td>\n",
       "      <td>0.075562</td>\n",
       "      <td>0.279441</td>\n",
       "      <td>0.979288</td>\n",
       "      <td>0.455344</td>\n",
       "      <td>0.029880</td>\n",
       "      <td>0.000000</td>\n",
       "    </tr>\n",
       "    <tr>\n",
       "      <td>TCGA-V4-A9F0-01</td>\n",
       "      <td>0.078753</td>\n",
       "      <td>0.000000</td>\n",
       "      <td>NaN</td>\n",
       "      <td>0.015553</td>\n",
       "      <td>0.000000</td>\n",
       "      <td>0.000000</td>\n",
       "      <td>0.031335</td>\n",
       "      <td>0.443767</td>\n",
       "      <td>0.624113</td>\n",
       "      <td>0.439487</td>\n",
       "      <td>0.703758</td>\n",
       "      <td>0.041529</td>\n",
       "    </tr>\n",
       "    <tr>\n",
       "      <td>TCGA-V3-A9ZX-01</td>\n",
       "      <td>0.000000</td>\n",
       "      <td>0.122392</td>\n",
       "      <td>NaN</td>\n",
       "      <td>0.007394</td>\n",
       "      <td>0.480391</td>\n",
       "      <td>0.000000</td>\n",
       "      <td>0.014237</td>\n",
       "      <td>0.122006</td>\n",
       "      <td>0.128344</td>\n",
       "      <td>0.425121</td>\n",
       "      <td>0.648155</td>\n",
       "      <td>0.917837</td>\n",
       "    </tr>\n",
       "    <tr>\n",
       "      <td>TCGA-VD-A8KH-01</td>\n",
       "      <td>1.000000</td>\n",
       "      <td>0.419803</td>\n",
       "      <td>NaN</td>\n",
       "      <td>0.304987</td>\n",
       "      <td>0.000000</td>\n",
       "      <td>0.000000</td>\n",
       "      <td>0.167080</td>\n",
       "      <td>0.243889</td>\n",
       "      <td>0.756305</td>\n",
       "      <td>0.402552</td>\n",
       "      <td>0.307548</td>\n",
       "      <td>0.086909</td>\n",
       "    </tr>\n",
       "    <tr>\n",
       "      <td>TCGA-V4-A9F8-01</td>\n",
       "      <td>0.000000</td>\n",
       "      <td>1.000000</td>\n",
       "      <td>NaN</td>\n",
       "      <td>0.229591</td>\n",
       "      <td>0.032625</td>\n",
       "      <td>0.000000</td>\n",
       "      <td>0.347634</td>\n",
       "      <td>0.243329</td>\n",
       "      <td>0.860277</td>\n",
       "      <td>0.398930</td>\n",
       "      <td>0.007072</td>\n",
       "      <td>0.000000</td>\n",
       "    </tr>\n",
       "    <tr>\n",
       "      <td>TCGA-WC-AA9A-01</td>\n",
       "      <td>0.000000</td>\n",
       "      <td>0.000000</td>\n",
       "      <td>NaN</td>\n",
       "      <td>1.000000</td>\n",
       "      <td>0.000000</td>\n",
       "      <td>0.025330</td>\n",
       "      <td>0.311601</td>\n",
       "      <td>0.233758</td>\n",
       "      <td>0.186391</td>\n",
       "      <td>0.368065</td>\n",
       "      <td>0.000000</td>\n",
       "      <td>0.000000</td>\n",
       "    </tr>\n",
       "    <tr>\n",
       "      <td>TCGA-VD-A8KM-01</td>\n",
       "      <td>0.000000</td>\n",
       "      <td>0.000000</td>\n",
       "      <td>NaN</td>\n",
       "      <td>0.233331</td>\n",
       "      <td>0.557586</td>\n",
       "      <td>0.000000</td>\n",
       "      <td>0.596590</td>\n",
       "      <td>0.199152</td>\n",
       "      <td>0.022674</td>\n",
       "      <td>0.359711</td>\n",
       "      <td>0.029347</td>\n",
       "      <td>0.000000</td>\n",
       "    </tr>\n",
       "    <tr>\n",
       "      <td>TCGA-YZ-A984-01</td>\n",
       "      <td>0.000000</td>\n",
       "      <td>0.155119</td>\n",
       "      <td>NaN</td>\n",
       "      <td>0.179348</td>\n",
       "      <td>0.124264</td>\n",
       "      <td>0.000000</td>\n",
       "      <td>1.000000</td>\n",
       "      <td>0.268792</td>\n",
       "      <td>0.456376</td>\n",
       "      <td>0.352073</td>\n",
       "      <td>0.160419</td>\n",
       "      <td>0.000000</td>\n",
       "    </tr>\n",
       "    <tr>\n",
       "      <td>TCGA-VD-A8KK-01</td>\n",
       "      <td>0.000000</td>\n",
       "      <td>0.197114</td>\n",
       "      <td>NaN</td>\n",
       "      <td>0.339369</td>\n",
       "      <td>0.456376</td>\n",
       "      <td>0.000000</td>\n",
       "      <td>0.387380</td>\n",
       "      <td>0.213725</td>\n",
       "      <td>0.244865</td>\n",
       "      <td>0.314482</td>\n",
       "      <td>0.054610</td>\n",
       "      <td>0.000000</td>\n",
       "    </tr>\n",
       "    <tr>\n",
       "      <td>TCGA-WC-A888-01</td>\n",
       "      <td>0.000000</td>\n",
       "      <td>0.224691</td>\n",
       "      <td>NaN</td>\n",
       "      <td>0.082004</td>\n",
       "      <td>0.520280</td>\n",
       "      <td>0.000000</td>\n",
       "      <td>0.147410</td>\n",
       "      <td>0.361527</td>\n",
       "      <td>0.342179</td>\n",
       "      <td>0.281301</td>\n",
       "      <td>0.190344</td>\n",
       "      <td>0.248485</td>\n",
       "    </tr>\n",
       "    <tr>\n",
       "      <td>TCGA-VD-AA8P-01</td>\n",
       "      <td>0.591500</td>\n",
       "      <td>0.495426</td>\n",
       "      <td>NaN</td>\n",
       "      <td>0.041348</td>\n",
       "      <td>0.000000</td>\n",
       "      <td>0.000000</td>\n",
       "      <td>0.026603</td>\n",
       "      <td>0.518578</td>\n",
       "      <td>0.432158</td>\n",
       "      <td>0.280411</td>\n",
       "      <td>0.765489</td>\n",
       "      <td>0.000000</td>\n",
       "    </tr>\n",
       "    <tr>\n",
       "      <td>TCGA-V4-A9F3-01</td>\n",
       "      <td>0.000000</td>\n",
       "      <td>0.272599</td>\n",
       "      <td>NaN</td>\n",
       "      <td>0.062057</td>\n",
       "      <td>0.760640</td>\n",
       "      <td>0.000000</td>\n",
       "      <td>0.019565</td>\n",
       "      <td>0.163247</td>\n",
       "      <td>0.161552</td>\n",
       "      <td>0.271772</td>\n",
       "      <td>0.297848</td>\n",
       "      <td>0.386684</td>\n",
       "    </tr>\n",
       "    <tr>\n",
       "      <td>TCGA-V4-A9EO-01</td>\n",
       "      <td>0.273541</td>\n",
       "      <td>0.186108</td>\n",
       "      <td>NaN</td>\n",
       "      <td>0.048443</td>\n",
       "      <td>0.000000</td>\n",
       "      <td>0.000000</td>\n",
       "      <td>0.010592</td>\n",
       "      <td>0.398618</td>\n",
       "      <td>0.671213</td>\n",
       "      <td>0.262558</td>\n",
       "      <td>1.000000</td>\n",
       "      <td>0.000000</td>\n",
       "    </tr>\n",
       "    <tr>\n",
       "      <td>TCGA-VD-A8K8-01</td>\n",
       "      <td>0.000000</td>\n",
       "      <td>0.040378</td>\n",
       "      <td>NaN</td>\n",
       "      <td>0.100519</td>\n",
       "      <td>1.000000</td>\n",
       "      <td>0.000000</td>\n",
       "      <td>0.036484</td>\n",
       "      <td>0.212705</td>\n",
       "      <td>0.060388</td>\n",
       "      <td>0.238759</td>\n",
       "      <td>0.000000</td>\n",
       "      <td>0.000000</td>\n",
       "    </tr>\n",
       "    <tr>\n",
       "      <td>TCGA-YZ-A980-01</td>\n",
       "      <td>0.000000</td>\n",
       "      <td>0.000000</td>\n",
       "      <td>NaN</td>\n",
       "      <td>0.066404</td>\n",
       "      <td>0.000000</td>\n",
       "      <td>0.000000</td>\n",
       "      <td>0.003427</td>\n",
       "      <td>0.939577</td>\n",
       "      <td>0.271678</td>\n",
       "      <td>0.220187</td>\n",
       "      <td>0.556044</td>\n",
       "      <td>0.346751</td>\n",
       "    </tr>\n",
       "    <tr>\n",
       "      <td>TCGA-RZ-AB0B-01</td>\n",
       "      <td>0.000000</td>\n",
       "      <td>0.000000</td>\n",
       "      <td>NaN</td>\n",
       "      <td>0.106673</td>\n",
       "      <td>0.000000</td>\n",
       "      <td>0.000000</td>\n",
       "      <td>0.000000</td>\n",
       "      <td>0.561716</td>\n",
       "      <td>0.757215</td>\n",
       "      <td>0.201823</td>\n",
       "      <td>0.841798</td>\n",
       "      <td>0.271450</td>\n",
       "    </tr>\n",
       "    <tr>\n",
       "      <td>TCGA-V4-A9EV-01</td>\n",
       "      <td>0.000000</td>\n",
       "      <td>0.194813</td>\n",
       "      <td>NaN</td>\n",
       "      <td>0.081540</td>\n",
       "      <td>0.843329</td>\n",
       "      <td>0.000000</td>\n",
       "      <td>0.034015</td>\n",
       "      <td>0.195075</td>\n",
       "      <td>0.287694</td>\n",
       "      <td>0.150039</td>\n",
       "      <td>0.297396</td>\n",
       "      <td>0.181858</td>\n",
       "    </tr>\n",
       "    <tr>\n",
       "      <td>TCGA-WC-A87Y-01</td>\n",
       "      <td>0.000000</td>\n",
       "      <td>0.307279</td>\n",
       "      <td>NaN</td>\n",
       "      <td>0.063997</td>\n",
       "      <td>0.633292</td>\n",
       "      <td>0.000000</td>\n",
       "      <td>0.011299</td>\n",
       "      <td>0.319215</td>\n",
       "      <td>0.212847</td>\n",
       "      <td>0.117188</td>\n",
       "      <td>0.575058</td>\n",
       "      <td>0.000000</td>\n",
       "    </tr>\n",
       "    <tr>\n",
       "      <td>TCGA-VD-A8KF-01</td>\n",
       "      <td>0.329788</td>\n",
       "      <td>0.581633</td>\n",
       "      <td>NaN</td>\n",
       "      <td>0.089517</td>\n",
       "      <td>0.306457</td>\n",
       "      <td>0.000000</td>\n",
       "      <td>0.026593</td>\n",
       "      <td>1.000000</td>\n",
       "      <td>0.219231</td>\n",
       "      <td>0.000000</td>\n",
       "      <td>0.120765</td>\n",
       "      <td>0.402229</td>\n",
       "    </tr>\n",
       "  </tbody>\n",
       "</table>\n",
       "</div>"
      ],
      "text/plain": [
       "                 Eosinophils  Monocytes  Neutrophils  Plasma cells  \\\n",
       "Input Sample                                                         \n",
       "TCGA-WC-A883-01     0.000000   0.000000          NaN      0.071092   \n",
       "TCGA-V4-A9E8-01     0.000000   0.000000          NaN      0.025294   \n",
       "TCGA-WC-A882-01     0.600195   0.000000          NaN      0.007119   \n",
       "TCGA-WC-A88A-01     0.000000   0.000000          NaN      0.033241   \n",
       "TCGA-VD-A8KL-01     0.377628   0.000000          NaN      0.000000   \n",
       "TCGA-VD-AA8T-01     0.000000   0.037517          NaN      0.002833   \n",
       "TCGA-V4-A9EW-01     0.000000   0.242921          NaN      0.049862   \n",
       "TCGA-V4-A9EE-01     0.000000   0.000000          NaN      0.050957   \n",
       "TCGA-V4-A9F5-01     0.000000   0.000000          NaN      0.265340   \n",
       "TCGA-VD-A8KI-01     0.000000   0.000000          NaN      0.093771   \n",
       "TCGA-VD-A8KN-01     0.000000   0.267010          NaN      0.072155   \n",
       "TCGA-V4-A9F1-01     0.000000   0.210442          NaN      0.017497   \n",
       "TCGA-VD-AA8N-01     0.000000   0.207308          NaN      0.055227   \n",
       "TCGA-V4-A9EI-01     0.000000   0.000000          NaN      0.045334   \n",
       "TCGA-V4-A9E7-01     0.000000   0.093639          NaN      0.488617   \n",
       "TCGA-V4-A9EQ-01     0.000000   0.000000          NaN      0.052448   \n",
       "TCGA-V4-A9EU-01     0.000000   0.000000          NaN      0.000000   \n",
       "TCGA-VD-A8KD-01     0.000000   0.000000          NaN      0.272147   \n",
       "TCGA-V4-A9EL-01     0.000000   0.243481          NaN      0.071406   \n",
       "TCGA-VD-AA8O-01     0.000000   0.000000          NaN      0.339402   \n",
       "TCGA-V4-A9EF-01     0.000000   0.005894          NaN      0.000000   \n",
       "TCGA-V4-A9ED-01     0.095885   0.171232          NaN      0.006020   \n",
       "TCGA-V4-A9EX-01     0.000000   0.000000          NaN      0.059144   \n",
       "TCGA-VD-A8KA-01     0.000000   0.070689          NaN      0.270183   \n",
       "TCGA-YZ-A985-01     0.077710   0.506647          NaN      0.012366   \n",
       "TCGA-V4-A9ES-01     0.000000   0.608868          NaN      0.327293   \n",
       "TCGA-V4-A9F0-01     0.078753   0.000000          NaN      0.015553   \n",
       "TCGA-V3-A9ZX-01     0.000000   0.122392          NaN      0.007394   \n",
       "TCGA-VD-A8KH-01     1.000000   0.419803          NaN      0.304987   \n",
       "TCGA-V4-A9F8-01     0.000000   1.000000          NaN      0.229591   \n",
       "TCGA-WC-AA9A-01     0.000000   0.000000          NaN      1.000000   \n",
       "TCGA-VD-A8KM-01     0.000000   0.000000          NaN      0.233331   \n",
       "TCGA-YZ-A984-01     0.000000   0.155119          NaN      0.179348   \n",
       "TCGA-VD-A8KK-01     0.000000   0.197114          NaN      0.339369   \n",
       "TCGA-WC-A888-01     0.000000   0.224691          NaN      0.082004   \n",
       "TCGA-VD-AA8P-01     0.591500   0.495426          NaN      0.041348   \n",
       "TCGA-V4-A9F3-01     0.000000   0.272599          NaN      0.062057   \n",
       "TCGA-V4-A9EO-01     0.273541   0.186108          NaN      0.048443   \n",
       "TCGA-VD-A8K8-01     0.000000   0.040378          NaN      0.100519   \n",
       "TCGA-YZ-A980-01     0.000000   0.000000          NaN      0.066404   \n",
       "TCGA-RZ-AB0B-01     0.000000   0.000000          NaN      0.106673   \n",
       "TCGA-V4-A9EV-01     0.000000   0.194813          NaN      0.081540   \n",
       "TCGA-WC-A87Y-01     0.000000   0.307279          NaN      0.063997   \n",
       "TCGA-VD-A8KF-01     0.329788   0.581633          NaN      0.089517   \n",
       "\n",
       "                 CD8 T cells  T cells gamma delta   B cells  CD4 T cells  \\\n",
       "Input Sample                                                               \n",
       "TCGA-WC-A883-01     0.023380             0.000000  0.033798     0.134087   \n",
       "TCGA-V4-A9E8-01     0.291952             0.000000  0.133780     0.112756   \n",
       "TCGA-WC-A882-01     0.043043             0.000000  0.074324     0.197912   \n",
       "TCGA-WC-A88A-01     0.212145             0.000000  0.361122     0.131143   \n",
       "TCGA-VD-A8KL-01     0.000000             0.000000  0.187033     0.230062   \n",
       "TCGA-VD-AA8T-01     0.094733             0.000000  0.843354     0.260357   \n",
       "TCGA-V4-A9EW-01     0.030694             0.000000  0.215717     0.217158   \n",
       "TCGA-V4-A9EE-01     0.384523             0.000000  0.246492     0.204804   \n",
       "TCGA-V4-A9F5-01     0.000000             0.000000  0.427397     0.174727   \n",
       "TCGA-VD-A8KI-01     0.079395             1.000000  0.043718     0.125250   \n",
       "TCGA-VD-A8KN-01     0.157178             0.472816  0.006967     0.070884   \n",
       "TCGA-V4-A9F1-01     0.059686             0.000000  0.016339     0.326423   \n",
       "TCGA-VD-AA8N-01     0.375411             0.000000  0.020296     0.069069   \n",
       "TCGA-V4-A9EI-01     0.000000             0.000000  0.023699     0.593925   \n",
       "TCGA-V4-A9E7-01     0.154547             0.000000  0.227212     0.000000   \n",
       "TCGA-V4-A9EQ-01     0.000000             0.000000  0.028240     0.408904   \n",
       "TCGA-V4-A9EU-01     0.000000             0.000000  0.041612     0.589222   \n",
       "TCGA-VD-A8KD-01     0.532378             0.000000  0.099696     0.190271   \n",
       "TCGA-V4-A9EL-01     0.438698             0.000000  0.024721     0.150174   \n",
       "TCGA-VD-AA8O-01     0.637769             0.000000  0.000000     0.085870   \n",
       "TCGA-V4-A9EF-01     0.000000             0.000000  0.038429     0.519694   \n",
       "TCGA-V4-A9ED-01     0.000000             0.000000  0.007104     0.371297   \n",
       "TCGA-V4-A9EX-01     0.000000             0.000000  0.048513     0.740776   \n",
       "TCGA-VD-A8KA-01     0.000000             0.000000  0.096736     0.434528   \n",
       "TCGA-YZ-A985-01     0.000000             0.000000  0.013239     0.585593   \n",
       "TCGA-V4-A9ES-01     0.000000             0.000000  0.075562     0.279441   \n",
       "TCGA-V4-A9F0-01     0.000000             0.000000  0.031335     0.443767   \n",
       "TCGA-V3-A9ZX-01     0.480391             0.000000  0.014237     0.122006   \n",
       "TCGA-VD-A8KH-01     0.000000             0.000000  0.167080     0.243889   \n",
       "TCGA-V4-A9F8-01     0.032625             0.000000  0.347634     0.243329   \n",
       "TCGA-WC-AA9A-01     0.000000             0.025330  0.311601     0.233758   \n",
       "TCGA-VD-A8KM-01     0.557586             0.000000  0.596590     0.199152   \n",
       "TCGA-YZ-A984-01     0.124264             0.000000  1.000000     0.268792   \n",
       "TCGA-VD-A8KK-01     0.456376             0.000000  0.387380     0.213725   \n",
       "TCGA-WC-A888-01     0.520280             0.000000  0.147410     0.361527   \n",
       "TCGA-VD-AA8P-01     0.000000             0.000000  0.026603     0.518578   \n",
       "TCGA-V4-A9F3-01     0.760640             0.000000  0.019565     0.163247   \n",
       "TCGA-V4-A9EO-01     0.000000             0.000000  0.010592     0.398618   \n",
       "TCGA-VD-A8K8-01     1.000000             0.000000  0.036484     0.212705   \n",
       "TCGA-YZ-A980-01     0.000000             0.000000  0.003427     0.939577   \n",
       "TCGA-RZ-AB0B-01     0.000000             0.000000  0.000000     0.561716   \n",
       "TCGA-V4-A9EV-01     0.843329             0.000000  0.034015     0.195075   \n",
       "TCGA-WC-A87Y-01     0.633292             0.000000  0.011299     0.319215   \n",
       "TCGA-VD-A8KF-01     0.306457             0.000000  0.026593     1.000000   \n",
       "\n",
       "                 NK cells  Macrophages  Mast cells        DC  \n",
       "Input Sample                                                  \n",
       "TCGA-WC-A883-01  0.216983     1.000000    0.136540  0.000000  \n",
       "TCGA-V4-A9E8-01  0.329315     0.821069    0.018270  0.000000  \n",
       "TCGA-WC-A882-01  0.133353     0.808952    0.473406  0.000000  \n",
       "TCGA-WC-A88A-01  0.188480     0.805625    0.087648  0.000000  \n",
       "TCGA-VD-A8KL-01  0.222341     0.763872    0.446260  1.000000  \n",
       "TCGA-VD-AA8T-01  0.113214     0.733678    0.000000  0.000000  \n",
       "TCGA-V4-A9EW-01  0.303724     0.727479    0.327917  0.000000  \n",
       "TCGA-V4-A9EE-01  0.032163     0.721363    0.002817  0.000000  \n",
       "TCGA-V4-A9F5-01  0.426932     0.697700    0.125129  0.000000  \n",
       "TCGA-VD-A8KI-01  0.000000     0.681826    0.646731  0.298076  \n",
       "TCGA-VD-A8KN-01  0.263813     0.654664    0.525889  0.192231  \n",
       "TCGA-V4-A9F1-01  0.189570     0.625778    0.576224  0.000000  \n",
       "TCGA-VD-AA8N-01  0.138968     0.587709    0.459810  0.852702  \n",
       "TCGA-V4-A9EI-01  0.527939     0.583621    0.190836  0.153273  \n",
       "TCGA-V4-A9E7-01  0.388062     0.570351    0.226210  0.000000  \n",
       "TCGA-V4-A9EQ-01  0.407788     0.558796    0.590378  0.152944  \n",
       "TCGA-V4-A9EU-01  0.608051     0.533318    0.306556  0.081746  \n",
       "TCGA-VD-A8KD-01  0.009629     0.526035    0.009491  0.000000  \n",
       "TCGA-V4-A9EL-01  0.109144     0.517060    0.388164  0.114985  \n",
       "TCGA-VD-AA8O-01  0.005239     0.512558    0.000000  0.000000  \n",
       "TCGA-V4-A9EF-01  1.000000     0.499518    0.253077  0.000000  \n",
       "TCGA-V4-A9ED-01  0.256761     0.498868    0.856929  0.227768  \n",
       "TCGA-V4-A9EX-01  0.660834     0.493408    0.040873  0.147433  \n",
       "TCGA-VD-A8KA-01  0.359372     0.467936    0.424824  0.000000  \n",
       "TCGA-YZ-A985-01  0.496673     0.457527    0.324930  0.000000  \n",
       "TCGA-V4-A9ES-01  0.979288     0.455344    0.029880  0.000000  \n",
       "TCGA-V4-A9F0-01  0.624113     0.439487    0.703758  0.041529  \n",
       "TCGA-V3-A9ZX-01  0.128344     0.425121    0.648155  0.917837  \n",
       "TCGA-VD-A8KH-01  0.756305     0.402552    0.307548  0.086909  \n",
       "TCGA-V4-A9F8-01  0.860277     0.398930    0.007072  0.000000  \n",
       "TCGA-WC-AA9A-01  0.186391     0.368065    0.000000  0.000000  \n",
       "TCGA-VD-A8KM-01  0.022674     0.359711    0.029347  0.000000  \n",
       "TCGA-YZ-A984-01  0.456376     0.352073    0.160419  0.000000  \n",
       "TCGA-VD-A8KK-01  0.244865     0.314482    0.054610  0.000000  \n",
       "TCGA-WC-A888-01  0.342179     0.281301    0.190344  0.248485  \n",
       "TCGA-VD-AA8P-01  0.432158     0.280411    0.765489  0.000000  \n",
       "TCGA-V4-A9F3-01  0.161552     0.271772    0.297848  0.386684  \n",
       "TCGA-V4-A9EO-01  0.671213     0.262558    1.000000  0.000000  \n",
       "TCGA-VD-A8K8-01  0.060388     0.238759    0.000000  0.000000  \n",
       "TCGA-YZ-A980-01  0.271678     0.220187    0.556044  0.346751  \n",
       "TCGA-RZ-AB0B-01  0.757215     0.201823    0.841798  0.271450  \n",
       "TCGA-V4-A9EV-01  0.287694     0.150039    0.297396  0.181858  \n",
       "TCGA-WC-A87Y-01  0.212847     0.117188    0.575058  0.000000  \n",
       "TCGA-VD-A8KF-01  0.219231     0.000000    0.120765  0.402229  "
      ]
     },
     "execution_count": 94,
     "metadata": {},
     "output_type": "execute_result"
    }
   ],
   "source": [
    "column_maxes = group_1_df.max()\n",
    "column_mins = group_1_df.min()\n",
    "bg1_norm = (group_1_df - column_mins) / (column_maxes - column_mins)\n",
    "bg1_norm.sort_values(by=['Macrophages'], ascending=False)"
   ]
  },
  {
   "cell_type": "markdown",
   "metadata": {
    "heading_collapsed": true
   },
   "source": [
    "## Find Other Mutations Possibly Responsible for Increase in Death"
   ]
  },
  {
   "cell_type": "markdown",
   "metadata": {
    "hidden": true
   },
   "source": [
    "### Tree Printing"
   ]
  },
  {
   "cell_type": "code",
   "execution_count": 95,
   "metadata": {
    "hidden": true
   },
   "outputs": [],
   "source": [
    "def tree_to_code(tree, feature_names):\n",
    "    tree_ = tree.tree_\n",
    "    feature_name = [\n",
    "        feature_names[i] if i != _tree.TREE_UNDEFINED else \"undefined!\"\n",
    "        for i in tree_.feature\n",
    "    ]\n",
    "    #print (\"def tree({}):\".format(\", \".join(feature_names)))\n",
    "\n",
    "    def recurse(node, depth):\n",
    "        indent = \"  \" * depth\n",
    "        if tree_.feature[node] != _tree.TREE_UNDEFINED:\n",
    "            name = feature_name[node]\n",
    "            threshold = tree_.threshold[node]\n",
    "            print(\"{}if {} <= {}:\".format(indent, name, threshold))\n",
    "            recurse(tree_.children_left[node], depth + 1)\n",
    "            print(\"{}else:  # if {} > {}\".format(indent, name, threshold))\n",
    "            recurse(tree_.children_right[node], depth + 1)\n",
    "        else:\n",
    "            print(\"{}return {}\".format(indent, tree_.value[node]))\n",
    "\n",
    "    recurse(0, 1)"
   ]
  },
  {
   "cell_type": "markdown",
   "metadata": {
    "heading_collapsed": true,
    "hidden": true
   },
   "source": [
    "### Selecting Subgroups"
   ]
  },
  {
   "cell_type": "code",
   "execution_count": 96,
   "metadata": {
    "hidden": true
   },
   "outputs": [
    {
     "ename": "NameError",
     "evalue": "name 'p_temp_stuff' is not defined",
     "output_type": "error",
     "traceback": [
      "\u001b[1;31m---------------------------------------------------------------------------\u001b[0m",
      "\u001b[1;31mNameError\u001b[0m                                 Traceback (most recent call last)",
      "\u001b[1;32m<ipython-input-96-0f3dd624501d>\u001b[0m in \u001b[0;36m<module>\u001b[1;34m\u001b[0m\n\u001b[0;32m      4\u001b[0m \u001b[1;31m#patient_data['PATIENT_ID'] = to_change\u001b[0m\u001b[1;33m\u001b[0m\u001b[1;33m\u001b[0m\u001b[1;33m\u001b[0m\u001b[0m\n\u001b[0;32m      5\u001b[0m \u001b[1;31m#patient_data=patient_data.set_index('PATIENT_ID')\u001b[0m\u001b[1;33m\u001b[0m\u001b[1;33m\u001b[0m\u001b[1;33m\u001b[0m\u001b[0m\n\u001b[1;32m----> 6\u001b[1;33m \u001b[0mt_group_1_df\u001b[0m\u001b[1;33m,\u001b[0m \u001b[0mt_patient_data\u001b[0m \u001b[1;33m=\u001b[0m \u001b[0mtd\u001b[0m\u001b[1;33m.\u001b[0m\u001b[0mkeep_common_genes\u001b[0m\u001b[1;33m(\u001b[0m\u001b[0mp_temp_stuff\u001b[0m\u001b[1;33m,\u001b[0m \u001b[0mt_patient_data\u001b[0m\u001b[1;33m)\u001b[0m\u001b[1;33m\u001b[0m\u001b[1;33m\u001b[0m\u001b[0m\n\u001b[0m",
      "\u001b[1;31mNameError\u001b[0m: name 'p_temp_stuff' is not defined"
     ]
    }
   ],
   "source": [
    "#to_change = patient_data['PATIENT_ID']\n",
    "#for i in range(len(to_change)):\n",
    "#    to_change[i] += str(\"-01\")\n",
    "#patient_data['PATIENT_ID'] = to_change    \n",
    "#patient_data=patient_data.set_index('PATIENT_ID')\n",
    "t_group_1_df, t_patient_data = td.keep_common_genes(p_temp_stuff, t_patient_data)"
   ]
  },
  {
   "cell_type": "code",
   "execution_count": 97,
   "metadata": {
    "hidden": true
   },
   "outputs": [
    {
     "ename": "NameError",
     "evalue": "name 'DecisionTreeClassifier' is not defined",
     "output_type": "error",
     "traceback": [
      "\u001b[1;31m---------------------------------------------------------------------------\u001b[0m",
      "\u001b[1;31mNameError\u001b[0m                                 Traceback (most recent call last)",
      "\u001b[1;32m<ipython-input-97-d72e5c65963a>\u001b[0m in \u001b[0;36m<module>\u001b[1;34m\u001b[0m\n\u001b[1;32m----> 1\u001b[1;33m \u001b[0mdtc\u001b[0m \u001b[1;33m=\u001b[0m \u001b[0mDecisionTreeClassifier\u001b[0m\u001b[1;33m(\u001b[0m\u001b[0mmax_depth\u001b[0m\u001b[1;33m=\u001b[0m\u001b[1;36m2\u001b[0m\u001b[1;33m)\u001b[0m\u001b[1;33m.\u001b[0m\u001b[0mfit\u001b[0m\u001b[1;33m(\u001b[0m\u001b[0mt_group_1_df\u001b[0m\u001b[1;33m,\u001b[0m\u001b[0mt_patient_data\u001b[0m\u001b[1;33m[\u001b[0m\u001b[1;34m'OS_STATUS'\u001b[0m\u001b[1;33m]\u001b[0m\u001b[1;33m)\u001b[0m\u001b[1;33m\u001b[0m\u001b[1;33m\u001b[0m\u001b[0m\n\u001b[0m",
      "\u001b[1;31mNameError\u001b[0m: name 'DecisionTreeClassifier' is not defined"
     ]
    }
   ],
   "source": [
    "dtc = DecisionTreeClassifier(max_depth=2).fit(t_group_1_df,t_patient_data['OS_STATUS'])"
   ]
  },
  {
   "cell_type": "code",
   "execution_count": 98,
   "metadata": {
    "hidden": true
   },
   "outputs": [
    {
     "ename": "NameError",
     "evalue": "name 'dtc' is not defined",
     "output_type": "error",
     "traceback": [
      "\u001b[1;31m---------------------------------------------------------------------------\u001b[0m",
      "\u001b[1;31mNameError\u001b[0m                                 Traceback (most recent call last)",
      "\u001b[1;32m<ipython-input-98-f81fedba3842>\u001b[0m in \u001b[0;36m<module>\u001b[1;34m\u001b[0m\n\u001b[1;32m----> 1\u001b[1;33m \u001b[0mdtc\u001b[0m\u001b[1;33m.\u001b[0m\u001b[0mclasses_\u001b[0m\u001b[1;33m\u001b[0m\u001b[1;33m\u001b[0m\u001b[0m\n\u001b[0m",
      "\u001b[1;31mNameError\u001b[0m: name 'dtc' is not defined"
     ]
    }
   ],
   "source": [
    "dtc.classes_"
   ]
  },
  {
   "cell_type": "code",
   "execution_count": 99,
   "metadata": {
    "hidden": true
   },
   "outputs": [
    {
     "ename": "NameError",
     "evalue": "name 'dtc' is not defined",
     "output_type": "error",
     "traceback": [
      "\u001b[1;31m---------------------------------------------------------------------------\u001b[0m",
      "\u001b[1;31mNameError\u001b[0m                                 Traceback (most recent call last)",
      "\u001b[1;32m<ipython-input-99-5b2212692024>\u001b[0m in \u001b[0;36m<module>\u001b[1;34m\u001b[0m\n\u001b[1;32m----> 1\u001b[1;33m \u001b[0mtree_to_code\u001b[0m\u001b[1;33m(\u001b[0m\u001b[0mdtc\u001b[0m\u001b[1;33m,\u001b[0m\u001b[1;33m[\u001b[0m\u001b[0mstr\u001b[0m\u001b[1;33m(\u001b[0m\u001b[0ma\u001b[0m\u001b[1;33m)\u001b[0m \u001b[1;32mfor\u001b[0m \u001b[0ma\u001b[0m \u001b[1;32min\u001b[0m \u001b[0mt_group_1_df\u001b[0m\u001b[1;33m.\u001b[0m\u001b[0mcolumns\u001b[0m\u001b[1;33m]\u001b[0m\u001b[1;33m)\u001b[0m\u001b[1;33m\u001b[0m\u001b[1;33m\u001b[0m\u001b[0m\n\u001b[0m",
      "\u001b[1;31mNameError\u001b[0m: name 'dtc' is not defined"
     ]
    }
   ],
   "source": [
    "tree_to_code(dtc,[str(a) for a in t_group_1_df.columns])"
   ]
  },
  {
   "cell_type": "code",
   "execution_count": 100,
   "metadata": {
    "hidden": true
   },
   "outputs": [
    {
     "ename": "NameError",
     "evalue": "name 't_patient_data' is not defined",
     "output_type": "error",
     "traceback": [
      "\u001b[1;31m---------------------------------------------------------------------------\u001b[0m",
      "\u001b[1;31mNameError\u001b[0m                                 Traceback (most recent call last)",
      "\u001b[1;32m<ipython-input-100-1e64dd3f1177>\u001b[0m in \u001b[0;36m<module>\u001b[1;34m\u001b[0m\n\u001b[0;32m      1\u001b[0m \u001b[0mpatient_dict_4\u001b[0m \u001b[1;33m=\u001b[0m \u001b[1;33m{\u001b[0m\u001b[1;33m}\u001b[0m\u001b[1;33m\u001b[0m\u001b[1;33m\u001b[0m\u001b[0m\n\u001b[1;32m----> 2\u001b[1;33m \u001b[1;32mfor\u001b[0m \u001b[0mp\u001b[0m \u001b[1;32min\u001b[0m \u001b[0mlist\u001b[0m\u001b[1;33m(\u001b[0m\u001b[0mt_patient_data\u001b[0m\u001b[1;33m.\u001b[0m\u001b[0mindex\u001b[0m\u001b[1;33m)\u001b[0m\u001b[1;33m:\u001b[0m\u001b[1;33m\u001b[0m\u001b[1;33m\u001b[0m\u001b[0m\n\u001b[0m\u001b[0;32m      3\u001b[0m     \u001b[1;32mif\u001b[0m \u001b[0mpatient_data\u001b[0m\u001b[1;33m.\u001b[0m\u001b[0mloc\u001b[0m\u001b[1;33m[\u001b[0m\u001b[0mp\u001b[0m\u001b[1;33m,\u001b[0m\u001b[1;34m\"OS_STATUS\"\u001b[0m\u001b[1;33m]\u001b[0m \u001b[1;33m==\u001b[0m \u001b[1;34m\"LIVING\"\u001b[0m\u001b[1;33m:\u001b[0m\u001b[1;33m\u001b[0m\u001b[1;33m\u001b[0m\u001b[0m\n\u001b[0;32m      4\u001b[0m         \u001b[0mpatient_dict_4\u001b[0m\u001b[1;33m[\u001b[0m\u001b[0mp\u001b[0m\u001b[1;33m]\u001b[0m \u001b[1;33m=\u001b[0m \u001b[1;33m(\u001b[0m\u001b[0mt_group_1_df\u001b[0m\u001b[1;33m.\u001b[0m\u001b[0mloc\u001b[0m\u001b[1;33m[\u001b[0m\u001b[0mp\u001b[0m\u001b[1;33m,\u001b[0m\u001b[1;34m\"HGSNAT\"\u001b[0m\u001b[1;33m]\u001b[0m\u001b[1;33m,\u001b[0m\u001b[1;36m1\u001b[0m\u001b[1;33m)\u001b[0m\u001b[1;33m\u001b[0m\u001b[1;33m\u001b[0m\u001b[0m\n\u001b[0;32m      5\u001b[0m     \u001b[1;32melse\u001b[0m\u001b[1;33m:\u001b[0m\u001b[1;33m\u001b[0m\u001b[1;33m\u001b[0m\u001b[0m\n",
      "\u001b[1;31mNameError\u001b[0m: name 't_patient_data' is not defined"
     ]
    }
   ],
   "source": [
    "patient_dict_4 = {}\n",
    "for p in list(t_patient_data.index):\n",
    "    if patient_data.loc[p,\"OS_STATUS\"] == \"LIVING\":\n",
    "        patient_dict_4[p] = (t_group_1_df.loc[p,\"HGSNAT\"],1)\n",
    "    else:\n",
    "        patient_dict_4[p] = (t_group_1_df.loc[p,\"HGSNAT\"],0)"
   ]
  },
  {
   "cell_type": "code",
   "execution_count": 101,
   "metadata": {
    "hidden": true
   },
   "outputs": [
    {
     "ename": "ZeroDivisionError",
     "evalue": "division by zero",
     "output_type": "error",
     "traceback": [
      "\u001b[1;31m---------------------------------------------------------------------------\u001b[0m",
      "\u001b[1;31mZeroDivisionError\u001b[0m                         Traceback (most recent call last)",
      "\u001b[1;32m<ipython-input-101-3ee5ee3330cd>\u001b[0m in \u001b[0;36m<module>\u001b[1;34m\u001b[0m\n\u001b[0;32m      6\u001b[0m \u001b[0msuc_pos\u001b[0m \u001b[1;33m=\u001b[0m \u001b[0msum\u001b[0m\u001b[1;33m(\u001b[0m\u001b[1;33m[\u001b[0m\u001b[1;36m1\u001b[0m \u001b[1;32mfor\u001b[0m \u001b[0mo\u001b[0m \u001b[1;32min\u001b[0m \u001b[0mpos1_group\u001b[0m \u001b[1;32mif\u001b[0m \u001b[0mo\u001b[0m \u001b[1;33m==\u001b[0m \u001b[1;36m1\u001b[0m\u001b[1;33m]\u001b[0m\u001b[1;33m)\u001b[0m\u001b[1;33m\u001b[0m\u001b[1;33m\u001b[0m\u001b[0m\n\u001b[0;32m      7\u001b[0m \u001b[0mt\u001b[0m \u001b[1;33m=\u001b[0m \u001b[1;33m[\u001b[0m\u001b[1;34m\"0\"\u001b[0m\u001b[1;33m,\u001b[0m\u001b[1;34m\"-1\"\u001b[0m\u001b[1;33m,\u001b[0m\u001b[1;34m\"1\"\u001b[0m\u001b[1;33m]\u001b[0m\u001b[1;33m\u001b[0m\u001b[1;33m\u001b[0m\u001b[0m\n\u001b[1;32m----> 8\u001b[1;33m v = [[suc_zero/len(zero_group),suc_neg/len(neg1_group),suc_pos/len(pos1_group)], \\\n\u001b[0m\u001b[0;32m      9\u001b[0m      [(len(zero_group)-suc_zero)/len(zero_group),(len(neg1_group)-suc_neg)/len(neg1_group),(len(pos1_group)-suc_pos)/len(pos1_group)]]\n\u001b[0;32m     10\u001b[0m \u001b[0mN\u001b[0m \u001b[1;33m=\u001b[0m \u001b[1;36m3\u001b[0m\u001b[1;33m\u001b[0m\u001b[1;33m\u001b[0m\u001b[0m\n",
      "\u001b[1;31mZeroDivisionError\u001b[0m: division by zero"
     ]
    }
   ],
   "source": [
    "zero_group = [patient_dict_4[p][1] for p in list(patient_dict_4.keys()) if patient_dict_4[p][0] == 0]\n",
    "neg1_group = [patient_dict_4[p][1] for p in list(patient_dict_4.keys()) if patient_dict_4[p][0] == -1]\n",
    "pos1_group = [patient_dict_4[p][1] for p in list(patient_dict_4.keys()) if patient_dict_4[p][0] == 1]\n",
    "suc_zero = sum([1 for o in zero_group if o == 1])\n",
    "suc_neg = sum([1 for o in neg1_group if o == 1])\n",
    "suc_pos = sum([1 for o in pos1_group if o == 1])\n",
    "t = [\"0\",\"-1\",\"1\"]\n",
    "v = [[suc_zero/len(zero_group),suc_neg/len(neg1_group),suc_pos/len(pos1_group)], \\\n",
    "     [(len(zero_group)-suc_zero)/len(zero_group),(len(neg1_group)-suc_neg)/len(neg1_group),(len(pos1_group)-suc_pos)/len(pos1_group)]]\n",
    "N = 3\n",
    "ind = np.arange(N) \n",
    "width = 0.35       \n",
    "plt.bar(ind, v[0], width, label='Survived')\n",
    "plt.bar(ind + width, v[1], width,\n",
    "    label='Deceased')\n",
    "\n",
    "plt.ylabel('Percentage %')\n",
    "plt.title('Survival by Group')\n",
    "\n",
    "plt.xticks(ind + width / 2, ('0', '-1','1'))\n",
    "plt.legend(loc='best')\n",
    "plt.show()"
   ]
  },
  {
   "cell_type": "code",
   "execution_count": 64,
   "metadata": {
    "hidden": true
   },
   "outputs": [
    {
     "name": "stdout",
     "output_type": "stream",
     "text": [
      "(nan, nan)\n"
     ]
    }
   ],
   "source": [
    "print(proportions_ztest([suc_zero,suc_pos],[len(zero_group),len(pos1_group)]))"
   ]
  },
  {
   "cell_type": "code",
   "execution_count": 65,
   "metadata": {
    "hidden": true
   },
   "outputs": [
    {
     "ename": "NameError",
     "evalue": "name 't_group_1_df' is not defined",
     "output_type": "error",
     "traceback": [
      "\u001b[1;31m---------------------------------------------------------------------------\u001b[0m",
      "\u001b[1;31mNameError\u001b[0m                                 Traceback (most recent call last)",
      "\u001b[1;32m<ipython-input-65-0ed637fbd882>\u001b[0m in \u001b[0;36m<module>\u001b[1;34m\u001b[0m\n\u001b[0;32m      1\u001b[0m \u001b[0mpatient_dict_5\u001b[0m \u001b[1;33m=\u001b[0m \u001b[1;33m{\u001b[0m\u001b[1;33m}\u001b[0m\u001b[1;33m\u001b[0m\u001b[1;33m\u001b[0m\u001b[0m\n\u001b[1;32m----> 2\u001b[1;33m \u001b[1;32mfor\u001b[0m \u001b[0mp\u001b[0m \u001b[1;32min\u001b[0m \u001b[0mlist\u001b[0m\u001b[1;33m(\u001b[0m\u001b[0mt_group_1_df\u001b[0m\u001b[1;33m.\u001b[0m\u001b[0mindex\u001b[0m\u001b[1;33m)\u001b[0m\u001b[1;33m:\u001b[0m\u001b[1;33m\u001b[0m\u001b[1;33m\u001b[0m\u001b[0m\n\u001b[0m\u001b[0;32m      3\u001b[0m     \u001b[0mpatient_dict_5\u001b[0m\u001b[1;33m[\u001b[0m\u001b[0mp\u001b[0m\u001b[1;33m+\u001b[0m\u001b[1;34m\"-01\"\u001b[0m\u001b[1;33m]\u001b[0m \u001b[1;33m=\u001b[0m \u001b[1;33m(\u001b[0m\u001b[0mpresence_df\u001b[0m\u001b[1;33m.\u001b[0m\u001b[0mloc\u001b[0m\u001b[1;33m[\u001b[0m\u001b[1;34m\"HGSNAT\"\u001b[0m\u001b[1;33m,\u001b[0m\u001b[0mp\u001b[0m\u001b[1;33m]\u001b[0m\u001b[1;33m,\u001b[0m\u001b[0mpatient_data\u001b[0m\u001b[1;33m.\u001b[0m\u001b[0mloc\u001b[0m\u001b[1;33m[\u001b[0m\u001b[0mp\u001b[0m\u001b[1;33m,\u001b[0m\u001b[1;34m\"DSS_MONTHS\"\u001b[0m\u001b[1;33m]\u001b[0m\u001b[1;33m)\u001b[0m\u001b[1;33m\u001b[0m\u001b[1;33m\u001b[0m\u001b[0m\n\u001b[0;32m      4\u001b[0m \u001b[0mzero_group\u001b[0m \u001b[1;33m=\u001b[0m \u001b[1;33m[\u001b[0m\u001b[0mpatient_dict_5\u001b[0m\u001b[1;33m[\u001b[0m\u001b[0mp\u001b[0m\u001b[1;33m]\u001b[0m\u001b[1;33m[\u001b[0m\u001b[1;36m1\u001b[0m\u001b[1;33m]\u001b[0m \u001b[1;32mfor\u001b[0m \u001b[0mp\u001b[0m \u001b[1;32min\u001b[0m \u001b[0mlist\u001b[0m\u001b[1;33m(\u001b[0m\u001b[0mpatient_dict_5\u001b[0m\u001b[1;33m.\u001b[0m\u001b[0mkeys\u001b[0m\u001b[1;33m(\u001b[0m\u001b[1;33m)\u001b[0m\u001b[1;33m)\u001b[0m \u001b[1;32mif\u001b[0m \u001b[0mpatient_dict_5\u001b[0m\u001b[1;33m[\u001b[0m\u001b[0mp\u001b[0m\u001b[1;33m]\u001b[0m\u001b[1;33m[\u001b[0m\u001b[1;36m0\u001b[0m\u001b[1;33m]\u001b[0m \u001b[1;33m==\u001b[0m \u001b[1;36m0\u001b[0m\u001b[1;33m]\u001b[0m\u001b[1;33m\u001b[0m\u001b[1;33m\u001b[0m\u001b[0m\n\u001b[0;32m      5\u001b[0m \u001b[0mneg1_group\u001b[0m \u001b[1;33m=\u001b[0m \u001b[1;33m[\u001b[0m\u001b[0mpatient_dict_5\u001b[0m\u001b[1;33m[\u001b[0m\u001b[0mp\u001b[0m\u001b[1;33m]\u001b[0m\u001b[1;33m[\u001b[0m\u001b[1;36m1\u001b[0m\u001b[1;33m]\u001b[0m \u001b[1;32mfor\u001b[0m \u001b[0mp\u001b[0m \u001b[1;32min\u001b[0m \u001b[0mlist\u001b[0m\u001b[1;33m(\u001b[0m\u001b[0mpatient_dict_5\u001b[0m\u001b[1;33m.\u001b[0m\u001b[0mkeys\u001b[0m\u001b[1;33m(\u001b[0m\u001b[1;33m)\u001b[0m\u001b[1;33m)\u001b[0m \u001b[1;32mif\u001b[0m \u001b[0mpatient_dict_5\u001b[0m\u001b[1;33m[\u001b[0m\u001b[0mp\u001b[0m\u001b[1;33m]\u001b[0m\u001b[1;33m[\u001b[0m\u001b[1;36m0\u001b[0m\u001b[1;33m]\u001b[0m \u001b[1;33m==\u001b[0m \u001b[1;33m-\u001b[0m\u001b[1;36m1\u001b[0m\u001b[1;33m]\u001b[0m\u001b[1;33m\u001b[0m\u001b[1;33m\u001b[0m\u001b[0m\n",
      "\u001b[1;31mNameError\u001b[0m: name 't_group_1_df' is not defined"
     ]
    }
   ],
   "source": [
    "patient_dict_5 = {}\n",
    "for p in list(t_group_1_df.index):\n",
    "    patient_dict_5[p+\"-01\"] = (presence_df.loc[\"HGSNAT\",p],patient_data.loc[p,\"DSS_MONTHS\"])\n",
    "zero_group = [patient_dict_5[p][1] for p in list(patient_dict_5.keys()) if patient_dict_5[p][0] == 0]\n",
    "neg1_group = [patient_dict_5[p][1] for p in list(patient_dict_5.keys()) if patient_dict_5[p][0] == -1]\n",
    "pos1_group = [patient_dict_5[p][1] for p in list(patient_dict_5.keys()) if patient_dict_5[p][0] == 1]\n",
    "plt.boxplot([zero_group,neg1_group,pos1_group],labels=[0,-1,1])"
   ]
  },
  {
   "cell_type": "code",
   "execution_count": 66,
   "metadata": {
    "hidden": true
   },
   "outputs": [
    {
     "data": {
      "text/plain": [
       "MannwhitneyuResult(statistic=0.0, pvalue=0.0)"
      ]
     },
     "execution_count": 66,
     "metadata": {},
     "output_type": "execute_result"
    }
   ],
   "source": [
    "mannwhitneyu(zero_group,pos1_group)"
   ]
  },
  {
   "cell_type": "code",
   "execution_count": null,
   "metadata": {
    "hidden": true
   },
   "outputs": [],
   "source": [
    "sns.kdeplot(zero_group,shade=True,color=\"r\",label=\"0\")\n",
    "sns.kdeplot(pos1_group,shade=True,color='y',label=\"1\")"
   ]
  },
  {
   "cell_type": "code",
   "execution_count": null,
   "metadata": {
    "hidden": true
   },
   "outputs": [],
   "source": [
    "hg_group_0 = results_df.T[[p for p in list(patient_dict_4.keys()) if patient_dict_4[p][0] == 0]].T\n",
    "hg_group_1 = results_df.T[[p for p in list(patient_dict_4.keys()) if patient_dict_4[p][0] == 1]].T\n",
    "hg_group_1 = td.combine_celltypes(hg_group_1)\n",
    "hg_group_0 = td.combine_celltypes(hg_group_0)"
   ]
  },
  {
   "cell_type": "code",
   "execution_count": null,
   "metadata": {
    "hidden": true
   },
   "outputs": [],
   "source": [
    "visualize_immune_diff(\"DC\",hg_group_1,hg_group_0)"
   ]
  },
  {
   "cell_type": "code",
   "execution_count": null,
   "metadata": {
    "hidden": true
   },
   "outputs": [],
   "source": [
    "hg_group_0.columns"
   ]
  },
  {
   "cell_type": "markdown",
   "metadata": {},
   "source": [
    "## Correlation between Immune cell frequency and survival cont."
   ]
  },
  {
   "cell_type": "code",
   "execution_count": 102,
   "metadata": {},
   "outputs": [],
   "source": [
    "from sklearn.linear_model import LinearRegression\n",
    "def immune_dss_corr(immune_type,patient_dict,immune_frac):\n",
    "    x,y = [],[]\n",
    "    for p in [p for p in list(patient_dict.keys()) if patient_dict[p][0] == -1]:\n",
    "        x.append(patient_dict[p][1])\n",
    "        y.append(immune_frac.loc[p,immune_type])\n",
    "    x = np.asarray(x).reshape(-1,1)\n",
    "    y = np.asarray(y).reshape(-1,1)\n",
    "    lin = LinearRegression().fit(x,y)\n",
    "    return lin.score(x,y)**2,x,y"
   ]
  },
  {
   "cell_type": "code",
   "execution_count": 105,
   "metadata": {},
   "outputs": [],
   "source": [
    "patient_dict_6 = {}\n",
    "for p in list(patient_dict_3.keys()):\n",
    "    if patient_dict_3[p][1] == 1 and patient_dict[p][0] == -1:\n",
    "        patient_dict_6[p] = (-1,patient_dict[p][1])"
   ]
  },
  {
   "cell_type": "code",
   "execution_count": 106,
   "metadata": {},
   "outputs": [
    {
     "name": "stdout",
     "output_type": "stream",
     "text": [
      "Eosinophils :  6.576965888144399e-05\n"
     ]
    },
    {
     "data": {
      "image/png": "[encoded data removed]",
      "text/plain": [
       "<Figure size 432x288 with 1 Axes>"
      ]
     },
     "metadata": {
      "needs_background": "light"
     },
     "output_type": "display_data"
    },
    {
     "name": "stdout",
     "output_type": "stream",
     "text": [
      "Monocytes :  1.547301837865276e-05\n"
     ]
    },
    {
     "data": {
      "image/png": "[encoded data removed]",
      "text/plain": [
       "<Figure size 432x288 with 1 Axes>"
      ]
     },
     "metadata": {
      "needs_background": "light"
     },
     "output_type": "display_data"
    },
    {
     "name": "stdout",
     "output_type": "stream",
     "text": [
      "Neutrophils :  1.0\n"
     ]
    },
    {
     "data": {
      "image/png": "[encoded data removed]",
      "text/plain": [
       "<Figure size 432x288 with 1 Axes>"
      ]
     },
     "metadata": {
      "needs_background": "light"
     },
     "output_type": "display_data"
    },
    {
     "name": "stdout",
     "output_type": "stream",
     "text": [
      "Plasma cells :  6.012819391376965e-06\n"
     ]
    },
    {
     "data": {
      "image/png": "[encoded data removed]",
      "text/plain": [
       "<Figure size 432x288 with 1 Axes>"
      ]
     },
     "metadata": {
      "needs_background": "light"
     },
     "output_type": "display_data"
    },
    {
     "name": "stdout",
     "output_type": "stream",
     "text": [
      "CD8 T cells :  0.06523196392892552\n"
     ]
    },
    {
     "data": {
      "image/png": "[encoded data removed]",
      "text/plain": [
       "<Figure size 432x288 with 1 Axes>"
      ]
     },
     "metadata": {
      "needs_background": "light"
     },
     "output_type": "display_data"
    },
    {
     "name": "stdout",
     "output_type": "stream",
     "text": [
      "T cells gamma delta :  0.005525817856527762\n"
     ]
    },
    {
     "data": {
      "image/png": "[encoded data removed]",
      "text/plain": [
       "<Figure size 432x288 with 1 Axes>"
      ]
     },
     "metadata": {
      "needs_background": "light"
     },
     "output_type": "display_data"
    },
    {
     "name": "stdout",
     "output_type": "stream",
     "text": [
      "B cells :  0.05896114274206763\n"
     ]
    },
    {
     "data": {
      "image/png": "[encoded data removed]",
      "text/plain": [
       "<Figure size 432x288 with 1 Axes>"
      ]
     },
     "metadata": {
      "needs_background": "light"
     },
     "output_type": "display_data"
    },
    {
     "name": "stdout",
     "output_type": "stream",
     "text": [
      "CD4 T cells :  0.09006593692118307\n"
     ]
    },
    {
     "data": {
      "image/png": "[encoded data removed]",
      "text/plain": [
       "<Figure size 432x288 with 1 Axes>"
      ]
     },
     "metadata": {
      "needs_background": "light"
     },
     "output_type": "display_data"
    },
    {
     "name": "stdout",
     "output_type": "stream",
     "text": [
      "NK cells :  0.018784574550998686\n"
     ]
    },
    {
     "data": {
      "image/png": "[encoded data removed]",
      "text/plain": [
       "<Figure size 432x288 with 1 Axes>"
      ]
     },
     "metadata": {
      "needs_background": "light"
     },
     "output_type": "display_data"
    },
    {
     "name": "stdout",
     "output_type": "stream",
     "text": [
      "Macrophages :  0.00018562209760019627\n"
     ]
    },
    {
     "data": {
      "image/png": "[encoded data removed]",
      "text/plain": [
       "<Figure size 432x288 with 1 Axes>"
      ]
     },
     "metadata": {
      "needs_background": "light"
     },
     "output_type": "display_data"
    },
    {
     "name": "stdout",
     "output_type": "stream",
     "text": [
      "Mast cells :  0.0006301273497824332\n"
     ]
    },
    {
     "data": {
      "image/png": "[encoded data removed]",
      "text/plain": [
       "<Figure size 432x288 with 1 Axes>"
      ]
     },
     "metadata": {
      "needs_background": "light"
     },
     "output_type": "display_data"
    },
    {
     "name": "stdout",
     "output_type": "stream",
     "text": [
      "DC :  0.0004923448326387874\n"
     ]
    },
    {
     "data": {
      "image/png": "[encoded data removed]",
      "text/plain": [
       "<Figure size 432x288 with 1 Axes>"
      ]
     },
     "metadata": {
      "needs_background": "light"
     },
     "output_type": "display_data"
    }
   ],
   "source": [
    "for i in list(group_1_df.columns):\n",
    "    corr,x,y = immune_dss_corr(i,patient_dict_6,group_1_df)\n",
    "    print(i,\": \",corr)\n",
    "    plt.scatter(x,y)\n",
    "    plt.show()\n",
    "    "
   ]
  },
  {
   "cell_type": "markdown",
   "metadata": {},
   "source": [
    "## Check the correlation between other phenotypes"
   ]
  },
  {
   "cell_type": "code",
   "execution_count": 116,
   "metadata": {},
   "outputs": [
    {
     "data": {
      "text/html": [
       "<div>\n",
       "<style scoped>\n",
       "    .dataframe tbody tr th:only-of-type {\n",
       "        vertical-align: middle;\n",
       "    }\n",
       "\n",
       "    .dataframe tbody tr th {\n",
       "        vertical-align: top;\n",
       "    }\n",
       "\n",
       "    .dataframe thead th {\n",
       "        text-align: right;\n",
       "    }\n",
       "</style>\n",
       "<table border=\"1\" class=\"dataframe\">\n",
       "  <thead>\n",
       "    <tr style=\"text-align: right;\">\n",
       "      <th></th>\n",
       "      <th>age_at_initial_pathologic_diagnosis</th>\n",
       "      <th>batch_number</th>\n",
       "      <th>bcr</th>\n",
       "      <th>bcr_followup_barcode</th>\n",
       "      <th>bcr_followup_uuid</th>\n",
       "      <th>submitter_id</th>\n",
       "      <th>clinical_M</th>\n",
       "      <th>clinical_N</th>\n",
       "      <th>clinical_T</th>\n",
       "      <th>clinical_stage</th>\n",
       "      <th>...</th>\n",
       "      <th>days_to_collection.samples</th>\n",
       "      <th>days_to_sample_procurement.samples</th>\n",
       "      <th>initial_weight.samples</th>\n",
       "      <th>is_ffpe.samples</th>\n",
       "      <th>oct_embedded.samples</th>\n",
       "      <th>preservation_method.samples</th>\n",
       "      <th>sample_type.samples</th>\n",
       "      <th>sample_type_id.samples</th>\n",
       "      <th>state.samples</th>\n",
       "      <th>tissue_type.samples</th>\n",
       "    </tr>\n",
       "    <tr>\n",
       "      <th>submitter_id.samples</th>\n",
       "      <th></th>\n",
       "      <th></th>\n",
       "      <th></th>\n",
       "      <th></th>\n",
       "      <th></th>\n",
       "      <th></th>\n",
       "      <th></th>\n",
       "      <th></th>\n",
       "      <th></th>\n",
       "      <th></th>\n",
       "      <th></th>\n",
       "      <th></th>\n",
       "      <th></th>\n",
       "      <th></th>\n",
       "      <th></th>\n",
       "      <th></th>\n",
       "      <th></th>\n",
       "      <th></th>\n",
       "      <th></th>\n",
       "      <th></th>\n",
       "      <th></th>\n",
       "    </tr>\n",
       "  </thead>\n",
       "  <tbody>\n",
       "    <tr>\n",
       "      <td>TCGA-V4-A9F7-01A</td>\n",
       "      <td>78</td>\n",
       "      <td>417.33.0</td>\n",
       "      <td>Nationwide Children's Hospital</td>\n",
       "      <td>TCGA-V4-A9F7-F66819</td>\n",
       "      <td>DE1CF63C-0469-4545-A095-BCA125977D94</td>\n",
       "      <td>TCGA-V4-A9F7</td>\n",
       "      <td>M0</td>\n",
       "      <td>N0</td>\n",
       "      <td>T3a</td>\n",
       "      <td>Stage IIB</td>\n",
       "      <td>...</td>\n",
       "      <td>747.0</td>\n",
       "      <td>NaN</td>\n",
       "      <td>50.0</td>\n",
       "      <td>False</td>\n",
       "      <td>False</td>\n",
       "      <td>NaN</td>\n",
       "      <td>Primary Tumor</td>\n",
       "      <td>1</td>\n",
       "      <td>released</td>\n",
       "      <td>Not Reported</td>\n",
       "    </tr>\n",
       "    <tr>\n",
       "      <td>TCGA-V4-A9E5-01A</td>\n",
       "      <td>51</td>\n",
       "      <td>417.33.0</td>\n",
       "      <td>Nationwide Children's Hospital</td>\n",
       "      <td>TCGA-V4-A9E5-F66658</td>\n",
       "      <td>C0DCBFC1-2F12-48AF-AF9C-498E1F89A1A4</td>\n",
       "      <td>TCGA-V4-A9E5</td>\n",
       "      <td>M0</td>\n",
       "      <td>N0</td>\n",
       "      <td>T4b</td>\n",
       "      <td>Stage IIIB</td>\n",
       "      <td>...</td>\n",
       "      <td>1923.0</td>\n",
       "      <td>NaN</td>\n",
       "      <td>80.0</td>\n",
       "      <td>False</td>\n",
       "      <td>False</td>\n",
       "      <td>NaN</td>\n",
       "      <td>Primary Tumor</td>\n",
       "      <td>1</td>\n",
       "      <td>released</td>\n",
       "      <td>Not Reported</td>\n",
       "    </tr>\n",
       "    <tr>\n",
       "      <td>TCGA-V4-A9EE-01A</td>\n",
       "      <td>86</td>\n",
       "      <td>417.33.0</td>\n",
       "      <td>Nationwide Children's Hospital</td>\n",
       "      <td>NaN</td>\n",
       "      <td>NaN</td>\n",
       "      <td>TCGA-V4-A9EE</td>\n",
       "      <td>M0</td>\n",
       "      <td>N0</td>\n",
       "      <td>T3a</td>\n",
       "      <td>Stage IIB</td>\n",
       "      <td>...</td>\n",
       "      <td>537.0</td>\n",
       "      <td>NaN</td>\n",
       "      <td>40.0</td>\n",
       "      <td>False</td>\n",
       "      <td>False</td>\n",
       "      <td>NaN</td>\n",
       "      <td>Primary Tumor</td>\n",
       "      <td>1</td>\n",
       "      <td>released</td>\n",
       "      <td>Not Reported</td>\n",
       "    </tr>\n",
       "    <tr>\n",
       "      <td>TCGA-YZ-A985-01A</td>\n",
       "      <td>41</td>\n",
       "      <td>417.33.0</td>\n",
       "      <td>Nationwide Children's Hospital</td>\n",
       "      <td>TCGA-YZ-A985-F66494</td>\n",
       "      <td>3ED3D1AA-1412-4225-B2BD-D1952057C31C</td>\n",
       "      <td>TCGA-YZ-A985</td>\n",
       "      <td>M0</td>\n",
       "      <td>N0</td>\n",
       "      <td>T4a</td>\n",
       "      <td>Stage IIIA</td>\n",
       "      <td>...</td>\n",
       "      <td>595.0</td>\n",
       "      <td>NaN</td>\n",
       "      <td>40.0</td>\n",
       "      <td>False</td>\n",
       "      <td>False</td>\n",
       "      <td>NaN</td>\n",
       "      <td>Primary Tumor</td>\n",
       "      <td>1</td>\n",
       "      <td>released</td>\n",
       "      <td>Not Reported</td>\n",
       "    </tr>\n",
       "    <tr>\n",
       "      <td>TCGA-VD-A8KF-01A</td>\n",
       "      <td>68</td>\n",
       "      <td>417.33.0</td>\n",
       "      <td>Nationwide Children's Hospital</td>\n",
       "      <td>NaN</td>\n",
       "      <td>NaN</td>\n",
       "      <td>TCGA-VD-A8KF</td>\n",
       "      <td>M0</td>\n",
       "      <td>N0</td>\n",
       "      <td>T4b</td>\n",
       "      <td>Stage IIIB</td>\n",
       "      <td>...</td>\n",
       "      <td>309.0</td>\n",
       "      <td>NaN</td>\n",
       "      <td>120.0</td>\n",
       "      <td>False</td>\n",
       "      <td>False</td>\n",
       "      <td>NaN</td>\n",
       "      <td>Primary Tumor</td>\n",
       "      <td>1</td>\n",
       "      <td>released</td>\n",
       "      <td>Not Reported</td>\n",
       "    </tr>\n",
       "  </tbody>\n",
       "</table>\n",
       "<p>5 rows × 108 columns</p>\n",
       "</div>"
      ],
      "text/plain": [
       "                      age_at_initial_pathologic_diagnosis batch_number  \\\n",
       "submitter_id.samples                                                     \n",
       "TCGA-V4-A9F7-01A                                       78     417.33.0   \n",
       "TCGA-V4-A9E5-01A                                       51     417.33.0   \n",
       "TCGA-V4-A9EE-01A                                       86     417.33.0   \n",
       "TCGA-YZ-A985-01A                                       41     417.33.0   \n",
       "TCGA-VD-A8KF-01A                                       68     417.33.0   \n",
       "\n",
       "                                                 bcr bcr_followup_barcode  \\\n",
       "submitter_id.samples                                                        \n",
       "TCGA-V4-A9F7-01A      Nationwide Children's Hospital  TCGA-V4-A9F7-F66819   \n",
       "TCGA-V4-A9E5-01A      Nationwide Children's Hospital  TCGA-V4-A9E5-F66658   \n",
       "TCGA-V4-A9EE-01A      Nationwide Children's Hospital                  NaN   \n",
       "TCGA-YZ-A985-01A      Nationwide Children's Hospital  TCGA-YZ-A985-F66494   \n",
       "TCGA-VD-A8KF-01A      Nationwide Children's Hospital                  NaN   \n",
       "\n",
       "                                         bcr_followup_uuid  submitter_id  \\\n",
       "submitter_id.samples                                                       \n",
       "TCGA-V4-A9F7-01A      DE1CF63C-0469-4545-A095-BCA125977D94  TCGA-V4-A9F7   \n",
       "TCGA-V4-A9E5-01A      C0DCBFC1-2F12-48AF-AF9C-498E1F89A1A4  TCGA-V4-A9E5   \n",
       "TCGA-V4-A9EE-01A                                       NaN  TCGA-V4-A9EE   \n",
       "TCGA-YZ-A985-01A      3ED3D1AA-1412-4225-B2BD-D1952057C31C  TCGA-YZ-A985   \n",
       "TCGA-VD-A8KF-01A                                       NaN  TCGA-VD-A8KF   \n",
       "\n",
       "                     clinical_M clinical_N clinical_T clinical_stage  ...  \\\n",
       "submitter_id.samples                                                  ...   \n",
       "TCGA-V4-A9F7-01A             M0         N0        T3a      Stage IIB  ...   \n",
       "TCGA-V4-A9E5-01A             M0         N0        T4b     Stage IIIB  ...   \n",
       "TCGA-V4-A9EE-01A             M0         N0        T3a      Stage IIB  ...   \n",
       "TCGA-YZ-A985-01A             M0         N0        T4a     Stage IIIA  ...   \n",
       "TCGA-VD-A8KF-01A             M0         N0        T4b     Stage IIIB  ...   \n",
       "\n",
       "                      days_to_collection.samples  \\\n",
       "submitter_id.samples                               \n",
       "TCGA-V4-A9F7-01A                           747.0   \n",
       "TCGA-V4-A9E5-01A                          1923.0   \n",
       "TCGA-V4-A9EE-01A                           537.0   \n",
       "TCGA-YZ-A985-01A                           595.0   \n",
       "TCGA-VD-A8KF-01A                           309.0   \n",
       "\n",
       "                      days_to_sample_procurement.samples  \\\n",
       "submitter_id.samples                                       \n",
       "TCGA-V4-A9F7-01A                                     NaN   \n",
       "TCGA-V4-A9E5-01A                                     NaN   \n",
       "TCGA-V4-A9EE-01A                                     NaN   \n",
       "TCGA-YZ-A985-01A                                     NaN   \n",
       "TCGA-VD-A8KF-01A                                     NaN   \n",
       "\n",
       "                      initial_weight.samples is_ffpe.samples  \\\n",
       "submitter_id.samples                                           \n",
       "TCGA-V4-A9F7-01A                        50.0           False   \n",
       "TCGA-V4-A9E5-01A                        80.0           False   \n",
       "TCGA-V4-A9EE-01A                        40.0           False   \n",
       "TCGA-YZ-A985-01A                        40.0           False   \n",
       "TCGA-VD-A8KF-01A                       120.0           False   \n",
       "\n",
       "                     oct_embedded.samples preservation_method.samples  \\\n",
       "submitter_id.samples                                                    \n",
       "TCGA-V4-A9F7-01A                    False                         NaN   \n",
       "TCGA-V4-A9E5-01A                    False                         NaN   \n",
       "TCGA-V4-A9EE-01A                    False                         NaN   \n",
       "TCGA-YZ-A985-01A                    False                         NaN   \n",
       "TCGA-VD-A8KF-01A                    False                         NaN   \n",
       "\n",
       "                     sample_type.samples sample_type_id.samples state.samples  \\\n",
       "submitter_id.samples                                                            \n",
       "TCGA-V4-A9F7-01A           Primary Tumor                      1      released   \n",
       "TCGA-V4-A9E5-01A           Primary Tumor                      1      released   \n",
       "TCGA-V4-A9EE-01A           Primary Tumor                      1      released   \n",
       "TCGA-YZ-A985-01A           Primary Tumor                      1      released   \n",
       "TCGA-VD-A8KF-01A           Primary Tumor                      1      released   \n",
       "\n",
       "                     tissue_type.samples  \n",
       "submitter_id.samples                      \n",
       "TCGA-V4-A9F7-01A            Not Reported  \n",
       "TCGA-V4-A9E5-01A            Not Reported  \n",
       "TCGA-V4-A9EE-01A            Not Reported  \n",
       "TCGA-YZ-A985-01A            Not Reported  \n",
       "TCGA-VD-A8KF-01A            Not Reported  \n",
       "\n",
       "[5 rows x 108 columns]"
      ]
     },
     "execution_count": 116,
     "metadata": {},
     "output_type": "execute_result"
    }
   ],
   "source": [
    "other_phenotypes = pd.read_csv(\"../data/TCGA-UVM.GDC_phenotype.tsv\",delimiter=\"\\t\",index_col=\"submitter_id.samples\")\n",
    "other_phenotypes.head()"
   ]
  },
  {
   "cell_type": "code",
   "execution_count": 109,
   "metadata": {},
   "outputs": [
    {
     "data": {
      "text/plain": [
       "Index(['submitter_id.samples', 'age_at_initial_pathologic_diagnosis',\n",
       "       'batch_number', 'bcr', 'bcr_followup_barcode', 'bcr_followup_uuid',\n",
       "       'submitter_id', 'clinical_M', 'clinical_N', 'clinical_T',\n",
       "       ...\n",
       "       'days_to_collection.samples', 'days_to_sample_procurement.samples',\n",
       "       'initial_weight.samples', 'is_ffpe.samples', 'oct_embedded.samples',\n",
       "       'preservation_method.samples', 'sample_type.samples',\n",
       "       'sample_type_id.samples', 'state.samples', 'tissue_type.samples'],\n",
       "      dtype='object', length=109)"
      ]
     },
     "execution_count": 109,
     "metadata": {},
     "output_type": "execute_result"
    }
   ],
   "source": [
    "other_phenotypes.columns"
   ]
  },
  {
   "cell_type": "code",
   "execution_count": 155,
   "metadata": {},
   "outputs": [
    {
     "name": "stdout",
     "output_type": "stream",
     "text": [
      "1\n",
      "2\n",
      "3\n"
     ]
    },
    {
     "data": {
      "text/plain": [
       "{'whiskers': [<matplotlib.lines.Line2D at 0x205e4604ec8>,\n",
       "  <matplotlib.lines.Line2D at 0x205e46049c8>,\n",
       "  <matplotlib.lines.Line2D at 0x205e460fc48>,\n",
       "  <matplotlib.lines.Line2D at 0x205e460f388>],\n",
       " 'caps': [<matplotlib.lines.Line2D at 0x205e4609a08>,\n",
       "  <matplotlib.lines.Line2D at 0x205e4609f48>,\n",
       "  <matplotlib.lines.Line2D at 0x205e4613f08>,\n",
       "  <matplotlib.lines.Line2D at 0x205e4613c88>],\n",
       " 'boxes': [<matplotlib.lines.Line2D at 0x205e4604748>,\n",
       "  <matplotlib.lines.Line2D at 0x205e460ffc8>],\n",
       " 'medians': [<matplotlib.lines.Line2D at 0x205e4609bc8>,\n",
       "  <matplotlib.lines.Line2D at 0x205e461eb48>],\n",
       " 'fliers': [<matplotlib.lines.Line2D at 0x205e460fa48>,\n",
       "  <matplotlib.lines.Line2D at 0x205e461efc8>],\n",
       " 'means': []}"
      ]
     },
     "execution_count": 155,
     "metadata": {},
     "output_type": "execute_result"
    },
    {
     "data": {
      "image/png": "[encoded data removed]",
      "text/plain": [
       "<Figure size 432x288 with 1 Axes>"
      ]
     },
     "metadata": {
      "needs_background": "light"
     },
     "output_type": "display_data"
    }
   ],
   "source": [
    "patient_dict_7 = {}\n",
    "i = 0\n",
    "for p in list(patient_data.index):\n",
    "    if p+\"-01A\" in list(other_phenotypes.index) and not np.isnan(other_phenotypes.loc[p+\"-01A\",\"age_at_initial_pathologic_diagnosis\"]):\n",
    "        patient_dict_7[str(p)+\"-01\"] = (presence_df.loc[\"BAP1\",str(p)+\"-01\"],other_phenotypes.loc[p+\"-01A\",\"age_at_initial_pathologic_diagnosis\"])\n",
    "    else:\n",
    "        i +=1\n",
    "        print(i)\n",
    "neg1_group = [patient_dict_7[p][1] for p in list(patient_dict_7.keys()) if patient_dict_7[p][0] == -1]    \n",
    "zero_group = [patient_dict_7[p][1] for p in list(patient_dict_7.keys()) if patient_dict_7[p][0] == 0]  \n",
    "\n",
    "plt.boxplot([zero_group,neg1_group],labels=[0,-1])"
   ]
  },
  {
   "cell_type": "code",
   "execution_count": 158,
   "metadata": {},
   "outputs": [
    {
     "data": {
      "text/plain": [
       "MannwhitneyuResult(statistic=640.5, pvalue=0.17779217079330206)"
      ]
     },
     "execution_count": 158,
     "metadata": {},
     "output_type": "execute_result"
    }
   ],
   "source": [
    "mannwhitneyu(neg1_group,zero_group)"
   ]
  },
  {
   "cell_type": "code",
   "execution_count": 165,
   "metadata": {},
   "outputs": [],
   "source": [
    "patient_dict_8 = {}\n",
    "for p in list(patient_data.index):\n",
    "    patient_dict_8[str(p)+\"-01\"] = (presence_df.loc[\"ATG14\",str(p)+\"-01\"],patient_data.loc[p,\"DSS_MONTHS\"])"
   ]
  },
  {
   "cell_type": "code",
   "execution_count": 169,
   "metadata": {},
   "outputs": [],
   "source": [
    "zero_group_2 = [patient_dict_8[p][1] for p in list(patient_dict_8.keys()) if patient_dict_8[p][0] == 0]\n",
    "neg1_group_2 = [patient_dict_8[p][1] for p in list(patient_dict_8.keys()) if patient_dict_8[p][0] == 1]"
   ]
  },
  {
   "cell_type": "code",
   "execution_count": 170,
   "metadata": {},
   "outputs": [
    {
     "data": {
      "text/plain": [
       "{'whiskers': [<matplotlib.lines.Line2D at 0x205e4c1d9c8>,\n",
       "  <matplotlib.lines.Line2D at 0x205e4c1df48>,\n",
       "  <matplotlib.lines.Line2D at 0x205e4c2ae08>,\n",
       "  <matplotlib.lines.Line2D at 0x205e4c2aec8>],\n",
       " 'caps': [<matplotlib.lines.Line2D at 0x205e4c1db88>,\n",
       "  <matplotlib.lines.Line2D at 0x205e4c22a48>,\n",
       "  <matplotlib.lines.Line2D at 0x205e4c2ff08>,\n",
       "  <matplotlib.lines.Line2D at 0x205e4c2fb08>],\n",
       " 'boxes': [<matplotlib.lines.Line2D at 0x205e4c1d2c8>,\n",
       "  <matplotlib.lines.Line2D at 0x205e4c2acc8>],\n",
       " 'medians': [<matplotlib.lines.Line2D at 0x205e4c22fc8>,\n",
       "  <matplotlib.lines.Line2D at 0x205e4c37b48>],\n",
       " 'fliers': [<matplotlib.lines.Line2D at 0x205e4c22c08>,\n",
       "  <matplotlib.lines.Line2D at 0x205e4c37fc8>],\n",
       " 'means': []}"
      ]
     },
     "execution_count": 170,
     "metadata": {},
     "output_type": "execute_result"
    },
    {
     "data": {
      "image/png": "[encoded data removed]",
      "text/plain": [
       "<Figure size 432x288 with 1 Axes>"
      ]
     },
     "metadata": {
      "needs_background": "light"
     },
     "output_type": "display_data"
    }
   ],
   "source": [
    "plt.boxplot([zero_group_2,neg1_group_2],labels=[0,-1])"
   ]
  },
  {
   "cell_type": "code",
   "execution_count": 171,
   "metadata": {},
   "outputs": [
    {
     "data": {
      "text/plain": [
       "MannwhitneyuResult(statistic=103.0, pvalue=0.393841353434712)"
      ]
     },
     "execution_count": 171,
     "metadata": {},
     "output_type": "execute_result"
    }
   ],
   "source": [
    "mannwhitneyu(zero_group_2,neg1_group_2)"
   ]
  },
  {
   "cell_type": "code",
   "execution_count": null,
   "metadata": {},
   "outputs": [],
   "source": []
  }
 ],
 "metadata": {
  "kernelspec": {
   "display_name": "Python 3",
   "language": "python",
   "name": "python3"
  },
  "language_info": {
   "codemirror_mode": {
    "name": "ipython",
    "version": 3
   },
   "file_extension": ".py",
   "mimetype": "text/x-python",
   "name": "python",
   "nbconvert_exporter": "python",
   "pygments_lexer": "ipython3",
   "version": "3.7.4"
  }
 },
 "nbformat": 4,
 "nbformat_minor": 2
}
