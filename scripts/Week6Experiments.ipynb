{
 "cells": [
  {
   "cell_type": "markdown",
   "metadata": {},
   "source": [
    "## Imports"
   ]
  },
  {
   "cell_type": "code",
   "execution_count": 1,
   "metadata": {},
   "outputs": [
    {
     "name": "stderr",
     "output_type": "stream",
     "text": [
      "C:\\ProgramData\\Anaconda3\\lib\\site-packages\\sklearn\\externals\\six.py:31: DeprecationWarning: The module is deprecated in version 0.21 and will be removed in version 0.23 since we've dropped support for Python 2.7. Please rely on the official version of six (https://pypi.org/project/six/).\n",
      "  \"(https://pypi.org/project/six/).\", DeprecationWarning)\n"
     ]
    }
   ],
   "source": [
    "import pandas as pd\n",
    "from sklearn.linear_model import LinearRegression\n",
    "import TumorDecon as td\n",
    "from scipy.stats import wilcoxon\n",
    "import seaborn as sns\n",
    "from itertools import combinations\n",
    "from scipy.stats import mannwhitneyu\n",
    "import matplotlib.pyplot as plt\n",
    "import numpy as np\n",
    "from sklearn.tree._tree import TREE_LEAF\n",
    "from sklearn.externals.six import StringIO\n",
    "from IPython.display import Image\n",
    "from sklearn.tree import export_graphviz\n",
    "import pydotplus\n",
    "import seaborn as sns\n",
    "from scipy import stats\n",
    "from sklearn.tree import _tree\n",
    "import pandas as pd\n",
    "import numpy as np\n",
    "import matplotlib.pyplot as plt\n",
    "from sklearn.decomposition import PCA\n",
    "from sklearn.mixture import BayesianGaussianMixture\n",
    "from sklearn.mixture import GaussianMixture\n",
    "from sklearn.decomposition import TruncatedSVD\n",
    "from sklearn.model_selection import train_test_split\n",
    "from sklearn.tree._tree import TREE_LEAF\n",
    "from sklearn.externals.six import StringIO\n",
    "from IPython.display import Image\n",
    "from sklearn.tree import export_graphviz\n",
    "import pydotplus\n",
    "import seaborn as sns\n",
    "from scipy import stats\n",
    "from sklearn.tree import _tree\n",
    "from itertools import combinations\n",
    "from sklearn.neighbors import KernelDensity\n",
    "from sklearn.cluster import KMeans\n",
    "from collections import Counter\n",
    "from itertools import combinations \n",
    "from statsmodels.stats.proportion import proportions_ztest\n",
    "from sklearn.tree import DecisionTreeClassifier"
   ]
  },
  {
   "cell_type": "markdown",
   "metadata": {},
   "source": [
    "## Data Formatting"
   ]
  },
  {
   "cell_type": "code",
   "execution_count": 2,
   "metadata": {},
   "outputs": [],
   "source": [
    "gene_expression = pd.read_excel('C:/Users/NathanGrant/Programs/TripodsREU/data/uvm_tcga_pan_can_atlas_2018/data_RNA_Seq_v2_expression_median_excel.xlsx',index_col=\"Hugo_Symbol\")\n",
    "gene_expression = td.df_normalization(gene_expression, \"minmax\").T\n",
    "presence_df = pd.read_csv('C:/Users/NathanGrant/Programs/TripodsREU/data/uvm_tcga_pan_can_atlas_2018/data_CNA.txt',delimiter='\\t', index_col=\"Hugo_Symbol\")\n",
    "presence_df= presence_df[presence_df.columns.difference(['Entrez_Gene_Id','Cytoband'])]\n",
    "immune_fractions_df = td.combine_celltypes(pd.read_excel(\"C:/Users/NathanGrant/Programs/TripodsREU/data/CibersortResults/UVMRun1/CIBERSORTOutput_Job2.xlsx\",index_col=\"Input Sample\"))\n",
    "immune_fractions_df= immune_fractions_df[immune_fractions_df.columns.difference(['RMSE','P-value','Pearson Correlation'])]\n",
    "immune_fractions_df_uncombined = pd.read_excel(\"C:/Users/NathanGrant/Programs/TripodsREU/data/CibersortResults/UVMRun1/CIBERSORTOutput_Job2.xlsx\",index_col=\"Input Sample\")\n",
    "immune_fractions_df_uncombined= immune_fractions_df_uncombined[immune_fractions_df_uncombined.columns.difference(['RMSE','P-value','Pearson Correlation'])]\n",
    "phenotypes = pd.read_csv(\"../data/TCGA-UVM.GDC_phenotype.tsv\",delimiter=\"\\t\",index_col=\"submitter_id.samples\")\n",
    "phenotypes_2 = pd.read_csv('C:/Users/NathanGrant/Programs/TripodsREU/data/uvm_tcga_pan_can_atlas_2018/data_clinical_patient.txt',delimiter=\"\\t\",index_col=\"PATIENT_ID\")\n"
   ]
  },
  {
   "cell_type": "code",
   "execution_count": 3,
   "metadata": {},
   "outputs": [],
   "source": [
    "patient_dict = {}\n",
    "for patient_id in list(gene_expression.index):\n",
    "    patient_dict[patient_id] = {}\n",
    "    patient_dict[patient_id]['BAP1_mutation'] = presence_df.loc['BAP1', patient_id]\n",
    "    patient_dict[patient_id]['expression_values'] = gene_expression.loc[patient_id].values\n",
    "    patient_dict[patient_id]['immune_fractions'] = immune_fractions_df.loc[patient_id].values\n",
    "    patient_dict[patient_id]['DSS_time'] = phenotypes_2.loc[patient_id[:-3],'DSS_MONTHS']\n",
    "    if phenotypes_2.loc[patient_id[:-3],'OS_STATUS'] == 'LIVING':\n",
    "        patient_dict[patient_id]['os_status'] = 1\n",
    "    else:\n",
    "        patient_dict[patient_id]['os_status'] = 0\n",
    "    if patient_id+\"A\" in list(phenotypes.index):\n",
    "        patient_dict[patient_id]['tumor_size'] = phenotypes.loc[patient_id+\"A\",'tumor_basal_diameter']\n",
    "    else:\n",
    "        patient_dict[patient_id]['tumor_size'] = np.nan\n",
    "    if patient_id+\"A\" in list(phenotypes.index):\n",
    "        patient_dict[patient_id]['weight'] = phenotypes.loc[patient_id+\"A\",'weight']\n",
    "    else:\n",
    "        patient_dict[patient_id]['weight'] = np.nan\n",
    "    if patient_id+\"A\" in list(phenotypes.index):\n",
    "        patient_dict[patient_id]['age'] = phenotypes.loc[patient_id+\"A\",'age_at_initial_pathologic_diagnosis']\n",
    "    else:\n",
    "        patient_dict[patient_id]['age'] = np.nan\n",
    "    if patient_id+\"A\" in list(phenotypes.index):\n",
    "        if np.isnan(phenotypes.loc[patient_id+\"A\",\"tumor_thickness\"]):\n",
    "            patient_dict[patient_id][\"tumor_thickness\"] = np.nan\n",
    "        else:\n",
    "            patient_dict[patient_id][\"tumor_thickness\"] = phenotypes.loc[patient_id+\"A\",\"tumor_thickness\"]\n",
    "    else:\n",
    "        patient_dict[patient_id][\"tumor_thickness\"] = np.nan\n",
    "    if patient_id+\"A\" in list(phenotypes.index):\n",
    "        s = phenotypes.loc[patient_id+\"A\",\"tumor_stage.diagnoses\"]\n",
    "        if s == \"stage iv\":\n",
    "            patient_dict[patient_id]['stage'] = 2\n",
    "        elif s == 'stage iiib' or s == 'stage iiic' or s == \"stage iiia\":\n",
    "            patient_dict[patient_id]['stage'] = 1\n",
    "        elif s == 'stage iib' or s == \"stage iia\":\n",
    "            patient_dict[patient_id]['stage'] = 0\n",
    "        else:\n",
    "            patient_dict[patient_id]['stage'] = np.nan\n",
    "    else:\n",
    "        patient_dict[patient_id]['stage'] = np.nan\n",
    "    if patient_id+\"A\" in list(phenotypes.index):\n",
    "        patient_dict[patient_id]['bmi'] = phenotypes.loc[patient_id+\"A\",'bmi.exposures']\n",
    "    else:\n",
    "        patient_dict[patient_id]['bmi'] = np.nan\n",
    "    "
   ]
  },
  {
   "cell_type": "code",
   "execution_count": null,
   "metadata": {},
   "outputs": [],
   "source": []
  }
 ],
 "metadata": {
  "kernelspec": {
   "display_name": "Python 3",
   "language": "python",
   "name": "python3"
  },
  "language_info": {
   "codemirror_mode": {
    "name": "ipython",
    "version": 3
   },
   "file_extension": ".py",
   "mimetype": "text/x-python",
   "name": "python",
   "nbconvert_exporter": "python",
   "pygments_lexer": "ipython3",
   "version": "3.7.4"
  }
 },
 "nbformat": 4,
 "nbformat_minor": 2
}
