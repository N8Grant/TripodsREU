{
 "cells": [
  {
   "cell_type": "markdown",
   "metadata": {},
   "source": [
    "### See if you can use neural nets to perform regression like cibersort\n",
    "Simulate a bunch of RNA data and train a model on it to see if it performs well on deconvolution tasks.\n",
    "Right now all I can do is generate new samples from existing data and train it on them.\n",
    "\n",
    "So first what I have to do is reduce the datas dimensionality sufficently so that a large portion of the variance is explained. Then I will fit it to a GMM and generate points. As of right now i have to use the predictions made from cibersort which isnt exactly what I wanted to do but we dont have ground truth data so it wouild be hard to do it any other way."
   ]
  },
  {
   "cell_type": "markdown",
   "metadata": {},
   "source": [
    "### Imports"
   ]
  },
  {
   "cell_type": "code",
   "execution_count": 21,
   "metadata": {},
   "outputs": [],
   "source": [
    "import pandas as pd\n",
    "import numpy as np\n",
    "import tensorflow as tf\n",
    "import TumorDecon as td\n",
    "from sklearn.model_selection import train_test_split\n",
    "import matplotlib.pyplot as plt\n",
    "from sklearn.mixture import BayesianGaussianMixture\n",
    "from sklearn.metrics import mean_absolute_error"
   ]
  },
  {
   "cell_type": "markdown",
   "metadata": {},
   "source": [
    "### To be made into class for nn_decomposition"
   ]
  },
  {
   "cell_type": "code",
   "execution_count": 3,
   "metadata": {},
   "outputs": [],
   "source": [
    "def nate_sort(rna_sample, sig_df, nu=0.5, C=1.0, kernel='linear', shrinking=True):\n",
    "    import numpy as np\n",
    "    from sklearn.model_selection import GridSearchCV\n",
    "\n",
    "    # If a numerical of nu not explicitly specified, use gridsearch to find the best nu:\n",
    "    if nu == 'best':\n",
    "        \n",
    "        gridsearch = GridSearchCV(MLPRegressor(solver=\"lbfgs\"), cv=5, param_grid={\"learning_rate_init\":[.001,.005,.01,.02,.1]}, scoring='neg_mean_squared_error', refit=True, iid=False)\n",
    "        gridsearch.fit(sig_df, rna_sample)\n",
    "        lr = gridsearch.best_params_['learning_rate_init']\n",
    "        \n",
    "\n",
    "    # Fit nuSVR with best (or specified) value of nu:\n",
    "    clf = MLPRegressor(solver=\"lbfgs\", learning_rate_init=lr)\n",
    "    clf.fit(sig_df, rna_sample)\n",
    "\n",
    "    # Replace negative \"frequencies\" with 0:\n",
    "    weights = np.array(clf.coef_)[0] # equivalent to np.matmul(np.array(clf.dual_coef_), np.array(clf.support_vectors_))[0]\n",
    "    weights[weights<0] = 0\n",
    "    # Sum to 1 contraint:\n",
    "    weights = weights / np.sum(weights)\n",
    "\n",
    "    return weights\n",
    "def nate_sort_main(rna_df, sig_df, patient_IDs='ALL', args={}):\n",
    "    for patient in patient_list:\n",
    "        if patient in rna_df.columns:\n",
    "            cell_freqs_df[patient] = cibersort(rna_df[patient], sig_df, nu=nu, C=C, kernel=kernel, shrinking=shrinking)\n",
    "        else:\n",
    "            raise ValueError(\"patient_ID ({!r}) not present in rna dataframe\".format(patient))\n",
    "            return\n",
    "    cell_freqs_df = cell_freqs_df.transpose()\n",
    "    return cell_freqs_df"
   ]
  },
  {
   "cell_type": "markdown",
   "metadata": {},
   "source": [
    "### Read Data"
   ]
  },
  {
   "cell_type": "code",
   "execution_count": 4,
   "metadata": {},
   "outputs": [
    {
     "data": {
      "text/html": [
       "<div>\n",
       "<style scoped>\n",
       "    .dataframe tbody tr th:only-of-type {\n",
       "        vertical-align: middle;\n",
       "    }\n",
       "\n",
       "    .dataframe tbody tr th {\n",
       "        vertical-align: top;\n",
       "    }\n",
       "\n",
       "    .dataframe thead th {\n",
       "        text-align: right;\n",
       "    }\n",
       "</style>\n",
       "<table border=\"1\" class=\"dataframe\">\n",
       "  <thead>\n",
       "    <tr style=\"text-align: right;\">\n",
       "      <th></th>\n",
       "      <th>0</th>\n",
       "      <th>1</th>\n",
       "      <th>2</th>\n",
       "      <th>3</th>\n",
       "      <th>4</th>\n",
       "      <th>5</th>\n",
       "      <th>6</th>\n",
       "      <th>7</th>\n",
       "      <th>8</th>\n",
       "      <th>9</th>\n",
       "      <th>...</th>\n",
       "      <th>12</th>\n",
       "      <th>13</th>\n",
       "      <th>14</th>\n",
       "      <th>15</th>\n",
       "      <th>16</th>\n",
       "      <th>17</th>\n",
       "      <th>18</th>\n",
       "      <th>19</th>\n",
       "      <th>20</th>\n",
       "      <th>21</th>\n",
       "    </tr>\n",
       "    <tr>\n",
       "      <th>Patient</th>\n",
       "      <th></th>\n",
       "      <th></th>\n",
       "      <th></th>\n",
       "      <th></th>\n",
       "      <th></th>\n",
       "      <th></th>\n",
       "      <th></th>\n",
       "      <th></th>\n",
       "      <th></th>\n",
       "      <th></th>\n",
       "      <th></th>\n",
       "      <th></th>\n",
       "      <th></th>\n",
       "      <th></th>\n",
       "      <th></th>\n",
       "      <th></th>\n",
       "      <th></th>\n",
       "      <th></th>\n",
       "      <th></th>\n",
       "      <th></th>\n",
       "      <th></th>\n",
       "    </tr>\n",
       "  </thead>\n",
       "  <tbody>\n",
       "    <tr>\n",
       "      <td>0</td>\n",
       "      <td>0.041987</td>\n",
       "      <td>0.029400</td>\n",
       "      <td>0.058375</td>\n",
       "      <td>0.065183</td>\n",
       "      <td>0.011434</td>\n",
       "      <td>0.054252</td>\n",
       "      <td>0.051492</td>\n",
       "      <td>0.050393</td>\n",
       "      <td>0.019502</td>\n",
       "      <td>0.050503</td>\n",
       "      <td>...</td>\n",
       "      <td>0.055866</td>\n",
       "      <td>0.048454</td>\n",
       "      <td>0.014117</td>\n",
       "      <td>0.028026</td>\n",
       "      <td>0.063896</td>\n",
       "      <td>0.054038</td>\n",
       "      <td>0.057907</td>\n",
       "      <td>0.041855</td>\n",
       "      <td>0.064365</td>\n",
       "      <td>0.034044</td>\n",
       "    </tr>\n",
       "    <tr>\n",
       "      <td>1</td>\n",
       "      <td>0.029913</td>\n",
       "      <td>0.048027</td>\n",
       "      <td>0.008742</td>\n",
       "      <td>0.062388</td>\n",
       "      <td>0.021600</td>\n",
       "      <td>0.041344</td>\n",
       "      <td>0.019164</td>\n",
       "      <td>0.062305</td>\n",
       "      <td>0.065441</td>\n",
       "      <td>0.043912</td>\n",
       "      <td>...</td>\n",
       "      <td>0.078530</td>\n",
       "      <td>0.023266</td>\n",
       "      <td>0.084164</td>\n",
       "      <td>0.035252</td>\n",
       "      <td>0.071408</td>\n",
       "      <td>0.001722</td>\n",
       "      <td>0.065863</td>\n",
       "      <td>0.019781</td>\n",
       "      <td>0.084790</td>\n",
       "      <td>0.037326</td>\n",
       "    </tr>\n",
       "    <tr>\n",
       "      <td>2</td>\n",
       "      <td>0.060445</td>\n",
       "      <td>0.002421</td>\n",
       "      <td>0.016912</td>\n",
       "      <td>0.079836</td>\n",
       "      <td>0.073710</td>\n",
       "      <td>0.002900</td>\n",
       "      <td>0.041895</td>\n",
       "      <td>0.037881</td>\n",
       "      <td>0.080806</td>\n",
       "      <td>0.042998</td>\n",
       "      <td>...</td>\n",
       "      <td>0.015474</td>\n",
       "      <td>0.066772</td>\n",
       "      <td>0.047766</td>\n",
       "      <td>0.087620</td>\n",
       "      <td>0.043304</td>\n",
       "      <td>0.087087</td>\n",
       "      <td>0.009160</td>\n",
       "      <td>0.013183</td>\n",
       "      <td>0.049630</td>\n",
       "      <td>0.066232</td>\n",
       "    </tr>\n",
       "    <tr>\n",
       "      <td>3</td>\n",
       "      <td>0.062324</td>\n",
       "      <td>0.057795</td>\n",
       "      <td>0.021215</td>\n",
       "      <td>0.018881</td>\n",
       "      <td>0.108848</td>\n",
       "      <td>0.030902</td>\n",
       "      <td>0.038093</td>\n",
       "      <td>0.073227</td>\n",
       "      <td>0.104172</td>\n",
       "      <td>0.040704</td>\n",
       "      <td>...</td>\n",
       "      <td>0.016990</td>\n",
       "      <td>0.021771</td>\n",
       "      <td>0.021409</td>\n",
       "      <td>0.055658</td>\n",
       "      <td>0.071423</td>\n",
       "      <td>0.047555</td>\n",
       "      <td>0.048253</td>\n",
       "      <td>0.046857</td>\n",
       "      <td>0.039450</td>\n",
       "      <td>0.000802</td>\n",
       "    </tr>\n",
       "    <tr>\n",
       "      <td>4</td>\n",
       "      <td>0.023462</td>\n",
       "      <td>0.067551</td>\n",
       "      <td>0.033406</td>\n",
       "      <td>0.079458</td>\n",
       "      <td>0.038118</td>\n",
       "      <td>0.005731</td>\n",
       "      <td>0.055723</td>\n",
       "      <td>0.046567</td>\n",
       "      <td>0.057377</td>\n",
       "      <td>0.077398</td>\n",
       "      <td>...</td>\n",
       "      <td>0.011191</td>\n",
       "      <td>0.054797</td>\n",
       "      <td>0.052404</td>\n",
       "      <td>0.009651</td>\n",
       "      <td>0.081185</td>\n",
       "      <td>0.035069</td>\n",
       "      <td>0.074087</td>\n",
       "      <td>0.056898</td>\n",
       "      <td>0.040362</td>\n",
       "      <td>0.001412</td>\n",
       "    </tr>\n",
       "  </tbody>\n",
       "</table>\n",
       "<p>5 rows × 22 columns</p>\n",
       "</div>"
      ],
      "text/plain": [
       "                0         1         2         3         4         5         6  \\\n",
       "Patient                                                                         \n",
       "0        0.041987  0.029400  0.058375  0.065183  0.011434  0.054252  0.051492   \n",
       "1        0.029913  0.048027  0.008742  0.062388  0.021600  0.041344  0.019164   \n",
       "2        0.060445  0.002421  0.016912  0.079836  0.073710  0.002900  0.041895   \n",
       "3        0.062324  0.057795  0.021215  0.018881  0.108848  0.030902  0.038093   \n",
       "4        0.023462  0.067551  0.033406  0.079458  0.038118  0.005731  0.055723   \n",
       "\n",
       "                7         8         9  ...        12        13        14  \\\n",
       "Patient                                ...                                 \n",
       "0        0.050393  0.019502  0.050503  ...  0.055866  0.048454  0.014117   \n",
       "1        0.062305  0.065441  0.043912  ...  0.078530  0.023266  0.084164   \n",
       "2        0.037881  0.080806  0.042998  ...  0.015474  0.066772  0.047766   \n",
       "3        0.073227  0.104172  0.040704  ...  0.016990  0.021771  0.021409   \n",
       "4        0.046567  0.057377  0.077398  ...  0.011191  0.054797  0.052404   \n",
       "\n",
       "               15        16        17        18        19        20        21  \n",
       "Patient                                                                        \n",
       "0        0.028026  0.063896  0.054038  0.057907  0.041855  0.064365  0.034044  \n",
       "1        0.035252  0.071408  0.001722  0.065863  0.019781  0.084790  0.037326  \n",
       "2        0.087620  0.043304  0.087087  0.009160  0.013183  0.049630  0.066232  \n",
       "3        0.055658  0.071423  0.047555  0.048253  0.046857  0.039450  0.000802  \n",
       "4        0.009651  0.081185  0.035069  0.074087  0.056898  0.040362  0.001412  \n",
       "\n",
       "[5 rows x 22 columns]"
      ]
     },
     "execution_count": 4,
     "metadata": {},
     "output_type": "execute_result"
    }
   ],
   "source": [
    "df = pd.read_csv(\"C:/Users/NathanGrant/Programs/TripodsREU/scripts/TumorDecon/data/Simulation_data/Simulation_mixture.csv\",index_col=\"Patient\")\n",
    "df.head()"
   ]
  },
  {
   "cell_type": "code",
   "execution_count": 5,
   "metadata": {},
   "outputs": [
    {
     "data": {
      "text/html": [
       "<div>\n",
       "<style scoped>\n",
       "    .dataframe tbody tr th:only-of-type {\n",
       "        vertical-align: middle;\n",
       "    }\n",
       "\n",
       "    .dataframe tbody tr th {\n",
       "        vertical-align: top;\n",
       "    }\n",
       "\n",
       "    .dataframe thead th {\n",
       "        text-align: right;\n",
       "    }\n",
       "</style>\n",
       "<table border=\"1\" class=\"dataframe\">\n",
       "  <thead>\n",
       "    <tr style=\"text-align: right;\">\n",
       "      <th></th>\n",
       "      <th>0</th>\n",
       "      <th>1</th>\n",
       "      <th>2</th>\n",
       "      <th>3</th>\n",
       "      <th>4</th>\n",
       "      <th>5</th>\n",
       "      <th>6</th>\n",
       "      <th>7</th>\n",
       "      <th>8</th>\n",
       "      <th>9</th>\n",
       "      <th>...</th>\n",
       "      <th>90</th>\n",
       "      <th>91</th>\n",
       "      <th>92</th>\n",
       "      <th>93</th>\n",
       "      <th>94</th>\n",
       "      <th>95</th>\n",
       "      <th>96</th>\n",
       "      <th>97</th>\n",
       "      <th>98</th>\n",
       "      <th>99</th>\n",
       "    </tr>\n",
       "    <tr>\n",
       "      <th>Hugo_Symbol</th>\n",
       "      <th></th>\n",
       "      <th></th>\n",
       "      <th></th>\n",
       "      <th></th>\n",
       "      <th></th>\n",
       "      <th></th>\n",
       "      <th></th>\n",
       "      <th></th>\n",
       "      <th></th>\n",
       "      <th></th>\n",
       "      <th></th>\n",
       "      <th></th>\n",
       "      <th></th>\n",
       "      <th></th>\n",
       "      <th></th>\n",
       "      <th></th>\n",
       "      <th></th>\n",
       "      <th></th>\n",
       "      <th></th>\n",
       "      <th></th>\n",
       "      <th></th>\n",
       "    </tr>\n",
       "  </thead>\n",
       "  <tbody>\n",
       "    <tr>\n",
       "      <td>A1CF</td>\n",
       "      <td>189.364311</td>\n",
       "      <td>276.227372</td>\n",
       "      <td>104.267251</td>\n",
       "      <td>28.697054</td>\n",
       "      <td>296.146820</td>\n",
       "      <td>208.322157</td>\n",
       "      <td>343.290502</td>\n",
       "      <td>362.571761</td>\n",
       "      <td>69.765975</td>\n",
       "      <td>108.687679</td>\n",
       "      <td>...</td>\n",
       "      <td>263.371765</td>\n",
       "      <td>0.000000</td>\n",
       "      <td>81.340653</td>\n",
       "      <td>249.694179</td>\n",
       "      <td>329.039262</td>\n",
       "      <td>298.426071</td>\n",
       "      <td>246.263884</td>\n",
       "      <td>183.588010</td>\n",
       "      <td>168.999810</td>\n",
       "      <td>245.678629</td>\n",
       "    </tr>\n",
       "    <tr>\n",
       "      <td>A2M</td>\n",
       "      <td>1364.256599</td>\n",
       "      <td>1239.289091</td>\n",
       "      <td>2116.908009</td>\n",
       "      <td>1768.456793</td>\n",
       "      <td>1136.012086</td>\n",
       "      <td>729.338018</td>\n",
       "      <td>1070.376415</td>\n",
       "      <td>841.686383</td>\n",
       "      <td>1606.747140</td>\n",
       "      <td>1354.015708</td>\n",
       "      <td>...</td>\n",
       "      <td>1733.195269</td>\n",
       "      <td>1894.002367</td>\n",
       "      <td>1911.714906</td>\n",
       "      <td>1486.086606</td>\n",
       "      <td>1061.448100</td>\n",
       "      <td>1331.084175</td>\n",
       "      <td>2495.915515</td>\n",
       "      <td>1443.909308</td>\n",
       "      <td>2008.877540</td>\n",
       "      <td>128.430483</td>\n",
       "    </tr>\n",
       "    <tr>\n",
       "      <td>A4GALT</td>\n",
       "      <td>0.000000</td>\n",
       "      <td>233.820915</td>\n",
       "      <td>116.652581</td>\n",
       "      <td>312.173105</td>\n",
       "      <td>0.000000</td>\n",
       "      <td>190.201734</td>\n",
       "      <td>51.227503</td>\n",
       "      <td>0.000000</td>\n",
       "      <td>0.000000</td>\n",
       "      <td>230.514764</td>\n",
       "      <td>...</td>\n",
       "      <td>0.000000</td>\n",
       "      <td>0.000000</td>\n",
       "      <td>12.509306</td>\n",
       "      <td>214.052744</td>\n",
       "      <td>35.980749</td>\n",
       "      <td>0.000000</td>\n",
       "      <td>170.408628</td>\n",
       "      <td>0.000000</td>\n",
       "      <td>143.959652</td>\n",
       "      <td>44.448153</td>\n",
       "    </tr>\n",
       "    <tr>\n",
       "      <td>A4GNT</td>\n",
       "      <td>284.196389</td>\n",
       "      <td>277.334832</td>\n",
       "      <td>345.413967</td>\n",
       "      <td>458.714968</td>\n",
       "      <td>214.712847</td>\n",
       "      <td>212.083277</td>\n",
       "      <td>182.001453</td>\n",
       "      <td>166.074495</td>\n",
       "      <td>408.083165</td>\n",
       "      <td>286.878666</td>\n",
       "      <td>...</td>\n",
       "      <td>442.743888</td>\n",
       "      <td>0.000000</td>\n",
       "      <td>30.756553</td>\n",
       "      <td>0.000000</td>\n",
       "      <td>495.355076</td>\n",
       "      <td>63.384024</td>\n",
       "      <td>139.374166</td>\n",
       "      <td>413.569199</td>\n",
       "      <td>71.118304</td>\n",
       "      <td>103.270241</td>\n",
       "    </tr>\n",
       "    <tr>\n",
       "      <td>AAAS</td>\n",
       "      <td>131.015559</td>\n",
       "      <td>29.684689</td>\n",
       "      <td>131.304606</td>\n",
       "      <td>0.945879</td>\n",
       "      <td>224.295002</td>\n",
       "      <td>140.637259</td>\n",
       "      <td>63.511066</td>\n",
       "      <td>445.517859</td>\n",
       "      <td>37.338367</td>\n",
       "      <td>82.247556</td>\n",
       "      <td>...</td>\n",
       "      <td>99.726423</td>\n",
       "      <td>448.633177</td>\n",
       "      <td>283.418826</td>\n",
       "      <td>47.189144</td>\n",
       "      <td>47.417713</td>\n",
       "      <td>0.000000</td>\n",
       "      <td>205.780367</td>\n",
       "      <td>0.000000</td>\n",
       "      <td>0.000000</td>\n",
       "      <td>166.116612</td>\n",
       "    </tr>\n",
       "  </tbody>\n",
       "</table>\n",
       "<p>5 rows × 100 columns</p>\n",
       "</div>"
      ],
      "text/plain": [
       "                       0            1            2            3            4  \\\n",
       "Hugo_Symbol                                                                    \n",
       "A1CF          189.364311   276.227372   104.267251    28.697054   296.146820   \n",
       "A2M          1364.256599  1239.289091  2116.908009  1768.456793  1136.012086   \n",
       "A4GALT          0.000000   233.820915   116.652581   312.173105     0.000000   \n",
       "A4GNT         284.196389   277.334832   345.413967   458.714968   214.712847   \n",
       "AAAS          131.015559    29.684689   131.304606     0.945879   224.295002   \n",
       "\n",
       "                      5            6           7            8            9  \\\n",
       "Hugo_Symbol                                                                  \n",
       "A1CF         208.322157   343.290502  362.571761    69.765975   108.687679   \n",
       "A2M          729.338018  1070.376415  841.686383  1606.747140  1354.015708   \n",
       "A4GALT       190.201734    51.227503    0.000000     0.000000   230.514764   \n",
       "A4GNT        212.083277   182.001453  166.074495   408.083165   286.878666   \n",
       "AAAS         140.637259    63.511066  445.517859    37.338367    82.247556   \n",
       "\n",
       "             ...           90           91           92           93  \\\n",
       "Hugo_Symbol  ...                                                       \n",
       "A1CF         ...   263.371765     0.000000    81.340653   249.694179   \n",
       "A2M          ...  1733.195269  1894.002367  1911.714906  1486.086606   \n",
       "A4GALT       ...     0.000000     0.000000    12.509306   214.052744   \n",
       "A4GNT        ...   442.743888     0.000000    30.756553     0.000000   \n",
       "AAAS         ...    99.726423   448.633177   283.418826    47.189144   \n",
       "\n",
       "                      94           95           96           97           98  \\\n",
       "Hugo_Symbol                                                                    \n",
       "A1CF          329.039262   298.426071   246.263884   183.588010   168.999810   \n",
       "A2M          1061.448100  1331.084175  2495.915515  1443.909308  2008.877540   \n",
       "A4GALT         35.980749     0.000000   170.408628     0.000000   143.959652   \n",
       "A4GNT         495.355076    63.384024   139.374166   413.569199    71.118304   \n",
       "AAAS           47.417713     0.000000   205.780367     0.000000     0.000000   \n",
       "\n",
       "                     99  \n",
       "Hugo_Symbol              \n",
       "A1CF         245.678629  \n",
       "A2M          128.430483  \n",
       "A4GALT        44.448153  \n",
       "A4GNT        103.270241  \n",
       "AAAS         166.116612  \n",
       "\n",
       "[5 rows x 100 columns]"
      ]
     },
     "execution_count": 5,
     "metadata": {},
     "output_type": "execute_result"
    }
   ],
   "source": [
    "df2 = pd.read_csv(\"C:/Users/NathanGrant/Programs/TripodsREU/scripts/TumorDecon/data/Simulation_data/Simulation_SNR100to5.csv\",index_col=\"Hugo_Symbol\")\n",
    "df2.head()"
   ]
  },
  {
   "cell_type": "markdown",
   "metadata": {},
   "source": [
    "Goal is to make a thing which looks at the hugo symnbol finds the index and puts the respective number there."
   ]
  },
  {
   "cell_type": "code",
   "execution_count": 6,
   "metadata": {},
   "outputs": [],
   "source": [
    "lm22 = td.read_lm22_file()"
   ]
  },
  {
   "cell_type": "code",
   "execution_count": 7,
   "metadata": {},
   "outputs": [
    {
     "data": {
      "text/html": [
       "<div>\n",
       "<style scoped>\n",
       "    .dataframe tbody tr th:only-of-type {\n",
       "        vertical-align: middle;\n",
       "    }\n",
       "\n",
       "    .dataframe tbody tr th {\n",
       "        vertical-align: top;\n",
       "    }\n",
       "\n",
       "    .dataframe thead th {\n",
       "        text-align: right;\n",
       "    }\n",
       "</style>\n",
       "<table border=\"1\" class=\"dataframe\">\n",
       "  <thead>\n",
       "    <tr style=\"text-align: right;\">\n",
       "      <th></th>\n",
       "      <th>B cells naive</th>\n",
       "      <th>B cells memory</th>\n",
       "      <th>Plasma cells</th>\n",
       "      <th>T cells CD8</th>\n",
       "      <th>T cells CD4 naive</th>\n",
       "      <th>T cells CD4 memory resting</th>\n",
       "      <th>T cells CD4 memory activated</th>\n",
       "      <th>T cells follicular helper</th>\n",
       "      <th>T cells regulatory (Tregs)</th>\n",
       "      <th>T cells gamma delta</th>\n",
       "      <th>...</th>\n",
       "      <th>Monocytes</th>\n",
       "      <th>Macrophages M0</th>\n",
       "      <th>Macrophages M1</th>\n",
       "      <th>Macrophages M2</th>\n",
       "      <th>Dendritic cells resting</th>\n",
       "      <th>Dendritic cells activated</th>\n",
       "      <th>Mast cells resting</th>\n",
       "      <th>Mast cells activated</th>\n",
       "      <th>Eosinophils</th>\n",
       "      <th>Neutrophils</th>\n",
       "    </tr>\n",
       "    <tr>\n",
       "      <th>Hugo_Symbol</th>\n",
       "      <th></th>\n",
       "      <th></th>\n",
       "      <th></th>\n",
       "      <th></th>\n",
       "      <th></th>\n",
       "      <th></th>\n",
       "      <th></th>\n",
       "      <th></th>\n",
       "      <th></th>\n",
       "      <th></th>\n",
       "      <th></th>\n",
       "      <th></th>\n",
       "      <th></th>\n",
       "      <th></th>\n",
       "      <th></th>\n",
       "      <th></th>\n",
       "      <th></th>\n",
       "      <th></th>\n",
       "      <th></th>\n",
       "      <th></th>\n",
       "      <th></th>\n",
       "    </tr>\n",
       "  </thead>\n",
       "  <tbody>\n",
       "    <tr>\n",
       "      <td>ABCB4</td>\n",
       "      <td>555.713449</td>\n",
       "      <td>10.744235</td>\n",
       "      <td>7.225819</td>\n",
       "      <td>4.311280</td>\n",
       "      <td>4.605860</td>\n",
       "      <td>7.406442</td>\n",
       "      <td>8.043976</td>\n",
       "      <td>6.469993</td>\n",
       "      <td>7.833082</td>\n",
       "      <td>9.312295</td>\n",
       "      <td>...</td>\n",
       "      <td>6.202496</td>\n",
       "      <td>7.951360</td>\n",
       "      <td>27.557710</td>\n",
       "      <td>121.432277</td>\n",
       "      <td>114.636747</td>\n",
       "      <td>4.872184</td>\n",
       "      <td>4.727985</td>\n",
       "      <td>34.113659</td>\n",
       "      <td>15.030530</td>\n",
       "      <td>14.906888</td>\n",
       "    </tr>\n",
       "    <tr>\n",
       "      <td>ABCB9</td>\n",
       "      <td>15.603544</td>\n",
       "      <td>22.094787</td>\n",
       "      <td>653.392328</td>\n",
       "      <td>24.223723</td>\n",
       "      <td>35.671507</td>\n",
       "      <td>30.048192</td>\n",
       "      <td>38.455423</td>\n",
       "      <td>17.604795</td>\n",
       "      <td>46.073657</td>\n",
       "      <td>19.715722</td>\n",
       "      <td>...</td>\n",
       "      <td>20.309426</td>\n",
       "      <td>56.251887</td>\n",
       "      <td>29.380878</td>\n",
       "      <td>40.390260</td>\n",
       "      <td>123.993305</td>\n",
       "      <td>23.384603</td>\n",
       "      <td>53.466757</td>\n",
       "      <td>23.615746</td>\n",
       "      <td>29.786442</td>\n",
       "      <td>33.679147</td>\n",
       "    </tr>\n",
       "    <tr>\n",
       "      <td>ACAP1</td>\n",
       "      <td>215.305951</td>\n",
       "      <td>321.621021</td>\n",
       "      <td>38.616872</td>\n",
       "      <td>1055.613378</td>\n",
       "      <td>1790.097170</td>\n",
       "      <td>922.152747</td>\n",
       "      <td>340.883424</td>\n",
       "      <td>1107.798265</td>\n",
       "      <td>1995.482601</td>\n",
       "      <td>280.075719</td>\n",
       "      <td>...</td>\n",
       "      <td>190.879024</td>\n",
       "      <td>48.972217</td>\n",
       "      <td>30.974254</td>\n",
       "      <td>23.055150</td>\n",
       "      <td>61.386550</td>\n",
       "      <td>26.412923</td>\n",
       "      <td>104.200198</td>\n",
       "      <td>73.607932</td>\n",
       "      <td>696.442802</td>\n",
       "      <td>596.025961</td>\n",
       "    </tr>\n",
       "    <tr>\n",
       "      <td>ACHE</td>\n",
       "      <td>15.117949</td>\n",
       "      <td>16.648847</td>\n",
       "      <td>22.123737</td>\n",
       "      <td>13.428288</td>\n",
       "      <td>27.187732</td>\n",
       "      <td>18.444927</td>\n",
       "      <td>13.441268</td>\n",
       "      <td>14.805542</td>\n",
       "      <td>24.652712</td>\n",
       "      <td>33.658448</td>\n",
       "      <td>...</td>\n",
       "      <td>16.375268</td>\n",
       "      <td>13.692963</td>\n",
       "      <td>1373.069620</td>\n",
       "      <td>48.585761</td>\n",
       "      <td>16.715474</td>\n",
       "      <td>193.159977</td>\n",
       "      <td>13.948778</td>\n",
       "      <td>20.501249</td>\n",
       "      <td>40.414927</td>\n",
       "      <td>22.766494</td>\n",
       "    </tr>\n",
       "    <tr>\n",
       "      <td>ACP5</td>\n",
       "      <td>605.897384</td>\n",
       "      <td>1935.201479</td>\n",
       "      <td>1120.104684</td>\n",
       "      <td>306.312519</td>\n",
       "      <td>744.656599</td>\n",
       "      <td>557.819820</td>\n",
       "      <td>248.546932</td>\n",
       "      <td>711.949744</td>\n",
       "      <td>958.916018</td>\n",
       "      <td>493.969120</td>\n",
       "      <td>...</td>\n",
       "      <td>512.931382</td>\n",
       "      <td>13644.172300</td>\n",
       "      <td>1062.475909</td>\n",
       "      <td>7633.960182</td>\n",
       "      <td>13825.053630</td>\n",
       "      <td>3989.865169</td>\n",
       "      <td>263.497930</td>\n",
       "      <td>323.381277</td>\n",
       "      <td>860.563374</td>\n",
       "      <td>307.142798</td>\n",
       "    </tr>\n",
       "  </tbody>\n",
       "</table>\n",
       "<p>5 rows × 22 columns</p>\n",
       "</div>"
      ],
      "text/plain": [
       "             B cells naive  B cells memory  Plasma cells  T cells CD8  \\\n",
       "Hugo_Symbol                                                             \n",
       "ABCB4           555.713449       10.744235      7.225819     4.311280   \n",
       "ABCB9            15.603544       22.094787    653.392328    24.223723   \n",
       "ACAP1           215.305951      321.621021     38.616872  1055.613378   \n",
       "ACHE             15.117949       16.648847     22.123737    13.428288   \n",
       "ACP5            605.897384     1935.201479   1120.104684   306.312519   \n",
       "\n",
       "             T cells CD4 naive  T cells CD4 memory resting  \\\n",
       "Hugo_Symbol                                                  \n",
       "ABCB4                 4.605860                    7.406442   \n",
       "ABCB9                35.671507                   30.048192   \n",
       "ACAP1              1790.097170                  922.152747   \n",
       "ACHE                 27.187732                   18.444927   \n",
       "ACP5                744.656599                  557.819820   \n",
       "\n",
       "             T cells CD4 memory activated  T cells follicular helper  \\\n",
       "Hugo_Symbol                                                            \n",
       "ABCB4                            8.043976                   6.469993   \n",
       "ABCB9                           38.455423                  17.604795   \n",
       "ACAP1                          340.883424                1107.798265   \n",
       "ACHE                            13.441268                  14.805542   \n",
       "ACP5                           248.546932                 711.949744   \n",
       "\n",
       "             T cells regulatory (Tregs)  T cells gamma delta  ...   Monocytes  \\\n",
       "Hugo_Symbol                                                   ...               \n",
       "ABCB4                          7.833082             9.312295  ...    6.202496   \n",
       "ABCB9                         46.073657            19.715722  ...   20.309426   \n",
       "ACAP1                       1995.482601           280.075719  ...  190.879024   \n",
       "ACHE                          24.652712            33.658448  ...   16.375268   \n",
       "ACP5                         958.916018           493.969120  ...  512.931382   \n",
       "\n",
       "             Macrophages M0  Macrophages M1  Macrophages M2  \\\n",
       "Hugo_Symbol                                                   \n",
       "ABCB4              7.951360       27.557710      121.432277   \n",
       "ABCB9             56.251887       29.380878       40.390260   \n",
       "ACAP1             48.972217       30.974254       23.055150   \n",
       "ACHE              13.692963     1373.069620       48.585761   \n",
       "ACP5           13644.172300     1062.475909     7633.960182   \n",
       "\n",
       "             Dendritic cells resting  Dendritic cells activated  \\\n",
       "Hugo_Symbol                                                       \n",
       "ABCB4                     114.636747                   4.872184   \n",
       "ABCB9                     123.993305                  23.384603   \n",
       "ACAP1                      61.386550                  26.412923   \n",
       "ACHE                       16.715474                 193.159977   \n",
       "ACP5                    13825.053630                3989.865169   \n",
       "\n",
       "             Mast cells resting  Mast cells activated  Eosinophils  \\\n",
       "Hugo_Symbol                                                          \n",
       "ABCB4                  4.727985             34.113659    15.030530   \n",
       "ABCB9                 53.466757             23.615746    29.786442   \n",
       "ACAP1                104.200198             73.607932   696.442802   \n",
       "ACHE                  13.948778             20.501249    40.414927   \n",
       "ACP5                 263.497930            323.381277   860.563374   \n",
       "\n",
       "             Neutrophils  \n",
       "Hugo_Symbol               \n",
       "ABCB4          14.906888  \n",
       "ABCB9          33.679147  \n",
       "ACAP1         596.025961  \n",
       "ACHE           22.766494  \n",
       "ACP5          307.142798  \n",
       "\n",
       "[5 rows x 22 columns]"
      ]
     },
     "execution_count": 7,
     "metadata": {},
     "output_type": "execute_result"
    }
   ],
   "source": [
    "lm22.head()"
   ]
  },
  {
   "cell_type": "markdown",
   "metadata": {},
   "source": [
    "### Normalize Data"
   ]
  },
  {
   "cell_type": "code",
   "execution_count": 8,
   "metadata": {},
   "outputs": [],
   "source": [
    "def encode_inputs(rna_df,sig_df):\n",
    "    df_temp = td.df_normalization(rna_df,\"minmax\")\n",
    "    rna_df_red ,sig_df_red = td.keep_common_genes(df_temp,sig_df)\n",
    "    df_temp = rna_df_red.T\n",
    "    return df_temp"
   ]
  },
  {
   "cell_type": "code",
   "execution_count": 9,
   "metadata": {},
   "outputs": [],
   "source": [
    "v = encode_inputs(df2,lm22)"
   ]
  },
  {
   "cell_type": "code",
   "execution_count": 10,
   "metadata": {},
   "outputs": [
    {
     "data": {
      "text/html": [
       "<div>\n",
       "<style scoped>\n",
       "    .dataframe tbody tr th:only-of-type {\n",
       "        vertical-align: middle;\n",
       "    }\n",
       "\n",
       "    .dataframe tbody tr th {\n",
       "        vertical-align: top;\n",
       "    }\n",
       "\n",
       "    .dataframe thead th {\n",
       "        text-align: right;\n",
       "    }\n",
       "</style>\n",
       "<table border=\"1\" class=\"dataframe\">\n",
       "  <thead>\n",
       "    <tr style=\"text-align: right;\">\n",
       "      <th>Hugo_Symbol</th>\n",
       "      <th>ABCB4</th>\n",
       "      <th>ABCB9</th>\n",
       "      <th>ACAP1</th>\n",
       "      <th>ACHE</th>\n",
       "      <th>ACP5</th>\n",
       "      <th>ADAM28</th>\n",
       "      <th>ADAMDEC1</th>\n",
       "      <th>ADAMTS3</th>\n",
       "      <th>ADRB2</th>\n",
       "      <th>AIF1</th>\n",
       "      <th>...</th>\n",
       "      <th>ZBTB10</th>\n",
       "      <th>ZBTB32</th>\n",
       "      <th>ZFP36L2</th>\n",
       "      <th>ZNF135</th>\n",
       "      <th>ZNF165</th>\n",
       "      <th>ZNF204P</th>\n",
       "      <th>ZNF222</th>\n",
       "      <th>ZNF286A</th>\n",
       "      <th>ZNF324</th>\n",
       "      <th>ZNF442</th>\n",
       "    </tr>\n",
       "  </thead>\n",
       "  <tbody>\n",
       "    <tr>\n",
       "      <td>0</td>\n",
       "      <td>0.000000</td>\n",
       "      <td>0.008741</td>\n",
       "      <td>0.018700</td>\n",
       "      <td>0.000000</td>\n",
       "      <td>0.065185</td>\n",
       "      <td>0.000000</td>\n",
       "      <td>0.024267</td>\n",
       "      <td>0.000192</td>\n",
       "      <td>0.026440</td>\n",
       "      <td>0.042060</td>\n",
       "      <td>...</td>\n",
       "      <td>0.000682</td>\n",
       "      <td>0.000000</td>\n",
       "      <td>0.028918</td>\n",
       "      <td>0.003554</td>\n",
       "      <td>0.013822</td>\n",
       "      <td>0.002950</td>\n",
       "      <td>0.000000</td>\n",
       "      <td>0.006116</td>\n",
       "      <td>0.001773</td>\n",
       "      <td>0.000000</td>\n",
       "    </tr>\n",
       "    <tr>\n",
       "      <td>1</td>\n",
       "      <td>0.004521</td>\n",
       "      <td>0.003642</td>\n",
       "      <td>0.001143</td>\n",
       "      <td>0.003527</td>\n",
       "      <td>0.062989</td>\n",
       "      <td>0.002774</td>\n",
       "      <td>0.028970</td>\n",
       "      <td>0.004364</td>\n",
       "      <td>0.033619</td>\n",
       "      <td>0.054960</td>\n",
       "      <td>...</td>\n",
       "      <td>0.011550</td>\n",
       "      <td>0.006813</td>\n",
       "      <td>0.026780</td>\n",
       "      <td>0.000017</td>\n",
       "      <td>0.018506</td>\n",
       "      <td>0.001911</td>\n",
       "      <td>0.000000</td>\n",
       "      <td>0.009289</td>\n",
       "      <td>0.000000</td>\n",
       "      <td>0.001291</td>\n",
       "    </tr>\n",
       "    <tr>\n",
       "      <td>2</td>\n",
       "      <td>0.001469</td>\n",
       "      <td>0.002809</td>\n",
       "      <td>0.017536</td>\n",
       "      <td>0.006876</td>\n",
       "      <td>0.085042</td>\n",
       "      <td>0.012947</td>\n",
       "      <td>0.042777</td>\n",
       "      <td>0.000000</td>\n",
       "      <td>0.016409</td>\n",
       "      <td>0.061512</td>\n",
       "      <td>...</td>\n",
       "      <td>0.014261</td>\n",
       "      <td>0.002745</td>\n",
       "      <td>0.027155</td>\n",
       "      <td>0.000000</td>\n",
       "      <td>0.007718</td>\n",
       "      <td>0.006188</td>\n",
       "      <td>0.000000</td>\n",
       "      <td>0.007140</td>\n",
       "      <td>0.000000</td>\n",
       "      <td>0.000000</td>\n",
       "    </tr>\n",
       "    <tr>\n",
       "      <td>3</td>\n",
       "      <td>0.000000</td>\n",
       "      <td>0.002050</td>\n",
       "      <td>0.014800</td>\n",
       "      <td>0.000000</td>\n",
       "      <td>0.066475</td>\n",
       "      <td>0.010734</td>\n",
       "      <td>0.018472</td>\n",
       "      <td>0.003992</td>\n",
       "      <td>0.025128</td>\n",
       "      <td>0.041730</td>\n",
       "      <td>...</td>\n",
       "      <td>0.005809</td>\n",
       "      <td>0.000000</td>\n",
       "      <td>0.025412</td>\n",
       "      <td>0.002140</td>\n",
       "      <td>0.007833</td>\n",
       "      <td>0.000000</td>\n",
       "      <td>0.010934</td>\n",
       "      <td>0.004291</td>\n",
       "      <td>0.000000</td>\n",
       "      <td>0.004756</td>\n",
       "    </tr>\n",
       "    <tr>\n",
       "      <td>4</td>\n",
       "      <td>0.003631</td>\n",
       "      <td>0.010059</td>\n",
       "      <td>0.011671</td>\n",
       "      <td>0.006006</td>\n",
       "      <td>0.067268</td>\n",
       "      <td>0.005653</td>\n",
       "      <td>0.031315</td>\n",
       "      <td>0.003654</td>\n",
       "      <td>0.032530</td>\n",
       "      <td>0.030658</td>\n",
       "      <td>...</td>\n",
       "      <td>0.004715</td>\n",
       "      <td>0.006292</td>\n",
       "      <td>0.024645</td>\n",
       "      <td>0.000000</td>\n",
       "      <td>0.006716</td>\n",
       "      <td>0.002526</td>\n",
       "      <td>0.000000</td>\n",
       "      <td>0.006413</td>\n",
       "      <td>0.002199</td>\n",
       "      <td>0.000000</td>\n",
       "    </tr>\n",
       "  </tbody>\n",
       "</table>\n",
       "<p>5 rows × 547 columns</p>\n",
       "</div>"
      ],
      "text/plain": [
       "Hugo_Symbol     ABCB4     ABCB9     ACAP1      ACHE      ACP5    ADAM28  \\\n",
       "0            0.000000  0.008741  0.018700  0.000000  0.065185  0.000000   \n",
       "1            0.004521  0.003642  0.001143  0.003527  0.062989  0.002774   \n",
       "2            0.001469  0.002809  0.017536  0.006876  0.085042  0.012947   \n",
       "3            0.000000  0.002050  0.014800  0.000000  0.066475  0.010734   \n",
       "4            0.003631  0.010059  0.011671  0.006006  0.067268  0.005653   \n",
       "\n",
       "Hugo_Symbol  ADAMDEC1   ADAMTS3     ADRB2      AIF1  ...    ZBTB10    ZBTB32  \\\n",
       "0            0.024267  0.000192  0.026440  0.042060  ...  0.000682  0.000000   \n",
       "1            0.028970  0.004364  0.033619  0.054960  ...  0.011550  0.006813   \n",
       "2            0.042777  0.000000  0.016409  0.061512  ...  0.014261  0.002745   \n",
       "3            0.018472  0.003992  0.025128  0.041730  ...  0.005809  0.000000   \n",
       "4            0.031315  0.003654  0.032530  0.030658  ...  0.004715  0.006292   \n",
       "\n",
       "Hugo_Symbol   ZFP36L2    ZNF135    ZNF165   ZNF204P    ZNF222   ZNF286A  \\\n",
       "0            0.028918  0.003554  0.013822  0.002950  0.000000  0.006116   \n",
       "1            0.026780  0.000017  0.018506  0.001911  0.000000  0.009289   \n",
       "2            0.027155  0.000000  0.007718  0.006188  0.000000  0.007140   \n",
       "3            0.025412  0.002140  0.007833  0.000000  0.010934  0.004291   \n",
       "4            0.024645  0.000000  0.006716  0.002526  0.000000  0.006413   \n",
       "\n",
       "Hugo_Symbol    ZNF324    ZNF442  \n",
       "0            0.001773  0.000000  \n",
       "1            0.000000  0.001291  \n",
       "2            0.000000  0.000000  \n",
       "3            0.000000  0.004756  \n",
       "4            0.002199  0.000000  \n",
       "\n",
       "[5 rows x 547 columns]"
      ]
     },
     "execution_count": 10,
     "metadata": {},
     "output_type": "execute_result"
    }
   ],
   "source": [
    "v.head()"
   ]
  },
  {
   "cell_type": "markdown",
   "metadata": {},
   "source": [
    "### Generate new data from ground truth data"
   ]
  },
  {
   "cell_type": "code",
   "execution_count": 11,
   "metadata": {},
   "outputs": [],
   "source": [
    "from sklearn.ensemble import IsolationForest\n",
    "def generate_data(num_samples, x_df, y_df,n_components=6):\n",
    "    temp_arr = np.empty([x_df.shape[0]-20,x_df.shape[1]+y_df.shape[1]])\n",
    "    x_df = x_df.values\n",
    "    y_df = y_df.values\n",
    "    for i in range(len(temp_arr)):\n",
    "        for j in range(len(temp_arr[1])):\n",
    "            if j < x_df.shape[1]:\n",
    "                temp_arr[i][j] = x_df[i][j]\n",
    "            else:\n",
    "                temp_arr[i][j] = y_df[i][j-x_df.shape[1]]\n",
    "\n",
    "    bgm = BayesianGaussianMixture(n_components=n_components)\n",
    "    bgm.fit(temp_arr)\n",
    "    clf = IsolationForest().fit(temp_arr)\n",
    "    samples = []\n",
    "    while len(samples) < num_samples:\n",
    "        sample = bgm.sample(num_samples-len(samples))[0]\n",
    "        outliers = clf.predict(sample)\n",
    "        for i in range(len(outliers)):\n",
    "            if outliers[i] == 1 or True:\n",
    "                samples.append(sample[i])\n",
    "            \n",
    "    samples = np.asarray(samples)\n",
    "    sampled_x = samples[:,:x_df.shape[1]]\n",
    "    sampled_y = samples[:,x_df.shape[1]:]\n",
    "    return sampled_x, sampled_y"
   ]
  },
  {
   "cell_type": "code",
   "execution_count": 12,
   "metadata": {},
   "outputs": [
    {
     "name": "stderr",
     "output_type": "stream",
     "text": [
      "C:\\ProgramData\\Anaconda3\\lib\\site-packages\\sklearn\\ensemble\\iforest.py:237: FutureWarning: default contamination parameter 0.1 will change in version 0.22 to \"auto\". This will change the predict method behavior.\n",
      "  FutureWarning)\n",
      "C:\\ProgramData\\Anaconda3\\lib\\site-packages\\sklearn\\ensemble\\iforest.py:247: FutureWarning: behaviour=\"old\" is deprecated and will be removed in version 0.22. Please use behaviour=\"new\", which makes the decision_function change to match other anomaly detection algorithm API.\n",
      "  FutureWarning)\n",
      "C:\\ProgramData\\Anaconda3\\lib\\site-packages\\sklearn\\ensemble\\iforest.py:415: DeprecationWarning: threshold_ attribute is deprecated in 0.20 and will be removed in 0.22.\n",
      "  \" be removed in 0.22.\", DeprecationWarning)\n"
     ]
    }
   ],
   "source": [
    "generated_x, generated_y = generate_data(100000, v, df,n_components=80)"
   ]
  },
  {
   "cell_type": "markdown",
   "metadata": {},
   "source": [
    "### NN Model"
   ]
  },
  {
   "cell_type": "code",
   "execution_count": 13,
   "metadata": {},
   "outputs": [],
   "source": [
    "model = tf.keras.Sequential(\n",
    "    [\n",
    "        tf.keras.layers.Input(shape=(547)),\n",
    "        tf.keras.layers.Dense(128,activation=\"relu\"),\n",
    "        tf.keras.layers.Dense(128,activation=\"relu\"),\n",
    "        tf.keras.layers.Dropout(0.2),\n",
    "        tf.keras.layers.Dense(22)\n",
    "    ]\n",
    ")\n",
    "model.compile(optimizer='adam',\n",
    "              loss='mae',\n",
    "              metrics=['mae','mape'])"
   ]
  },
  {
   "cell_type": "code",
   "execution_count": 14,
   "metadata": {},
   "outputs": [],
   "source": [
    "\n",
    "#X_train, X_test, y_train, y_test = train_test_split(v.values, df.values, test_size=0.2, random_state=42)"
   ]
  },
  {
   "cell_type": "code",
   "execution_count": 15,
   "metadata": {
    "scrolled": true
   },
   "outputs": [
    {
     "name": "stdout",
     "output_type": "stream",
     "text": [
      "Train on 100000 samples, validate on 20 samples\n",
      "Epoch 1/20\n",
      "100000/100000 [==============================] - 10s 104us/sample - loss: 0.0054 - mae: 0.0054 - mape: 13.2342 - val_loss: 0.0167 - val_mae: 0.0167 - val_mape: 176.8498\n",
      "Epoch 2/20\n",
      "100000/100000 [==============================] - 9s 94us/sample - loss: 0.0038 - mae: 0.0038 - mape: 9.3096 - val_loss: 0.0169 - val_mae: 0.0169 - val_mape: 171.8932\n",
      "Epoch 3/20\n",
      "100000/100000 [==============================] - 9s 92us/sample - loss: 0.0036 - mae: 0.0036 - mape: 8.9155 - val_loss: 0.0169 - val_mae: 0.0169 - val_mape: 176.5556\n",
      "Epoch 4/20\n",
      "100000/100000 [==============================] - 9s 91us/sample - loss: 0.0035 - mae: 0.0035 - mape: 8.7366 - val_loss: 0.0168 - val_mae: 0.0168 - val_mape: 168.2779\n",
      "Epoch 5/20\n",
      "100000/100000 [==============================] - 9s 92us/sample - loss: 0.0035 - mae: 0.0035 - mape: 8.5756 - val_loss: 0.0167 - val_mae: 0.0167 - val_mape: 170.7262\n",
      "Epoch 6/20\n",
      "100000/100000 [==============================] - 9s 91us/sample - loss: 0.0034 - mae: 0.0034 - mape: 8.4358 - val_loss: 0.0169 - val_mae: 0.0169 - val_mape: 172.1639\n",
      "Epoch 7/20\n",
      "100000/100000 [==============================] - 9s 91us/sample - loss: 0.0034 - mae: 0.0034 - mape: 8.3468 - val_loss: 0.0168 - val_mae: 0.0168 - val_mape: 173.7766\n",
      "Epoch 8/20\n",
      "100000/100000 [==============================] - 9s 94us/sample - loss: 0.0033 - mae: 0.0033 - mape: 8.2440 - val_loss: 0.0166 - val_mae: 0.0166 - val_mape: 177.9465\n",
      "Epoch 9/20\n",
      "100000/100000 [==============================] - 9s 92us/sample - loss: 0.0033 - mae: 0.0033 - mape: 8.1757 - val_loss: 0.0168 - val_mae: 0.0168 - val_mape: 174.9936\n",
      "Epoch 10/20\n",
      "100000/100000 [==============================] - 9s 93us/sample - loss: 0.0033 - mae: 0.0033 - mape: 8.0917 - val_loss: 0.0168 - val_mae: 0.0168 - val_mape: 176.9414\n",
      "Epoch 11/20\n",
      "100000/100000 [==============================] - 9s 90us/sample - loss: 0.0032 - mae: 0.0032 - mape: 8.0561 - val_loss: 0.0166 - val_mae: 0.0166 - val_mape: 170.7101\n",
      "Epoch 12/20\n",
      "100000/100000 [==============================] - 9s 91us/sample - loss: 0.0032 - mae: 0.0032 - mape: 7.9910 - val_loss: 0.0166 - val_mae: 0.0166 - val_mape: 178.3801\n",
      "Epoch 13/20\n",
      "100000/100000 [==============================] - 9s 88us/sample - loss: 0.0032 - mae: 0.0032 - mape: 7.9771 - val_loss: 0.0167 - val_mae: 0.0167 - val_mape: 178.2419\n",
      "Epoch 14/20\n",
      "100000/100000 [==============================] - 9s 91us/sample - loss: 0.0032 - mae: 0.0032 - mape: 7.9185 - val_loss: 0.0165 - val_mae: 0.0165 - val_mape: 173.5018\n",
      "Epoch 15/20\n",
      "100000/100000 [==============================] - 9s 92us/sample - loss: 0.0032 - mae: 0.0032 - mape: 7.8970 - val_loss: 0.0165 - val_mae: 0.0165 - val_mape: 173.8964\n",
      "Epoch 16/20\n",
      "100000/100000 [==============================] - 9s 93us/sample - loss: 0.0031 - mae: 0.0031 - mape: 7.8348 - val_loss: 0.0164 - val_mae: 0.0164 - val_mape: 171.1790\n",
      "Epoch 17/20\n",
      "100000/100000 [==============================] - 9s 91us/sample - loss: 0.0031 - mae: 0.0031 - mape: 7.7714 - val_loss: 0.0165 - val_mae: 0.0165 - val_mape: 173.5317\n",
      "Epoch 18/20\n",
      "100000/100000 [==============================] - 9s 94us/sample - loss: 0.0031 - mae: 0.0031 - mape: 7.7499 - val_loss: 0.0164 - val_mae: 0.0164 - val_mape: 172.3070\n",
      "Epoch 19/20\n",
      "100000/100000 [==============================] - 9s 92us/sample - loss: 0.0031 - mae: 0.0031 - mape: 7.7116 - val_loss: 0.0163 - val_mae: 0.0163 - val_mape: 171.7081\n",
      "Epoch 20/20\n",
      "100000/100000 [==============================] - 9s 92us/sample - loss: 0.0031 - mae: 0.0031 - mape: 7.7002 - val_loss: 0.0162 - val_mae: 0.0162 - val_mape: 175.6004\n"
     ]
    }
   ],
   "source": [
    "history = model.fit(generated_x, generated_y, epochs=20, \n",
    "                    validation_data=(v.values[-20:], df.values[-20:]))"
   ]
  },
  {
   "cell_type": "code",
   "execution_count": 16,
   "metadata": {},
   "outputs": [
    {
     "data": {
      "text/plain": [
       "Text(0, 0.5, 'Accuracy')"
      ]
     },
     "execution_count": 16,
     "metadata": {},
     "output_type": "execute_result"
    },
    {
     "data": {
      "image/png": "[encoded data removed]",
      "text/plain": [
       "<Figure size 432x288 with 1 Axes>"
      ]
     },
     "metadata": {
      "needs_background": "light"
     },
     "output_type": "display_data"
    }
   ],
   "source": [
    "plt.plot(history.history['mae'], label='root_mean_squared_error')    #blue\n",
    "plt.plot(history.history['val_mae'], label = 'val_root_mean_squared_error')     #orange\n",
    "plt.xlabel('Epoch')\n",
    "plt.ylabel('Accuracy')\n",
    "#plt.legend(loc='lower right')\n",
    "\n",
    "#test_loss, test_acc = model.evaluate(X_test,  y_test, verbose=2)"
   ]
  },
  {
   "cell_type": "code",
   "execution_count": 17,
   "metadata": {},
   "outputs": [
    {
     "data": {
      "text/plain": [
       "0.016234698"
      ]
     },
     "execution_count": 17,
     "metadata": {},
     "output_type": "execute_result"
    }
   ],
   "source": [
    "min(history.history['val_mae'])"
   ]
  },
  {
   "cell_type": "code",
   "execution_count": 18,
   "metadata": {},
   "outputs": [],
   "source": [
    "predictions = model.predict(v.values[-20:])"
   ]
  },
  {
   "cell_type": "markdown",
   "metadata": {},
   "source": [
    "### Run cibersort for comparison"
   ]
  },
  {
   "cell_type": "code",
   "execution_count": 19,
   "metadata": {},
   "outputs": [
    {
     "name": "stdout",
     "output_type": "stream",
     "text": [
      "Running CiberSort...\n"
     ]
    }
   ],
   "source": [
    "c_results = td.cibersort_main(lm22,v.T)\n",
    "c_results=c_results.T"
   ]
  },
  {
   "cell_type": "code",
   "execution_count": 22,
   "metadata": {},
   "outputs": [
    {
     "name": "stdout",
     "output_type": "stream",
     "text": [
      "NN MAE: 0.016234696400662243\n",
      "CIBERSORT MAE: 0.036199511590429785\n"
     ]
    }
   ],
   "source": [
    "print(\"NN MAE:\",mean_absolute_error(df.values[-20:],predictions))\n",
    "print(\"CIBERSORT MAE:\",mean_absolute_error(df.values[-20:],c_results.values[-20:]))"
   ]
  },
  {
   "cell_type": "code",
   "execution_count": 23,
   "metadata": {},
   "outputs": [
    {
     "data": {
      "text/html": [
       "<div>\n",
       "<style scoped>\n",
       "    .dataframe tbody tr th:only-of-type {\n",
       "        vertical-align: middle;\n",
       "    }\n",
       "\n",
       "    .dataframe tbody tr th {\n",
       "        vertical-align: top;\n",
       "    }\n",
       "\n",
       "    .dataframe thead th {\n",
       "        text-align: right;\n",
       "    }\n",
       "</style>\n",
       "<table border=\"1\" class=\"dataframe\">\n",
       "  <thead>\n",
       "    <tr style=\"text-align: right;\">\n",
       "      <th></th>\n",
       "      <th>B cells naive</th>\n",
       "      <th>B cells memory</th>\n",
       "      <th>Plasma cells</th>\n",
       "      <th>T cells CD8</th>\n",
       "      <th>T cells CD4 naive</th>\n",
       "      <th>T cells CD4 memory resting</th>\n",
       "      <th>T cells CD4 memory activated</th>\n",
       "      <th>T cells follicular helper</th>\n",
       "      <th>T cells regulatory (Tregs)</th>\n",
       "      <th>T cells gamma delta</th>\n",
       "      <th>...</th>\n",
       "      <th>Monocytes</th>\n",
       "      <th>Macrophages M0</th>\n",
       "      <th>Macrophages M1</th>\n",
       "      <th>Macrophages M2</th>\n",
       "      <th>Dendritic cells resting</th>\n",
       "      <th>Dendritic cells activated</th>\n",
       "      <th>Mast cells resting</th>\n",
       "      <th>Mast cells activated</th>\n",
       "      <th>Eosinophils</th>\n",
       "      <th>Neutrophils</th>\n",
       "    </tr>\n",
       "  </thead>\n",
       "  <tbody>\n",
       "    <tr>\n",
       "      <td>0</td>\n",
       "      <td>0.061537</td>\n",
       "      <td>0.029059</td>\n",
       "      <td>0.072425</td>\n",
       "      <td>0.056827</td>\n",
       "      <td>0.028442</td>\n",
       "      <td>0.039231</td>\n",
       "      <td>0.059412</td>\n",
       "      <td>0.049213</td>\n",
       "      <td>0.038379</td>\n",
       "      <td>0.042503</td>\n",
       "      <td>...</td>\n",
       "      <td>0.049403</td>\n",
       "      <td>0.037171</td>\n",
       "      <td>0.039433</td>\n",
       "      <td>0.057987</td>\n",
       "      <td>0.061606</td>\n",
       "      <td>0.048674</td>\n",
       "      <td>0.032414</td>\n",
       "      <td>0.033645</td>\n",
       "      <td>0.039019</td>\n",
       "      <td>0.060699</td>\n",
       "    </tr>\n",
       "    <tr>\n",
       "      <td>1</td>\n",
       "      <td>0.047001</td>\n",
       "      <td>0.040696</td>\n",
       "      <td>0.028417</td>\n",
       "      <td>0.050123</td>\n",
       "      <td>0.047586</td>\n",
       "      <td>0.059507</td>\n",
       "      <td>0.046501</td>\n",
       "      <td>0.056975</td>\n",
       "      <td>0.057645</td>\n",
       "      <td>0.043581</td>\n",
       "      <td>...</td>\n",
       "      <td>0.048753</td>\n",
       "      <td>0.050402</td>\n",
       "      <td>0.026283</td>\n",
       "      <td>0.050317</td>\n",
       "      <td>0.050590</td>\n",
       "      <td>0.033431</td>\n",
       "      <td>0.030303</td>\n",
       "      <td>0.059191</td>\n",
       "      <td>0.039881</td>\n",
       "      <td>0.058544</td>\n",
       "    </tr>\n",
       "    <tr>\n",
       "      <td>2</td>\n",
       "      <td>0.045547</td>\n",
       "      <td>0.051965</td>\n",
       "      <td>0.028198</td>\n",
       "      <td>0.032042</td>\n",
       "      <td>0.055389</td>\n",
       "      <td>0.030362</td>\n",
       "      <td>0.025086</td>\n",
       "      <td>0.045900</td>\n",
       "      <td>0.042396</td>\n",
       "      <td>0.046049</td>\n",
       "      <td>...</td>\n",
       "      <td>0.051004</td>\n",
       "      <td>0.037177</td>\n",
       "      <td>0.037857</td>\n",
       "      <td>0.053964</td>\n",
       "      <td>0.058240</td>\n",
       "      <td>0.064473</td>\n",
       "      <td>0.056684</td>\n",
       "      <td>0.038393</td>\n",
       "      <td>0.041310</td>\n",
       "      <td>0.052078</td>\n",
       "    </tr>\n",
       "    <tr>\n",
       "      <td>3</td>\n",
       "      <td>0.045034</td>\n",
       "      <td>0.037833</td>\n",
       "      <td>0.033677</td>\n",
       "      <td>0.060382</td>\n",
       "      <td>0.047127</td>\n",
       "      <td>0.033322</td>\n",
       "      <td>0.029941</td>\n",
       "      <td>0.043791</td>\n",
       "      <td>0.055844</td>\n",
       "      <td>0.051504</td>\n",
       "      <td>...</td>\n",
       "      <td>0.050283</td>\n",
       "      <td>0.034636</td>\n",
       "      <td>0.049187</td>\n",
       "      <td>0.043191</td>\n",
       "      <td>0.035817</td>\n",
       "      <td>0.056924</td>\n",
       "      <td>0.042826</td>\n",
       "      <td>0.033041</td>\n",
       "      <td>0.057096</td>\n",
       "      <td>0.063003</td>\n",
       "    </tr>\n",
       "    <tr>\n",
       "      <td>4</td>\n",
       "      <td>0.030950</td>\n",
       "      <td>0.041977</td>\n",
       "      <td>0.035315</td>\n",
       "      <td>0.026077</td>\n",
       "      <td>0.056177</td>\n",
       "      <td>0.047118</td>\n",
       "      <td>0.031885</td>\n",
       "      <td>0.034521</td>\n",
       "      <td>0.042855</td>\n",
       "      <td>0.041896</td>\n",
       "      <td>...</td>\n",
       "      <td>0.029299</td>\n",
       "      <td>0.057479</td>\n",
       "      <td>0.049619</td>\n",
       "      <td>0.065704</td>\n",
       "      <td>0.050574</td>\n",
       "      <td>0.053882</td>\n",
       "      <td>0.062364</td>\n",
       "      <td>0.050765</td>\n",
       "      <td>0.053995</td>\n",
       "      <td>0.048440</td>\n",
       "    </tr>\n",
       "  </tbody>\n",
       "</table>\n",
       "<p>5 rows × 22 columns</p>\n",
       "</div>"
      ],
      "text/plain": [
       "   B cells naive  B cells memory  Plasma cells  T cells CD8  \\\n",
       "0       0.061537        0.029059      0.072425     0.056827   \n",
       "1       0.047001        0.040696      0.028417     0.050123   \n",
       "2       0.045547        0.051965      0.028198     0.032042   \n",
       "3       0.045034        0.037833      0.033677     0.060382   \n",
       "4       0.030950        0.041977      0.035315     0.026077   \n",
       "\n",
       "   T cells CD4 naive  T cells CD4 memory resting  \\\n",
       "0           0.028442                    0.039231   \n",
       "1           0.047586                    0.059507   \n",
       "2           0.055389                    0.030362   \n",
       "3           0.047127                    0.033322   \n",
       "4           0.056177                    0.047118   \n",
       "\n",
       "   T cells CD4 memory activated  T cells follicular helper  \\\n",
       "0                      0.059412                   0.049213   \n",
       "1                      0.046501                   0.056975   \n",
       "2                      0.025086                   0.045900   \n",
       "3                      0.029941                   0.043791   \n",
       "4                      0.031885                   0.034521   \n",
       "\n",
       "   T cells regulatory (Tregs)  T cells gamma delta  ...  Monocytes  \\\n",
       "0                    0.038379             0.042503  ...   0.049403   \n",
       "1                    0.057645             0.043581  ...   0.048753   \n",
       "2                    0.042396             0.046049  ...   0.051004   \n",
       "3                    0.055844             0.051504  ...   0.050283   \n",
       "4                    0.042855             0.041896  ...   0.029299   \n",
       "\n",
       "   Macrophages M0  Macrophages M1  Macrophages M2  Dendritic cells resting  \\\n",
       "0        0.037171        0.039433        0.057987                 0.061606   \n",
       "1        0.050402        0.026283        0.050317                 0.050590   \n",
       "2        0.037177        0.037857        0.053964                 0.058240   \n",
       "3        0.034636        0.049187        0.043191                 0.035817   \n",
       "4        0.057479        0.049619        0.065704                 0.050574   \n",
       "\n",
       "   Dendritic cells activated  Mast cells resting  Mast cells activated  \\\n",
       "0                   0.048674            0.032414              0.033645   \n",
       "1                   0.033431            0.030303              0.059191   \n",
       "2                   0.064473            0.056684              0.038393   \n",
       "3                   0.056924            0.042826              0.033041   \n",
       "4                   0.053882            0.062364              0.050765   \n",
       "\n",
       "   Eosinophils  Neutrophils  \n",
       "0     0.039019     0.060699  \n",
       "1     0.039881     0.058544  \n",
       "2     0.041310     0.052078  \n",
       "3     0.057096     0.063003  \n",
       "4     0.053995     0.048440  \n",
       "\n",
       "[5 rows x 22 columns]"
      ]
     },
     "execution_count": 23,
     "metadata": {},
     "output_type": "execute_result"
    }
   ],
   "source": [
    "nn_results = pd.DataFrame(data=predictions,columns=c_results.columns)\n",
    "nn_results.head()"
   ]
  },
  {
   "cell_type": "markdown",
   "metadata": {},
   "source": [
    "### Make plots for comparison"
   ]
  },
  {
   "cell_type": "code",
   "execution_count": 24,
   "metadata": {},
   "outputs": [
    {
     "name": "stderr",
     "output_type": "stream",
     "text": [
      "C:\\Users\\NathanGrant\\Programs\\TripodsREU\\scripts\\TumorDecon\\visualization.py:36: SettingWithCopyWarning: \n",
      "A value is trying to be set on a copy of a slice from a DataFrame.\n",
      "Try using .loc[row_indexer,col_indexer] = value instead\n",
      "\n",
      "See the caveats in the documentation: http://pandas.pydata.org/pandas-docs/stable/user_guide/indexing.html#returning-a-view-versus-a-copy\n",
      "  df[df<0]=0\n",
      "C:\\ProgramData\\Anaconda3\\lib\\site-packages\\pandas\\core\\frame.py:3515: SettingWithCopyWarning: \n",
      "A value is trying to be set on a copy of a slice from a DataFrame\n",
      "\n",
      "See the caveats in the documentation: http://pandas.pydata.org/pandas-docs/stable/user_guide/indexing.html#returning-a-view-versus-a-copy\n",
      "  self._where(-key, value, inplace=True)\n"
     ]
    },
    {
     "data": {
      "image/png": "[encoded data removed]",
      "text/plain": [
       "<Figure size 1080x504 with 1 Axes>"
      ]
     },
     "metadata": {},
     "output_type": "display_data"
    }
   ],
   "source": [
    "td.cell_frequency_barchart(c_results[-20:])"
   ]
  },
  {
   "cell_type": "code",
   "execution_count": 25,
   "metadata": {},
   "outputs": [
    {
     "data": {
      "image/png": "[encoded data removed]",
      "text/plain": [
       "<Figure size 1080x504 with 1 Axes>"
      ]
     },
     "metadata": {},
     "output_type": "display_data"
    }
   ],
   "source": [
    "td.cell_frequency_barchart(nn_results)"
   ]
  },
  {
   "cell_type": "code",
   "execution_count": 26,
   "metadata": {},
   "outputs": [
    {
     "data": {
      "image/png": "[encoded data removed]",
      "text/plain": [
       "<Figure size 1080x504 with 1 Axes>"
      ]
     },
     "metadata": {},
     "output_type": "display_data"
    }
   ],
   "source": [
    "df.columns =c_results.columns\n",
    "df.head()\n",
    "td.cell_frequency_barchart(df.iloc[-20:])"
   ]
  },
  {
   "cell_type": "markdown",
   "metadata": {},
   "source": [
    "### Find correlation between methods and ground truth"
   ]
  },
  {
   "cell_type": "code",
   "execution_count": 27,
   "metadata": {},
   "outputs": [],
   "source": [
    "from scipy.stats import pearsonr\n",
    "def compute_mean_cell_p_correlation(ground_truth,predicted):\n",
    "    x=[]\n",
    "    y=[]\n",
    "    avg_sample = []\n",
    "    for i in range(len(ground_truth)):\n",
    "        avg_sample.append(pearsonr(ground_truth[i],predicted[i]))\n",
    "    avg_cell_correlation = []\n",
    "    for i in range(len(ground_truth[0])):\n",
    "        avg_cell_correlation.append(pearsonr(ground_truth[:,i],predicted[:,i]))\n",
    "    return np.mean(avg_sample),np.mean(avg_cell_correlation)"
   ]
  },
  {
   "cell_type": "code",
   "execution_count": 28,
   "metadata": {},
   "outputs": [],
   "source": [
    "df_comb = td.combine_celltypes(df)\n",
    "nn_results_comb = td.combine_celltypes(nn_results)\n",
    "c_results_comb = td.combine_celltypes(c_results)"
   ]
  },
  {
   "cell_type": "code",
   "execution_count": 29,
   "metadata": {},
   "outputs": [
    {
     "data": {
      "text/plain": [
       "(0.4655045225560531, 0.4094070320149182)"
      ]
     },
     "execution_count": 29,
     "metadata": {},
     "output_type": "execute_result"
    }
   ],
   "source": [
    "compute_mean_cell_p_correlation(df_comb.iloc[-20:].values,nn_results_comb.values)"
   ]
  },
  {
   "cell_type": "code",
   "execution_count": 30,
   "metadata": {},
   "outputs": [
    {
     "data": {
      "text/plain": [
       "(0.3729943992546055, 0.3792319455435584)"
      ]
     },
     "execution_count": 30,
     "metadata": {},
     "output_type": "execute_result"
    }
   ],
   "source": [
    "compute_mean_cell_p_correlation(df_comb.iloc[-20:].values,c_results_comb.iloc[-20:].values)"
   ]
  },
  {
   "cell_type": "markdown",
   "metadata": {},
   "source": [
    "### Make plots for data"
   ]
  },
  {
   "cell_type": "code",
   "execution_count": 31,
   "metadata": {},
   "outputs": [
    {
     "data": {
      "text/plain": [
       "0.933627793738503"
      ]
     },
     "execution_count": 31,
     "metadata": {},
     "output_type": "execute_result"
    },
    {
     "data": {
      "image/png": "[encoded data removed]",
      "text/plain": [
       "<Figure size 1080x504 with 1 Axes>"
      ]
     },
     "metadata": {},
     "output_type": "display_data"
    }
   ],
   "source": [
    "from sklearn.linear_model import LinearRegression\n",
    "lin = LinearRegression().fit(nn_results_comb.values.flatten().reshape(-1, 1),df_comb.iloc[-20:].values.flatten().reshape(-1, 1))\n",
    "plt.scatter(nn_results_comb.values.flatten().reshape(-1, 1),lin.predict(nn_results_comb.values.flatten().reshape(-1, 1)))\n",
    "plt.scatter(nn_results_comb.values,df_comb.iloc[-20:].values)\n",
    "lin.score(nn_results_comb.values.flatten().reshape(-1, 1),df_comb.iloc[-20:].values.flatten().reshape(-1, 1))**.5"
   ]
  },
  {
   "cell_type": "code",
   "execution_count": 32,
   "metadata": {},
   "outputs": [
    {
     "data": {
      "text/plain": [
       "0.7086814215247145"
      ]
     },
     "execution_count": 32,
     "metadata": {},
     "output_type": "execute_result"
    },
    {
     "data": {
      "image/png": "[encoded data removed]",
      "text/plain": [
       "<Figure size 1080x504 with 1 Axes>"
      ]
     },
     "metadata": {},
     "output_type": "display_data"
    }
   ],
   "source": [
    "lin = LinearRegression().fit(c_results_comb.iloc[-20:].values.flatten().reshape(-1, 1),df_comb.iloc[-20:].values.flatten().reshape(-1, 1))\n",
    "plt.scatter(c_results_comb.iloc[-20:].values.flatten().reshape(-1, 1),lin.predict(c_results_comb.iloc[-20:].values.flatten().reshape(-1, 1)))\n",
    "plt.scatter(c_results_comb.iloc[-20:].values,df_comb.iloc[-20:].values)\n",
    "lin.score(c_results_comb.iloc[-20:].values.flatten().reshape(-1, 1),df_comb.iloc[-20:].values.flatten().reshape(-1, 1))**.5"
   ]
  },
  {
   "cell_type": "markdown",
   "metadata": {},
   "source": [
    "## Test on CIBERSORT ground truth data"
   ]
  },
  {
   "cell_type": "code",
   "execution_count": 56,
   "metadata": {},
   "outputs": [
    {
     "data": {
      "text/html": [
       "<div>\n",
       "<style scoped>\n",
       "    .dataframe tbody tr th:only-of-type {\n",
       "        vertical-align: middle;\n",
       "    }\n",
       "\n",
       "    .dataframe tbody tr th {\n",
       "        vertical-align: top;\n",
       "    }\n",
       "\n",
       "    .dataframe thead th {\n",
       "        text-align: right;\n",
       "    }\n",
       "</style>\n",
       "<table border=\"1\" class=\"dataframe\">\n",
       "  <thead>\n",
       "    <tr style=\"text-align: right;\">\n",
       "      <th></th>\n",
       "      <th>Mix1</th>\n",
       "      <th>Mix2</th>\n",
       "      <th>Mix3</th>\n",
       "      <th>Mix4</th>\n",
       "      <th>Mix5</th>\n",
       "    </tr>\n",
       "    <tr>\n",
       "      <th>Hugo_Symbol</th>\n",
       "      <th></th>\n",
       "      <th></th>\n",
       "      <th></th>\n",
       "      <th></th>\n",
       "      <th></th>\n",
       "    </tr>\n",
       "  </thead>\n",
       "  <tbody>\n",
       "    <tr>\n",
       "      <td>A1CF</td>\n",
       "      <td>317.722091</td>\n",
       "      <td>293.341077</td>\n",
       "      <td>217.299844</td>\n",
       "      <td>324.780988</td>\n",
       "      <td>249.629992</td>\n",
       "    </tr>\n",
       "    <tr>\n",
       "      <td>A2M</td>\n",
       "      <td>151.455508</td>\n",
       "      <td>530.830854</td>\n",
       "      <td>837.158282</td>\n",
       "      <td>692.726721</td>\n",
       "      <td>2510.675378</td>\n",
       "    </tr>\n",
       "    <tr>\n",
       "      <td>A4GALT</td>\n",
       "      <td>73.512724</td>\n",
       "      <td>92.717987</td>\n",
       "      <td>64.725953</td>\n",
       "      <td>71.602486</td>\n",
       "      <td>81.679389</td>\n",
       "    </tr>\n",
       "    <tr>\n",
       "      <td>A4GNT</td>\n",
       "      <td>288.295490</td>\n",
       "      <td>259.639816</td>\n",
       "      <td>158.096971</td>\n",
       "      <td>282.407327</td>\n",
       "      <td>197.121171</td>\n",
       "    </tr>\n",
       "    <tr>\n",
       "      <td>AAAS</td>\n",
       "      <td>108.864797</td>\n",
       "      <td>106.834378</td>\n",
       "      <td>103.505401</td>\n",
       "      <td>50.651212</td>\n",
       "      <td>65.309679</td>\n",
       "    </tr>\n",
       "  </tbody>\n",
       "</table>\n",
       "</div>"
      ],
      "text/plain": [
       "                   Mix1        Mix2        Mix3        Mix4         Mix5\n",
       "Hugo_Symbol                                                             \n",
       "A1CF         317.722091  293.341077  217.299844  324.780988   249.629992\n",
       "A2M          151.455508  530.830854  837.158282  692.726721  2510.675378\n",
       "A4GALT        73.512724   92.717987   64.725953   71.602486    81.679389\n",
       "A4GNT        288.295490  259.639816  158.096971  282.407327   197.121171\n",
       "AAAS         108.864797  106.834378  103.505401   50.651212    65.309679"
      ]
     },
     "execution_count": 56,
     "metadata": {},
     "output_type": "execute_result"
    }
   ],
   "source": [
    "cibersort_gep = pd.read_csv(\"C:/Users/NathanGrant/Programs/TripodsREU/data/ExampleMixtures-GEPs.txt\",delimiter=\"\\t\",index_col=\"Hugo_Symbol\")\n",
    "cibersort_gep.head()"
   ]
  },
  {
   "cell_type": "code",
   "execution_count": 57,
   "metadata": {},
   "outputs": [
    {
     "data": {
      "text/html": [
       "<div>\n",
       "<style scoped>\n",
       "    .dataframe tbody tr th:only-of-type {\n",
       "        vertical-align: middle;\n",
       "    }\n",
       "\n",
       "    .dataframe tbody tr th {\n",
       "        vertical-align: top;\n",
       "    }\n",
       "\n",
       "    .dataframe thead th {\n",
       "        text-align: right;\n",
       "    }\n",
       "</style>\n",
       "<table border=\"1\" class=\"dataframe\">\n",
       "  <thead>\n",
       "    <tr style=\"text-align: right;\">\n",
       "      <th></th>\n",
       "      <th>B cells naive</th>\n",
       "      <th>B cells memory</th>\n",
       "      <th>Plasma cells</th>\n",
       "      <th>T cells CD8</th>\n",
       "      <th>T cells CD4 naive</th>\n",
       "      <th>T cells CD4 memory resting</th>\n",
       "      <th>T cells CD4 memory activated</th>\n",
       "      <th>T cells follicular helper</th>\n",
       "      <th>T cells regulatory (Tregs)</th>\n",
       "      <th>T cells gamma delta</th>\n",
       "      <th>...</th>\n",
       "      <th>Monocytes</th>\n",
       "      <th>Macrophages M0</th>\n",
       "      <th>Macrophages M1</th>\n",
       "      <th>Macrophages M2</th>\n",
       "      <th>Dendritic cells resting</th>\n",
       "      <th>Dendritic cells activated</th>\n",
       "      <th>Mast cells resting</th>\n",
       "      <th>Mast cells activated</th>\n",
       "      <th>Eosinophils</th>\n",
       "      <th>Neutrophils</th>\n",
       "    </tr>\n",
       "  </thead>\n",
       "  <tbody>\n",
       "    <tr>\n",
       "      <td>0</td>\n",
       "      <td>0.18</td>\n",
       "      <td>0.16</td>\n",
       "      <td>0.13</td>\n",
       "      <td>0.11</td>\n",
       "      <td>0.09</td>\n",
       "      <td>0.07</td>\n",
       "      <td>0.06</td>\n",
       "      <td>0.05</td>\n",
       "      <td>0.04</td>\n",
       "      <td>0.03</td>\n",
       "      <td>...</td>\n",
       "      <td>0.01</td>\n",
       "      <td>0.01</td>\n",
       "      <td>0.01</td>\n",
       "      <td>0.01</td>\n",
       "      <td>0.00</td>\n",
       "      <td>0.00</td>\n",
       "      <td>0.00</td>\n",
       "      <td>0.00</td>\n",
       "      <td>0.00</td>\n",
       "      <td>0.00</td>\n",
       "    </tr>\n",
       "    <tr>\n",
       "      <td>1</td>\n",
       "      <td>0.20</td>\n",
       "      <td>0.00</td>\n",
       "      <td>0.19</td>\n",
       "      <td>0.00</td>\n",
       "      <td>0.18</td>\n",
       "      <td>0.00</td>\n",
       "      <td>0.10</td>\n",
       "      <td>0.00</td>\n",
       "      <td>0.09</td>\n",
       "      <td>0.00</td>\n",
       "      <td>...</td>\n",
       "      <td>0.05</td>\n",
       "      <td>0.00</td>\n",
       "      <td>0.04</td>\n",
       "      <td>0.00</td>\n",
       "      <td>0.04</td>\n",
       "      <td>0.00</td>\n",
       "      <td>0.02</td>\n",
       "      <td>0.00</td>\n",
       "      <td>0.02</td>\n",
       "      <td>0.00</td>\n",
       "    </tr>\n",
       "    <tr>\n",
       "      <td>2</td>\n",
       "      <td>0.00</td>\n",
       "      <td>0.00</td>\n",
       "      <td>0.01</td>\n",
       "      <td>0.01</td>\n",
       "      <td>0.01</td>\n",
       "      <td>0.02</td>\n",
       "      <td>0.03</td>\n",
       "      <td>0.05</td>\n",
       "      <td>0.07</td>\n",
       "      <td>0.11</td>\n",
       "      <td>...</td>\n",
       "      <td>0.11</td>\n",
       "      <td>0.07</td>\n",
       "      <td>0.05</td>\n",
       "      <td>0.03</td>\n",
       "      <td>0.02</td>\n",
       "      <td>0.01</td>\n",
       "      <td>0.01</td>\n",
       "      <td>0.01</td>\n",
       "      <td>0.00</td>\n",
       "      <td>0.00</td>\n",
       "    </tr>\n",
       "    <tr>\n",
       "      <td>3</td>\n",
       "      <td>0.17</td>\n",
       "      <td>0.12</td>\n",
       "      <td>0.08</td>\n",
       "      <td>0.06</td>\n",
       "      <td>0.03</td>\n",
       "      <td>0.02</td>\n",
       "      <td>0.01</td>\n",
       "      <td>0.00</td>\n",
       "      <td>0.00</td>\n",
       "      <td>0.00</td>\n",
       "      <td>...</td>\n",
       "      <td>0.00</td>\n",
       "      <td>0.00</td>\n",
       "      <td>0.00</td>\n",
       "      <td>0.01</td>\n",
       "      <td>0.02</td>\n",
       "      <td>0.03</td>\n",
       "      <td>0.06</td>\n",
       "      <td>0.08</td>\n",
       "      <td>0.12</td>\n",
       "      <td>0.17</td>\n",
       "    </tr>\n",
       "    <tr>\n",
       "      <td>4</td>\n",
       "      <td>0.00</td>\n",
       "      <td>0.00</td>\n",
       "      <td>0.00</td>\n",
       "      <td>0.00</td>\n",
       "      <td>0.00</td>\n",
       "      <td>0.00</td>\n",
       "      <td>0.00</td>\n",
       "      <td>0.01</td>\n",
       "      <td>0.03</td>\n",
       "      <td>0.04</td>\n",
       "      <td>...</td>\n",
       "      <td>0.02</td>\n",
       "      <td>0.04</td>\n",
       "      <td>0.09</td>\n",
       "      <td>0.11</td>\n",
       "      <td>0.08</td>\n",
       "      <td>0.05</td>\n",
       "      <td>0.04</td>\n",
       "      <td>0.07</td>\n",
       "      <td>0.14</td>\n",
       "      <td>0.20</td>\n",
       "    </tr>\n",
       "  </tbody>\n",
       "</table>\n",
       "<p>5 rows × 22 columns</p>\n",
       "</div>"
      ],
      "text/plain": [
       "   B cells naive  B cells memory  Plasma cells  T cells CD8  \\\n",
       "0           0.18            0.16          0.13         0.11   \n",
       "1           0.20            0.00          0.19         0.00   \n",
       "2           0.00            0.00          0.01         0.01   \n",
       "3           0.17            0.12          0.08         0.06   \n",
       "4           0.00            0.00          0.00         0.00   \n",
       "\n",
       "   T cells CD4 naive  T cells CD4 memory resting  \\\n",
       "0               0.09                        0.07   \n",
       "1               0.18                        0.00   \n",
       "2               0.01                        0.02   \n",
       "3               0.03                        0.02   \n",
       "4               0.00                        0.00   \n",
       "\n",
       "   T cells CD4 memory activated  T cells follicular helper  \\\n",
       "0                          0.06                       0.05   \n",
       "1                          0.10                       0.00   \n",
       "2                          0.03                       0.05   \n",
       "3                          0.01                       0.00   \n",
       "4                          0.00                       0.01   \n",
       "\n",
       "   T cells regulatory (Tregs)  T cells gamma delta  ...  Monocytes  \\\n",
       "0                        0.04                 0.03  ...       0.01   \n",
       "1                        0.09                 0.00  ...       0.05   \n",
       "2                        0.07                 0.11  ...       0.11   \n",
       "3                        0.00                 0.00  ...       0.00   \n",
       "4                        0.03                 0.04  ...       0.02   \n",
       "\n",
       "   Macrophages M0  Macrophages M1  Macrophages M2  Dendritic cells resting  \\\n",
       "0            0.01            0.01            0.01                     0.00   \n",
       "1            0.00            0.04            0.00                     0.04   \n",
       "2            0.07            0.05            0.03                     0.02   \n",
       "3            0.00            0.00            0.01                     0.02   \n",
       "4            0.04            0.09            0.11                     0.08   \n",
       "\n",
       "   Dendritic cells activated  Mast cells resting  Mast cells activated  \\\n",
       "0                       0.00                0.00                  0.00   \n",
       "1                       0.00                0.02                  0.00   \n",
       "2                       0.01                0.01                  0.01   \n",
       "3                       0.03                0.06                  0.08   \n",
       "4                       0.05                0.04                  0.07   \n",
       "\n",
       "   Eosinophils  Neutrophils  \n",
       "0         0.00         0.00  \n",
       "1         0.02         0.00  \n",
       "2         0.00         0.00  \n",
       "3         0.12         0.17  \n",
       "4         0.14         0.20  \n",
       "\n",
       "[5 rows x 22 columns]"
      ]
     },
     "execution_count": 57,
     "metadata": {},
     "output_type": "execute_result"
    }
   ],
   "source": [
    "cibersort_ground_truth = pd.read_csv(\"C:/Users/NathanGrant/Programs/TripodsREU/data/ExampleMixtures-GroundTruth.txt\",delimiter=\"\\t\",header=None)\n",
    "cibersort_ground_truth.columns = nn_results.columns\n",
    "cibersort_ground_truth.head()"
   ]
  },
  {
   "cell_type": "code",
   "execution_count": 60,
   "metadata": {},
   "outputs": [
    {
     "data": {
      "text/plain": [
       "(5, 547)"
      ]
     },
     "execution_count": 60,
     "metadata": {},
     "output_type": "execute_result"
    }
   ],
   "source": [
    "c_normalized = encode_inputs(cibersort_gep,lm22)\n",
    "c_normalized.shape"
   ]
  },
  {
   "cell_type": "code",
   "execution_count": 66,
   "metadata": {},
   "outputs": [
    {
     "name": "stdout",
     "output_type": "stream",
     "text": [
      "Running CiberSort...\n"
     ]
    }
   ],
   "source": [
    "predictions_2 = pd.DataFrame(data=model.predict(c_normalized.values),columns=c_results.columns)\n",
    "cibersort_pred = td.cibersort_main(lm22,c_normalized.T)"
   ]
  },
  {
   "cell_type": "markdown",
   "metadata": {},
   "source": [
    "## Compare Plots"
   ]
  },
  {
   "cell_type": "code",
   "execution_count": 67,
   "metadata": {},
   "outputs": [
    {
     "data": {
      "image/png": "[encoded data removed]",
      "text/plain": [
       "<Figure size 1080x504 with 1 Axes>"
      ]
     },
     "metadata": {},
     "output_type": "display_data"
    }
   ],
   "source": [
    "td.cell_frequency_barchart(cibersort_ground_truth)"
   ]
  },
  {
   "cell_type": "code",
   "execution_count": 68,
   "metadata": {},
   "outputs": [
    {
     "data": {
      "image/png": "[encoded data removed]",
      "text/plain": [
       "<Figure size 1080x504 with 1 Axes>"
      ]
     },
     "metadata": {},
     "output_type": "display_data"
    }
   ],
   "source": [
    "td.cell_frequency_barchart(predictions_2)"
   ]
  },
  {
   "cell_type": "code",
   "execution_count": 70,
   "metadata": {},
   "outputs": [
    {
     "data": {
      "image/png": "[encoded data removed]",
      "text/plain": [
       "<Figure size 1080x504 with 1 Axes>"
      ]
     },
     "metadata": {},
     "output_type": "display_data"
    }
   ],
   "source": [
    "td.cell_frequency_barchart(cibersort_pred.T)"
   ]
  },
  {
   "cell_type": "code",
   "execution_count": 71,
   "metadata": {},
   "outputs": [
    {
     "data": {
      "text/plain": [
       "(0.39480503401797246, 0.4605105292353808)"
      ]
     },
     "execution_count": 71,
     "metadata": {},
     "output_type": "execute_result"
    }
   ],
   "source": [
    "compute_mean_cell_p_correlation(cibersort_ground_truth.values,predictions_2.values)"
   ]
  },
  {
   "cell_type": "code",
   "execution_count": 73,
   "metadata": {},
   "outputs": [
    {
     "data": {
      "text/plain": [
       "(0.28166496861922957, 0.43127513907838094)"
      ]
     },
     "execution_count": 73,
     "metadata": {},
     "output_type": "execute_result"
    }
   ],
   "source": [
    "compute_mean_cell_p_correlation(cibersort_ground_truth.values,cibersort_pred.T.values)"
   ]
  },
  {
   "cell_type": "markdown",
   "metadata": {},
   "source": [
    "## Make Correlation Plots"
   ]
  },
  {
   "cell_type": "code",
   "execution_count": 82,
   "metadata": {},
   "outputs": [
    {
     "data": {
      "text/plain": [
       "0.7785946051652849"
      ]
     },
     "execution_count": 82,
     "metadata": {},
     "output_type": "execute_result"
    },
    {
     "data": {
      "image/png": "[encoded data removed]",
      "text/plain": [
       "<Figure size 1080x504 with 1 Axes>"
      ]
     },
     "metadata": {},
     "output_type": "display_data"
    }
   ],
   "source": [
    "from sklearn.linear_model import LinearRegression\n",
    "lin = LinearRegression().fit(cibersort_ground_truth.values.flatten().reshape(-1, 1),predictions_2.values.flatten().reshape(-1, 1))\n",
    "plt.scatter(cibersort_ground_truth.values.flatten().reshape(-1, 1),lin.predict(cibersort_ground_truth.values.flatten().reshape(-1, 1)))\n",
    "plt.scatter(cibersort_ground_truth.values,predictions_2.values)\n",
    "lin.score(cibersort_ground_truth.values.flatten().reshape(-1, 1),predictions_2.values.flatten().reshape(-1, 1))**.5"
   ]
  },
  {
   "cell_type": "code",
   "execution_count": 83,
   "metadata": {},
   "outputs": [
    {
     "data": {
      "text/plain": [
       "0.5031232728971158"
      ]
     },
     "execution_count": 83,
     "metadata": {},
     "output_type": "execute_result"
    },
    {
     "data": {
      "image/png": "[encoded data removed]",
      "text/plain": [
       "<Figure size 1080x504 with 1 Axes>"
      ]
     },
     "metadata": {},
     "output_type": "display_data"
    }
   ],
   "source": [
    "lin = LinearRegression().fit(cibersort_ground_truth.values.flatten().reshape(-1, 1),cibersort_pred.T.values.flatten().reshape(-1, 1))\n",
    "plt.scatter(cibersort_ground_truth.values.flatten().reshape(-1, 1),lin.predict(cibersort_ground_truth.values.flatten().reshape(-1, 1)))\n",
    "plt.scatter(cibersort_ground_truth.values,cibersort_pred.T.values)\n",
    "lin.score(cibersort_ground_truth.values.flatten().reshape(-1, 1),cibersort_pred.T.values.flatten().reshape(-1, 1))**.5"
   ]
  },
  {
   "cell_type": "code",
   "execution_count": 86,
   "metadata": {},
   "outputs": [
    {
     "name": "stdout",
     "output_type": "stream",
     "text": [
      "NN MAE: 0.03014007861709053\n",
      "CIBERSORT MAE: 0.1824686514949728\n"
     ]
    }
   ],
   "source": [
    "print(\"NN MAE:\",mean_absolute_error(cibersort_ground_truth.values,predictions_2.values))\n",
    "print(\"CIBERSORT MAE:\",mean_absolute_error(cibersort_ground_truth.values,cibersort_pred.T.values))"
   ]
  },
  {
   "cell_type": "code",
   "execution_count": null,
   "metadata": {},
   "outputs": [],
   "source": []
  }
 ],
 "metadata": {
  "kernelspec": {
   "display_name": "Python 3",
   "language": "python",
   "name": "python3"
  },
  "language_info": {
   "codemirror_mode": {
    "name": "ipython",
    "version": 3
   },
   "file_extension": ".py",
   "mimetype": "text/x-python",
   "name": "python",
   "nbconvert_exporter": "python",
   "pygments_lexer": "ipython3",
   "version": "3.7.4"
  }
 },
 "nbformat": 4,
 "nbformat_minor": 2
}
