{
 "cells": [
  {
   "cell_type": "markdown",
   "metadata": {},
   "source": [
    "### See if you can use neural nets to perform regression like cibersort\n",
    "Simulate a bunch of RNA data and train a model on it to see if it performs well on deconvolution tasks.\n",
    "Right now all I can do is generate new samples from existing data and train it on them.\n",
    "\n",
    "So first what I have to do is reduce the datas dimensionality sufficently so that a large portion of the variance is explained. Then I will fit it to a GMM and generate points. As of right now i have to use the predictions made from cibersort which isnt exactly what I wanted to do but we dont have ground truth data so it wouild be hard to do it any other way."
   ]
  },
  {
   "cell_type": "markdown",
   "metadata": {},
   "source": [
    "### Imports"
   ]
  },
  {
   "cell_type": "code",
   "execution_count": 2,
   "metadata": {},
   "outputs": [],
   "source": [
    "import pandas as pd\n",
    "import numpy as np\n",
    "import tensorflow as tf\n",
    "import TumorDecon as td\n",
    "from sklearn.model_selection import train_test_split\n",
    "import matplotlib.pyplot as plt\n",
    "from sklearn.mixture import BayesianGaussianMixture\n",
    "from sklearn.metrics import mean_absolute_error"
   ]
  },
  {
   "cell_type": "markdown",
   "metadata": {},
   "source": [
    "### To be made into class for nn_decomposition"
   ]
  },
  {
   "cell_type": "code",
   "execution_count": 3,
   "metadata": {},
   "outputs": [],
   "source": [
    "def nate_sort(rna_sample, sig_df, nu=0.5, C=1.0, kernel='linear', shrinking=True):\n",
    "    import numpy as np\n",
    "    from sklearn.model_selection import GridSearchCV\n",
    "\n",
    "    # If a numerical of nu not explicitly specified, use gridsearch to find the best nu:\n",
    "    if nu == 'best':\n",
    "        \n",
    "        gridsearch = GridSearchCV(MLPRegressor(solver=\"lbfgs\"), cv=5, param_grid={\"learning_rate_init\":[.001,.005,.01,.02,.1]}, scoring='neg_mean_squared_error', refit=True, iid=False)\n",
    "        gridsearch.fit(sig_df, rna_sample)\n",
    "        lr = gridsearch.best_params_['learning_rate_init']\n",
    "        \n",
    "\n",
    "    # Fit nuSVR with best (or specified) value of nu:\n",
    "    clf = MLPRegressor(solver=\"lbfgs\", learning_rate_init=lr)\n",
    "    clf.fit(sig_df, rna_sample)\n",
    "\n",
    "    # Replace negative \"frequencies\" with 0:\n",
    "    weights = np.array(clf.coef_)[0] # equivalent to np.matmul(np.array(clf.dual_coef_), np.array(clf.support_vectors_))[0]\n",
    "    weights[weights<0] = 0\n",
    "    # Sum to 1 contraint:\n",
    "    weights = weights / np.sum(weights)\n",
    "\n",
    "    return weights\n",
    "def nate_sort_main(rna_df, sig_df, patient_IDs='ALL', args={}):\n",
    "    for patient in patient_list:\n",
    "        if patient in rna_df.columns:\n",
    "            cell_freqs_df[patient] = cibersort(rna_df[patient], sig_df, nu=nu, C=C, kernel=kernel, shrinking=shrinking)\n",
    "        else:\n",
    "            raise ValueError(\"patient_ID ({!r}) not present in rna dataframe\".format(patient))\n",
    "            return\n",
    "    cell_freqs_df = cell_freqs_df.transpose()\n",
    "    return cell_freqs_df"
   ]
  },
  {
   "cell_type": "markdown",
   "metadata": {},
   "source": [
    "### Read Data"
   ]
  },
  {
   "cell_type": "code",
   "execution_count": 4,
   "metadata": {},
   "outputs": [
    {
     "data": {
      "text/html": [
       "<div>\n",
       "<style scoped>\n",
       "    .dataframe tbody tr th:only-of-type {\n",
       "        vertical-align: middle;\n",
       "    }\n",
       "\n",
       "    .dataframe tbody tr th {\n",
       "        vertical-align: top;\n",
       "    }\n",
       "\n",
       "    .dataframe thead th {\n",
       "        text-align: right;\n",
       "    }\n",
       "</style>\n",
       "<table border=\"1\" class=\"dataframe\">\n",
       "  <thead>\n",
       "    <tr style=\"text-align: right;\">\n",
       "      <th></th>\n",
       "      <th>0</th>\n",
       "      <th>1</th>\n",
       "      <th>2</th>\n",
       "      <th>3</th>\n",
       "      <th>4</th>\n",
       "      <th>5</th>\n",
       "      <th>6</th>\n",
       "      <th>7</th>\n",
       "      <th>8</th>\n",
       "      <th>9</th>\n",
       "      <th>...</th>\n",
       "      <th>12</th>\n",
       "      <th>13</th>\n",
       "      <th>14</th>\n",
       "      <th>15</th>\n",
       "      <th>16</th>\n",
       "      <th>17</th>\n",
       "      <th>18</th>\n",
       "      <th>19</th>\n",
       "      <th>20</th>\n",
       "      <th>21</th>\n",
       "    </tr>\n",
       "    <tr>\n",
       "      <th>Patient</th>\n",
       "      <th></th>\n",
       "      <th></th>\n",
       "      <th></th>\n",
       "      <th></th>\n",
       "      <th></th>\n",
       "      <th></th>\n",
       "      <th></th>\n",
       "      <th></th>\n",
       "      <th></th>\n",
       "      <th></th>\n",
       "      <th></th>\n",
       "      <th></th>\n",
       "      <th></th>\n",
       "      <th></th>\n",
       "      <th></th>\n",
       "      <th></th>\n",
       "      <th></th>\n",
       "      <th></th>\n",
       "      <th></th>\n",
       "      <th></th>\n",
       "      <th></th>\n",
       "    </tr>\n",
       "  </thead>\n",
       "  <tbody>\n",
       "    <tr>\n",
       "      <td>0</td>\n",
       "      <td>0.041987</td>\n",
       "      <td>0.029400</td>\n",
       "      <td>0.058375</td>\n",
       "      <td>0.065183</td>\n",
       "      <td>0.011434</td>\n",
       "      <td>0.054252</td>\n",
       "      <td>0.051492</td>\n",
       "      <td>0.050393</td>\n",
       "      <td>0.019502</td>\n",
       "      <td>0.050503</td>\n",
       "      <td>...</td>\n",
       "      <td>0.055866</td>\n",
       "      <td>0.048454</td>\n",
       "      <td>0.014117</td>\n",
       "      <td>0.028026</td>\n",
       "      <td>0.063896</td>\n",
       "      <td>0.054038</td>\n",
       "      <td>0.057907</td>\n",
       "      <td>0.041855</td>\n",
       "      <td>0.064365</td>\n",
       "      <td>0.034044</td>\n",
       "    </tr>\n",
       "    <tr>\n",
       "      <td>1</td>\n",
       "      <td>0.029913</td>\n",
       "      <td>0.048027</td>\n",
       "      <td>0.008742</td>\n",
       "      <td>0.062388</td>\n",
       "      <td>0.021600</td>\n",
       "      <td>0.041344</td>\n",
       "      <td>0.019164</td>\n",
       "      <td>0.062305</td>\n",
       "      <td>0.065441</td>\n",
       "      <td>0.043912</td>\n",
       "      <td>...</td>\n",
       "      <td>0.078530</td>\n",
       "      <td>0.023266</td>\n",
       "      <td>0.084164</td>\n",
       "      <td>0.035252</td>\n",
       "      <td>0.071408</td>\n",
       "      <td>0.001722</td>\n",
       "      <td>0.065863</td>\n",
       "      <td>0.019781</td>\n",
       "      <td>0.084790</td>\n",
       "      <td>0.037326</td>\n",
       "    </tr>\n",
       "    <tr>\n",
       "      <td>2</td>\n",
       "      <td>0.060445</td>\n",
       "      <td>0.002421</td>\n",
       "      <td>0.016912</td>\n",
       "      <td>0.079836</td>\n",
       "      <td>0.073710</td>\n",
       "      <td>0.002900</td>\n",
       "      <td>0.041895</td>\n",
       "      <td>0.037881</td>\n",
       "      <td>0.080806</td>\n",
       "      <td>0.042998</td>\n",
       "      <td>...</td>\n",
       "      <td>0.015474</td>\n",
       "      <td>0.066772</td>\n",
       "      <td>0.047766</td>\n",
       "      <td>0.087620</td>\n",
       "      <td>0.043304</td>\n",
       "      <td>0.087087</td>\n",
       "      <td>0.009160</td>\n",
       "      <td>0.013183</td>\n",
       "      <td>0.049630</td>\n",
       "      <td>0.066232</td>\n",
       "    </tr>\n",
       "    <tr>\n",
       "      <td>3</td>\n",
       "      <td>0.062324</td>\n",
       "      <td>0.057795</td>\n",
       "      <td>0.021215</td>\n",
       "      <td>0.018881</td>\n",
       "      <td>0.108848</td>\n",
       "      <td>0.030902</td>\n",
       "      <td>0.038093</td>\n",
       "      <td>0.073227</td>\n",
       "      <td>0.104172</td>\n",
       "      <td>0.040704</td>\n",
       "      <td>...</td>\n",
       "      <td>0.016990</td>\n",
       "      <td>0.021771</td>\n",
       "      <td>0.021409</td>\n",
       "      <td>0.055658</td>\n",
       "      <td>0.071423</td>\n",
       "      <td>0.047555</td>\n",
       "      <td>0.048253</td>\n",
       "      <td>0.046857</td>\n",
       "      <td>0.039450</td>\n",
       "      <td>0.000802</td>\n",
       "    </tr>\n",
       "    <tr>\n",
       "      <td>4</td>\n",
       "      <td>0.023462</td>\n",
       "      <td>0.067551</td>\n",
       "      <td>0.033406</td>\n",
       "      <td>0.079458</td>\n",
       "      <td>0.038118</td>\n",
       "      <td>0.005731</td>\n",
       "      <td>0.055723</td>\n",
       "      <td>0.046567</td>\n",
       "      <td>0.057377</td>\n",
       "      <td>0.077398</td>\n",
       "      <td>...</td>\n",
       "      <td>0.011191</td>\n",
       "      <td>0.054797</td>\n",
       "      <td>0.052404</td>\n",
       "      <td>0.009651</td>\n",
       "      <td>0.081185</td>\n",
       "      <td>0.035069</td>\n",
       "      <td>0.074087</td>\n",
       "      <td>0.056898</td>\n",
       "      <td>0.040362</td>\n",
       "      <td>0.001412</td>\n",
       "    </tr>\n",
       "  </tbody>\n",
       "</table>\n",
       "<p>5 rows × 22 columns</p>\n",
       "</div>"
      ],
      "text/plain": [
       "                0         1         2         3         4         5         6  \\\n",
       "Patient                                                                         \n",
       "0        0.041987  0.029400  0.058375  0.065183  0.011434  0.054252  0.051492   \n",
       "1        0.029913  0.048027  0.008742  0.062388  0.021600  0.041344  0.019164   \n",
       "2        0.060445  0.002421  0.016912  0.079836  0.073710  0.002900  0.041895   \n",
       "3        0.062324  0.057795  0.021215  0.018881  0.108848  0.030902  0.038093   \n",
       "4        0.023462  0.067551  0.033406  0.079458  0.038118  0.005731  0.055723   \n",
       "\n",
       "                7         8         9  ...        12        13        14  \\\n",
       "Patient                                ...                                 \n",
       "0        0.050393  0.019502  0.050503  ...  0.055866  0.048454  0.014117   \n",
       "1        0.062305  0.065441  0.043912  ...  0.078530  0.023266  0.084164   \n",
       "2        0.037881  0.080806  0.042998  ...  0.015474  0.066772  0.047766   \n",
       "3        0.073227  0.104172  0.040704  ...  0.016990  0.021771  0.021409   \n",
       "4        0.046567  0.057377  0.077398  ...  0.011191  0.054797  0.052404   \n",
       "\n",
       "               15        16        17        18        19        20        21  \n",
       "Patient                                                                        \n",
       "0        0.028026  0.063896  0.054038  0.057907  0.041855  0.064365  0.034044  \n",
       "1        0.035252  0.071408  0.001722  0.065863  0.019781  0.084790  0.037326  \n",
       "2        0.087620  0.043304  0.087087  0.009160  0.013183  0.049630  0.066232  \n",
       "3        0.055658  0.071423  0.047555  0.048253  0.046857  0.039450  0.000802  \n",
       "4        0.009651  0.081185  0.035069  0.074087  0.056898  0.040362  0.001412  \n",
       "\n",
       "[5 rows x 22 columns]"
      ]
     },
     "execution_count": 4,
     "metadata": {},
     "output_type": "execute_result"
    }
   ],
   "source": [
    "df = pd.read_csv(\"C:/Users/NathanGrant/Programs/TripodsREU/scripts/TumorDecon/data/Simulation_data/Simulation_mixture.csv\",index_col=\"Patient\")\n",
    "df.head()"
   ]
  },
  {
   "cell_type": "code",
   "execution_count": 332,
   "metadata": {},
   "outputs": [
    {
     "data": {
      "text/html": [
       "<div>\n",
       "<style scoped>\n",
       "    .dataframe tbody tr th:only-of-type {\n",
       "        vertical-align: middle;\n",
       "    }\n",
       "\n",
       "    .dataframe tbody tr th {\n",
       "        vertical-align: top;\n",
       "    }\n",
       "\n",
       "    .dataframe thead th {\n",
       "        text-align: right;\n",
       "    }\n",
       "</style>\n",
       "<table border=\"1\" class=\"dataframe\">\n",
       "  <thead>\n",
       "    <tr style=\"text-align: right;\">\n",
       "      <th></th>\n",
       "      <th>0</th>\n",
       "      <th>1</th>\n",
       "      <th>2</th>\n",
       "      <th>3</th>\n",
       "      <th>4</th>\n",
       "      <th>5</th>\n",
       "      <th>6</th>\n",
       "      <th>7</th>\n",
       "      <th>8</th>\n",
       "      <th>9</th>\n",
       "      <th>...</th>\n",
       "      <th>90</th>\n",
       "      <th>91</th>\n",
       "      <th>92</th>\n",
       "      <th>93</th>\n",
       "      <th>94</th>\n",
       "      <th>95</th>\n",
       "      <th>96</th>\n",
       "      <th>97</th>\n",
       "      <th>98</th>\n",
       "      <th>99</th>\n",
       "    </tr>\n",
       "    <tr>\n",
       "      <th>Hugo_Symbol</th>\n",
       "      <th></th>\n",
       "      <th></th>\n",
       "      <th></th>\n",
       "      <th></th>\n",
       "      <th></th>\n",
       "      <th></th>\n",
       "      <th></th>\n",
       "      <th></th>\n",
       "      <th></th>\n",
       "      <th></th>\n",
       "      <th></th>\n",
       "      <th></th>\n",
       "      <th></th>\n",
       "      <th></th>\n",
       "      <th></th>\n",
       "      <th></th>\n",
       "      <th></th>\n",
       "      <th></th>\n",
       "      <th></th>\n",
       "      <th></th>\n",
       "      <th></th>\n",
       "    </tr>\n",
       "  </thead>\n",
       "  <tbody>\n",
       "    <tr>\n",
       "      <td>A1CF</td>\n",
       "      <td>0.000000</td>\n",
       "      <td>892.965620</td>\n",
       "      <td>0.000000</td>\n",
       "      <td>0.000000</td>\n",
       "      <td>140.254551</td>\n",
       "      <td>31.388433</td>\n",
       "      <td>388.188200</td>\n",
       "      <td>513.205451</td>\n",
       "      <td>0.000000</td>\n",
       "      <td>60.984927</td>\n",
       "      <td>...</td>\n",
       "      <td>55.241826</td>\n",
       "      <td>0.000000</td>\n",
       "      <td>328.269053</td>\n",
       "      <td>0.000000</td>\n",
       "      <td>335.402806</td>\n",
       "      <td>0.000000</td>\n",
       "      <td>0.000000</td>\n",
       "      <td>60.995818</td>\n",
       "      <td>0.000000</td>\n",
       "      <td>9.193265</td>\n",
       "    </tr>\n",
       "    <tr>\n",
       "      <td>A2M</td>\n",
       "      <td>1709.682881</td>\n",
       "      <td>1291.292027</td>\n",
       "      <td>1959.586116</td>\n",
       "      <td>2092.703274</td>\n",
       "      <td>1384.762990</td>\n",
       "      <td>474.510868</td>\n",
       "      <td>916.179936</td>\n",
       "      <td>1342.087505</td>\n",
       "      <td>1621.588074</td>\n",
       "      <td>1623.044783</td>\n",
       "      <td>...</td>\n",
       "      <td>2223.915278</td>\n",
       "      <td>1936.409760</td>\n",
       "      <td>1573.835219</td>\n",
       "      <td>1323.244140</td>\n",
       "      <td>941.884191</td>\n",
       "      <td>2105.521975</td>\n",
       "      <td>2111.254665</td>\n",
       "      <td>1465.874298</td>\n",
       "      <td>1981.895831</td>\n",
       "      <td>0.000000</td>\n",
       "    </tr>\n",
       "    <tr>\n",
       "      <td>A4GALT</td>\n",
       "      <td>0.000000</td>\n",
       "      <td>0.000000</td>\n",
       "      <td>631.484443</td>\n",
       "      <td>0.000000</td>\n",
       "      <td>142.669122</td>\n",
       "      <td>217.856280</td>\n",
       "      <td>0.000000</td>\n",
       "      <td>0.000000</td>\n",
       "      <td>0.000000</td>\n",
       "      <td>291.965697</td>\n",
       "      <td>...</td>\n",
       "      <td>0.000000</td>\n",
       "      <td>64.310350</td>\n",
       "      <td>120.975001</td>\n",
       "      <td>348.239797</td>\n",
       "      <td>471.478614</td>\n",
       "      <td>208.681227</td>\n",
       "      <td>293.554843</td>\n",
       "      <td>248.566524</td>\n",
       "      <td>597.763624</td>\n",
       "      <td>0.000000</td>\n",
       "    </tr>\n",
       "    <tr>\n",
       "      <td>A4GNT</td>\n",
       "      <td>611.973353</td>\n",
       "      <td>377.161834</td>\n",
       "      <td>0.000000</td>\n",
       "      <td>207.563540</td>\n",
       "      <td>737.459358</td>\n",
       "      <td>500.367377</td>\n",
       "      <td>450.095129</td>\n",
       "      <td>0.000000</td>\n",
       "      <td>171.946069</td>\n",
       "      <td>0.000000</td>\n",
       "      <td>...</td>\n",
       "      <td>641.815917</td>\n",
       "      <td>148.440804</td>\n",
       "      <td>0.000000</td>\n",
       "      <td>562.031106</td>\n",
       "      <td>0.000000</td>\n",
       "      <td>208.880473</td>\n",
       "      <td>0.000000</td>\n",
       "      <td>891.782746</td>\n",
       "      <td>0.000000</td>\n",
       "      <td>0.000000</td>\n",
       "    </tr>\n",
       "    <tr>\n",
       "      <td>AAAS</td>\n",
       "      <td>0.000000</td>\n",
       "      <td>495.916924</td>\n",
       "      <td>207.867586</td>\n",
       "      <td>478.529626</td>\n",
       "      <td>383.956677</td>\n",
       "      <td>103.082947</td>\n",
       "      <td>0.000000</td>\n",
       "      <td>0.000000</td>\n",
       "      <td>0.000000</td>\n",
       "      <td>447.727558</td>\n",
       "      <td>...</td>\n",
       "      <td>158.866570</td>\n",
       "      <td>0.000000</td>\n",
       "      <td>330.727452</td>\n",
       "      <td>386.820777</td>\n",
       "      <td>0.000000</td>\n",
       "      <td>163.271536</td>\n",
       "      <td>365.412962</td>\n",
       "      <td>395.719088</td>\n",
       "      <td>0.000000</td>\n",
       "      <td>113.811791</td>\n",
       "    </tr>\n",
       "  </tbody>\n",
       "</table>\n",
       "<p>5 rows × 100 columns</p>\n",
       "</div>"
      ],
      "text/plain": [
       "                       0            1            2            3            4  \\\n",
       "Hugo_Symbol                                                                    \n",
       "A1CF            0.000000   892.965620     0.000000     0.000000   140.254551   \n",
       "A2M          1709.682881  1291.292027  1959.586116  2092.703274  1384.762990   \n",
       "A4GALT          0.000000     0.000000   631.484443     0.000000   142.669122   \n",
       "A4GNT         611.973353   377.161834     0.000000   207.563540   737.459358   \n",
       "AAAS            0.000000   495.916924   207.867586   478.529626   383.956677   \n",
       "\n",
       "                      5           6            7            8            9  \\\n",
       "Hugo_Symbol                                                                  \n",
       "A1CF          31.388433  388.188200   513.205451     0.000000    60.984927   \n",
       "A2M          474.510868  916.179936  1342.087505  1621.588074  1623.044783   \n",
       "A4GALT       217.856280    0.000000     0.000000     0.000000   291.965697   \n",
       "A4GNT        500.367377  450.095129     0.000000   171.946069     0.000000   \n",
       "AAAS         103.082947    0.000000     0.000000     0.000000   447.727558   \n",
       "\n",
       "             ...           90           91           92           93  \\\n",
       "Hugo_Symbol  ...                                                       \n",
       "A1CF         ...    55.241826     0.000000   328.269053     0.000000   \n",
       "A2M          ...  2223.915278  1936.409760  1573.835219  1323.244140   \n",
       "A4GALT       ...     0.000000    64.310350   120.975001   348.239797   \n",
       "A4GNT        ...   641.815917   148.440804     0.000000   562.031106   \n",
       "AAAS         ...   158.866570     0.000000   330.727452   386.820777   \n",
       "\n",
       "                     94           95           96           97           98  \\\n",
       "Hugo_Symbol                                                                   \n",
       "A1CF         335.402806     0.000000     0.000000    60.995818     0.000000   \n",
       "A2M          941.884191  2105.521975  2111.254665  1465.874298  1981.895831   \n",
       "A4GALT       471.478614   208.681227   293.554843   248.566524   597.763624   \n",
       "A4GNT          0.000000   208.880473     0.000000   891.782746     0.000000   \n",
       "AAAS           0.000000   163.271536   365.412962   395.719088     0.000000   \n",
       "\n",
       "                     99  \n",
       "Hugo_Symbol              \n",
       "A1CF           9.193265  \n",
       "A2M            0.000000  \n",
       "A4GALT         0.000000  \n",
       "A4GNT          0.000000  \n",
       "AAAS         113.811791  \n",
       "\n",
       "[5 rows x 100 columns]"
      ]
     },
     "execution_count": 332,
     "metadata": {},
     "output_type": "execute_result"
    }
   ],
   "source": [
    "df2 = pd.read_csv(\"C:/Users/NathanGrant/Programs/TripodsREU/scripts/TumorDecon/data/Simulation_data/Simulation_SNR100to25.csv\",index_col=\"Hugo_Symbol\")\n",
    "df2.head()"
   ]
  },
  {
   "cell_type": "markdown",
   "metadata": {},
   "source": [
    "Goal is to make a thing which looks at the hugo symnbol finds the index and puts the respective number there."
   ]
  },
  {
   "cell_type": "code",
   "execution_count": 333,
   "metadata": {},
   "outputs": [],
   "source": [
    "lm22 = td.read_lm22_file()"
   ]
  },
  {
   "cell_type": "code",
   "execution_count": 334,
   "metadata": {},
   "outputs": [
    {
     "data": {
      "text/html": [
       "<div>\n",
       "<style scoped>\n",
       "    .dataframe tbody tr th:only-of-type {\n",
       "        vertical-align: middle;\n",
       "    }\n",
       "\n",
       "    .dataframe tbody tr th {\n",
       "        vertical-align: top;\n",
       "    }\n",
       "\n",
       "    .dataframe thead th {\n",
       "        text-align: right;\n",
       "    }\n",
       "</style>\n",
       "<table border=\"1\" class=\"dataframe\">\n",
       "  <thead>\n",
       "    <tr style=\"text-align: right;\">\n",
       "      <th></th>\n",
       "      <th>B cells naive</th>\n",
       "      <th>B cells memory</th>\n",
       "      <th>Plasma cells</th>\n",
       "      <th>T cells CD8</th>\n",
       "      <th>T cells CD4 naive</th>\n",
       "      <th>T cells CD4 memory resting</th>\n",
       "      <th>T cells CD4 memory activated</th>\n",
       "      <th>T cells follicular helper</th>\n",
       "      <th>T cells regulatory (Tregs)</th>\n",
       "      <th>T cells gamma delta</th>\n",
       "      <th>...</th>\n",
       "      <th>Monocytes</th>\n",
       "      <th>Macrophages M0</th>\n",
       "      <th>Macrophages M1</th>\n",
       "      <th>Macrophages M2</th>\n",
       "      <th>Dendritic cells resting</th>\n",
       "      <th>Dendritic cells activated</th>\n",
       "      <th>Mast cells resting</th>\n",
       "      <th>Mast cells activated</th>\n",
       "      <th>Eosinophils</th>\n",
       "      <th>Neutrophils</th>\n",
       "    </tr>\n",
       "    <tr>\n",
       "      <th>Hugo_Symbol</th>\n",
       "      <th></th>\n",
       "      <th></th>\n",
       "      <th></th>\n",
       "      <th></th>\n",
       "      <th></th>\n",
       "      <th></th>\n",
       "      <th></th>\n",
       "      <th></th>\n",
       "      <th></th>\n",
       "      <th></th>\n",
       "      <th></th>\n",
       "      <th></th>\n",
       "      <th></th>\n",
       "      <th></th>\n",
       "      <th></th>\n",
       "      <th></th>\n",
       "      <th></th>\n",
       "      <th></th>\n",
       "      <th></th>\n",
       "      <th></th>\n",
       "      <th></th>\n",
       "    </tr>\n",
       "  </thead>\n",
       "  <tbody>\n",
       "    <tr>\n",
       "      <td>ABCB4</td>\n",
       "      <td>555.713449</td>\n",
       "      <td>10.744235</td>\n",
       "      <td>7.225819</td>\n",
       "      <td>4.311280</td>\n",
       "      <td>4.605860</td>\n",
       "      <td>7.406442</td>\n",
       "      <td>8.043976</td>\n",
       "      <td>6.469993</td>\n",
       "      <td>7.833082</td>\n",
       "      <td>9.312295</td>\n",
       "      <td>...</td>\n",
       "      <td>6.202496</td>\n",
       "      <td>7.951360</td>\n",
       "      <td>27.557710</td>\n",
       "      <td>121.432277</td>\n",
       "      <td>114.636747</td>\n",
       "      <td>4.872184</td>\n",
       "      <td>4.727985</td>\n",
       "      <td>34.113659</td>\n",
       "      <td>15.030530</td>\n",
       "      <td>14.906888</td>\n",
       "    </tr>\n",
       "    <tr>\n",
       "      <td>ABCB9</td>\n",
       "      <td>15.603544</td>\n",
       "      <td>22.094787</td>\n",
       "      <td>653.392328</td>\n",
       "      <td>24.223723</td>\n",
       "      <td>35.671507</td>\n",
       "      <td>30.048192</td>\n",
       "      <td>38.455423</td>\n",
       "      <td>17.604795</td>\n",
       "      <td>46.073657</td>\n",
       "      <td>19.715722</td>\n",
       "      <td>...</td>\n",
       "      <td>20.309426</td>\n",
       "      <td>56.251887</td>\n",
       "      <td>29.380878</td>\n",
       "      <td>40.390260</td>\n",
       "      <td>123.993305</td>\n",
       "      <td>23.384603</td>\n",
       "      <td>53.466757</td>\n",
       "      <td>23.615746</td>\n",
       "      <td>29.786442</td>\n",
       "      <td>33.679147</td>\n",
       "    </tr>\n",
       "    <tr>\n",
       "      <td>ACAP1</td>\n",
       "      <td>215.305951</td>\n",
       "      <td>321.621021</td>\n",
       "      <td>38.616872</td>\n",
       "      <td>1055.613378</td>\n",
       "      <td>1790.097170</td>\n",
       "      <td>922.152747</td>\n",
       "      <td>340.883424</td>\n",
       "      <td>1107.798265</td>\n",
       "      <td>1995.482601</td>\n",
       "      <td>280.075719</td>\n",
       "      <td>...</td>\n",
       "      <td>190.879024</td>\n",
       "      <td>48.972217</td>\n",
       "      <td>30.974254</td>\n",
       "      <td>23.055150</td>\n",
       "      <td>61.386550</td>\n",
       "      <td>26.412923</td>\n",
       "      <td>104.200198</td>\n",
       "      <td>73.607932</td>\n",
       "      <td>696.442802</td>\n",
       "      <td>596.025961</td>\n",
       "    </tr>\n",
       "    <tr>\n",
       "      <td>ACHE</td>\n",
       "      <td>15.117949</td>\n",
       "      <td>16.648847</td>\n",
       "      <td>22.123737</td>\n",
       "      <td>13.428288</td>\n",
       "      <td>27.187732</td>\n",
       "      <td>18.444927</td>\n",
       "      <td>13.441268</td>\n",
       "      <td>14.805542</td>\n",
       "      <td>24.652712</td>\n",
       "      <td>33.658448</td>\n",
       "      <td>...</td>\n",
       "      <td>16.375268</td>\n",
       "      <td>13.692963</td>\n",
       "      <td>1373.069620</td>\n",
       "      <td>48.585761</td>\n",
       "      <td>16.715474</td>\n",
       "      <td>193.159977</td>\n",
       "      <td>13.948778</td>\n",
       "      <td>20.501249</td>\n",
       "      <td>40.414927</td>\n",
       "      <td>22.766494</td>\n",
       "    </tr>\n",
       "    <tr>\n",
       "      <td>ACP5</td>\n",
       "      <td>605.897384</td>\n",
       "      <td>1935.201479</td>\n",
       "      <td>1120.104684</td>\n",
       "      <td>306.312519</td>\n",
       "      <td>744.656599</td>\n",
       "      <td>557.819820</td>\n",
       "      <td>248.546932</td>\n",
       "      <td>711.949744</td>\n",
       "      <td>958.916018</td>\n",
       "      <td>493.969120</td>\n",
       "      <td>...</td>\n",
       "      <td>512.931382</td>\n",
       "      <td>13644.172300</td>\n",
       "      <td>1062.475909</td>\n",
       "      <td>7633.960182</td>\n",
       "      <td>13825.053630</td>\n",
       "      <td>3989.865169</td>\n",
       "      <td>263.497930</td>\n",
       "      <td>323.381277</td>\n",
       "      <td>860.563374</td>\n",
       "      <td>307.142798</td>\n",
       "    </tr>\n",
       "  </tbody>\n",
       "</table>\n",
       "<p>5 rows × 22 columns</p>\n",
       "</div>"
      ],
      "text/plain": [
       "             B cells naive  B cells memory  Plasma cells  T cells CD8  \\\n",
       "Hugo_Symbol                                                             \n",
       "ABCB4           555.713449       10.744235      7.225819     4.311280   \n",
       "ABCB9            15.603544       22.094787    653.392328    24.223723   \n",
       "ACAP1           215.305951      321.621021     38.616872  1055.613378   \n",
       "ACHE             15.117949       16.648847     22.123737    13.428288   \n",
       "ACP5            605.897384     1935.201479   1120.104684   306.312519   \n",
       "\n",
       "             T cells CD4 naive  T cells CD4 memory resting  \\\n",
       "Hugo_Symbol                                                  \n",
       "ABCB4                 4.605860                    7.406442   \n",
       "ABCB9                35.671507                   30.048192   \n",
       "ACAP1              1790.097170                  922.152747   \n",
       "ACHE                 27.187732                   18.444927   \n",
       "ACP5                744.656599                  557.819820   \n",
       "\n",
       "             T cells CD4 memory activated  T cells follicular helper  \\\n",
       "Hugo_Symbol                                                            \n",
       "ABCB4                            8.043976                   6.469993   \n",
       "ABCB9                           38.455423                  17.604795   \n",
       "ACAP1                          340.883424                1107.798265   \n",
       "ACHE                            13.441268                  14.805542   \n",
       "ACP5                           248.546932                 711.949744   \n",
       "\n",
       "             T cells regulatory (Tregs)  T cells gamma delta  ...   Monocytes  \\\n",
       "Hugo_Symbol                                                   ...               \n",
       "ABCB4                          7.833082             9.312295  ...    6.202496   \n",
       "ABCB9                         46.073657            19.715722  ...   20.309426   \n",
       "ACAP1                       1995.482601           280.075719  ...  190.879024   \n",
       "ACHE                          24.652712            33.658448  ...   16.375268   \n",
       "ACP5                         958.916018           493.969120  ...  512.931382   \n",
       "\n",
       "             Macrophages M0  Macrophages M1  Macrophages M2  \\\n",
       "Hugo_Symbol                                                   \n",
       "ABCB4              7.951360       27.557710      121.432277   \n",
       "ABCB9             56.251887       29.380878       40.390260   \n",
       "ACAP1             48.972217       30.974254       23.055150   \n",
       "ACHE              13.692963     1373.069620       48.585761   \n",
       "ACP5           13644.172300     1062.475909     7633.960182   \n",
       "\n",
       "             Dendritic cells resting  Dendritic cells activated  \\\n",
       "Hugo_Symbol                                                       \n",
       "ABCB4                     114.636747                   4.872184   \n",
       "ABCB9                     123.993305                  23.384603   \n",
       "ACAP1                      61.386550                  26.412923   \n",
       "ACHE                       16.715474                 193.159977   \n",
       "ACP5                    13825.053630                3989.865169   \n",
       "\n",
       "             Mast cells resting  Mast cells activated  Eosinophils  \\\n",
       "Hugo_Symbol                                                          \n",
       "ABCB4                  4.727985             34.113659    15.030530   \n",
       "ABCB9                 53.466757             23.615746    29.786442   \n",
       "ACAP1                104.200198             73.607932   696.442802   \n",
       "ACHE                  13.948778             20.501249    40.414927   \n",
       "ACP5                 263.497930            323.381277   860.563374   \n",
       "\n",
       "             Neutrophils  \n",
       "Hugo_Symbol               \n",
       "ABCB4          14.906888  \n",
       "ABCB9          33.679147  \n",
       "ACAP1         596.025961  \n",
       "ACHE           22.766494  \n",
       "ACP5          307.142798  \n",
       "\n",
       "[5 rows x 22 columns]"
      ]
     },
     "execution_count": 334,
     "metadata": {},
     "output_type": "execute_result"
    }
   ],
   "source": [
    "lm22.head()"
   ]
  },
  {
   "cell_type": "markdown",
   "metadata": {},
   "source": [
    "### Normalize Data"
   ]
  },
  {
   "cell_type": "code",
   "execution_count": 368,
   "metadata": {},
   "outputs": [],
   "source": [
    "def encode_inputs(rna_df,sig_df):\n",
    "    df_temp = td.df_normalization(rna_df,\"minmax\")\n",
    "    rna_df_red ,sig_df_red = td.keep_common_genes(df_temp,sig_df)\n",
    "    df_temp = rna_df_red.T\n",
    "    return df_temp"
   ]
  },
  {
   "cell_type": "code",
   "execution_count": 369,
   "metadata": {},
   "outputs": [],
   "source": [
    "v = encode_inputs(df2,lm22)"
   ]
  },
  {
   "cell_type": "code",
   "execution_count": 370,
   "metadata": {},
   "outputs": [
    {
     "data": {
      "text/html": [
       "<div>\n",
       "<style scoped>\n",
       "    .dataframe tbody tr th:only-of-type {\n",
       "        vertical-align: middle;\n",
       "    }\n",
       "\n",
       "    .dataframe tbody tr th {\n",
       "        vertical-align: top;\n",
       "    }\n",
       "\n",
       "    .dataframe thead th {\n",
       "        text-align: right;\n",
       "    }\n",
       "</style>\n",
       "<table border=\"1\" class=\"dataframe\">\n",
       "  <thead>\n",
       "    <tr style=\"text-align: right;\">\n",
       "      <th>Hugo_Symbol</th>\n",
       "      <th>ABCB4</th>\n",
       "      <th>ABCB9</th>\n",
       "      <th>ACAP1</th>\n",
       "      <th>ACHE</th>\n",
       "      <th>ACP5</th>\n",
       "      <th>ADAM28</th>\n",
       "      <th>ADAMDEC1</th>\n",
       "      <th>ADAMTS3</th>\n",
       "      <th>ADRB2</th>\n",
       "      <th>AIF1</th>\n",
       "      <th>...</th>\n",
       "      <th>ZBTB10</th>\n",
       "      <th>ZBTB32</th>\n",
       "      <th>ZFP36L2</th>\n",
       "      <th>ZNF135</th>\n",
       "      <th>ZNF165</th>\n",
       "      <th>ZNF204P</th>\n",
       "      <th>ZNF222</th>\n",
       "      <th>ZNF286A</th>\n",
       "      <th>ZNF324</th>\n",
       "      <th>ZNF442</th>\n",
       "    </tr>\n",
       "  </thead>\n",
       "  <tbody>\n",
       "    <tr>\n",
       "      <td>0</td>\n",
       "      <td>0.000000</td>\n",
       "      <td>0.019533</td>\n",
       "      <td>0.003421</td>\n",
       "      <td>0.005722</td>\n",
       "      <td>0.084394</td>\n",
       "      <td>0.005539</td>\n",
       "      <td>0.019611</td>\n",
       "      <td>0.008132</td>\n",
       "      <td>0.041653</td>\n",
       "      <td>0.036172</td>\n",
       "      <td>...</td>\n",
       "      <td>0.014824</td>\n",
       "      <td>0.023451</td>\n",
       "      <td>0.016981</td>\n",
       "      <td>0.000000</td>\n",
       "      <td>0.016464</td>\n",
       "      <td>0.006646</td>\n",
       "      <td>0.000000</td>\n",
       "      <td>0.000249</td>\n",
       "      <td>0.001711</td>\n",
       "      <td>0.000000</td>\n",
       "    </tr>\n",
       "    <tr>\n",
       "      <td>1</td>\n",
       "      <td>0.000000</td>\n",
       "      <td>0.001396</td>\n",
       "      <td>0.007437</td>\n",
       "      <td>0.000000</td>\n",
       "      <td>0.060125</td>\n",
       "      <td>0.027978</td>\n",
       "      <td>0.036644</td>\n",
       "      <td>0.000192</td>\n",
       "      <td>0.040716</td>\n",
       "      <td>0.051653</td>\n",
       "      <td>...</td>\n",
       "      <td>0.013498</td>\n",
       "      <td>0.003138</td>\n",
       "      <td>0.020788</td>\n",
       "      <td>0.012702</td>\n",
       "      <td>0.015034</td>\n",
       "      <td>0.000000</td>\n",
       "      <td>0.009923</td>\n",
       "      <td>0.003256</td>\n",
       "      <td>0.000000</td>\n",
       "      <td>0.000000</td>\n",
       "    </tr>\n",
       "    <tr>\n",
       "      <td>2</td>\n",
       "      <td>0.001700</td>\n",
       "      <td>0.009314</td>\n",
       "      <td>0.029681</td>\n",
       "      <td>0.000000</td>\n",
       "      <td>0.078185</td>\n",
       "      <td>0.000000</td>\n",
       "      <td>0.059082</td>\n",
       "      <td>0.006663</td>\n",
       "      <td>0.027894</td>\n",
       "      <td>0.055356</td>\n",
       "      <td>...</td>\n",
       "      <td>0.009188</td>\n",
       "      <td>0.004925</td>\n",
       "      <td>0.023999</td>\n",
       "      <td>0.000000</td>\n",
       "      <td>0.007893</td>\n",
       "      <td>0.002408</td>\n",
       "      <td>0.012005</td>\n",
       "      <td>0.000000</td>\n",
       "      <td>0.000000</td>\n",
       "      <td>0.002191</td>\n",
       "    </tr>\n",
       "    <tr>\n",
       "      <td>3</td>\n",
       "      <td>0.000000</td>\n",
       "      <td>0.000000</td>\n",
       "      <td>0.000000</td>\n",
       "      <td>0.017495</td>\n",
       "      <td>0.051877</td>\n",
       "      <td>0.030026</td>\n",
       "      <td>0.026213</td>\n",
       "      <td>0.020606</td>\n",
       "      <td>0.036145</td>\n",
       "      <td>0.041296</td>\n",
       "      <td>...</td>\n",
       "      <td>0.013647</td>\n",
       "      <td>0.000000</td>\n",
       "      <td>0.037545</td>\n",
       "      <td>0.017315</td>\n",
       "      <td>0.003041</td>\n",
       "      <td>0.004659</td>\n",
       "      <td>0.000000</td>\n",
       "      <td>0.011247</td>\n",
       "      <td>0.000000</td>\n",
       "      <td>0.000000</td>\n",
       "    </tr>\n",
       "    <tr>\n",
       "      <td>4</td>\n",
       "      <td>0.010269</td>\n",
       "      <td>0.005703</td>\n",
       "      <td>0.007965</td>\n",
       "      <td>0.014810</td>\n",
       "      <td>0.072322</td>\n",
       "      <td>0.013467</td>\n",
       "      <td>0.004913</td>\n",
       "      <td>0.014128</td>\n",
       "      <td>0.035964</td>\n",
       "      <td>0.018654</td>\n",
       "      <td>...</td>\n",
       "      <td>0.010233</td>\n",
       "      <td>0.015515</td>\n",
       "      <td>0.019114</td>\n",
       "      <td>0.009965</td>\n",
       "      <td>0.004722</td>\n",
       "      <td>0.002692</td>\n",
       "      <td>0.003919</td>\n",
       "      <td>0.007440</td>\n",
       "      <td>0.012304</td>\n",
       "      <td>0.000000</td>\n",
       "    </tr>\n",
       "  </tbody>\n",
       "</table>\n",
       "<p>5 rows × 547 columns</p>\n",
       "</div>"
      ],
      "text/plain": [
       "Hugo_Symbol     ABCB4     ABCB9     ACAP1      ACHE      ACP5    ADAM28  \\\n",
       "0            0.000000  0.019533  0.003421  0.005722  0.084394  0.005539   \n",
       "1            0.000000  0.001396  0.007437  0.000000  0.060125  0.027978   \n",
       "2            0.001700  0.009314  0.029681  0.000000  0.078185  0.000000   \n",
       "3            0.000000  0.000000  0.000000  0.017495  0.051877  0.030026   \n",
       "4            0.010269  0.005703  0.007965  0.014810  0.072322  0.013467   \n",
       "\n",
       "Hugo_Symbol  ADAMDEC1   ADAMTS3     ADRB2      AIF1  ...    ZBTB10    ZBTB32  \\\n",
       "0            0.019611  0.008132  0.041653  0.036172  ...  0.014824  0.023451   \n",
       "1            0.036644  0.000192  0.040716  0.051653  ...  0.013498  0.003138   \n",
       "2            0.059082  0.006663  0.027894  0.055356  ...  0.009188  0.004925   \n",
       "3            0.026213  0.020606  0.036145  0.041296  ...  0.013647  0.000000   \n",
       "4            0.004913  0.014128  0.035964  0.018654  ...  0.010233  0.015515   \n",
       "\n",
       "Hugo_Symbol   ZFP36L2    ZNF135    ZNF165   ZNF204P    ZNF222   ZNF286A  \\\n",
       "0            0.016981  0.000000  0.016464  0.006646  0.000000  0.000249   \n",
       "1            0.020788  0.012702  0.015034  0.000000  0.009923  0.003256   \n",
       "2            0.023999  0.000000  0.007893  0.002408  0.012005  0.000000   \n",
       "3            0.037545  0.017315  0.003041  0.004659  0.000000  0.011247   \n",
       "4            0.019114  0.009965  0.004722  0.002692  0.003919  0.007440   \n",
       "\n",
       "Hugo_Symbol    ZNF324    ZNF442  \n",
       "0            0.001711  0.000000  \n",
       "1            0.000000  0.000000  \n",
       "2            0.000000  0.002191  \n",
       "3            0.000000  0.000000  \n",
       "4            0.012304  0.000000  \n",
       "\n",
       "[5 rows x 547 columns]"
      ]
     },
     "execution_count": 370,
     "metadata": {},
     "output_type": "execute_result"
    }
   ],
   "source": [
    "v.head()"
   ]
  },
  {
   "cell_type": "markdown",
   "metadata": {},
   "source": [
    "### Generate new data from ground truth data"
   ]
  },
  {
   "cell_type": "code",
   "execution_count": 498,
   "metadata": {},
   "outputs": [],
   "source": [
    "from sklearn.ensemble import IsolationForest\n",
    "def generate_data(num_samples, x_df, y_df,n_components=6):\n",
    "    temp_arr = np.empty([x_df.shape[0]-20,x_df.shape[1]+y_df.shape[1]])\n",
    "    x_df = x_df.values\n",
    "    y_df = y_df.values\n",
    "    for i in range(len(temp_arr)):\n",
    "        for j in range(len(temp_arr[1])):\n",
    "            if j < x_df.shape[1]:\n",
    "                temp_arr[i][j] = x_df[i][j]\n",
    "            else:\n",
    "                temp_arr[i][j] = y_df[i][j-x_df.shape[1]]\n",
    "\n",
    "    bgm = BayesianGaussianMixture(n_components=n_components)\n",
    "    bgm.fit(temp_arr)\n",
    "    clf = IsolationForest().fit(temp_arr)\n",
    "    samples = []\n",
    "    while len(samples) < num_samples:\n",
    "        sample = bgm.sample(num_samples-len(samples))[0]\n",
    "        outliers = clf.predict(sample)\n",
    "        for i in range(len(outliers)):\n",
    "            if outliers[i] == 1:\n",
    "                samples.append(sample[i])\n",
    "            \n",
    "    samples = np.asarray(samples)\n",
    "    sampled_x = samples[:,:x_df.shape[1]]\n",
    "    sampled_y = samples[:,x_df.shape[1]:]\n",
    "    return sampled_x, sampled_y"
   ]
  },
  {
   "cell_type": "code",
   "execution_count": 623,
   "metadata": {},
   "outputs": [
    {
     "name": "stderr",
     "output_type": "stream",
     "text": [
      "C:\\ProgramData\\Anaconda3\\lib\\site-packages\\sklearn\\ensemble\\iforest.py:237: FutureWarning: default contamination parameter 0.1 will change in version 0.22 to \"auto\". This will change the predict method behavior.\n",
      "  FutureWarning)\n",
      "C:\\ProgramData\\Anaconda3\\lib\\site-packages\\sklearn\\ensemble\\iforest.py:247: FutureWarning: behaviour=\"old\" is deprecated and will be removed in version 0.22. Please use behaviour=\"new\", which makes the decision_function change to match other anomaly detection algorithm API.\n",
      "  FutureWarning)\n",
      "C:\\ProgramData\\Anaconda3\\lib\\site-packages\\sklearn\\ensemble\\iforest.py:415: DeprecationWarning: threshold_ attribute is deprecated in 0.20 and will be removed in 0.22.\n",
      "  \" be removed in 0.22.\", DeprecationWarning)\n"
     ]
    }
   ],
   "source": [
    "generated_x, generated_y = generate_data(100000, v, df,n_components=80)"
   ]
  },
  {
   "cell_type": "markdown",
   "metadata": {},
   "source": [
    "### NN Model"
   ]
  },
  {
   "cell_type": "code",
   "execution_count": 3,
   "metadata": {},
   "outputs": [
    {
     "ename": "NameError",
     "evalue": "name 'tf' is not defined",
     "output_type": "error",
     "traceback": [
      "\u001b[1;31m---------------------------------------------------------------------------\u001b[0m",
      "\u001b[1;31mNameError\u001b[0m                                 Traceback (most recent call last)",
      "\u001b[1;32m<ipython-input-3-b7bfbb3ab71b>\u001b[0m in \u001b[0;36m<module>\u001b[1;34m\u001b[0m\n\u001b[1;32m----> 1\u001b[1;33m model = tf.keras.Sequential(\n\u001b[0m\u001b[0;32m      2\u001b[0m     [\n\u001b[0;32m      3\u001b[0m         \u001b[0mtf\u001b[0m\u001b[1;33m.\u001b[0m\u001b[0mkeras\u001b[0m\u001b[1;33m.\u001b[0m\u001b[0mlayers\u001b[0m\u001b[1;33m.\u001b[0m\u001b[0mInput\u001b[0m\u001b[1;33m(\u001b[0m\u001b[0mshape\u001b[0m\u001b[1;33m=\u001b[0m\u001b[1;33m(\u001b[0m\u001b[1;36m547\u001b[0m\u001b[1;33m)\u001b[0m\u001b[1;33m)\u001b[0m\u001b[1;33m,\u001b[0m\u001b[1;33m\u001b[0m\u001b[1;33m\u001b[0m\u001b[0m\n\u001b[0;32m      4\u001b[0m         \u001b[0mtf\u001b[0m\u001b[1;33m.\u001b[0m\u001b[0mkeras\u001b[0m\u001b[1;33m.\u001b[0m\u001b[0mlayers\u001b[0m\u001b[1;33m.\u001b[0m\u001b[0mDense\u001b[0m\u001b[1;33m(\u001b[0m\u001b[1;36m128\u001b[0m\u001b[1;33m,\u001b[0m\u001b[0mactivation\u001b[0m\u001b[1;33m=\u001b[0m\u001b[1;34m\"relu\"\u001b[0m\u001b[1;33m)\u001b[0m\u001b[1;33m,\u001b[0m\u001b[1;33m\u001b[0m\u001b[1;33m\u001b[0m\u001b[0m\n\u001b[0;32m      5\u001b[0m         \u001b[0mtf\u001b[0m\u001b[1;33m.\u001b[0m\u001b[0mkeras\u001b[0m\u001b[1;33m.\u001b[0m\u001b[0mlayers\u001b[0m\u001b[1;33m.\u001b[0m\u001b[0mDense\u001b[0m\u001b[1;33m(\u001b[0m\u001b[1;36m128\u001b[0m\u001b[1;33m,\u001b[0m\u001b[0mactivation\u001b[0m\u001b[1;33m=\u001b[0m\u001b[1;34m\"relu\"\u001b[0m\u001b[1;33m)\u001b[0m\u001b[1;33m,\u001b[0m\u001b[1;33m\u001b[0m\u001b[1;33m\u001b[0m\u001b[0m\n",
      "\u001b[1;31mNameError\u001b[0m: name 'tf' is not defined"
     ]
    }
   ],
   "source": [
    "model = tf.keras.Sequential(\n",
    "    [\n",
    "        tf.keras.layers.Input(shape=(547)),\n",
    "        tf.keras.layers.Dense(128,activation=\"relu\"),\n",
    "        tf.keras.layers.Dense(128,activation=\"relu\"),\n",
    "        tf.keras.layers.Dropout(0.2),\n",
    "        tf.keras.layers.Dense(22)\n",
    "    ]\n",
    ")\n",
    "\n",
    "model.compile(optimizer='adam',\n",
    "              loss='mae',\n",
    "              metrics=['mae','mape'])"
   ]
  },
  {
   "cell_type": "code",
   "execution_count": 2,
   "metadata": {},
   "outputs": [],
   "source": [
    "\n",
    "#X_train, X_test, y_train, y_test = train_test_split(v.values, df.values, test_size=0.2, random_state=42)"
   ]
  },
  {
   "cell_type": "code",
   "execution_count": 626,
   "metadata": {
    "scrolled": true
   },
   "outputs": [
    {
     "name": "stdout",
     "output_type": "stream",
     "text": [
      "Train on 100000 samples, validate on 20 samples\n",
      "Epoch 1/25\n",
      "100000/100000 [==============================] - 10s 102us/sample - loss: 0.0046 - mae: 0.0046 - mape: 11.3552 - val_loss: 0.0195 - val_mae: 0.0195 - val_mape: 193.2593\n",
      "Epoch 2/25\n",
      "100000/100000 [==============================] - 9s 91us/sample - loss: 0.0034 - mae: 0.0034 - mape: 8.2827 - val_loss: 0.0194 - val_mae: 0.0194 - val_mape: 198.2479\n",
      "Epoch 3/25\n",
      "100000/100000 [==============================] - 9s 89us/sample - loss: 0.0032 - mae: 0.0032 - mape: 7.9352 - val_loss: 0.0193 - val_mae: 0.0193 - val_mape: 197.8227\n",
      "Epoch 4/25\n",
      "100000/100000 [==============================] - 9s 85us/sample - loss: 0.0031 - mae: 0.0031 - mape: 7.7767 - val_loss: 0.0191 - val_mae: 0.0191 - val_mape: 201.1809\n",
      "Epoch 5/25\n",
      "100000/100000 [==============================] - 8s 85us/sample - loss: 0.0031 - mae: 0.0031 - mape: 7.6873 - val_loss: 0.0191 - val_mae: 0.0191 - val_mape: 192.1886\n",
      "Epoch 6/25\n",
      "100000/100000 [==============================] - 8s 85us/sample - loss: 0.0031 - mae: 0.0031 - mape: 7.5814 - val_loss: 0.0191 - val_mae: 0.0191 - val_mape: 188.8717\n",
      "Epoch 7/25\n",
      "100000/100000 [==============================] - 9s 87us/sample - loss: 0.0030 - mae: 0.0030 - mape: 7.4674 - val_loss: 0.0193 - val_mae: 0.0193 - val_mape: 194.5830\n",
      "Epoch 8/25\n",
      "100000/100000 [==============================] - 8s 84us/sample - loss: 0.0030 - mae: 0.0030 - mape: 7.3881 - val_loss: 0.0192 - val_mae: 0.0192 - val_mape: 195.5145\n",
      "Epoch 9/25\n",
      "100000/100000 [==============================] - 9s 88us/sample - loss: 0.0029 - mae: 0.0029 - mape: 7.3366 - val_loss: 0.0192 - val_mae: 0.0192 - val_mape: 194.6334\n",
      "Epoch 10/25\n",
      "100000/100000 [==============================] - 9s 86us/sample - loss: 0.0029 - mae: 0.0029 - mape: 7.2923 - val_loss: 0.0192 - val_mae: 0.0192 - val_mape: 192.3774\n",
      "Epoch 11/25\n",
      "100000/100000 [==============================] - 8s 85us/sample - loss: 0.0029 - mae: 0.0029 - mape: 7.2496 - val_loss: 0.0191 - val_mae: 0.0191 - val_mape: 191.9768\n",
      "Epoch 12/25\n",
      "100000/100000 [==============================] - 8s 84us/sample - loss: 0.0029 - mae: 0.0029 - mape: 7.1687 - val_loss: 0.0191 - val_mae: 0.0191 - val_mape: 197.3498\n",
      "Epoch 13/25\n",
      "100000/100000 [==============================] - 8s 82us/sample - loss: 0.0028 - mae: 0.0028 - mape: 7.1261 - val_loss: 0.0192 - val_mae: 0.0192 - val_mape: 194.0727\n",
      "Epoch 14/25\n",
      "100000/100000 [==============================] - 9s 86us/sample - loss: 0.0028 - mae: 0.0028 - mape: 7.0653 - val_loss: 0.0191 - val_mae: 0.0191 - val_mape: 195.4632\n",
      "Epoch 15/25\n",
      "100000/100000 [==============================] - 9s 86us/sample - loss: 0.0028 - mae: 0.0028 - mape: 7.0205 - val_loss: 0.0190 - val_mae: 0.0190 - val_mape: 194.8979\n",
      "Epoch 16/25\n",
      "100000/100000 [==============================] - 8s 84us/sample - loss: 0.0028 - mae: 0.0028 - mape: 6.9494 - val_loss: 0.0190 - val_mae: 0.0190 - val_mape: 196.6119\n",
      "Epoch 17/25\n",
      "100000/100000 [==============================] - 9s 91us/sample - loss: 0.0027 - mae: 0.0027 - mape: 6.8841 - val_loss: 0.0192 - val_mae: 0.0192 - val_mape: 198.8140\n",
      "Epoch 18/25\n",
      "100000/100000 [==============================] - 10s 95us/sample - loss: 0.0027 - mae: 0.0027 - mape: 6.8298 - val_loss: 0.0190 - val_mae: 0.0190 - val_mape: 197.0338\n",
      "Epoch 19/25\n",
      "100000/100000 [==============================] - 9s 92us/sample - loss: 0.0027 - mae: 0.0027 - mape: 6.7875 - val_loss: 0.0190 - val_mae: 0.0190 - val_mape: 196.7804\n",
      "Epoch 20/25\n",
      "100000/100000 [==============================] - 9s 88us/sample - loss: 0.0027 - mae: 0.0027 - mape: 6.7448 - val_loss: 0.0190 - val_mae: 0.0190 - val_mape: 197.0888\n",
      "Epoch 21/25\n",
      "100000/100000 [==============================] - 8s 83us/sample - loss: 0.0026 - mae: 0.0026 - mape: 6.6889 - val_loss: 0.0190 - val_mae: 0.0190 - val_mape: 196.7554\n",
      "Epoch 22/25\n",
      "100000/100000 [==============================] - 9s 89us/sample - loss: 0.0026 - mae: 0.0026 - mape: 6.6755 - val_loss: 0.0189 - val_mae: 0.0189 - val_mape: 198.0169\n",
      "Epoch 23/25\n",
      "100000/100000 [==============================] - 9s 87us/sample - loss: 0.0026 - mae: 0.0026 - mape: 6.6425 - val_loss: 0.0190 - val_mae: 0.0190 - val_mape: 196.7012\n",
      "Epoch 24/25\n",
      "100000/100000 [==============================] - 9s 88us/sample - loss: 0.0026 - mae: 0.0026 - mape: 6.6196 - val_loss: 0.0190 - val_mae: 0.0190 - val_mape: 198.0008\n",
      "Epoch 25/25\n",
      "100000/100000 [==============================] - 9s 90us/sample - loss: 0.0026 - mae: 0.0026 - mape: 6.6047 - val_loss: 0.0189 - val_mae: 0.0189 - val_mape: 199.2137\n"
     ]
    }
   ],
   "source": [
    "history = model.fit(generated_x, generated_y, epochs=25, \n",
    "                    validation_data=(v.values[-20:], df.values[-20:]))"
   ]
  },
  {
   "cell_type": "code",
   "execution_count": 627,
   "metadata": {},
   "outputs": [
    {
     "data": {
      "text/plain": [
       "Text(0, 0.5, 'Accuracy')"
      ]
     },
     "execution_count": 627,
     "metadata": {},
     "output_type": "execute_result"
    },
    {
     "data": {
      "image/png": "[encoded data removed]",
      "text/plain": [
       "<Figure size 1080x504 with 1 Axes>"
      ]
     },
     "metadata": {},
     "output_type": "display_data"
    }
   ],
   "source": [
    "plt.plot(history.history['mae'], label='root_mean_squared_error')    #blue\n",
    "plt.plot(history.history['val_mae'], label = 'val_root_mean_squared_error')     #orange\n",
    "plt.xlabel('Epoch')\n",
    "plt.ylabel('Accuracy')\n",
    "#plt.legend(loc='lower right')\n",
    "\n",
    "#test_loss, test_acc = model.evaluate(X_test,  y_test, verbose=2)"
   ]
  },
  {
   "cell_type": "code",
   "execution_count": 628,
   "metadata": {},
   "outputs": [
    {
     "data": {
      "text/plain": [
       "0.01889734"
      ]
     },
     "execution_count": 628,
     "metadata": {},
     "output_type": "execute_result"
    }
   ],
   "source": [
    "min(history.history['val_mae'])"
   ]
  },
  {
   "cell_type": "code",
   "execution_count": 629,
   "metadata": {},
   "outputs": [],
   "source": [
    "predictions = model.predict(v.values[-20:])"
   ]
  },
  {
   "cell_type": "markdown",
   "metadata": {},
   "source": [
    "### Run cibersort for comparison"
   ]
  },
  {
   "cell_type": "code",
   "execution_count": 630,
   "metadata": {},
   "outputs": [
    {
     "name": "stdout",
     "output_type": "stream",
     "text": [
      "Running CiberSort...\n"
     ]
    }
   ],
   "source": [
    "c_results = td.cibersort_main(v.T,lm22)"
   ]
  },
  {
   "cell_type": "code",
   "execution_count": 631,
   "metadata": {},
   "outputs": [
    {
     "name": "stdout",
     "output_type": "stream",
     "text": [
      "NN MAE: 0.018903812367767215\n",
      "CIBERSORT MAE: 0.016296379121717667\n"
     ]
    }
   ],
   "source": [
    "print(\"NN MAE:\",mean_absolute_error(df.values[-20:],predictions))\n",
    "print(\"CIBERSORT MAE:\",mean_absolute_error(df.values[-20:],c_results.values[-20:]))"
   ]
  },
  {
   "cell_type": "code",
   "execution_count": 632,
   "metadata": {},
   "outputs": [
    {
     "data": {
      "text/html": [
       "<div>\n",
       "<style scoped>\n",
       "    .dataframe tbody tr th:only-of-type {\n",
       "        vertical-align: middle;\n",
       "    }\n",
       "\n",
       "    .dataframe tbody tr th {\n",
       "        vertical-align: top;\n",
       "    }\n",
       "\n",
       "    .dataframe thead th {\n",
       "        text-align: right;\n",
       "    }\n",
       "</style>\n",
       "<table border=\"1\" class=\"dataframe\">\n",
       "  <thead>\n",
       "    <tr style=\"text-align: right;\">\n",
       "      <th>Patient_ID</th>\n",
       "      <th>B cells naive</th>\n",
       "      <th>B cells memory</th>\n",
       "      <th>Plasma cells</th>\n",
       "      <th>T cells CD8</th>\n",
       "      <th>T cells CD4 naive</th>\n",
       "      <th>T cells CD4 memory resting</th>\n",
       "      <th>T cells CD4 memory activated</th>\n",
       "      <th>T cells follicular helper</th>\n",
       "      <th>T cells regulatory (Tregs)</th>\n",
       "      <th>T cells gamma delta</th>\n",
       "      <th>...</th>\n",
       "      <th>Monocytes</th>\n",
       "      <th>Macrophages M0</th>\n",
       "      <th>Macrophages M1</th>\n",
       "      <th>Macrophages M2</th>\n",
       "      <th>Dendritic cells resting</th>\n",
       "      <th>Dendritic cells activated</th>\n",
       "      <th>Mast cells resting</th>\n",
       "      <th>Mast cells activated</th>\n",
       "      <th>Eosinophils</th>\n",
       "      <th>Neutrophils</th>\n",
       "    </tr>\n",
       "  </thead>\n",
       "  <tbody>\n",
       "    <tr>\n",
       "      <td>0</td>\n",
       "      <td>0.065620</td>\n",
       "      <td>0.039660</td>\n",
       "      <td>0.067092</td>\n",
       "      <td>0.043368</td>\n",
       "      <td>0.042575</td>\n",
       "      <td>0.039804</td>\n",
       "      <td>0.052489</td>\n",
       "      <td>0.046202</td>\n",
       "      <td>0.035297</td>\n",
       "      <td>0.039288</td>\n",
       "      <td>...</td>\n",
       "      <td>0.042454</td>\n",
       "      <td>0.043130</td>\n",
       "      <td>0.029016</td>\n",
       "      <td>0.068318</td>\n",
       "      <td>0.050043</td>\n",
       "      <td>0.050408</td>\n",
       "      <td>0.039757</td>\n",
       "      <td>0.030274</td>\n",
       "      <td>0.042398</td>\n",
       "      <td>0.053055</td>\n",
       "    </tr>\n",
       "    <tr>\n",
       "      <td>1</td>\n",
       "      <td>0.056515</td>\n",
       "      <td>0.027525</td>\n",
       "      <td>0.040443</td>\n",
       "      <td>0.046726</td>\n",
       "      <td>0.058146</td>\n",
       "      <td>0.058991</td>\n",
       "      <td>0.052414</td>\n",
       "      <td>0.041747</td>\n",
       "      <td>0.056358</td>\n",
       "      <td>0.050699</td>\n",
       "      <td>...</td>\n",
       "      <td>0.055905</td>\n",
       "      <td>0.046319</td>\n",
       "      <td>0.029109</td>\n",
       "      <td>0.057162</td>\n",
       "      <td>0.041551</td>\n",
       "      <td>0.038880</td>\n",
       "      <td>0.037535</td>\n",
       "      <td>0.040580</td>\n",
       "      <td>0.042590</td>\n",
       "      <td>0.046909</td>\n",
       "    </tr>\n",
       "    <tr>\n",
       "      <td>2</td>\n",
       "      <td>0.049657</td>\n",
       "      <td>0.051136</td>\n",
       "      <td>0.031242</td>\n",
       "      <td>0.049660</td>\n",
       "      <td>0.042051</td>\n",
       "      <td>0.039132</td>\n",
       "      <td>0.038423</td>\n",
       "      <td>0.057094</td>\n",
       "      <td>0.044078</td>\n",
       "      <td>0.035808</td>\n",
       "      <td>...</td>\n",
       "      <td>0.048184</td>\n",
       "      <td>0.042674</td>\n",
       "      <td>0.045633</td>\n",
       "      <td>0.048607</td>\n",
       "      <td>0.060462</td>\n",
       "      <td>0.042753</td>\n",
       "      <td>0.050296</td>\n",
       "      <td>0.039396</td>\n",
       "      <td>0.037251</td>\n",
       "      <td>0.043088</td>\n",
       "    </tr>\n",
       "    <tr>\n",
       "      <td>3</td>\n",
       "      <td>0.028448</td>\n",
       "      <td>0.061168</td>\n",
       "      <td>0.038452</td>\n",
       "      <td>0.054847</td>\n",
       "      <td>0.039770</td>\n",
       "      <td>0.051266</td>\n",
       "      <td>0.033004</td>\n",
       "      <td>0.053404</td>\n",
       "      <td>0.046600</td>\n",
       "      <td>0.048121</td>\n",
       "      <td>...</td>\n",
       "      <td>0.048226</td>\n",
       "      <td>0.043356</td>\n",
       "      <td>0.057552</td>\n",
       "      <td>0.028552</td>\n",
       "      <td>0.048758</td>\n",
       "      <td>0.049117</td>\n",
       "      <td>0.042984</td>\n",
       "      <td>0.036116</td>\n",
       "      <td>0.031998</td>\n",
       "      <td>0.057258</td>\n",
       "    </tr>\n",
       "    <tr>\n",
       "      <td>4</td>\n",
       "      <td>0.033460</td>\n",
       "      <td>0.038218</td>\n",
       "      <td>0.045581</td>\n",
       "      <td>0.038747</td>\n",
       "      <td>0.049559</td>\n",
       "      <td>0.039674</td>\n",
       "      <td>0.032131</td>\n",
       "      <td>0.040811</td>\n",
       "      <td>0.038316</td>\n",
       "      <td>0.041125</td>\n",
       "      <td>...</td>\n",
       "      <td>0.044216</td>\n",
       "      <td>0.053281</td>\n",
       "      <td>0.036440</td>\n",
       "      <td>0.053238</td>\n",
       "      <td>0.046962</td>\n",
       "      <td>0.065170</td>\n",
       "      <td>0.068757</td>\n",
       "      <td>0.043891</td>\n",
       "      <td>0.051904</td>\n",
       "      <td>0.046132</td>\n",
       "    </tr>\n",
       "  </tbody>\n",
       "</table>\n",
       "<p>5 rows × 22 columns</p>\n",
       "</div>"
      ],
      "text/plain": [
       "Patient_ID  B cells naive  B cells memory  Plasma cells  T cells CD8  \\\n",
       "0                0.065620        0.039660      0.067092     0.043368   \n",
       "1                0.056515        0.027525      0.040443     0.046726   \n",
       "2                0.049657        0.051136      0.031242     0.049660   \n",
       "3                0.028448        0.061168      0.038452     0.054847   \n",
       "4                0.033460        0.038218      0.045581     0.038747   \n",
       "\n",
       "Patient_ID  T cells CD4 naive  T cells CD4 memory resting  \\\n",
       "0                    0.042575                    0.039804   \n",
       "1                    0.058146                    0.058991   \n",
       "2                    0.042051                    0.039132   \n",
       "3                    0.039770                    0.051266   \n",
       "4                    0.049559                    0.039674   \n",
       "\n",
       "Patient_ID  T cells CD4 memory activated  T cells follicular helper  \\\n",
       "0                               0.052489                   0.046202   \n",
       "1                               0.052414                   0.041747   \n",
       "2                               0.038423                   0.057094   \n",
       "3                               0.033004                   0.053404   \n",
       "4                               0.032131                   0.040811   \n",
       "\n",
       "Patient_ID  T cells regulatory (Tregs)  T cells gamma delta  ...  Monocytes  \\\n",
       "0                             0.035297             0.039288  ...   0.042454   \n",
       "1                             0.056358             0.050699  ...   0.055905   \n",
       "2                             0.044078             0.035808  ...   0.048184   \n",
       "3                             0.046600             0.048121  ...   0.048226   \n",
       "4                             0.038316             0.041125  ...   0.044216   \n",
       "\n",
       "Patient_ID  Macrophages M0  Macrophages M1  Macrophages M2  \\\n",
       "0                 0.043130        0.029016        0.068318   \n",
       "1                 0.046319        0.029109        0.057162   \n",
       "2                 0.042674        0.045633        0.048607   \n",
       "3                 0.043356        0.057552        0.028552   \n",
       "4                 0.053281        0.036440        0.053238   \n",
       "\n",
       "Patient_ID  Dendritic cells resting  Dendritic cells activated  \\\n",
       "0                          0.050043                   0.050408   \n",
       "1                          0.041551                   0.038880   \n",
       "2                          0.060462                   0.042753   \n",
       "3                          0.048758                   0.049117   \n",
       "4                          0.046962                   0.065170   \n",
       "\n",
       "Patient_ID  Mast cells resting  Mast cells activated  Eosinophils  Neutrophils  \n",
       "0                     0.039757              0.030274     0.042398     0.053055  \n",
       "1                     0.037535              0.040580     0.042590     0.046909  \n",
       "2                     0.050296              0.039396     0.037251     0.043088  \n",
       "3                     0.042984              0.036116     0.031998     0.057258  \n",
       "4                     0.068757              0.043891     0.051904     0.046132  \n",
       "\n",
       "[5 rows x 22 columns]"
      ]
     },
     "execution_count": 632,
     "metadata": {},
     "output_type": "execute_result"
    }
   ],
   "source": [
    "nn_results = pd.DataFrame(data=predictions,columns=c_results.columns)\n",
    "nn_results.head()"
   ]
  },
  {
   "cell_type": "markdown",
   "metadata": {},
   "source": [
    "### Make plots for comparison"
   ]
  },
  {
   "cell_type": "code",
   "execution_count": 633,
   "metadata": {},
   "outputs": [
    {
     "name": "stderr",
     "output_type": "stream",
     "text": [
      "C:\\Users\\NathanGrant\\Programs\\TripodsREU\\scripts\\TumorDecon\\visualization.py:36: SettingWithCopyWarning: \n",
      "A value is trying to be set on a copy of a slice from a DataFrame.\n",
      "Try using .loc[row_indexer,col_indexer] = value instead\n",
      "\n",
      "See the caveats in the documentation: http://pandas.pydata.org/pandas-docs/stable/user_guide/indexing.html#returning-a-view-versus-a-copy\n",
      "  df[df<0]=0\n",
      "C:\\ProgramData\\Anaconda3\\lib\\site-packages\\pandas\\core\\frame.py:3515: SettingWithCopyWarning: \n",
      "A value is trying to be set on a copy of a slice from a DataFrame\n",
      "\n",
      "See the caveats in the documentation: http://pandas.pydata.org/pandas-docs/stable/user_guide/indexing.html#returning-a-view-versus-a-copy\n",
      "  self._where(-key, value, inplace=True)\n"
     ]
    },
    {
     "data": {
      "image/png": "[encoded data removed]",
      "text/plain": [
       "<Figure size 1080x504 with 1 Axes>"
      ]
     },
     "metadata": {},
     "output_type": "display_data"
    }
   ],
   "source": [
    "td.cell_frequency_barchart(c_results[-20:])"
   ]
  },
  {
   "cell_type": "code",
   "execution_count": 634,
   "metadata": {},
   "outputs": [
    {
     "data": {
      "image/png": "[encoded data removed]",
      "text/plain": [
       "<Figure size 1080x504 with 1 Axes>"
      ]
     },
     "metadata": {},
     "output_type": "display_data"
    }
   ],
   "source": [
    "td.cell_frequency_barchart(nn_results)"
   ]
  },
  {
   "cell_type": "code",
   "execution_count": 635,
   "metadata": {},
   "outputs": [
    {
     "data": {
      "image/png": "[encoded data removed]",
      "text/plain": [
       "<Figure size 1080x504 with 1 Axes>"
      ]
     },
     "metadata": {},
     "output_type": "display_data"
    }
   ],
   "source": [
    "df.columns =c_results.columns\n",
    "df.head()\n",
    "td.cell_frequency_barchart(df.iloc[-20:])"
   ]
  },
  {
   "cell_type": "markdown",
   "metadata": {},
   "source": [
    "### Find correlation between methods and ground truth"
   ]
  },
  {
   "cell_type": "code",
   "execution_count": 636,
   "metadata": {},
   "outputs": [],
   "source": [
    "from scipy.stats import pearsonr\n",
    "def compute_mean_cell_p_correlation(ground_truth,predicted):\n",
    "    x=[]\n",
    "    y=[]\n",
    "    avg_sample = []\n",
    "    for i in range(len(ground_truth)):\n",
    "        avg_sample.append(pearsonr(ground_truth[i],predicted[i]))\n",
    "    avg_cell_correlation = []\n",
    "    for i in range(len(ground_truth[0])):\n",
    "        avg_cell_correlation.append(pearsonr(ground_truth[:,i],predicted[:,i]))\n",
    "    return np.mean(avg_sample),np.mean(avg_cell_correlation)"
   ]
  },
  {
   "cell_type": "code",
   "execution_count": 637,
   "metadata": {},
   "outputs": [],
   "source": [
    "df_comb = td.combine_celltypes(df)\n",
    "nn_results_comb = td.combine_celltypes(nn_results)\n",
    "c_results_comb = td.combine_celltypes(c_results)"
   ]
  },
  {
   "cell_type": "code",
   "execution_count": 638,
   "metadata": {},
   "outputs": [
    {
     "data": {
      "text/plain": [
       "(0.45664129624917765, 0.36400197156238584)"
      ]
     },
     "execution_count": 638,
     "metadata": {},
     "output_type": "execute_result"
    }
   ],
   "source": [
    "compute_mean_cell_p_correlation(df_comb.iloc[-20:].values,nn_results_comb.values)"
   ]
  },
  {
   "cell_type": "code",
   "execution_count": 639,
   "metadata": {},
   "outputs": [
    {
     "data": {
      "text/plain": [
       "(0.4524432218058697, 0.44065743682507647)"
      ]
     },
     "execution_count": 639,
     "metadata": {},
     "output_type": "execute_result"
    }
   ],
   "source": [
    "compute_mean_cell_p_correlation(df_comb.iloc[-20:].values,c_results_comb.iloc[-20:].values)"
   ]
  },
  {
   "cell_type": "markdown",
   "metadata": {},
   "source": [
    "### Make plots for data"
   ]
  },
  {
   "cell_type": "code",
   "execution_count": 4,
   "metadata": {},
   "outputs": [
    {
     "ename": "NameError",
     "evalue": "name 'df_comb' is not defined",
     "output_type": "error",
     "traceback": [
      "\u001b[1;31m---------------------------------------------------------------------------\u001b[0m",
      "\u001b[1;31mNameError\u001b[0m                                 Traceback (most recent call last)",
      "\u001b[1;32m<ipython-input-4-50b45d2f3d70>\u001b[0m in \u001b[0;36m<module>\u001b[1;34m\u001b[0m\n\u001b[0;32m      1\u001b[0m \u001b[1;32mfrom\u001b[0m \u001b[0msklearn\u001b[0m\u001b[1;33m.\u001b[0m\u001b[0mlinear_model\u001b[0m \u001b[1;32mimport\u001b[0m \u001b[0mLinearRegression\u001b[0m\u001b[1;33m\u001b[0m\u001b[1;33m\u001b[0m\u001b[0m\n\u001b[1;32m----> 2\u001b[1;33m \u001b[0mlin\u001b[0m \u001b[1;33m=\u001b[0m \u001b[0mLinearRegression\u001b[0m\u001b[1;33m(\u001b[0m\u001b[1;33m)\u001b[0m\u001b[1;33m.\u001b[0m\u001b[0mfit\u001b[0m\u001b[1;33m(\u001b[0m\u001b[0mdf_comb\u001b[0m\u001b[1;33m.\u001b[0m\u001b[0miloc\u001b[0m\u001b[1;33m[\u001b[0m\u001b[1;33m-\u001b[0m\u001b[1;36m20\u001b[0m\u001b[1;33m:\u001b[0m\u001b[1;33m]\u001b[0m\u001b[1;33m.\u001b[0m\u001b[0mvalues\u001b[0m\u001b[1;33m.\u001b[0m\u001b[0mflatten\u001b[0m\u001b[1;33m(\u001b[0m\u001b[1;33m)\u001b[0m\u001b[1;33m.\u001b[0m\u001b[0mreshape\u001b[0m\u001b[1;33m(\u001b[0m\u001b[1;33m-\u001b[0m\u001b[1;36m1\u001b[0m\u001b[1;33m,\u001b[0m \u001b[1;36m1\u001b[0m\u001b[1;33m)\u001b[0m\u001b[1;33m,\u001b[0m\u001b[0mnn_results_comb\u001b[0m\u001b[1;33m.\u001b[0m\u001b[0mvalues\u001b[0m\u001b[1;33m.\u001b[0m\u001b[0mflatten\u001b[0m\u001b[1;33m(\u001b[0m\u001b[1;33m)\u001b[0m\u001b[1;33m.\u001b[0m\u001b[0mreshape\u001b[0m\u001b[1;33m(\u001b[0m\u001b[1;33m-\u001b[0m\u001b[1;36m1\u001b[0m\u001b[1;33m,\u001b[0m \u001b[1;36m1\u001b[0m\u001b[1;33m)\u001b[0m\u001b[1;33m)\u001b[0m\u001b[1;33m\u001b[0m\u001b[1;33m\u001b[0m\u001b[0m\n\u001b[0m\u001b[0;32m      3\u001b[0m \u001b[0mplt\u001b[0m\u001b[1;33m.\u001b[0m\u001b[0mscatter\u001b[0m\u001b[1;33m(\u001b[0m\u001b[0mdf_comb\u001b[0m\u001b[1;33m.\u001b[0m\u001b[0miloc\u001b[0m\u001b[1;33m[\u001b[0m\u001b[1;33m-\u001b[0m\u001b[1;36m20\u001b[0m\u001b[1;33m:\u001b[0m\u001b[1;33m]\u001b[0m\u001b[1;33m.\u001b[0m\u001b[0mvalues\u001b[0m\u001b[1;33m.\u001b[0m\u001b[0mflatten\u001b[0m\u001b[1;33m(\u001b[0m\u001b[1;33m)\u001b[0m\u001b[1;33m.\u001b[0m\u001b[0mreshape\u001b[0m\u001b[1;33m(\u001b[0m\u001b[1;33m-\u001b[0m\u001b[1;36m1\u001b[0m\u001b[1;33m,\u001b[0m \u001b[1;36m1\u001b[0m\u001b[1;33m)\u001b[0m\u001b[1;33m,\u001b[0m\u001b[0mlin\u001b[0m\u001b[1;33m.\u001b[0m\u001b[0mpredict\u001b[0m\u001b[1;33m(\u001b[0m\u001b[0mdf_comb\u001b[0m\u001b[1;33m.\u001b[0m\u001b[0miloc\u001b[0m\u001b[1;33m[\u001b[0m\u001b[1;33m-\u001b[0m\u001b[1;36m20\u001b[0m\u001b[1;33m:\u001b[0m\u001b[1;33m]\u001b[0m\u001b[1;33m.\u001b[0m\u001b[0mvalues\u001b[0m\u001b[1;33m.\u001b[0m\u001b[0mflatten\u001b[0m\u001b[1;33m(\u001b[0m\u001b[1;33m)\u001b[0m\u001b[1;33m.\u001b[0m\u001b[0mreshape\u001b[0m\u001b[1;33m(\u001b[0m\u001b[1;33m-\u001b[0m\u001b[1;36m1\u001b[0m\u001b[1;33m,\u001b[0m \u001b[1;36m1\u001b[0m\u001b[1;33m)\u001b[0m\u001b[1;33m)\u001b[0m\u001b[1;33m)\u001b[0m\u001b[1;33m\u001b[0m\u001b[1;33m\u001b[0m\u001b[0m\n\u001b[0;32m      4\u001b[0m \u001b[0mplt\u001b[0m\u001b[1;33m.\u001b[0m\u001b[0mscatter\u001b[0m\u001b[1;33m(\u001b[0m\u001b[0mdf_comb\u001b[0m\u001b[1;33m.\u001b[0m\u001b[0miloc\u001b[0m\u001b[1;33m[\u001b[0m\u001b[1;33m-\u001b[0m\u001b[1;36m20\u001b[0m\u001b[1;33m:\u001b[0m\u001b[1;33m]\u001b[0m\u001b[1;33m.\u001b[0m\u001b[0mvalues\u001b[0m\u001b[1;33m,\u001b[0m\u001b[0mnn_results_comb\u001b[0m\u001b[1;33m.\u001b[0m\u001b[0mvalues\u001b[0m\u001b[1;33m)\u001b[0m\u001b[1;33m\u001b[0m\u001b[1;33m\u001b[0m\u001b[0m\n\u001b[0;32m      5\u001b[0m \u001b[0mlin\u001b[0m\u001b[1;33m.\u001b[0m\u001b[0mscore\u001b[0m\u001b[1;33m(\u001b[0m\u001b[0mdf_comb\u001b[0m\u001b[1;33m.\u001b[0m\u001b[0miloc\u001b[0m\u001b[1;33m[\u001b[0m\u001b[1;33m-\u001b[0m\u001b[1;36m20\u001b[0m\u001b[1;33m:\u001b[0m\u001b[1;33m]\u001b[0m\u001b[1;33m.\u001b[0m\u001b[0mvalues\u001b[0m\u001b[1;33m.\u001b[0m\u001b[0mflatten\u001b[0m\u001b[1;33m(\u001b[0m\u001b[1;33m)\u001b[0m\u001b[1;33m.\u001b[0m\u001b[0mreshape\u001b[0m\u001b[1;33m(\u001b[0m\u001b[1;33m-\u001b[0m\u001b[1;36m1\u001b[0m\u001b[1;33m,\u001b[0m \u001b[1;36m1\u001b[0m\u001b[1;33m)\u001b[0m\u001b[1;33m,\u001b[0m\u001b[0mnn_results_comb\u001b[0m\u001b[1;33m.\u001b[0m\u001b[0mvalues\u001b[0m\u001b[1;33m.\u001b[0m\u001b[0mflatten\u001b[0m\u001b[1;33m(\u001b[0m\u001b[1;33m)\u001b[0m\u001b[1;33m.\u001b[0m\u001b[0mreshape\u001b[0m\u001b[1;33m(\u001b[0m\u001b[1;33m-\u001b[0m\u001b[1;36m1\u001b[0m\u001b[1;33m,\u001b[0m \u001b[1;36m1\u001b[0m\u001b[1;33m)\u001b[0m\u001b[1;33m)\u001b[0m\u001b[1;33m**\u001b[0m\u001b[1;36m.5\u001b[0m\u001b[1;33m\u001b[0m\u001b[1;33m\u001b[0m\u001b[0m\n",
      "\u001b[1;31mNameError\u001b[0m: name 'df_comb' is not defined"
     ]
    }
   ],
   "source": [
    "from sklearn.linear_model import LinearRegression\n",
    "lin = LinearRegression().fit(df_comb.iloc[-20:].values.flatten().reshape(-1, 1),nn_results_comb.values.flatten().reshape(-1, 1))\n",
    "plt.scatter(df_comb.iloc[-20:].values.flatten().reshape(-1, 1),lin.predict(df_comb.iloc[-20:].values.flatten().reshape(-1, 1)))\n",
    "plt.scatter(df_comb.iloc[-20:].values,nn_results_comb.values)\n",
    "lin.score(df_comb.iloc[-20:].values.flatten().reshape(-1, 1),nn_results_comb.values.flatten().reshape(-1, 1))**.5"
   ]
  },
  {
   "cell_type": "code",
   "execution_count": 641,
   "metadata": {},
   "outputs": [
    {
     "data": {
      "text/plain": [
       "0.8999380831470271"
      ]
     },
     "execution_count": 641,
     "metadata": {},
     "output_type": "execute_result"
    },
    {
     "data": {
      "image/png": "[encoded data removed]",
      "text/plain": [
       "<Figure size 1080x504 with 1 Axes>"
      ]
     },
     "metadata": {},
     "output_type": "display_data"
    }
   ],
   "source": [
    "lin = LinearRegression().fit(df_comb.iloc[-20:].values.flatten().reshape(-1, 1),c_results_comb.iloc[-20:].values.flatten().reshape(-1, 1))\n",
    "plt.scatter(df_comb.iloc[-20:].values.flatten().reshape(-1, 1),lin.predict(df_comb.iloc[-20:].values.flatten().reshape(-1, 1)))\n",
    "plt.scatter(df_comb.iloc[-20:].values,c_results_comb.iloc[-20:].values)\n",
    "lin.score(df_comb.iloc[-20:].values.flatten().reshape(-1, 1),c_results_comb.iloc[-20:].values.flatten().reshape(-1, 1))**.5"
   ]
  },
  {
   "cell_type": "markdown",
   "metadata": {},
   "source": [
    "## Test on CIBERSORT ground truth data"
   ]
  },
  {
   "cell_type": "code",
   "execution_count": 642,
   "metadata": {},
   "outputs": [
    {
     "data": {
      "text/html": [
       "<div>\n",
       "<style scoped>\n",
       "    .dataframe tbody tr th:only-of-type {\n",
       "        vertical-align: middle;\n",
       "    }\n",
       "\n",
       "    .dataframe tbody tr th {\n",
       "        vertical-align: top;\n",
       "    }\n",
       "\n",
       "    .dataframe thead th {\n",
       "        text-align: right;\n",
       "    }\n",
       "</style>\n",
       "<table border=\"1\" class=\"dataframe\">\n",
       "  <thead>\n",
       "    <tr style=\"text-align: right;\">\n",
       "      <th></th>\n",
       "      <th>Mix1</th>\n",
       "      <th>Mix2</th>\n",
       "      <th>Mix3</th>\n",
       "      <th>Mix4</th>\n",
       "      <th>Mix5</th>\n",
       "    </tr>\n",
       "    <tr>\n",
       "      <th>Hugo_Symbol</th>\n",
       "      <th></th>\n",
       "      <th></th>\n",
       "      <th></th>\n",
       "      <th></th>\n",
       "      <th></th>\n",
       "    </tr>\n",
       "  </thead>\n",
       "  <tbody>\n",
       "    <tr>\n",
       "      <td>A1CF</td>\n",
       "      <td>317.722091</td>\n",
       "      <td>293.341077</td>\n",
       "      <td>217.299844</td>\n",
       "      <td>324.780988</td>\n",
       "      <td>249.629992</td>\n",
       "    </tr>\n",
       "    <tr>\n",
       "      <td>A2M</td>\n",
       "      <td>151.455508</td>\n",
       "      <td>530.830854</td>\n",
       "      <td>837.158282</td>\n",
       "      <td>692.726721</td>\n",
       "      <td>2510.675378</td>\n",
       "    </tr>\n",
       "    <tr>\n",
       "      <td>A4GALT</td>\n",
       "      <td>73.512724</td>\n",
       "      <td>92.717987</td>\n",
       "      <td>64.725953</td>\n",
       "      <td>71.602486</td>\n",
       "      <td>81.679389</td>\n",
       "    </tr>\n",
       "    <tr>\n",
       "      <td>A4GNT</td>\n",
       "      <td>288.295490</td>\n",
       "      <td>259.639816</td>\n",
       "      <td>158.096971</td>\n",
       "      <td>282.407327</td>\n",
       "      <td>197.121171</td>\n",
       "    </tr>\n",
       "    <tr>\n",
       "      <td>AAAS</td>\n",
       "      <td>108.864797</td>\n",
       "      <td>106.834378</td>\n",
       "      <td>103.505401</td>\n",
       "      <td>50.651212</td>\n",
       "      <td>65.309679</td>\n",
       "    </tr>\n",
       "  </tbody>\n",
       "</table>\n",
       "</div>"
      ],
      "text/plain": [
       "                   Mix1        Mix2        Mix3        Mix4         Mix5\n",
       "Hugo_Symbol                                                             \n",
       "A1CF         317.722091  293.341077  217.299844  324.780988   249.629992\n",
       "A2M          151.455508  530.830854  837.158282  692.726721  2510.675378\n",
       "A4GALT        73.512724   92.717987   64.725953   71.602486    81.679389\n",
       "A4GNT        288.295490  259.639816  158.096971  282.407327   197.121171\n",
       "AAAS         108.864797  106.834378  103.505401   50.651212    65.309679"
      ]
     },
     "execution_count": 642,
     "metadata": {},
     "output_type": "execute_result"
    }
   ],
   "source": [
    "cibersort_gep = pd.read_csv(\"C:/Users/NathanGrant/Programs/TripodsREU/data/ExampleMixtures-GEPs.txt\",delimiter=\"\\t\",index_col=\"Hugo_Symbol\")\n",
    "cibersort_gep.head()"
   ]
  },
  {
   "cell_type": "code",
   "execution_count": 643,
   "metadata": {},
   "outputs": [
    {
     "data": {
      "text/html": [
       "<div>\n",
       "<style scoped>\n",
       "    .dataframe tbody tr th:only-of-type {\n",
       "        vertical-align: middle;\n",
       "    }\n",
       "\n",
       "    .dataframe tbody tr th {\n",
       "        vertical-align: top;\n",
       "    }\n",
       "\n",
       "    .dataframe thead th {\n",
       "        text-align: right;\n",
       "    }\n",
       "</style>\n",
       "<table border=\"1\" class=\"dataframe\">\n",
       "  <thead>\n",
       "    <tr style=\"text-align: right;\">\n",
       "      <th>Patient_ID</th>\n",
       "      <th>B cells naive</th>\n",
       "      <th>B cells memory</th>\n",
       "      <th>Plasma cells</th>\n",
       "      <th>T cells CD8</th>\n",
       "      <th>T cells CD4 naive</th>\n",
       "      <th>T cells CD4 memory resting</th>\n",
       "      <th>T cells CD4 memory activated</th>\n",
       "      <th>T cells follicular helper</th>\n",
       "      <th>T cells regulatory (Tregs)</th>\n",
       "      <th>T cells gamma delta</th>\n",
       "      <th>...</th>\n",
       "      <th>Monocytes</th>\n",
       "      <th>Macrophages M0</th>\n",
       "      <th>Macrophages M1</th>\n",
       "      <th>Macrophages M2</th>\n",
       "      <th>Dendritic cells resting</th>\n",
       "      <th>Dendritic cells activated</th>\n",
       "      <th>Mast cells resting</th>\n",
       "      <th>Mast cells activated</th>\n",
       "      <th>Eosinophils</th>\n",
       "      <th>Neutrophils</th>\n",
       "    </tr>\n",
       "  </thead>\n",
       "  <tbody>\n",
       "    <tr>\n",
       "      <td>0</td>\n",
       "      <td>0.18</td>\n",
       "      <td>0.16</td>\n",
       "      <td>0.13</td>\n",
       "      <td>0.11</td>\n",
       "      <td>0.09</td>\n",
       "      <td>0.07</td>\n",
       "      <td>0.06</td>\n",
       "      <td>0.05</td>\n",
       "      <td>0.04</td>\n",
       "      <td>0.03</td>\n",
       "      <td>...</td>\n",
       "      <td>0.01</td>\n",
       "      <td>0.01</td>\n",
       "      <td>0.01</td>\n",
       "      <td>0.01</td>\n",
       "      <td>0.00</td>\n",
       "      <td>0.00</td>\n",
       "      <td>0.00</td>\n",
       "      <td>0.00</td>\n",
       "      <td>0.00</td>\n",
       "      <td>0.00</td>\n",
       "    </tr>\n",
       "    <tr>\n",
       "      <td>1</td>\n",
       "      <td>0.20</td>\n",
       "      <td>0.00</td>\n",
       "      <td>0.19</td>\n",
       "      <td>0.00</td>\n",
       "      <td>0.18</td>\n",
       "      <td>0.00</td>\n",
       "      <td>0.10</td>\n",
       "      <td>0.00</td>\n",
       "      <td>0.09</td>\n",
       "      <td>0.00</td>\n",
       "      <td>...</td>\n",
       "      <td>0.05</td>\n",
       "      <td>0.00</td>\n",
       "      <td>0.04</td>\n",
       "      <td>0.00</td>\n",
       "      <td>0.04</td>\n",
       "      <td>0.00</td>\n",
       "      <td>0.02</td>\n",
       "      <td>0.00</td>\n",
       "      <td>0.02</td>\n",
       "      <td>0.00</td>\n",
       "    </tr>\n",
       "    <tr>\n",
       "      <td>2</td>\n",
       "      <td>0.00</td>\n",
       "      <td>0.00</td>\n",
       "      <td>0.01</td>\n",
       "      <td>0.01</td>\n",
       "      <td>0.01</td>\n",
       "      <td>0.02</td>\n",
       "      <td>0.03</td>\n",
       "      <td>0.05</td>\n",
       "      <td>0.07</td>\n",
       "      <td>0.11</td>\n",
       "      <td>...</td>\n",
       "      <td>0.11</td>\n",
       "      <td>0.07</td>\n",
       "      <td>0.05</td>\n",
       "      <td>0.03</td>\n",
       "      <td>0.02</td>\n",
       "      <td>0.01</td>\n",
       "      <td>0.01</td>\n",
       "      <td>0.01</td>\n",
       "      <td>0.00</td>\n",
       "      <td>0.00</td>\n",
       "    </tr>\n",
       "    <tr>\n",
       "      <td>3</td>\n",
       "      <td>0.17</td>\n",
       "      <td>0.12</td>\n",
       "      <td>0.08</td>\n",
       "      <td>0.06</td>\n",
       "      <td>0.03</td>\n",
       "      <td>0.02</td>\n",
       "      <td>0.01</td>\n",
       "      <td>0.00</td>\n",
       "      <td>0.00</td>\n",
       "      <td>0.00</td>\n",
       "      <td>...</td>\n",
       "      <td>0.00</td>\n",
       "      <td>0.00</td>\n",
       "      <td>0.00</td>\n",
       "      <td>0.01</td>\n",
       "      <td>0.02</td>\n",
       "      <td>0.03</td>\n",
       "      <td>0.06</td>\n",
       "      <td>0.08</td>\n",
       "      <td>0.12</td>\n",
       "      <td>0.17</td>\n",
       "    </tr>\n",
       "    <tr>\n",
       "      <td>4</td>\n",
       "      <td>0.00</td>\n",
       "      <td>0.00</td>\n",
       "      <td>0.00</td>\n",
       "      <td>0.00</td>\n",
       "      <td>0.00</td>\n",
       "      <td>0.00</td>\n",
       "      <td>0.00</td>\n",
       "      <td>0.01</td>\n",
       "      <td>0.03</td>\n",
       "      <td>0.04</td>\n",
       "      <td>...</td>\n",
       "      <td>0.02</td>\n",
       "      <td>0.04</td>\n",
       "      <td>0.09</td>\n",
       "      <td>0.11</td>\n",
       "      <td>0.08</td>\n",
       "      <td>0.05</td>\n",
       "      <td>0.04</td>\n",
       "      <td>0.07</td>\n",
       "      <td>0.14</td>\n",
       "      <td>0.20</td>\n",
       "    </tr>\n",
       "  </tbody>\n",
       "</table>\n",
       "<p>5 rows × 22 columns</p>\n",
       "</div>"
      ],
      "text/plain": [
       "Patient_ID  B cells naive  B cells memory  Plasma cells  T cells CD8  \\\n",
       "0                    0.18            0.16          0.13         0.11   \n",
       "1                    0.20            0.00          0.19         0.00   \n",
       "2                    0.00            0.00          0.01         0.01   \n",
       "3                    0.17            0.12          0.08         0.06   \n",
       "4                    0.00            0.00          0.00         0.00   \n",
       "\n",
       "Patient_ID  T cells CD4 naive  T cells CD4 memory resting  \\\n",
       "0                        0.09                        0.07   \n",
       "1                        0.18                        0.00   \n",
       "2                        0.01                        0.02   \n",
       "3                        0.03                        0.02   \n",
       "4                        0.00                        0.00   \n",
       "\n",
       "Patient_ID  T cells CD4 memory activated  T cells follicular helper  \\\n",
       "0                                   0.06                       0.05   \n",
       "1                                   0.10                       0.00   \n",
       "2                                   0.03                       0.05   \n",
       "3                                   0.01                       0.00   \n",
       "4                                   0.00                       0.01   \n",
       "\n",
       "Patient_ID  T cells regulatory (Tregs)  T cells gamma delta  ...  Monocytes  \\\n",
       "0                                 0.04                 0.03  ...       0.01   \n",
       "1                                 0.09                 0.00  ...       0.05   \n",
       "2                                 0.07                 0.11  ...       0.11   \n",
       "3                                 0.00                 0.00  ...       0.00   \n",
       "4                                 0.03                 0.04  ...       0.02   \n",
       "\n",
       "Patient_ID  Macrophages M0  Macrophages M1  Macrophages M2  \\\n",
       "0                     0.01            0.01            0.01   \n",
       "1                     0.00            0.04            0.00   \n",
       "2                     0.07            0.05            0.03   \n",
       "3                     0.00            0.00            0.01   \n",
       "4                     0.04            0.09            0.11   \n",
       "\n",
       "Patient_ID  Dendritic cells resting  Dendritic cells activated  \\\n",
       "0                              0.00                       0.00   \n",
       "1                              0.04                       0.00   \n",
       "2                              0.02                       0.01   \n",
       "3                              0.02                       0.03   \n",
       "4                              0.08                       0.05   \n",
       "\n",
       "Patient_ID  Mast cells resting  Mast cells activated  Eosinophils  Neutrophils  \n",
       "0                         0.00                  0.00         0.00         0.00  \n",
       "1                         0.02                  0.00         0.02         0.00  \n",
       "2                         0.01                  0.01         0.00         0.00  \n",
       "3                         0.06                  0.08         0.12         0.17  \n",
       "4                         0.04                  0.07         0.14         0.20  \n",
       "\n",
       "[5 rows x 22 columns]"
      ]
     },
     "execution_count": 643,
     "metadata": {},
     "output_type": "execute_result"
    }
   ],
   "source": [
    "cibersort_ground_truth = pd.read_csv(\"C:/Users/NathanGrant/Programs/TripodsREU/data/ExampleMixtures-GroundTruth.txt\",delimiter=\"\\t\",header=None)\n",
    "cibersort_ground_truth.columns = nn_results.columns\n",
    "cibersort_ground_truth.head()"
   ]
  },
  {
   "cell_type": "code",
   "execution_count": 644,
   "metadata": {},
   "outputs": [
    {
     "data": {
      "text/plain": [
       "(5, 547)"
      ]
     },
     "execution_count": 644,
     "metadata": {},
     "output_type": "execute_result"
    }
   ],
   "source": [
    "c_normalized = encode_inputs(cibersort_gep,lm22)\n",
    "c_normalized.shape"
   ]
  },
  {
   "cell_type": "code",
   "execution_count": 645,
   "metadata": {},
   "outputs": [
    {
     "name": "stdout",
     "output_type": "stream",
     "text": [
      "Running CiberSort...\n"
     ]
    }
   ],
   "source": [
    "predictions_2 = pd.DataFrame(data=model.predict(c_normalized.values),columns=c_results.columns)\n",
    "cibersort_pred = td.cibersort_main(c_normalized.T,lm22)"
   ]
  },
  {
   "cell_type": "markdown",
   "metadata": {},
   "source": [
    "## Compare Plots"
   ]
  },
  {
   "cell_type": "code",
   "execution_count": 646,
   "metadata": {},
   "outputs": [
    {
     "data": {
      "image/png": "[encoded data removed]",
      "text/plain": [
       "<Figure size 1080x504 with 1 Axes>"
      ]
     },
     "metadata": {},
     "output_type": "display_data"
    }
   ],
   "source": [
    "td.cell_frequency_barchart(cibersort_ground_truth)"
   ]
  },
  {
   "cell_type": "code",
   "execution_count": 647,
   "metadata": {},
   "outputs": [
    {
     "data": {
      "image/png": "[encoded data removed]",
      "text/plain": [
       "<Figure size 1080x504 with 1 Axes>"
      ]
     },
     "metadata": {},
     "output_type": "display_data"
    }
   ],
   "source": [
    "td.cell_frequency_barchart(predictions_2)"
   ]
  },
  {
   "cell_type": "code",
   "execution_count": 648,
   "metadata": {},
   "outputs": [
    {
     "data": {
      "image/png": "[encoded data removed]",
      "text/plain": [
       "<Figure size 1080x504 with 1 Axes>"
      ]
     },
     "metadata": {},
     "output_type": "display_data"
    }
   ],
   "source": [
    "td.cell_frequency_barchart(cibersort_pred)"
   ]
  },
  {
   "cell_type": "code",
   "execution_count": 649,
   "metadata": {},
   "outputs": [
    {
     "data": {
      "text/plain": [
       "(0.3963081424191208, 0.4574230038093653)"
      ]
     },
     "execution_count": 649,
     "metadata": {},
     "output_type": "execute_result"
    }
   ],
   "source": [
    "compute_mean_cell_p_correlation(cibersort_ground_truth.values,predictions_2.values)"
   ]
  },
  {
   "cell_type": "code",
   "execution_count": 650,
   "metadata": {},
   "outputs": [
    {
     "data": {
      "text/plain": [
       "(0.4765241455302681, 0.4998126106627595)"
      ]
     },
     "execution_count": 650,
     "metadata": {},
     "output_type": "execute_result"
    }
   ],
   "source": [
    "compute_mean_cell_p_correlation(cibersort_ground_truth.values,cibersort_pred.values)"
   ]
  },
  {
   "cell_type": "markdown",
   "metadata": {},
   "source": [
    "## Make Correlation Plots"
   ]
  },
  {
   "cell_type": "code",
   "execution_count": 651,
   "metadata": {},
   "outputs": [
    {
     "data": {
      "text/plain": [
       "0.791524795580663"
      ]
     },
     "execution_count": 651,
     "metadata": {},
     "output_type": "execute_result"
    },
    {
     "data": {
      "image/png": "[encoded data removed]",
      "text/plain": [
       "<Figure size 1080x504 with 1 Axes>"
      ]
     },
     "metadata": {},
     "output_type": "display_data"
    }
   ],
   "source": [
    "from sklearn.linear_model import LinearRegression\n",
    "lin = LinearRegression().fit(cibersort_ground_truth.values.flatten().reshape(-1, 1),predictions_2.values.flatten().reshape(-1, 1))\n",
    "#plt.scatter(cibersort_ground_truth.values.flatten().reshape(-1, 1),lin.predict(cibersort_ground_truth.values.flatten().reshape(-1, 1)))\n",
    "plt.scatter(cibersort_ground_truth.values,predictions_2.values,)\n",
    "lin.score(cibersort_ground_truth.values.flatten().reshape(-1, 1),predictions_2.values.flatten().reshape(-1, 1))**.5"
   ]
  },
  {
   "cell_type": "code",
   "execution_count": 652,
   "metadata": {},
   "outputs": [
    {
     "data": {
      "text/plain": [
       "0.9507112576769583"
      ]
     },
     "execution_count": 652,
     "metadata": {},
     "output_type": "execute_result"
    },
    {
     "data": {
      "image/png": "[encoded data removed]",
      "text/plain": [
       "<Figure size 1080x504 with 1 Axes>"
      ]
     },
     "metadata": {},
     "output_type": "display_data"
    }
   ],
   "source": [
    "lin = LinearRegression().fit(cibersort_ground_truth.values.flatten().reshape(-1, 1),cibersort_pred.values.flatten().reshape(-1, 1))\n",
    "#plt.scatter(cibersort_ground_truth.values.flatten().reshape(-1, 1),lin.predict(cibersort_ground_truth.values.flatten().reshape(-1, 1)))\n",
    "plt.scatter(cibersort_ground_truth.values,cibersort_pred.values)\n",
    "lin.score(cibersort_ground_truth.values.flatten().reshape(-1, 1),cibersort_pred.values.flatten().reshape(-1, 1))**.5"
   ]
  },
  {
   "cell_type": "code",
   "execution_count": 653,
   "metadata": {},
   "outputs": [
    {
     "name": "stdout",
     "output_type": "stream",
     "text": [
      "NN MAE: 0.032850055138495836\n",
      "CIBERSORT MAE: 0.010239485187438965\n"
     ]
    }
   ],
   "source": [
    "print(\"NN MAE:\",mean_absolute_error(cibersort_ground_truth.values,predictions_2.values))\n",
    "print(\"CIBERSORT MAE:\",mean_absolute_error(cibersort_ground_truth.values,cibersort_pred.values))"
   ]
  },
  {
   "cell_type": "code",
   "execution_count": null,
   "metadata": {},
   "outputs": [],
   "source": []
  }
 ],
 "metadata": {
  "kernelspec": {
   "display_name": "Python 3",
   "language": "python",
   "name": "python3"
  },
  "language_info": {
   "codemirror_mode": {
    "name": "ipython",
    "version": 3
   },
   "file_extension": ".py",
   "mimetype": "text/x-python",
   "name": "python",
   "nbconvert_exporter": "python",
   "pygments_lexer": "ipython3",
   "version": "3.7.4"
  }
 },
 "nbformat": 4,
 "nbformat_minor": 2
}
