{
 "cells": [
  {
   "cell_type": "markdown",
   "metadata": {},
   "source": [
    "## Imports"
   ]
  },
  {
   "cell_type": "code",
   "execution_count": 1,
   "metadata": {},
   "outputs": [],
   "source": [
    "import pandas as pd\n",
    "import numpy as np\n",
    "import tensorflow as tf\n",
    "import TumorDecon as td\n",
    "from sklearn.model_selection import train_test_split\n",
    "import matplotlib.pyplot as plt\n",
    "from sklearn.mixture import BayesianGaussianMixture\n",
    "from sklearn.metrics import mean_absolute_error\n",
    "from sklearn.linear_model import LinearRegression"
   ]
  },
  {
   "cell_type": "markdown",
   "metadata": {},
   "source": [
    "## Data"
   ]
  },
  {
   "cell_type": "code",
   "execution_count": 2,
   "metadata": {},
   "outputs": [
    {
     "data": {
      "text/plain": [
       "(11845, 22)"
      ]
     },
     "execution_count": 2,
     "metadata": {},
     "output_type": "execute_result"
    }
   ],
   "source": [
    "lm22 = pd.read_csv(\"../data/LM22_source_GEPs.txt\",delimiter=\"\\t\",index_col=\"genesinput\")\n",
    "lm22.shape"
   ]
  },
  {
   "cell_type": "code",
   "execution_count": 3,
   "metadata": {},
   "outputs": [
    {
     "data": {
      "text/html": [
       "<div>\n",
       "<style scoped>\n",
       "    .dataframe tbody tr th:only-of-type {\n",
       "        vertical-align: middle;\n",
       "    }\n",
       "\n",
       "    .dataframe tbody tr th {\n",
       "        vertical-align: top;\n",
       "    }\n",
       "\n",
       "    .dataframe thead th {\n",
       "        text-align: right;\n",
       "    }\n",
       "</style>\n",
       "<table border=\"1\" class=\"dataframe\">\n",
       "  <thead>\n",
       "    <tr style=\"text-align: right;\">\n",
       "      <th></th>\n",
       "      <th>B cells naive</th>\n",
       "      <th>B cells memory</th>\n",
       "      <th>Plasma cells</th>\n",
       "      <th>T cells CD8</th>\n",
       "      <th>T cells CD4 naive</th>\n",
       "      <th>T cells CD4 memory resting</th>\n",
       "      <th>T cells CD4 memory activated</th>\n",
       "      <th>T cells follicular helper</th>\n",
       "      <th>T cells regulatory (Tregs)</th>\n",
       "      <th>T cells gamma delta</th>\n",
       "      <th>...</th>\n",
       "      <th>Monocytes</th>\n",
       "      <th>Macrophages M0</th>\n",
       "      <th>Macrophages M1</th>\n",
       "      <th>Macrophages M2</th>\n",
       "      <th>Dendritic cells resting</th>\n",
       "      <th>Dendritic cells activated</th>\n",
       "      <th>Mast cells resting</th>\n",
       "      <th>Mast cells activated</th>\n",
       "      <th>Eosinophils</th>\n",
       "      <th>Neutrophils</th>\n",
       "    </tr>\n",
       "    <tr>\n",
       "      <th>Gene symbol</th>\n",
       "      <th></th>\n",
       "      <th></th>\n",
       "      <th></th>\n",
       "      <th></th>\n",
       "      <th></th>\n",
       "      <th></th>\n",
       "      <th></th>\n",
       "      <th></th>\n",
       "      <th></th>\n",
       "      <th></th>\n",
       "      <th></th>\n",
       "      <th></th>\n",
       "      <th></th>\n",
       "      <th></th>\n",
       "      <th></th>\n",
       "      <th></th>\n",
       "      <th></th>\n",
       "      <th></th>\n",
       "      <th></th>\n",
       "      <th></th>\n",
       "      <th></th>\n",
       "    </tr>\n",
       "  </thead>\n",
       "  <tbody>\n",
       "    <tr>\n",
       "      <td>ABCB4</td>\n",
       "      <td>555.713449</td>\n",
       "      <td>10.744235</td>\n",
       "      <td>7.225819</td>\n",
       "      <td>4.311280</td>\n",
       "      <td>4.605860</td>\n",
       "      <td>7.406442</td>\n",
       "      <td>8.043976</td>\n",
       "      <td>6.469993</td>\n",
       "      <td>7.833082</td>\n",
       "      <td>9.312295</td>\n",
       "      <td>...</td>\n",
       "      <td>6.202496</td>\n",
       "      <td>7.951360</td>\n",
       "      <td>27.557710</td>\n",
       "      <td>121.432277</td>\n",
       "      <td>114.636747</td>\n",
       "      <td>4.872184</td>\n",
       "      <td>4.727985</td>\n",
       "      <td>34.113659</td>\n",
       "      <td>15.030530</td>\n",
       "      <td>14.906888</td>\n",
       "    </tr>\n",
       "    <tr>\n",
       "      <td>ABCB9</td>\n",
       "      <td>15.603544</td>\n",
       "      <td>22.094787</td>\n",
       "      <td>653.392328</td>\n",
       "      <td>24.223723</td>\n",
       "      <td>35.671507</td>\n",
       "      <td>30.048192</td>\n",
       "      <td>38.455423</td>\n",
       "      <td>17.604795</td>\n",
       "      <td>46.073657</td>\n",
       "      <td>19.715722</td>\n",
       "      <td>...</td>\n",
       "      <td>20.309426</td>\n",
       "      <td>56.251887</td>\n",
       "      <td>29.380878</td>\n",
       "      <td>40.390260</td>\n",
       "      <td>123.993305</td>\n",
       "      <td>23.384603</td>\n",
       "      <td>53.466757</td>\n",
       "      <td>23.615746</td>\n",
       "      <td>29.786442</td>\n",
       "      <td>33.679147</td>\n",
       "    </tr>\n",
       "    <tr>\n",
       "      <td>ACAP1</td>\n",
       "      <td>215.305951</td>\n",
       "      <td>321.621021</td>\n",
       "      <td>38.616872</td>\n",
       "      <td>1055.613378</td>\n",
       "      <td>1790.097170</td>\n",
       "      <td>922.152747</td>\n",
       "      <td>340.883424</td>\n",
       "      <td>1107.798265</td>\n",
       "      <td>1995.482601</td>\n",
       "      <td>280.075719</td>\n",
       "      <td>...</td>\n",
       "      <td>190.879024</td>\n",
       "      <td>48.972217</td>\n",
       "      <td>30.974254</td>\n",
       "      <td>23.055150</td>\n",
       "      <td>61.386550</td>\n",
       "      <td>26.412923</td>\n",
       "      <td>104.200198</td>\n",
       "      <td>73.607932</td>\n",
       "      <td>696.442802</td>\n",
       "      <td>596.025961</td>\n",
       "    </tr>\n",
       "    <tr>\n",
       "      <td>ACHE</td>\n",
       "      <td>15.117949</td>\n",
       "      <td>16.648847</td>\n",
       "      <td>22.123737</td>\n",
       "      <td>13.428288</td>\n",
       "      <td>27.187732</td>\n",
       "      <td>18.444927</td>\n",
       "      <td>13.441268</td>\n",
       "      <td>14.805542</td>\n",
       "      <td>24.652712</td>\n",
       "      <td>33.658448</td>\n",
       "      <td>...</td>\n",
       "      <td>16.375268</td>\n",
       "      <td>13.692963</td>\n",
       "      <td>1373.069620</td>\n",
       "      <td>48.585761</td>\n",
       "      <td>16.715474</td>\n",
       "      <td>193.159977</td>\n",
       "      <td>13.948778</td>\n",
       "      <td>20.501249</td>\n",
       "      <td>40.414927</td>\n",
       "      <td>22.766494</td>\n",
       "    </tr>\n",
       "    <tr>\n",
       "      <td>ACP5</td>\n",
       "      <td>605.897384</td>\n",
       "      <td>1935.201479</td>\n",
       "      <td>1120.104684</td>\n",
       "      <td>306.312519</td>\n",
       "      <td>744.656599</td>\n",
       "      <td>557.819820</td>\n",
       "      <td>248.546932</td>\n",
       "      <td>711.949744</td>\n",
       "      <td>958.916018</td>\n",
       "      <td>493.969120</td>\n",
       "      <td>...</td>\n",
       "      <td>512.931382</td>\n",
       "      <td>13644.172300</td>\n",
       "      <td>1062.475909</td>\n",
       "      <td>7633.960182</td>\n",
       "      <td>13825.053630</td>\n",
       "      <td>3989.865169</td>\n",
       "      <td>263.497930</td>\n",
       "      <td>323.381277</td>\n",
       "      <td>860.563374</td>\n",
       "      <td>307.142798</td>\n",
       "    </tr>\n",
       "  </tbody>\n",
       "</table>\n",
       "<p>5 rows × 22 columns</p>\n",
       "</div>"
      ],
      "text/plain": [
       "             B cells naive  B cells memory  Plasma cells  T cells CD8  \\\n",
       "Gene symbol                                                             \n",
       "ABCB4           555.713449       10.744235      7.225819     4.311280   \n",
       "ABCB9            15.603544       22.094787    653.392328    24.223723   \n",
       "ACAP1           215.305951      321.621021     38.616872  1055.613378   \n",
       "ACHE             15.117949       16.648847     22.123737    13.428288   \n",
       "ACP5            605.897384     1935.201479   1120.104684   306.312519   \n",
       "\n",
       "             T cells CD4 naive  T cells CD4 memory resting  \\\n",
       "Gene symbol                                                  \n",
       "ABCB4                 4.605860                    7.406442   \n",
       "ABCB9                35.671507                   30.048192   \n",
       "ACAP1              1790.097170                  922.152747   \n",
       "ACHE                 27.187732                   18.444927   \n",
       "ACP5                744.656599                  557.819820   \n",
       "\n",
       "             T cells CD4 memory activated  T cells follicular helper  \\\n",
       "Gene symbol                                                            \n",
       "ABCB4                            8.043976                   6.469993   \n",
       "ABCB9                           38.455423                  17.604795   \n",
       "ACAP1                          340.883424                1107.798265   \n",
       "ACHE                            13.441268                  14.805542   \n",
       "ACP5                           248.546932                 711.949744   \n",
       "\n",
       "             T cells regulatory (Tregs)  T cells gamma delta  ...   Monocytes  \\\n",
       "Gene symbol                                                   ...               \n",
       "ABCB4                          7.833082             9.312295  ...    6.202496   \n",
       "ABCB9                         46.073657            19.715722  ...   20.309426   \n",
       "ACAP1                       1995.482601           280.075719  ...  190.879024   \n",
       "ACHE                          24.652712            33.658448  ...   16.375268   \n",
       "ACP5                         958.916018           493.969120  ...  512.931382   \n",
       "\n",
       "             Macrophages M0  Macrophages M1  Macrophages M2  \\\n",
       "Gene symbol                                                   \n",
       "ABCB4              7.951360       27.557710      121.432277   \n",
       "ABCB9             56.251887       29.380878       40.390260   \n",
       "ACAP1             48.972217       30.974254       23.055150   \n",
       "ACHE              13.692963     1373.069620       48.585761   \n",
       "ACP5           13644.172300     1062.475909     7633.960182   \n",
       "\n",
       "             Dendritic cells resting  Dendritic cells activated  \\\n",
       "Gene symbol                                                       \n",
       "ABCB4                     114.636747                   4.872184   \n",
       "ABCB9                     123.993305                  23.384603   \n",
       "ACAP1                      61.386550                  26.412923   \n",
       "ACHE                       16.715474                 193.159977   \n",
       "ACP5                    13825.053630                3989.865169   \n",
       "\n",
       "             Mast cells resting  Mast cells activated  Eosinophils  \\\n",
       "Gene symbol                                                          \n",
       "ABCB4                  4.727985             34.113659    15.030530   \n",
       "ABCB9                 53.466757             23.615746    29.786442   \n",
       "ACAP1                104.200198             73.607932   696.442802   \n",
       "ACHE                  13.948778             20.501249    40.414927   \n",
       "ACP5                 263.497930            323.381277   860.563374   \n",
       "\n",
       "             Neutrophils  \n",
       "Gene symbol               \n",
       "ABCB4          14.906888  \n",
       "ABCB9          33.679147  \n",
       "ACAP1         596.025961  \n",
       "ACHE           22.766494  \n",
       "ACP5          307.142798  \n",
       "\n",
       "[5 rows x 22 columns]"
      ]
     },
     "execution_count": 3,
     "metadata": {},
     "output_type": "execute_result"
    }
   ],
   "source": [
    "lm22_small = pd.read_csv(\"../data/LM22.txt\",delimiter=\"\\t\",index_col=\"Gene symbol\")\n",
    "lm22_small.head()"
   ]
  },
  {
   "cell_type": "code",
   "execution_count": 4,
   "metadata": {},
   "outputs": [],
   "source": [
    "def generate_samples(num_samples, lm22, dropout=.2):\n",
    "    generated_x = np.zeros((num_samples,11845))\n",
    "    generated_y = np.zeros((num_samples,22))\n",
    "    lm22_values = lm22.values\n",
    "    number_of_each_cell = np.random.randint(0,5,size=(num_samples, 22))\n",
    "    \n",
    "    for i in range(num_samples):\n",
    "        generated_x[i] = np.sum(lm22_values*number_of_each_cell[i], axis=1)\n",
    "        indices = np.random.choice(np.arange(11845), replace=False,\n",
    "                           size=int(11845 * dropout))\n",
    "        generated_x[i][indices] = 0\n",
    "        generated_y[i] = number_of_each_cell[i]/np.sum(number_of_each_cell[i])\n",
    "    \n",
    "    \n",
    "    \n",
    "    g_min = generated_x.min(axis=0)\n",
    "    generated_x =(generated_x - g_min) / (generated_x.max(axis=0) - g_min)\n",
    "    return generated_x, generated_y\n",
    "    \n",
    "def format_input():\n",
    "    return"
   ]
  },
  {
   "cell_type": "code",
   "execution_count": 5,
   "metadata": {},
   "outputs": [],
   "source": [
    "m = tf.keras.Sequential()\n",
    "m.add(tf.keras.layers.Dense(512,  activation='elu', input_shape=(11845,)))\n",
    "m.add(tf.keras.layers.Dense(128,  activation='elu'))\n",
    "m.add(tf.keras.layers.Dense(32,    activation='linear', name=\"bottleneck\"))\n",
    "m.add(tf.keras.layers.Dense(128,  activation='elu'))\n",
    "m.add(tf.keras.layers.Dense(512,  activation='elu'))\n",
    "m.add(tf.keras.layers.Dense(11845,  activation='sigmoid'))\n",
    "m.compile(loss='mean_squared_error', optimizer = tf.keras.optimizers.Adam(),metrics=['mse'])\n",
    "\n",
    "\n",
    "m2 = tf.keras.Sequential()\n",
    "m2.add(tf.keras.layers.Dense(128,  activation='elu', input_shape=(32,)))\n",
    "m2.add(tf.keras.layers.Dense(128,  activation='elu'))\n",
    "m2.add(tf.keras.layers.Dense(22,    activation='linear', name=\"bottleneck\"))\n",
    "m2.compile(loss='mean_squared_error', optimizer = tf.keras.optimizers.Adam(),metrics=['mse'])"
   ]
  },
  {
   "cell_type": "code",
   "execution_count": null,
   "metadata": {},
   "outputs": [],
   "source": [
    "X,Y = generate_samples(100000,lm22,dropout=0)"
   ]
  },
  {
   "cell_type": "code",
   "execution_count": null,
   "metadata": {},
   "outputs": [],
   "source": [
    "#td.cell_frequency_barchart(pd.DataFrame(data=Y,columns=lm22_small.columns))"
   ]
  },
  {
   "cell_type": "markdown",
   "metadata": {},
   "source": [
    "## Models\n",
    "The generated data looks pretty good so now I am going to move onto modeling and making an auto encoder to reduce the dimensionality of the data. Then I will train a neural net totake in the reduced vector and predict immune cell fractions"
   ]
  },
  {
   "cell_type": "code",
   "execution_count": null,
   "metadata": {},
   "outputs": [],
   "source": [
    "X_train, X_test, y_train, y_test = train_test_split(X, Y, test_size=0.2, random_state=42)"
   ]
  },
  {
   "cell_type": "code",
   "execution_count": null,
   "metadata": {},
   "outputs": [],
   "source": [
    "X_train.shape"
   ]
  },
  {
   "cell_type": "code",
   "execution_count": null,
   "metadata": {},
   "outputs": [],
   "source": [
    "history = m.fit(X_train, X_train, batch_size=128, epochs=10, verbose=1, validation_data=(X_test, X_test))\n",
    "\n",
    "encoder = tf.keras.Model(m.input, m.get_layer('bottleneck').output)\n",
    "Zenc = encoder.predict(X_train)  # bottleneck representation\n",
    "Renc = m.predict(X_train)        # reconstruction"
   ]
  },
  {
   "cell_type": "code",
   "execution_count": null,
   "metadata": {},
   "outputs": [],
   "source": [
    "plt.plot(history.history['mse'], label='root_mean_squared_error')    #blue\n",
    "plt.plot(history.history['val_mse'], label = 'val_root_mean_squared_error') "
   ]
  },
  {
   "cell_type": "code",
   "execution_count": null,
   "metadata": {},
   "outputs": [],
   "source": [
    "history = m2.fit(Zenc, y_train, batch_size=128, epochs=10, verbose=1, validation_data=(encoder.predict(X_test), y_test))"
   ]
  },
  {
   "cell_type": "code",
   "execution_count": null,
   "metadata": {},
   "outputs": [],
   "source": [
    "plt.plot(history.history['mse'], label='root_mean_squared_error')    #blue\n",
    "plt.plot(history.history['val_mse'], label = 'val_root_mean_squared_error') "
   ]
  },
  {
   "cell_type": "code",
   "execution_count": null,
   "metadata": {},
   "outputs": [],
   "source": [
    "to_compare = m2.predict(encoder.predict(X_test[:50]))\n",
    "nn_results_df = pd.DataFrame(data=to_compare,columns=lm22_small.columns)"
   ]
  },
  {
   "cell_type": "code",
   "execution_count": null,
   "metadata": {},
   "outputs": [],
   "source": [
    "test_df = pd.DataFrame(data=X_test[:50],columns=lm22.index)\n",
    "cibersort_results = td.cibersort_main(test_df.T,lm22_small)"
   ]
  },
  {
   "cell_type": "code",
   "execution_count": null,
   "metadata": {},
   "outputs": [],
   "source": [
    "test_df.head()"
   ]
  },
  {
   "cell_type": "markdown",
   "metadata": {},
   "source": [
    "## Comparting Predictions"
   ]
  },
  {
   "cell_type": "code",
   "execution_count": null,
   "metadata": {},
   "outputs": [],
   "source": [
    "td.cell_frequency_barchart(pd.DataFrame(data=Y[:50],columns=lm22_small.columns))"
   ]
  },
  {
   "cell_type": "code",
   "execution_count": null,
   "metadata": {},
   "outputs": [],
   "source": [
    "td.cell_frequency_barchart(nn_results_df)"
   ]
  },
  {
   "cell_type": "code",
   "execution_count": null,
   "metadata": {},
   "outputs": [],
   "source": [
    "td.cell_frequency_barchart(cibersort_results)"
   ]
  },
  {
   "cell_type": "code",
   "execution_count": null,
   "metadata": {},
   "outputs": [],
   "source": [
    "nn_comb = td.combine_celltypes(nn_results_df)\n",
    "c_comb = td.combine_celltypes(cibersort_results)\n",
    "y_comb = td.combine_celltypes(pd.DataFrame(data=Y[:50],columns=lm22_small.columns))"
   ]
  },
  {
   "cell_type": "code",
   "execution_count": null,
   "metadata": {},
   "outputs": [],
   "source": [
    "lin = LinearRegression().fit(y_comb.values.flatten().reshape(-1, 1),nn_comb.values.flatten().reshape(-1, 1))\n",
    "plt.scatter(y_comb.values.flatten().reshape(-1, 1),lin.predict(y_comb.values.flatten().reshape(-1, 1)))\n",
    "plt.scatter(y_comb.values,nn_comb.values)\n",
    "lin.score(y_comb.values.flatten().reshape(-1, 1),nn_comb.values.flatten().reshape(-1, 1))**.5"
   ]
  },
  {
   "cell_type": "code",
   "execution_count": null,
   "metadata": {},
   "outputs": [],
   "source": [
    "lin = LinearRegression().fit(y_comb.values.flatten().reshape(-1, 1),c_comb.values.flatten().reshape(-1, 1))\n",
    "plt.scatter(y_comb.values.flatten().reshape(-1, 1),lin.predict(y_comb.values.flatten().reshape(-1, 1)))\n",
    "plt.scatter(y_comb.values,c_comb.values)\n",
    "lin.score(y_comb.values.flatten().reshape(-1, 1),c_comb.values.flatten().reshape(-1, 1))**.5"
   ]
  },
  {
   "cell_type": "code",
   "execution_count": null,
   "metadata": {},
   "outputs": [],
   "source": [
    "print(\"NN MAE:\",mean_absolute_error(y_comb.values,nn_comb.values))\n",
    "print(\"CIBERSORT MAE:\",mean_absolute_error(y_comb.values,c_comb.values))"
   ]
  },
  {
   "cell_type": "markdown",
   "metadata": {},
   "source": [
    "## Bring in Other Test Data"
   ]
  },
  {
   "cell_type": "code",
   "execution_count": 167,
   "metadata": {},
   "outputs": [
    {
     "data": {
      "text/plain": [
       "(11866, 5)"
      ]
     },
     "execution_count": 167,
     "metadata": {},
     "output_type": "execute_result"
    }
   ],
   "source": [
    "cibersort_gep = pd.read_csv(\"C:/Users/NathanGrant/Programs/TripodsREU/data/ExampleMixtures-GEPs.txt\",delimiter=\"\\t\",index_col=\"Hugo_Symbol\")\n",
    "cibersort_gep.shape"
   ]
  },
  {
   "cell_type": "code",
   "execution_count": null,
   "metadata": {},
   "outputs": [],
   "source": []
  }
 ],
 "metadata": {
  "kernelspec": {
   "display_name": "Python 3",
   "language": "python",
   "name": "python3"
  },
  "language_info": {
   "codemirror_mode": {
    "name": "ipython",
    "version": 3
   },
   "file_extension": ".py",
   "mimetype": "text/x-python",
   "name": "python",
   "nbconvert_exporter": "python",
   "pygments_lexer": "ipython3",
   "version": "3.7.4"
  }
 },
 "nbformat": 4,
 "nbformat_minor": 2
}
